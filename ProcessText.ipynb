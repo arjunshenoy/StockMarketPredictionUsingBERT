{
  "cells": [
    {
      "cell_type": "markdown",
      "source": [
        "This Notebook is used to preprocess the textual data and predict the sentiment score"
      ],
      "metadata": {
        "id": "oUiXhYjlCAqf"
      }
    },
    {
      "cell_type": "code",
      "execution_count": null,
      "metadata": {
        "colab": {
          "base_uri": "https://localhost:8080/"
        },
        "id": "ApSOVifrBrgS",
        "outputId": "43b6ab17-fa08-4805-bb47-213220fef868"
      },
      "outputs": [
        {
          "output_type": "stream",
          "name": "stderr",
          "text": [
            "[nltk_data] Downloading package stopwords to /root/nltk_data...\n",
            "[nltk_data]   Unzipping corpora/stopwords.zip.\n"
          ]
        }
      ],
      "source": [
        "import numpy as np\n",
        "import pandas as pd\n",
        "import torch\n",
        "import string\n",
        "import collections\n",
        "import matplotlib.pyplot as plt\n",
        "import seaborn as sns\n",
        "\n",
        "#Text cleaning\n",
        "from sklearn.base import BaseEstimator, TransformerMixin\n",
        "from sklearn.model_selection import GridSearchCV\n",
        "from sklearn.model_selection import train_test_split\n",
        "from sklearn.pipeline import Pipeline, FeatureUnion\n",
        "from sklearn.metrics import classification_report\n",
        "\n",
        "#NLP libraries\n",
        "import nltk\n",
        "nltk.download(\"stopwords\")\n",
        "from nltk.corpus import stopwords\n",
        "from nltk.stem import PorterStemmer\n",
        "from nltk.tokenize import word_tokenize\n",
        "\n",
        "import warnings\n",
        "warnings.filterwarnings('ignore')\n",
        "\n"
      ]
    },
    {
      "cell_type": "markdown",
      "source": [
        "#### Importing the fin BERT model from ProsusAI and Setting the process engine as GPU"
      ],
      "metadata": {
        "id": "G7hpUTXoBqi4"
      }
    },
    {
      "cell_type": "code",
      "execution_count": null,
      "metadata": {
        "id": "ffoSUBLWnyZT"
      },
      "outputs": [],
      "source": [
        "#Getting the tokenizer and the model\n",
        "!pip install transformers\n",
        "\n",
        "from transformers import AutoTokenizer, AutoModelForSequenceClassification\n",
        "  \n",
        "tokenizer = AutoTokenizer.from_pretrained(\"ProsusAI/finbert\")\n",
        "\n",
        "model = AutoModelForSequenceClassification.from_pretrained(\"ProsusAI/finbert\")\n",
        "device = torch.device(\"cuda:0\" if torch.cuda.is_available() else \"cpu\")\n",
        "model.to(device)"
      ]
    },
    {
      "cell_type": "markdown",
      "source": [
        "#### Importing textual dataset which was prepared in the FilterText.ipynb"
      ],
      "metadata": {
        "id": "peg_QMDAB36i"
      }
    },
    {
      "cell_type": "code",
      "execution_count": null,
      "metadata": {
        "colab": {
          "base_uri": "https://localhost:8080/",
          "height": 441
        },
        "id": "UcIdpwL4DABS",
        "outputId": "f309e7ef-acbf-45fa-8064-3a3f7d27cc5c"
      },
      "outputs": [
        {
          "name": "stderr",
          "output_type": "stream",
          "text": [
            "Skipping line 34453: unexpected end of data\n"
          ]
        },
        {
          "data": {
            "text/html": [
              "\n",
              "  <div id=\"df-a412aa55-518c-4fba-b75f-eb25129caf04\">\n",
              "    <div class=\"colab-df-container\">\n",
              "      <div>\n",
              "<style scoped>\n",
              "    .dataframe tbody tr th:only-of-type {\n",
              "        vertical-align: middle;\n",
              "    }\n",
              "\n",
              "    .dataframe tbody tr th {\n",
              "        vertical-align: top;\n",
              "    }\n",
              "\n",
              "    .dataframe thead th {\n",
              "        text-align: right;\n",
              "    }\n",
              "</style>\n",
              "<table border=\"1\" class=\"dataframe\">\n",
              "  <thead>\n",
              "    <tr style=\"text-align: right;\">\n",
              "      <th></th>\n",
              "      <th>date</th>\n",
              "      <th>headline</th>\n",
              "    </tr>\n",
              "  </thead>\n",
              "  <tbody>\n",
              "    <tr>\n",
              "      <th>0</th>\n",
              "      <td>07-01-2018</td>\n",
              "      <td>Gonna put an old school drive-in, roller skate...</td>\n",
              "    </tr>\n",
              "    <tr>\n",
              "      <th>1</th>\n",
              "      <td>07-01-2018</td>\n",
              "      <td>@omerldiri @Tesla Good idea. We can just have ...</td>\n",
              "    </tr>\n",
              "    <tr>\n",
              "      <th>2</th>\n",
              "      <td>09-01-2018</td>\n",
              "      <td>@Mister_Millard @Tesla That sounds cool. Will do.</td>\n",
              "    </tr>\n",
              "    <tr>\n",
              "      <th>3</th>\n",
              "      <td>09-01-2018</td>\n",
              "      <td>@PPathole @Tesla @Teslarati @MKBHD Fixed in ne...</td>\n",
              "    </tr>\n",
              "    <tr>\n",
              "      <th>4</th>\n",
              "      <td>29-01-2018</td>\n",
              "      <td>@JosephHuberman @Tesla Coming soon</td>\n",
              "    </tr>\n",
              "    <tr>\n",
              "      <th>...</th>\n",
              "      <td>...</td>\n",
              "      <td>...</td>\n",
              "    </tr>\n",
              "    <tr>\n",
              "      <th>34446</th>\n",
              "      <td>25-05-2022</td>\n",
              "      <td>Im only half as invested in TSLA shorts as I u...</td>\n",
              "    </tr>\n",
              "    <tr>\n",
              "      <th>34447</th>\n",
              "      <td>25-05-2022</td>\n",
              "      <td>Wow, congratulations. You found people who thi...</td>\n",
              "    </tr>\n",
              "    <tr>\n",
              "      <th>34448</th>\n",
              "      <td>25-05-2022</td>\n",
              "      <td>[😂😂😂😂 TSLA junk and over valued buddy. I have ...</td>\n",
              "    </tr>\n",
              "    <tr>\n",
              "      <th>34449</th>\n",
              "      <td>25-05-2022</td>\n",
              "      <td>They are sort of right, that does not make bit...</td>\n",
              "    </tr>\n",
              "    <tr>\n",
              "      <th>34450</th>\n",
              "      <td>25-05-2022</td>\n",
              "      <td>It's obvious to me that you are highly dissati...</td>\n",
              "    </tr>\n",
              "  </tbody>\n",
              "</table>\n",
              "<p>34451 rows × 2 columns</p>\n",
              "</div>\n",
              "      <button class=\"colab-df-convert\" onclick=\"convertToInteractive('df-a412aa55-518c-4fba-b75f-eb25129caf04')\"\n",
              "              title=\"Convert this dataframe to an interactive table.\"\n",
              "              style=\"display:none;\">\n",
              "        \n",
              "  <svg xmlns=\"http://www.w3.org/2000/svg\" height=\"24px\"viewBox=\"0 0 24 24\"\n",
              "       width=\"24px\">\n",
              "    <path d=\"M0 0h24v24H0V0z\" fill=\"none\"/>\n",
              "    <path d=\"M18.56 5.44l.94 2.06.94-2.06 2.06-.94-2.06-.94-.94-2.06-.94 2.06-2.06.94zm-11 1L8.5 8.5l.94-2.06 2.06-.94-2.06-.94L8.5 2.5l-.94 2.06-2.06.94zm10 10l.94 2.06.94-2.06 2.06-.94-2.06-.94-.94-2.06-.94 2.06-2.06.94z\"/><path d=\"M17.41 7.96l-1.37-1.37c-.4-.4-.92-.59-1.43-.59-.52 0-1.04.2-1.43.59L10.3 9.45l-7.72 7.72c-.78.78-.78 2.05 0 2.83L4 21.41c.39.39.9.59 1.41.59.51 0 1.02-.2 1.41-.59l7.78-7.78 2.81-2.81c.8-.78.8-2.07 0-2.86zM5.41 20L4 18.59l7.72-7.72 1.47 1.35L5.41 20z\"/>\n",
              "  </svg>\n",
              "      </button>\n",
              "      \n",
              "  <style>\n",
              "    .colab-df-container {\n",
              "      display:flex;\n",
              "      flex-wrap:wrap;\n",
              "      gap: 12px;\n",
              "    }\n",
              "\n",
              "    .colab-df-convert {\n",
              "      background-color: #E8F0FE;\n",
              "      border: none;\n",
              "      border-radius: 50%;\n",
              "      cursor: pointer;\n",
              "      display: none;\n",
              "      fill: #1967D2;\n",
              "      height: 32px;\n",
              "      padding: 0 0 0 0;\n",
              "      width: 32px;\n",
              "    }\n",
              "\n",
              "    .colab-df-convert:hover {\n",
              "      background-color: #E2EBFA;\n",
              "      box-shadow: 0px 1px 2px rgba(60, 64, 67, 0.3), 0px 1px 3px 1px rgba(60, 64, 67, 0.15);\n",
              "      fill: #174EA6;\n",
              "    }\n",
              "\n",
              "    [theme=dark] .colab-df-convert {\n",
              "      background-color: #3B4455;\n",
              "      fill: #D2E3FC;\n",
              "    }\n",
              "\n",
              "    [theme=dark] .colab-df-convert:hover {\n",
              "      background-color: #434B5C;\n",
              "      box-shadow: 0px 1px 3px 1px rgba(0, 0, 0, 0.15);\n",
              "      filter: drop-shadow(0px 1px 2px rgba(0, 0, 0, 0.3));\n",
              "      fill: #FFFFFF;\n",
              "    }\n",
              "  </style>\n",
              "\n",
              "      <script>\n",
              "        const buttonEl =\n",
              "          document.querySelector('#df-a412aa55-518c-4fba-b75f-eb25129caf04 button.colab-df-convert');\n",
              "        buttonEl.style.display =\n",
              "          google.colab.kernel.accessAllowed ? 'block' : 'none';\n",
              "\n",
              "        async function convertToInteractive(key) {\n",
              "          const element = document.querySelector('#df-a412aa55-518c-4fba-b75f-eb25129caf04');\n",
              "          const dataTable =\n",
              "            await google.colab.kernel.invokeFunction('convertToInteractive',\n",
              "                                                     [key], {});\n",
              "          if (!dataTable) return;\n",
              "\n",
              "          const docLinkHtml = 'Like what you see? Visit the ' +\n",
              "            '<a target=\"_blank\" href=https://colab.research.google.com/notebooks/data_table.ipynb>data table notebook</a>'\n",
              "            + ' to learn more about interactive tables.';\n",
              "          element.innerHTML = '';\n",
              "          dataTable['output_type'] = 'display_data';\n",
              "          await google.colab.output.renderOutput(dataTable, element);\n",
              "          const docLink = document.createElement('div');\n",
              "          docLink.innerHTML = docLinkHtml;\n",
              "          element.appendChild(docLink);\n",
              "        }\n",
              "      </script>\n",
              "    </div>\n",
              "  </div>\n",
              "  "
            ],
            "text/plain": [
              "             date                                           headline\n",
              "0      07-01-2018  Gonna put an old school drive-in, roller skate...\n",
              "1      07-01-2018  @omerldiri @Tesla Good idea. We can just have ...\n",
              "2      09-01-2018  @Mister_Millard @Tesla That sounds cool. Will do.\n",
              "3      09-01-2018  @PPathole @Tesla @Teslarati @MKBHD Fixed in ne...\n",
              "4      29-01-2018                 @JosephHuberman @Tesla Coming soon\n",
              "...           ...                                                ...\n",
              "34446  25-05-2022  Im only half as invested in TSLA shorts as I u...\n",
              "34447  25-05-2022  Wow, congratulations. You found people who thi...\n",
              "34448  25-05-2022  [😂😂😂😂 TSLA junk and over valued buddy. I have ...\n",
              "34449  25-05-2022  They are sort of right, that does not make bit...\n",
              "34450  25-05-2022  It's obvious to me that you are highly dissati...\n",
              "\n",
              "[34451 rows x 2 columns]"
            ]
          },
          "execution_count": 136,
          "metadata": {},
          "output_type": "execute_result"
        }
      ],
      "source": [
        "\n",
        "headlines_df = pd.read_csv('./TWEETS_AND_HEADLINES_FILTERED.csv', error_bad_lines=False, engine='python')\n",
        "headlines_df.reset_index()\n",
        "df_results = pandas.DataFrame()\n",
        "headlines_df"
      ]
    },
    {
      "cell_type": "code",
      "execution_count": null,
      "metadata": {
        "id": "JrB57s6-tQIX"
      },
      "outputs": [],
      "source": [
        "headlines_df['headline'] =  headlines_df['headline'].astype(str)"
      ]
    },
    {
      "cell_type": "code",
      "execution_count": null,
      "metadata": {
        "colab": {
          "base_uri": "https://localhost:8080/",
          "height": 424
        },
        "id": "bDsCGo6ejULX",
        "outputId": "a2d559d3-610c-481a-aaaf-b97058be2688"
      },
      "outputs": [
        {
          "data": {
            "text/html": [
              "\n",
              "  <div id=\"df-4de381bd-d25a-4e2f-9dfa-56488bba2c73\">\n",
              "    <div class=\"colab-df-container\">\n",
              "      <div>\n",
              "<style scoped>\n",
              "    .dataframe tbody tr th:only-of-type {\n",
              "        vertical-align: middle;\n",
              "    }\n",
              "\n",
              "    .dataframe tbody tr th {\n",
              "        vertical-align: top;\n",
              "    }\n",
              "\n",
              "    .dataframe thead th {\n",
              "        text-align: right;\n",
              "    }\n",
              "</style>\n",
              "<table border=\"1\" class=\"dataframe\">\n",
              "  <thead>\n",
              "    <tr style=\"text-align: right;\">\n",
              "      <th></th>\n",
              "      <th>date</th>\n",
              "      <th>headline</th>\n",
              "    </tr>\n",
              "  </thead>\n",
              "  <tbody>\n",
              "    <tr>\n",
              "      <th>0</th>\n",
              "      <td>07-01-2018</td>\n",
              "      <td>Gonna put an old school drive-in, roller skate...</td>\n",
              "    </tr>\n",
              "    <tr>\n",
              "      <th>1</th>\n",
              "      <td>07-01-2018</td>\n",
              "      <td>@omerldiri @Tesla Good idea. We can just have ...</td>\n",
              "    </tr>\n",
              "    <tr>\n",
              "      <th>2</th>\n",
              "      <td>09-01-2018</td>\n",
              "      <td>@Mister_Millard @Tesla That sounds cool. Will do.</td>\n",
              "    </tr>\n",
              "    <tr>\n",
              "      <th>3</th>\n",
              "      <td>09-01-2018</td>\n",
              "      <td>@PPathole @Tesla @Teslarati @MKBHD Fixed in ne...</td>\n",
              "    </tr>\n",
              "    <tr>\n",
              "      <th>4</th>\n",
              "      <td>29-01-2018</td>\n",
              "      <td>@JosephHuberman @Tesla Coming soon</td>\n",
              "    </tr>\n",
              "    <tr>\n",
              "      <th>...</th>\n",
              "      <td>...</td>\n",
              "      <td>...</td>\n",
              "    </tr>\n",
              "    <tr>\n",
              "      <th>34446</th>\n",
              "      <td>25-05-2022</td>\n",
              "      <td>Im only half as invested in TSLA shorts as I u...</td>\n",
              "    </tr>\n",
              "    <tr>\n",
              "      <th>34447</th>\n",
              "      <td>25-05-2022</td>\n",
              "      <td>Wow, congratulations. You found people who thi...</td>\n",
              "    </tr>\n",
              "    <tr>\n",
              "      <th>34448</th>\n",
              "      <td>25-05-2022</td>\n",
              "      <td>[😂😂😂😂 TSLA junk and over valued buddy. I have ...</td>\n",
              "    </tr>\n",
              "    <tr>\n",
              "      <th>34449</th>\n",
              "      <td>25-05-2022</td>\n",
              "      <td>They are sort of right, that does not make bit...</td>\n",
              "    </tr>\n",
              "    <tr>\n",
              "      <th>34450</th>\n",
              "      <td>25-05-2022</td>\n",
              "      <td>It's obvious to me that you are highly dissati...</td>\n",
              "    </tr>\n",
              "  </tbody>\n",
              "</table>\n",
              "<p>34451 rows × 2 columns</p>\n",
              "</div>\n",
              "      <button class=\"colab-df-convert\" onclick=\"convertToInteractive('df-4de381bd-d25a-4e2f-9dfa-56488bba2c73')\"\n",
              "              title=\"Convert this dataframe to an interactive table.\"\n",
              "              style=\"display:none;\">\n",
              "        \n",
              "  <svg xmlns=\"http://www.w3.org/2000/svg\" height=\"24px\"viewBox=\"0 0 24 24\"\n",
              "       width=\"24px\">\n",
              "    <path d=\"M0 0h24v24H0V0z\" fill=\"none\"/>\n",
              "    <path d=\"M18.56 5.44l.94 2.06.94-2.06 2.06-.94-2.06-.94-.94-2.06-.94 2.06-2.06.94zm-11 1L8.5 8.5l.94-2.06 2.06-.94-2.06-.94L8.5 2.5l-.94 2.06-2.06.94zm10 10l.94 2.06.94-2.06 2.06-.94-2.06-.94-.94-2.06-.94 2.06-2.06.94z\"/><path d=\"M17.41 7.96l-1.37-1.37c-.4-.4-.92-.59-1.43-.59-.52 0-1.04.2-1.43.59L10.3 9.45l-7.72 7.72c-.78.78-.78 2.05 0 2.83L4 21.41c.39.39.9.59 1.41.59.51 0 1.02-.2 1.41-.59l7.78-7.78 2.81-2.81c.8-.78.8-2.07 0-2.86zM5.41 20L4 18.59l7.72-7.72 1.47 1.35L5.41 20z\"/>\n",
              "  </svg>\n",
              "      </button>\n",
              "      \n",
              "  <style>\n",
              "    .colab-df-container {\n",
              "      display:flex;\n",
              "      flex-wrap:wrap;\n",
              "      gap: 12px;\n",
              "    }\n",
              "\n",
              "    .colab-df-convert {\n",
              "      background-color: #E8F0FE;\n",
              "      border: none;\n",
              "      border-radius: 50%;\n",
              "      cursor: pointer;\n",
              "      display: none;\n",
              "      fill: #1967D2;\n",
              "      height: 32px;\n",
              "      padding: 0 0 0 0;\n",
              "      width: 32px;\n",
              "    }\n",
              "\n",
              "    .colab-df-convert:hover {\n",
              "      background-color: #E2EBFA;\n",
              "      box-shadow: 0px 1px 2px rgba(60, 64, 67, 0.3), 0px 1px 3px 1px rgba(60, 64, 67, 0.15);\n",
              "      fill: #174EA6;\n",
              "    }\n",
              "\n",
              "    [theme=dark] .colab-df-convert {\n",
              "      background-color: #3B4455;\n",
              "      fill: #D2E3FC;\n",
              "    }\n",
              "\n",
              "    [theme=dark] .colab-df-convert:hover {\n",
              "      background-color: #434B5C;\n",
              "      box-shadow: 0px 1px 3px 1px rgba(0, 0, 0, 0.15);\n",
              "      filter: drop-shadow(0px 1px 2px rgba(0, 0, 0, 0.3));\n",
              "      fill: #FFFFFF;\n",
              "    }\n",
              "  </style>\n",
              "\n",
              "      <script>\n",
              "        const buttonEl =\n",
              "          document.querySelector('#df-4de381bd-d25a-4e2f-9dfa-56488bba2c73 button.colab-df-convert');\n",
              "        buttonEl.style.display =\n",
              "          google.colab.kernel.accessAllowed ? 'block' : 'none';\n",
              "\n",
              "        async function convertToInteractive(key) {\n",
              "          const element = document.querySelector('#df-4de381bd-d25a-4e2f-9dfa-56488bba2c73');\n",
              "          const dataTable =\n",
              "            await google.colab.kernel.invokeFunction('convertToInteractive',\n",
              "                                                     [key], {});\n",
              "          if (!dataTable) return;\n",
              "\n",
              "          const docLinkHtml = 'Like what you see? Visit the ' +\n",
              "            '<a target=\"_blank\" href=https://colab.research.google.com/notebooks/data_table.ipynb>data table notebook</a>'\n",
              "            + ' to learn more about interactive tables.';\n",
              "          element.innerHTML = '';\n",
              "          dataTable['output_type'] = 'display_data';\n",
              "          await google.colab.output.renderOutput(dataTable, element);\n",
              "          const docLink = document.createElement('div');\n",
              "          docLink.innerHTML = docLinkHtml;\n",
              "          element.appendChild(docLink);\n",
              "        }\n",
              "      </script>\n",
              "    </div>\n",
              "  </div>\n",
              "  "
            ],
            "text/plain": [
              "             date                                           headline\n",
              "0      07-01-2018  Gonna put an old school drive-in, roller skate...\n",
              "1      07-01-2018  @omerldiri @Tesla Good idea. We can just have ...\n",
              "2      09-01-2018  @Mister_Millard @Tesla That sounds cool. Will do.\n",
              "3      09-01-2018  @PPathole @Tesla @Teslarati @MKBHD Fixed in ne...\n",
              "4      29-01-2018                 @JosephHuberman @Tesla Coming soon\n",
              "...           ...                                                ...\n",
              "34446  25-05-2022  Im only half as invested in TSLA shorts as I u...\n",
              "34447  25-05-2022  Wow, congratulations. You found people who thi...\n",
              "34448  25-05-2022  [😂😂😂😂 TSLA junk and over valued buddy. I have ...\n",
              "34449  25-05-2022  They are sort of right, that does not make bit...\n",
              "34450  25-05-2022  It's obvious to me that you are highly dissati...\n",
              "\n",
              "[34451 rows x 2 columns]"
            ]
          },
          "execution_count": 138,
          "metadata": {},
          "output_type": "execute_result"
        }
      ],
      "source": [
        "#headlines_df = headlines_df.sample(10000)\n",
        "headlines_df\n"
      ]
    },
    {
      "cell_type": "markdown",
      "source": [
        "#### Text pre processing class is defined\n",
        "This class will remove the mentions in the tweet, remove emojis, urls, punchuations, stop words and convert the text into lower case and apply stemming to the textual data and make it ready to be given as input to the fin BERT model to predict sentiment score"
      ],
      "metadata": {
        "id": "81QjeV88CtX4"
      }
    },
    {
      "cell_type": "code",
      "execution_count": null,
      "metadata": {
        "id": "8hOa7Vblmtkb"
      },
      "outputs": [],
      "source": [
        "class CleanText(BaseEstimator, TransformerMixin):\n",
        "  #Normalizing Text by converting text to lowercase, removing URLs, punctuation and removing digits and Emojis\n",
        "    def remove_mentions(self, input_text):\n",
        "        return re.sub(r'@\\w+', '', input_text)\n",
        "    \n",
        "    def remove_urls(self, input_text):\n",
        "        return re.sub(r'http.?://[^\\s]+[\\s]?', '', input_text)\n",
        "    \n",
        "    def emoji_oneword(self, input_text):\n",
        "        # By compressing the underscore, the emoji is kept as one word\n",
        "        return input_text.replace('_','')\n",
        "    \n",
        "    def remove_punctuation(self, input_text):\n",
        "        # Make translation table\n",
        "        punct = string.punctuation\n",
        "        trantab = str.maketrans(punct, len(punct)*' ')  # Every punctuation symbol will be replaced by a space\n",
        "        return input_text.translate(trantab)\n",
        "    def remove_digits(self, input_text):\n",
        "        return re.sub('\\d+', '', input_text)\n",
        "    \n",
        "    def to_lower(self, input_text):\n",
        "        return input_text.lower()\n",
        "    \n",
        "    import nltk\n",
        "    nltk.download(\"stopwords\")\n",
        "    from nltk.corpus import stopwords\n",
        "    def remove_stopwords(self, input_text):\n",
        "        stopwords_list = stopwords.words('english')\n",
        "        # Some words which might indicate a certain sentiment are kept via a whitelist\n",
        "        whitelist = [\"n't\", \"not\", \"no\"]\n",
        "        words = input_text.split() \n",
        "        clean_words = [word for word in words if (word not in stopwords_list or word in whitelist) and len(word) > 1] \n",
        "        return \" \".join(clean_words) \n",
        "\n",
        "#Porter Stemmer Used for stemming\n",
        "    def stemming(self, input_text):\n",
        "        porter = PorterStemmer()\n",
        "        words = input_text.split() \n",
        "        stemmed_words = [porter.stem(word) for word in words]\n",
        "        return \" \".join(stemmed_words)\n",
        "    \n",
        "    def fit(self, X, y=None, **fit_params):\n",
        "        return self\n",
        "    \n",
        "    def transform(self, X, **transform_params):\n",
        "        clean_X = X. apply(self.remove_mentions).apply(self.remove_urls).apply(self.emoji_oneword).apply(self.remove_punctuation).apply(self.remove_digits).apply(self.to_lower).apply(self.remove_stopwords).apply(self.stemming)\n",
        "        return clean_X"
      ]
    },
    {
      "cell_type": "markdown",
      "source": [
        "#### Creating an object of CleanText class and applying the functions defined in the class"
      ],
      "metadata": {
        "id": "-cCSJkYMDKgy"
      }
    },
    {
      "cell_type": "code",
      "execution_count": null,
      "metadata": {
        "id": "UVjmIke_nYcz"
      },
      "outputs": [],
      "source": [
        "ct = CleanText()\n",
        "\n",
        "headlines_df['headline'] = ct.fit_transform(headlines_df.headline)\n"
      ]
    },
    {
      "cell_type": "markdown",
      "source": [
        "#### defining a function which is used to get the prediction values from fin BERT"
      ],
      "metadata": {
        "id": "32odvO-uDUxU"
      }
    },
    {
      "cell_type": "code",
      "execution_count": null,
      "metadata": {
        "id": "fggcoWP8HWNk"
      },
      "outputs": [],
      "source": [
        "#That's where the headlines get tokenized to be inputted into model\n",
        "import torch\n",
        "import pandas as pd\n",
        "\n",
        "def predictSentiment(headlines_list):\n",
        "  inputs = tokenizer(headlines_list, padding = True, truncation = True, return_tensors='pt').to('cuda:0')\n",
        "  #inference\n",
        "  outputs = model(**inputs)\n",
        "  #Postprocessing with softmax\n",
        "  predictions = torch.nn.functional.softmax(outputs.logits, dim=-1)\n",
        "  #Model classes\n",
        "  return predictions"
      ]
    },
    {
      "cell_type": "markdown",
      "source": [
        "#### Dividing the text dataset into smaller batches so that the GPU dosent crash"
      ],
      "metadata": {
        "id": "cqsPuPOzDdFb"
      }
    },
    {
      "cell_type": "code",
      "execution_count": null,
      "metadata": {
        "colab": {
          "background_save": true
        },
        "id": "ADwlnmtmHBxp"
      },
      "outputs": [],
      "source": [
        "\n",
        "import gc\n",
        "\n",
        "i =0;\n",
        "batch_size=10\n",
        "while i < len(headlines_df):\n",
        "#len(headlines_df.index):\n",
        "  if i+(batch_size-1)<len(headlines_df):\n",
        "    headlines_loop=headlines_df.loc[i:i+(batch_size-1)]\n",
        "  else:\n",
        "    headlines_loop = headlines_df[i:]\n",
        "  headlines_list = list(headlines_loop['headline'])\n",
        "  dates_list = list(headlines_loop['date'])\n",
        "  predictions =  predictSentiment(headlines_list)\n",
        "  positive = predictions[:, 0].tolist()\n",
        "  negative = predictions[:, 1].tolist()\n",
        "  neutral = predictions[:, 2].tolist()\n",
        "\n",
        "  table = {'Date':dates_list,\n",
        "         'Headline':headlines_list,\n",
        "         \"Positive\":positive,\n",
        "         \"Negative\":negative, \n",
        "         \"Neutral\":neutral}\n",
        "  df_temp = pd.DataFrame(table, columns = [\"Date\",\"Headline\", \"Positive\", \"Negative\", \"Neutral\"])\n",
        "  df_results = df_results.append(df_temp)\n",
        "  predictions, positive, negative, neutral = [], [],[],[]\n",
        "  gc.collect()\n",
        "  torch.cuda.empty_cache()\n",
        "  i=i+batch_size\n"
      ]
    },
    {
      "cell_type": "code",
      "execution_count": null,
      "metadata": {
        "colab": {
          "background_save": true
        },
        "id": "XjVjgic6s3gl"
      },
      "outputs": [],
      "source": [
        "df_results['Positive']=df_results['Positive'].astype('float64')\n",
        "df_results['Negative']=df_results['Negative'].astype('float64')\n",
        "df_results['Neutral']=df_results['Neutral'].astype('float64')\n",
        "df_results = df_results.groupby('Date')['Positive','Negative','Neutral'].agg('mean')"
      ]
    },
    {
      "cell_type": "code",
      "execution_count": null,
      "metadata": {
        "colab": {
          "background_save": true
        },
        "id": "xMF30Pg1u4yJ",
        "outputId": "810d3a87-d12e-427b-c6e7-a5d810472205"
      },
      "outputs": [
        {
          "data": {
            "text/html": [
              "\n",
              "  <div id=\"df-b0668abd-cc60-45ce-8526-937e329e5907\">\n",
              "    <div class=\"colab-df-container\">\n",
              "      <div>\n",
              "<style scoped>\n",
              "    .dataframe tbody tr th:only-of-type {\n",
              "        vertical-align: middle;\n",
              "    }\n",
              "\n",
              "    .dataframe tbody tr th {\n",
              "        vertical-align: top;\n",
              "    }\n",
              "\n",
              "    .dataframe thead th {\n",
              "        text-align: right;\n",
              "    }\n",
              "</style>\n",
              "<table border=\"1\" class=\"dataframe\">\n",
              "  <thead>\n",
              "    <tr style=\"text-align: right;\">\n",
              "      <th></th>\n",
              "      <th>Positive</th>\n",
              "      <th>Negative</th>\n",
              "      <th>Neutral</th>\n",
              "    </tr>\n",
              "    <tr>\n",
              "      <th>Date</th>\n",
              "      <th></th>\n",
              "      <th></th>\n",
              "      <th></th>\n",
              "    </tr>\n",
              "  </thead>\n",
              "  <tbody>\n",
              "    <tr>\n",
              "      <th>01-01-2019</th>\n",
              "      <td>0.051738</td>\n",
              "      <td>0.023977</td>\n",
              "      <td>0.924285</td>\n",
              "    </tr>\n",
              "    <tr>\n",
              "      <th>01-01-2020</th>\n",
              "      <td>0.140968</td>\n",
              "      <td>0.014544</td>\n",
              "      <td>0.844489</td>\n",
              "    </tr>\n",
              "    <tr>\n",
              "      <th>01-01-2022</th>\n",
              "      <td>0.118035</td>\n",
              "      <td>0.076562</td>\n",
              "      <td>0.805403</td>\n",
              "    </tr>\n",
              "    <tr>\n",
              "      <th>01-02-2019</th>\n",
              "      <td>0.037721</td>\n",
              "      <td>0.020432</td>\n",
              "      <td>0.941847</td>\n",
              "    </tr>\n",
              "    <tr>\n",
              "      <th>01-02-2020</th>\n",
              "      <td>0.108922</td>\n",
              "      <td>0.023368</td>\n",
              "      <td>0.867710</td>\n",
              "    </tr>\n",
              "    <tr>\n",
              "      <th>...</th>\n",
              "      <td>...</td>\n",
              "      <td>...</td>\n",
              "      <td>...</td>\n",
              "    </tr>\n",
              "    <tr>\n",
              "      <th>31-10-2018</th>\n",
              "      <td>0.108383</td>\n",
              "      <td>0.016917</td>\n",
              "      <td>0.874700</td>\n",
              "    </tr>\n",
              "    <tr>\n",
              "      <th>31-10-2021</th>\n",
              "      <td>0.077797</td>\n",
              "      <td>0.055493</td>\n",
              "      <td>0.866710</td>\n",
              "    </tr>\n",
              "    <tr>\n",
              "      <th>31-12-2018</th>\n",
              "      <td>0.741892</td>\n",
              "      <td>0.011059</td>\n",
              "      <td>0.247049</td>\n",
              "    </tr>\n",
              "    <tr>\n",
              "      <th>31-12-2019</th>\n",
              "      <td>0.093838</td>\n",
              "      <td>0.016276</td>\n",
              "      <td>0.889885</td>\n",
              "    </tr>\n",
              "    <tr>\n",
              "      <th>31-12-2021</th>\n",
              "      <td>0.077823</td>\n",
              "      <td>0.052979</td>\n",
              "      <td>0.869198</td>\n",
              "    </tr>\n",
              "  </tbody>\n",
              "</table>\n",
              "<p>1053 rows × 3 columns</p>\n",
              "</div>\n",
              "      <button class=\"colab-df-convert\" onclick=\"convertToInteractive('df-b0668abd-cc60-45ce-8526-937e329e5907')\"\n",
              "              title=\"Convert this dataframe to an interactive table.\"\n",
              "              style=\"display:none;\">\n",
              "        \n",
              "  <svg xmlns=\"http://www.w3.org/2000/svg\" height=\"24px\"viewBox=\"0 0 24 24\"\n",
              "       width=\"24px\">\n",
              "    <path d=\"M0 0h24v24H0V0z\" fill=\"none\"/>\n",
              "    <path d=\"M18.56 5.44l.94 2.06.94-2.06 2.06-.94-2.06-.94-.94-2.06-.94 2.06-2.06.94zm-11 1L8.5 8.5l.94-2.06 2.06-.94-2.06-.94L8.5 2.5l-.94 2.06-2.06.94zm10 10l.94 2.06.94-2.06 2.06-.94-2.06-.94-.94-2.06-.94 2.06-2.06.94z\"/><path d=\"M17.41 7.96l-1.37-1.37c-.4-.4-.92-.59-1.43-.59-.52 0-1.04.2-1.43.59L10.3 9.45l-7.72 7.72c-.78.78-.78 2.05 0 2.83L4 21.41c.39.39.9.59 1.41.59.51 0 1.02-.2 1.41-.59l7.78-7.78 2.81-2.81c.8-.78.8-2.07 0-2.86zM5.41 20L4 18.59l7.72-7.72 1.47 1.35L5.41 20z\"/>\n",
              "  </svg>\n",
              "      </button>\n",
              "      \n",
              "  <style>\n",
              "    .colab-df-container {\n",
              "      display:flex;\n",
              "      flex-wrap:wrap;\n",
              "      gap: 12px;\n",
              "    }\n",
              "\n",
              "    .colab-df-convert {\n",
              "      background-color: #E8F0FE;\n",
              "      border: none;\n",
              "      border-radius: 50%;\n",
              "      cursor: pointer;\n",
              "      display: none;\n",
              "      fill: #1967D2;\n",
              "      height: 32px;\n",
              "      padding: 0 0 0 0;\n",
              "      width: 32px;\n",
              "    }\n",
              "\n",
              "    .colab-df-convert:hover {\n",
              "      background-color: #E2EBFA;\n",
              "      box-shadow: 0px 1px 2px rgba(60, 64, 67, 0.3), 0px 1px 3px 1px rgba(60, 64, 67, 0.15);\n",
              "      fill: #174EA6;\n",
              "    }\n",
              "\n",
              "    [theme=dark] .colab-df-convert {\n",
              "      background-color: #3B4455;\n",
              "      fill: #D2E3FC;\n",
              "    }\n",
              "\n",
              "    [theme=dark] .colab-df-convert:hover {\n",
              "      background-color: #434B5C;\n",
              "      box-shadow: 0px 1px 3px 1px rgba(0, 0, 0, 0.15);\n",
              "      filter: drop-shadow(0px 1px 2px rgba(0, 0, 0, 0.3));\n",
              "      fill: #FFFFFF;\n",
              "    }\n",
              "  </style>\n",
              "\n",
              "      <script>\n",
              "        const buttonEl =\n",
              "          document.querySelector('#df-b0668abd-cc60-45ce-8526-937e329e5907 button.colab-df-convert');\n",
              "        buttonEl.style.display =\n",
              "          google.colab.kernel.accessAllowed ? 'block' : 'none';\n",
              "\n",
              "        async function convertToInteractive(key) {\n",
              "          const element = document.querySelector('#df-b0668abd-cc60-45ce-8526-937e329e5907');\n",
              "          const dataTable =\n",
              "            await google.colab.kernel.invokeFunction('convertToInteractive',\n",
              "                                                     [key], {});\n",
              "          if (!dataTable) return;\n",
              "\n",
              "          const docLinkHtml = 'Like what you see? Visit the ' +\n",
              "            '<a target=\"_blank\" href=https://colab.research.google.com/notebooks/data_table.ipynb>data table notebook</a>'\n",
              "            + ' to learn more about interactive tables.';\n",
              "          element.innerHTML = '';\n",
              "          dataTable['output_type'] = 'display_data';\n",
              "          await google.colab.output.renderOutput(dataTable, element);\n",
              "          const docLink = document.createElement('div');\n",
              "          docLink.innerHTML = docLinkHtml;\n",
              "          element.appendChild(docLink);\n",
              "        }\n",
              "      </script>\n",
              "    </div>\n",
              "  </div>\n",
              "  "
            ],
            "text/plain": [
              "            Positive  Negative   Neutral\n",
              "Date                                    \n",
              "01-01-2019  0.051738  0.023977  0.924285\n",
              "01-01-2020  0.140968  0.014544  0.844489\n",
              "01-01-2022  0.118035  0.076562  0.805403\n",
              "01-02-2019  0.037721  0.020432  0.941847\n",
              "01-02-2020  0.108922  0.023368  0.867710\n",
              "...              ...       ...       ...\n",
              "31-10-2018  0.108383  0.016917  0.874700\n",
              "31-10-2021  0.077797  0.055493  0.866710\n",
              "31-12-2018  0.741892  0.011059  0.247049\n",
              "31-12-2019  0.093838  0.016276  0.889885\n",
              "31-12-2021  0.077823  0.052979  0.869198\n",
              "\n",
              "[1053 rows x 3 columns]"
            ]
          },
          "execution_count": 145,
          "metadata": {},
          "output_type": "execute_result"
        }
      ],
      "source": [
        "df_results"
      ]
    },
    {
      "cell_type": "markdown",
      "source": [
        "#### Adding a Label column which represents the sentiment of the text"
      ],
      "metadata": {
        "id": "oQ6rhtysDroL"
      }
    },
    {
      "cell_type": "code",
      "execution_count": null,
      "metadata": {
        "id": "_SFiYL0WtF3a"
      },
      "outputs": [],
      "source": [
        "df_numeric = df_results[[\"Positive\",\"Negative\", \"Neutral\"]]\n",
        "df_results['Label'] = df_numeric[[\"Positive\",\"Negative\"]].idxmax(axis=1)\n"
      ]
    },
    {
      "cell_type": "code",
      "execution_count": null,
      "metadata": {
        "id": "l3KUgPcFIuxB"
      },
      "outputs": [],
      "source": [
        "#Formatting the results as a pandas data frame\n",
        "df_results\n",
        "df_results.sort_values(by='Date', inplace=True)\n",
        "df_results.to_csv('PREDICTED_SENTIMENT.csv')\n"
      ]
    },
    {
      "cell_type": "code",
      "execution_count": null,
      "metadata": {
        "colab": {
          "base_uri": "https://localhost:8080/",
          "height": 429
        },
        "id": "iJ1Vt9fIwUr0",
        "outputId": "d48aee07-450b-482f-a5de-4c18a66cfbfb"
      },
      "outputs": [
        {
          "output_type": "display_data",
          "data": {
            "text/plain": [
              "<Figure size 648x432 with 1 Axes>"
            ],
            "image/png": "[encoded data removed]"
          },
          "metadata": {}
        }
      ],
      "source": [
        "sns.factorplot(x=\"Label\", data=df_results, kind=\"count\", size=6, aspect=1.5, palette=\"PuBuGn_d\")\n",
        "plt.show();"
      ]
    },
    {
      "cell_type": "code",
      "source": [
        ""
      ],
      "metadata": {
        "id": "J3Z2V9sXEB7h"
      },
      "execution_count": null,
      "outputs": []
    }
  ],
  "metadata": {
    "accelerator": "GPU",
    "colab": {
      "collapsed_sections": [],
      "machine_shape": "hm",
      "name": "ProcessText.ipynb",
      "provenance": []
    },
    "gpuClass": "standard",
    "kernelspec": {
      "display_name": "Python 3",
      "name": "python3"
    },
    "language_info": {
      "name": "python"
    }
  },
  "nbformat": 4,
  "nbformat_minor": 0
}