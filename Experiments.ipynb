{
  "nbformat": 4,
  "nbformat_minor": 0,
  "metadata": {
    "colab": {
      "name": "FundamentalAnalysis.ipynb",
      "provenance": [],
      "collapsed_sections": [
        "PSUyeL48EwcC",
        "rlD1r4zuCWjE"
      ],
      "machine_shape": "hm"
    },
    "kernelspec": {
      "name": "python3",
      "display_name": "Python 3"
    },
    "language_info": {
      "name": "python"
    },
    "gpuClass": "standard"
  },
  "cells": [
    {
      "cell_type": "code",
      "execution_count": 1,
      "metadata": {
        "id": "MhgjEgL3LS_W"
      },
      "outputs": [],
      "source": [
        "import pandas as pd\n",
        "import numpy as np\n",
        "from sklearn.pipeline import Pipeline, make_pipeline, FeatureUnion\n",
        "from sklearn.compose import ColumnTransformer\n",
        "from sklearn.base import BaseEstimator, TransformerMixin\n",
        "from sklearn.preprocessing import StandardScaler, RobustScaler, FunctionTransformer\n",
        "from sklearn.model_selection import train_test_split, GridSearchCV\n",
        "import pickle\n",
        "import matplotlib.pyplot as plt\n",
        "import seaborn as sns\n",
        "import plotly.graph_objects as go\n",
        "\n",
        "#Error Metrics\n",
        "from sklearn.metrics import mean_poisson_deviance, mean_gamma_deviance, accuracy_score\n",
        "from sklearn.metrics import mean_squared_error, mean_absolute_error, explained_variance_score, r2_score \n",
        "\n",
        "\n",
        "%matplotlib inline\n",
        "\n",
        "# imports necessary for dimensionality reduction\n",
        "from sklearn.decomposition import PCA, NMF\n",
        "from sklearn.feature_selection import RFE\n",
        "from sklearn import svm\n",
        "from sklearn.decomposition import TruncatedSVD\n",
        "from sklearn.feature_selection import SelectKBest, chi2, SelectFromModel\n",
        "from sklearn.ensemble import ExtraTreesClassifier\n",
        "from sklearn.decomposition import FactorAnalysis\n",
        "\n",
        "from sklearn import metrics\n",
        "from sklearn import manifold #needed for multidimensional scaling (MDS) and t-SNE\n",
        "from sklearn import cluster #needed for k-Means clustering\n",
        "from sklearn import preprocessing #needed for scaling attributes to the nterval [0,1]\n",
        "from sklearn.metrics import roc_curve, auc, accuracy_score, precision_recall_fscore_support\n",
        "\n",
        "\n",
        "#Silhouette method\n",
        "from sklearn.metrics import silhouette_score\n",
        "\n",
        "# Regression and classification algorithms\n",
        "from sklearn.ensemble import RandomForestRegressor, RandomForestClassifier\n",
        "from sklearn.neighbors import KNeighborsRegressor, NeighborhoodComponentsAnalysis, KNeighborsClassifier\n",
        "from sklearn.tree import DecisionTreeRegressor, DecisionTreeClassifier\n",
        "from sklearn.linear_model import LogisticRegression, LinearRegression\n",
        "\n",
        "#Clssification\n",
        "\n",
        "\n",
        "# metrics for evaluating regression models\n",
        "from sklearn.metrics import mean_squared_error, mean_absolute_error, r2_score\n",
        "import warnings\n",
        "warnings.filterwarnings('ignore')"
      ]
    },
    {
      "cell_type": "markdown",
      "metadata": {
        "id": "20p28cK5fwOZ"
      },
      "source": [
        "Importing data"
      ]
    },
    {
      "cell_type": "code",
      "execution_count": null,
      "metadata": {
        "id": "liEgi_-1fA4k"
      },
      "outputs": [],
      "source": [
        "df = pd.read_csv('./StockMarketDataTesla.csv')\n",
        "df_sentiment =  pd.read_csv('./PREDICTED_SENTIMENT.csv')"
      ]
    },
    {
      "cell_type": "code",
      "source": [
        "import datetime\n",
        "def changeDateFormat(row):\n",
        "  row.Date =  datetime.datetime.strptime(str(row.Date).split()[0], \"%d-%m-%Y\").strftime(\"%Y-%m-%d\")\n",
        "  return row\n",
        "\n",
        "df_sentiment=df_sentiment.apply(changeDateFormat, axis=1)\n",
        "df_sentiment.sort_values(by='Date', inplace=True)\n"
      ],
      "metadata": {
        "id": "RgY-dyBo55I7"
      },
      "execution_count": null,
      "outputs": []
    },
    {
      "cell_type": "code",
      "source": [
        "\n",
        "df.reset_index(drop=True, inplace=True)\n",
        "df_sentiment.reset_index(drop=True, inplace=True)\n",
        "df =  pd.merge(df,df_sentiment, on=\"Date\")\n",
        "df"
      ],
      "metadata": {
        "colab": {
          "base_uri": "https://localhost:8080/",
          "height": 678
        },
        "id": "slToo7Tv5ehn",
        "outputId": "0f4d26e7-ffb4-4599-9519-cc4c96fa5570"
      },
      "execution_count": null,
      "outputs": [
        {
          "output_type": "execute_result",
          "data": {
            "text/plain": [
              "           Date    Open    High     Low   Close      Volume  Dividends  \\\n",
              "0    2018-01-09   67.03   67.76   65.48   66.74  35733000.0        0.0   \n",
              "1    2018-01-29   67.97   70.17   67.66   69.91  23735500.0        0.0   \n",
              "2    2018-01-31   69.50   71.24   69.04   70.86  31070500.0        0.0   \n",
              "3    2018-03-07   65.09   66.50   64.35   66.46  25036500.0        0.0   \n",
              "4    2018-03-20   62.97   63.25   61.75   62.11  23821500.0        0.0   \n",
              "..          ...     ...     ...     ...     ...         ...        ...   \n",
              "748  2022-05-19  707.00  734.00  694.11  709.42  30098900.0        0.0   \n",
              "749  2022-05-20  713.99  721.58  633.00  663.90  48324400.0        0.0   \n",
              "750  2022-05-23  655.02  679.96  638.06  674.90  29634500.0        0.0   \n",
              "751  2022-05-24  653.53  653.92  620.57  628.16  29697500.0        0.0   \n",
              "752  2022-05-25  623.85  669.32  623.01  658.80  30713100.0        0.0   \n",
              "\n",
              "     Stock Splits  Research Development  Income Before Tax  ...  \\\n",
              "0             0.0          1.460000e+09      -1.005000e+09  ...   \n",
              "1             0.0          1.460000e+09      -1.005000e+09  ...   \n",
              "2             0.0          1.460000e+09      -1.005000e+09  ...   \n",
              "3             0.0          1.460000e+09      -1.005000e+09  ...   \n",
              "4             0.0          1.460000e+09      -1.005000e+09  ...   \n",
              "..            ...                   ...                ...  ...   \n",
              "748           0.0          2.593000e+09       6.343000e+09  ...   \n",
              "749           0.0          2.593000e+09       6.343000e+09  ...   \n",
              "750           0.0          2.593000e+09       6.343000e+09  ...   \n",
              "751           0.0          2.593000e+09       6.343000e+09  ...   \n",
              "752           0.0          2.593000e+09       6.343000e+09  ...   \n",
              "\n",
              "     Net Receivables  Long Term Debt     Inventory  Accounts Payable  \\\n",
              "0       9.490000e+08    8.461000e+09  3.113000e+09      3.405000e+09   \n",
              "1       9.490000e+08    8.461000e+09  3.113000e+09      3.405000e+09   \n",
              "2       9.490000e+08    8.461000e+09  3.113000e+09      3.405000e+09   \n",
              "3       9.490000e+08    8.461000e+09  3.113000e+09      3.405000e+09   \n",
              "4       9.490000e+08    8.461000e+09  3.113000e+09      3.405000e+09   \n",
              "..               ...             ...           ...               ...   \n",
              "748     1.986000e+09    4.285000e+09  5.757000e+09      1.002500e+10   \n",
              "749     1.986000e+09    4.285000e+09  5.757000e+09      1.002500e+10   \n",
              "750     1.986000e+09    4.285000e+09  5.757000e+09      1.002500e+10   \n",
              "751     1.986000e+09    4.285000e+09  5.757000e+09      1.002500e+10   \n",
              "752     1.986000e+09    4.285000e+09  5.757000e+09      1.002500e+10   \n",
              "\n",
              "     Long Term Investments  Target  Positive  Negative   Neutral     Label  \n",
              "0               12000000.0    DOWN  0.051453  0.051624  0.896924  Negative  \n",
              "1               12000000.0      UP  0.073506  0.036434  0.890060  Positive  \n",
              "2               12000000.0      UP  0.057328  0.025493  0.917179  Positive  \n",
              "3               12000000.0      UP  0.105883  0.032860  0.861258  Positive  \n",
              "4               12000000.0    DOWN  0.041082  0.027480  0.931438  Positive  \n",
              "..                     ...     ...       ...       ...       ...       ...  \n",
              "748                    NaN      UP  0.079623  0.071458  0.848919  Positive  \n",
              "749                    NaN    DOWN  0.073798  0.096653  0.829548  Negative  \n",
              "750                    NaN      UP  0.075230  0.078415  0.846355  Negative  \n",
              "751                    NaN    DOWN  0.085092  0.116204  0.798704  Negative  \n",
              "752                    NaN      UP  0.091825  0.080255  0.827920  Positive  \n",
              "\n",
              "[753 rows x 57 columns]"
            ],
            "text/html": [
              "\n",
              "  <div id=\"df-6903acad-73b7-46f8-88a0-0e0a91d47947\">\n",
              "    <div class=\"colab-df-container\">\n",
              "      <div>\n",
              "<style scoped>\n",
              "    .dataframe tbody tr th:only-of-type {\n",
              "        vertical-align: middle;\n",
              "    }\n",
              "\n",
              "    .dataframe tbody tr th {\n",
              "        vertical-align: top;\n",
              "    }\n",
              "\n",
              "    .dataframe thead th {\n",
              "        text-align: right;\n",
              "    }\n",
              "</style>\n",
              "<table border=\"1\" class=\"dataframe\">\n",
              "  <thead>\n",
              "    <tr style=\"text-align: right;\">\n",
              "      <th></th>\n",
              "      <th>Date</th>\n",
              "      <th>Open</th>\n",
              "      <th>High</th>\n",
              "      <th>Low</th>\n",
              "      <th>Close</th>\n",
              "      <th>Volume</th>\n",
              "      <th>Dividends</th>\n",
              "      <th>Stock Splits</th>\n",
              "      <th>Research Development</th>\n",
              "      <th>Income Before Tax</th>\n",
              "      <th>...</th>\n",
              "      <th>Net Receivables</th>\n",
              "      <th>Long Term Debt</th>\n",
              "      <th>Inventory</th>\n",
              "      <th>Accounts Payable</th>\n",
              "      <th>Long Term Investments</th>\n",
              "      <th>Target</th>\n",
              "      <th>Positive</th>\n",
              "      <th>Negative</th>\n",
              "      <th>Neutral</th>\n",
              "      <th>Label</th>\n",
              "    </tr>\n",
              "  </thead>\n",
              "  <tbody>\n",
              "    <tr>\n",
              "      <th>0</th>\n",
              "      <td>2018-01-09</td>\n",
              "      <td>67.03</td>\n",
              "      <td>67.76</td>\n",
              "      <td>65.48</td>\n",
              "      <td>66.74</td>\n",
              "      <td>35733000.0</td>\n",
              "      <td>0.0</td>\n",
              "      <td>0.0</td>\n",
              "      <td>1.460000e+09</td>\n",
              "      <td>-1.005000e+09</td>\n",
              "      <td>...</td>\n",
              "      <td>9.490000e+08</td>\n",
              "      <td>8.461000e+09</td>\n",
              "      <td>3.113000e+09</td>\n",
              "      <td>3.405000e+09</td>\n",
              "      <td>12000000.0</td>\n",
              "      <td>DOWN</td>\n",
              "      <td>0.051453</td>\n",
              "      <td>0.051624</td>\n",
              "      <td>0.896924</td>\n",
              "      <td>Negative</td>\n",
              "    </tr>\n",
              "    <tr>\n",
              "      <th>1</th>\n",
              "      <td>2018-01-29</td>\n",
              "      <td>67.97</td>\n",
              "      <td>70.17</td>\n",
              "      <td>67.66</td>\n",
              "      <td>69.91</td>\n",
              "      <td>23735500.0</td>\n",
              "      <td>0.0</td>\n",
              "      <td>0.0</td>\n",
              "      <td>1.460000e+09</td>\n",
              "      <td>-1.005000e+09</td>\n",
              "      <td>...</td>\n",
              "      <td>9.490000e+08</td>\n",
              "      <td>8.461000e+09</td>\n",
              "      <td>3.113000e+09</td>\n",
              "      <td>3.405000e+09</td>\n",
              "      <td>12000000.0</td>\n",
              "      <td>UP</td>\n",
              "      <td>0.073506</td>\n",
              "      <td>0.036434</td>\n",
              "      <td>0.890060</td>\n",
              "      <td>Positive</td>\n",
              "    </tr>\n",
              "    <tr>\n",
              "      <th>2</th>\n",
              "      <td>2018-01-31</td>\n",
              "      <td>69.50</td>\n",
              "      <td>71.24</td>\n",
              "      <td>69.04</td>\n",
              "      <td>70.86</td>\n",
              "      <td>31070500.0</td>\n",
              "      <td>0.0</td>\n",
              "      <td>0.0</td>\n",
              "      <td>1.460000e+09</td>\n",
              "      <td>-1.005000e+09</td>\n",
              "      <td>...</td>\n",
              "      <td>9.490000e+08</td>\n",
              "      <td>8.461000e+09</td>\n",
              "      <td>3.113000e+09</td>\n",
              "      <td>3.405000e+09</td>\n",
              "      <td>12000000.0</td>\n",
              "      <td>UP</td>\n",
              "      <td>0.057328</td>\n",
              "      <td>0.025493</td>\n",
              "      <td>0.917179</td>\n",
              "      <td>Positive</td>\n",
              "    </tr>\n",
              "    <tr>\n",
              "      <th>3</th>\n",
              "      <td>2018-03-07</td>\n",
              "      <td>65.09</td>\n",
              "      <td>66.50</td>\n",
              "      <td>64.35</td>\n",
              "      <td>66.46</td>\n",
              "      <td>25036500.0</td>\n",
              "      <td>0.0</td>\n",
              "      <td>0.0</td>\n",
              "      <td>1.460000e+09</td>\n",
              "      <td>-1.005000e+09</td>\n",
              "      <td>...</td>\n",
              "      <td>9.490000e+08</td>\n",
              "      <td>8.461000e+09</td>\n",
              "      <td>3.113000e+09</td>\n",
              "      <td>3.405000e+09</td>\n",
              "      <td>12000000.0</td>\n",
              "      <td>UP</td>\n",
              "      <td>0.105883</td>\n",
              "      <td>0.032860</td>\n",
              "      <td>0.861258</td>\n",
              "      <td>Positive</td>\n",
              "    </tr>\n",
              "    <tr>\n",
              "      <th>4</th>\n",
              "      <td>2018-03-20</td>\n",
              "      <td>62.97</td>\n",
              "      <td>63.25</td>\n",
              "      <td>61.75</td>\n",
              "      <td>62.11</td>\n",
              "      <td>23821500.0</td>\n",
              "      <td>0.0</td>\n",
              "      <td>0.0</td>\n",
              "      <td>1.460000e+09</td>\n",
              "      <td>-1.005000e+09</td>\n",
              "      <td>...</td>\n",
              "      <td>9.490000e+08</td>\n",
              "      <td>8.461000e+09</td>\n",
              "      <td>3.113000e+09</td>\n",
              "      <td>3.405000e+09</td>\n",
              "      <td>12000000.0</td>\n",
              "      <td>DOWN</td>\n",
              "      <td>0.041082</td>\n",
              "      <td>0.027480</td>\n",
              "      <td>0.931438</td>\n",
              "      <td>Positive</td>\n",
              "    </tr>\n",
              "    <tr>\n",
              "      <th>...</th>\n",
              "      <td>...</td>\n",
              "      <td>...</td>\n",
              "      <td>...</td>\n",
              "      <td>...</td>\n",
              "      <td>...</td>\n",
              "      <td>...</td>\n",
              "      <td>...</td>\n",
              "      <td>...</td>\n",
              "      <td>...</td>\n",
              "      <td>...</td>\n",
              "      <td>...</td>\n",
              "      <td>...</td>\n",
              "      <td>...</td>\n",
              "      <td>...</td>\n",
              "      <td>...</td>\n",
              "      <td>...</td>\n",
              "      <td>...</td>\n",
              "      <td>...</td>\n",
              "      <td>...</td>\n",
              "      <td>...</td>\n",
              "      <td>...</td>\n",
              "    </tr>\n",
              "    <tr>\n",
              "      <th>748</th>\n",
              "      <td>2022-05-19</td>\n",
              "      <td>707.00</td>\n",
              "      <td>734.00</td>\n",
              "      <td>694.11</td>\n",
              "      <td>709.42</td>\n",
              "      <td>30098900.0</td>\n",
              "      <td>0.0</td>\n",
              "      <td>0.0</td>\n",
              "      <td>2.593000e+09</td>\n",
              "      <td>6.343000e+09</td>\n",
              "      <td>...</td>\n",
              "      <td>1.986000e+09</td>\n",
              "      <td>4.285000e+09</td>\n",
              "      <td>5.757000e+09</td>\n",
              "      <td>1.002500e+10</td>\n",
              "      <td>NaN</td>\n",
              "      <td>UP</td>\n",
              "      <td>0.079623</td>\n",
              "      <td>0.071458</td>\n",
              "      <td>0.848919</td>\n",
              "      <td>Positive</td>\n",
              "    </tr>\n",
              "    <tr>\n",
              "      <th>749</th>\n",
              "      <td>2022-05-20</td>\n",
              "      <td>713.99</td>\n",
              "      <td>721.58</td>\n",
              "      <td>633.00</td>\n",
              "      <td>663.90</td>\n",
              "      <td>48324400.0</td>\n",
              "      <td>0.0</td>\n",
              "      <td>0.0</td>\n",
              "      <td>2.593000e+09</td>\n",
              "      <td>6.343000e+09</td>\n",
              "      <td>...</td>\n",
              "      <td>1.986000e+09</td>\n",
              "      <td>4.285000e+09</td>\n",
              "      <td>5.757000e+09</td>\n",
              "      <td>1.002500e+10</td>\n",
              "      <td>NaN</td>\n",
              "      <td>DOWN</td>\n",
              "      <td>0.073798</td>\n",
              "      <td>0.096653</td>\n",
              "      <td>0.829548</td>\n",
              "      <td>Negative</td>\n",
              "    </tr>\n",
              "    <tr>\n",
              "      <th>750</th>\n",
              "      <td>2022-05-23</td>\n",
              "      <td>655.02</td>\n",
              "      <td>679.96</td>\n",
              "      <td>638.06</td>\n",
              "      <td>674.90</td>\n",
              "      <td>29634500.0</td>\n",
              "      <td>0.0</td>\n",
              "      <td>0.0</td>\n",
              "      <td>2.593000e+09</td>\n",
              "      <td>6.343000e+09</td>\n",
              "      <td>...</td>\n",
              "      <td>1.986000e+09</td>\n",
              "      <td>4.285000e+09</td>\n",
              "      <td>5.757000e+09</td>\n",
              "      <td>1.002500e+10</td>\n",
              "      <td>NaN</td>\n",
              "      <td>UP</td>\n",
              "      <td>0.075230</td>\n",
              "      <td>0.078415</td>\n",
              "      <td>0.846355</td>\n",
              "      <td>Negative</td>\n",
              "    </tr>\n",
              "    <tr>\n",
              "      <th>751</th>\n",
              "      <td>2022-05-24</td>\n",
              "      <td>653.53</td>\n",
              "      <td>653.92</td>\n",
              "      <td>620.57</td>\n",
              "      <td>628.16</td>\n",
              "      <td>29697500.0</td>\n",
              "      <td>0.0</td>\n",
              "      <td>0.0</td>\n",
              "      <td>2.593000e+09</td>\n",
              "      <td>6.343000e+09</td>\n",
              "      <td>...</td>\n",
              "      <td>1.986000e+09</td>\n",
              "      <td>4.285000e+09</td>\n",
              "      <td>5.757000e+09</td>\n",
              "      <td>1.002500e+10</td>\n",
              "      <td>NaN</td>\n",
              "      <td>DOWN</td>\n",
              "      <td>0.085092</td>\n",
              "      <td>0.116204</td>\n",
              "      <td>0.798704</td>\n",
              "      <td>Negative</td>\n",
              "    </tr>\n",
              "    <tr>\n",
              "      <th>752</th>\n",
              "      <td>2022-05-25</td>\n",
              "      <td>623.85</td>\n",
              "      <td>669.32</td>\n",
              "      <td>623.01</td>\n",
              "      <td>658.80</td>\n",
              "      <td>30713100.0</td>\n",
              "      <td>0.0</td>\n",
              "      <td>0.0</td>\n",
              "      <td>2.593000e+09</td>\n",
              "      <td>6.343000e+09</td>\n",
              "      <td>...</td>\n",
              "      <td>1.986000e+09</td>\n",
              "      <td>4.285000e+09</td>\n",
              "      <td>5.757000e+09</td>\n",
              "      <td>1.002500e+10</td>\n",
              "      <td>NaN</td>\n",
              "      <td>UP</td>\n",
              "      <td>0.091825</td>\n",
              "      <td>0.080255</td>\n",
              "      <td>0.827920</td>\n",
              "      <td>Positive</td>\n",
              "    </tr>\n",
              "  </tbody>\n",
              "</table>\n",
              "<p>753 rows × 57 columns</p>\n",
              "</div>\n",
              "      <button class=\"colab-df-convert\" onclick=\"convertToInteractive('df-6903acad-73b7-46f8-88a0-0e0a91d47947')\"\n",
              "              title=\"Convert this dataframe to an interactive table.\"\n",
              "              style=\"display:none;\">\n",
              "        \n",
              "  <svg xmlns=\"http://www.w3.org/2000/svg\" height=\"24px\"viewBox=\"0 0 24 24\"\n",
              "       width=\"24px\">\n",
              "    <path d=\"M0 0h24v24H0V0z\" fill=\"none\"/>\n",
              "    <path d=\"M18.56 5.44l.94 2.06.94-2.06 2.06-.94-2.06-.94-.94-2.06-.94 2.06-2.06.94zm-11 1L8.5 8.5l.94-2.06 2.06-.94-2.06-.94L8.5 2.5l-.94 2.06-2.06.94zm10 10l.94 2.06.94-2.06 2.06-.94-2.06-.94-.94-2.06-.94 2.06-2.06.94z\"/><path d=\"M17.41 7.96l-1.37-1.37c-.4-.4-.92-.59-1.43-.59-.52 0-1.04.2-1.43.59L10.3 9.45l-7.72 7.72c-.78.78-.78 2.05 0 2.83L4 21.41c.39.39.9.59 1.41.59.51 0 1.02-.2 1.41-.59l7.78-7.78 2.81-2.81c.8-.78.8-2.07 0-2.86zM5.41 20L4 18.59l7.72-7.72 1.47 1.35L5.41 20z\"/>\n",
              "  </svg>\n",
              "      </button>\n",
              "      \n",
              "  <style>\n",
              "    .colab-df-container {\n",
              "      display:flex;\n",
              "      flex-wrap:wrap;\n",
              "      gap: 12px;\n",
              "    }\n",
              "\n",
              "    .colab-df-convert {\n",
              "      background-color: #E8F0FE;\n",
              "      border: none;\n",
              "      border-radius: 50%;\n",
              "      cursor: pointer;\n",
              "      display: none;\n",
              "      fill: #1967D2;\n",
              "      height: 32px;\n",
              "      padding: 0 0 0 0;\n",
              "      width: 32px;\n",
              "    }\n",
              "\n",
              "    .colab-df-convert:hover {\n",
              "      background-color: #E2EBFA;\n",
              "      box-shadow: 0px 1px 2px rgba(60, 64, 67, 0.3), 0px 1px 3px 1px rgba(60, 64, 67, 0.15);\n",
              "      fill: #174EA6;\n",
              "    }\n",
              "\n",
              "    [theme=dark] .colab-df-convert {\n",
              "      background-color: #3B4455;\n",
              "      fill: #D2E3FC;\n",
              "    }\n",
              "\n",
              "    [theme=dark] .colab-df-convert:hover {\n",
              "      background-color: #434B5C;\n",
              "      box-shadow: 0px 1px 3px 1px rgba(0, 0, 0, 0.15);\n",
              "      filter: drop-shadow(0px 1px 2px rgba(0, 0, 0, 0.3));\n",
              "      fill: #FFFFFF;\n",
              "    }\n",
              "  </style>\n",
              "\n",
              "      <script>\n",
              "        const buttonEl =\n",
              "          document.querySelector('#df-6903acad-73b7-46f8-88a0-0e0a91d47947 button.colab-df-convert');\n",
              "        buttonEl.style.display =\n",
              "          google.colab.kernel.accessAllowed ? 'block' : 'none';\n",
              "\n",
              "        async function convertToInteractive(key) {\n",
              "          const element = document.querySelector('#df-6903acad-73b7-46f8-88a0-0e0a91d47947');\n",
              "          const dataTable =\n",
              "            await google.colab.kernel.invokeFunction('convertToInteractive',\n",
              "                                                     [key], {});\n",
              "          if (!dataTable) return;\n",
              "\n",
              "          const docLinkHtml = 'Like what you see? Visit the ' +\n",
              "            '<a target=\"_blank\" href=https://colab.research.google.com/notebooks/data_table.ipynb>data table notebook</a>'\n",
              "            + ' to learn more about interactive tables.';\n",
              "          element.innerHTML = '';\n",
              "          dataTable['output_type'] = 'display_data';\n",
              "          await google.colab.output.renderOutput(dataTable, element);\n",
              "          const docLink = document.createElement('div');\n",
              "          docLink.innerHTML = docLinkHtml;\n",
              "          element.appendChild(docLink);\n",
              "        }\n",
              "      </script>\n",
              "    </div>\n",
              "  </div>\n",
              "  "
            ]
          },
          "metadata": {},
          "execution_count": 144
        }
      ]
    },
    {
      "cell_type": "code",
      "execution_count": null,
      "metadata": {
        "colab": {
          "base_uri": "https://localhost:8080/"
        },
        "id": "uPn-7C7EfafK",
        "outputId": "c17f56db-0960-45e4-9502-f9ddf8fdfcf4"
      },
      "outputs": [
        {
          "output_type": "execute_result",
          "data": {
            "text/plain": [
              "Date                                        0\n",
              "Open                                        0\n",
              "High                                        0\n",
              "Low                                         0\n",
              "Close                                       0\n",
              "Volume                                      0\n",
              "Dividends                                   0\n",
              "Stock Splits                                0\n",
              "Research Development                        0\n",
              "Income Before Tax                           0\n",
              "Minority Interest                           0\n",
              "Net Income                                  0\n",
              "Selling General Administrative              0\n",
              "Gross Profit                                0\n",
              "Ebit                                        0\n",
              "Operating Income                            0\n",
              "Other Operating Expenses                    0\n",
              "Interest Expense                            0\n",
              "Income Tax Expense                          0\n",
              "Total Revenue                               0\n",
              "Total Operating Expenses                    0\n",
              "Cost Of Revenue                             0\n",
              "Total Other Income Expense Net              0\n",
              "Net Income From Continuing Ops              0\n",
              "Net Income Applicable To Common Shares      0\n",
              "Intangible Assets                           0\n",
              "Capital Surplus                             0\n",
              "Total Liab                                  0\n",
              "Total Stockholder Equity                    0\n",
              "Minority Interest_duplicate                 0\n",
              "Other Current Liab                          0\n",
              "Total Assets                                0\n",
              "Common Stock                              109\n",
              "Other Current Assets                        0\n",
              "Retained Earnings                           0\n",
              "Other Liab                                  0\n",
              "Good Will                                   0\n",
              "Treasury Stock                              0\n",
              "Other Assets                                0\n",
              "Cash                                        0\n",
              "Total Current Liabilities                   0\n",
              "Short Long Term Debt                        0\n",
              "Other Stockholder Equity                    0\n",
              "Property Plant Equipment                    0\n",
              "Total Current Assets                        0\n",
              "Net Tangible Assets                         0\n",
              "Short Term Investments                    473\n",
              "Net Receivables                             0\n",
              "Long Term Debt                              0\n",
              "Inventory                                   0\n",
              "Accounts Payable                            0\n",
              "Long Term Investments                     456\n",
              "Target                                      0\n",
              "Positive                                    0\n",
              "Negative                                    0\n",
              "Neutral                                     0\n",
              "Label                                       0\n",
              "dtype: int64"
            ]
          },
          "metadata": {},
          "execution_count": 145
        }
      ],
      "source": [
        "df.isna().sum()"
      ]
    },
    {
      "cell_type": "code",
      "source": [
        "df = df.drop(df.columns[[32,46,51]], axis=1)"
      ],
      "metadata": {
        "id": "nFWePsBBCkwV"
      },
      "execution_count": null,
      "outputs": []
    },
    {
      "cell_type": "markdown",
      "metadata": {
        "id": "wuFsltgm1eZy"
      },
      "source": [
        "Encoding of Ordinal Features"
      ]
    },
    {
      "cell_type": "code",
      "execution_count": null,
      "metadata": {
        "id": "vIP28Hg31eZy"
      },
      "outputs": [],
      "source": [
        "# Create a mapper\n",
        "\n",
        "scale_mapper = {\n",
        "    \"DOWN\": 0,\n",
        "    \"UP\": 1 \n",
        "    }\n",
        "\n",
        "df['Target'] = df['Target'].replace(scale_mapper)\n",
        "scale_mapper = {\n",
        "    \"Negative\": 0,\n",
        "    \"Positive\": 1 \n",
        "    }\n",
        "df['Label'] = df['Label'].replace(scale_mapper)\n"
      ]
    },
    {
      "cell_type": "code",
      "execution_count": null,
      "metadata": {
        "colab": {
          "base_uri": "https://localhost:8080/",
          "height": 696
        },
        "id": "M-rEXldf4sYH",
        "outputId": "9a9a8aac-36c9-456e-db9c-f42404980855"
      },
      "outputs": [
        {
          "output_type": "execute_result",
          "data": {
            "text/plain": [
              "           Date    Open    High     Low   Close      Volume  Dividends  \\\n",
              "0    2018-01-09   67.03   67.76   65.48   66.74  35733000.0        0.0   \n",
              "1    2018-01-29   67.97   70.17   67.66   69.91  23735500.0        0.0   \n",
              "2    2018-01-31   69.50   71.24   69.04   70.86  31070500.0        0.0   \n",
              "3    2018-03-07   65.09   66.50   64.35   66.46  25036500.0        0.0   \n",
              "4    2018-03-20   62.97   63.25   61.75   62.11  23821500.0        0.0   \n",
              "..          ...     ...     ...     ...     ...         ...        ...   \n",
              "748  2022-05-19  707.00  734.00  694.11  709.42  30098900.0        0.0   \n",
              "749  2022-05-20  713.99  721.58  633.00  663.90  48324400.0        0.0   \n",
              "750  2022-05-23  655.02  679.96  638.06  674.90  29634500.0        0.0   \n",
              "751  2022-05-24  653.53  653.92  620.57  628.16  29697500.0        0.0   \n",
              "752  2022-05-25  623.85  669.32  623.01  658.80  30713100.0        0.0   \n",
              "\n",
              "     Stock Splits  Research Development  Income Before Tax  ...  \\\n",
              "0             0.0          1.460000e+09      -1.005000e+09  ...   \n",
              "1             0.0          1.460000e+09      -1.005000e+09  ...   \n",
              "2             0.0          1.460000e+09      -1.005000e+09  ...   \n",
              "3             0.0          1.460000e+09      -1.005000e+09  ...   \n",
              "4             0.0          1.460000e+09      -1.005000e+09  ...   \n",
              "..            ...                   ...                ...  ...   \n",
              "748           0.0          2.593000e+09       6.343000e+09  ...   \n",
              "749           0.0          2.593000e+09       6.343000e+09  ...   \n",
              "750           0.0          2.593000e+09       6.343000e+09  ...   \n",
              "751           0.0          2.593000e+09       6.343000e+09  ...   \n",
              "752           0.0          2.593000e+09       6.343000e+09  ...   \n",
              "\n",
              "     Net Tangible Assets  Net Receivables  Long Term Debt     Inventory  \\\n",
              "0           4.573000e+09     9.490000e+08    8.461000e+09  3.113000e+09   \n",
              "1           4.573000e+09     9.490000e+08    8.461000e+09  3.113000e+09   \n",
              "2           4.573000e+09     9.490000e+08    8.461000e+09  3.113000e+09   \n",
              "3           4.573000e+09     9.490000e+08    8.461000e+09  3.113000e+09   \n",
              "4           4.573000e+09     9.490000e+08    8.461000e+09  3.113000e+09   \n",
              "..                   ...              ...             ...           ...   \n",
              "748         2.973200e+10     1.986000e+09    4.285000e+09  5.757000e+09   \n",
              "749         2.973200e+10     1.986000e+09    4.285000e+09  5.757000e+09   \n",
              "750         2.973200e+10     1.986000e+09    4.285000e+09  5.757000e+09   \n",
              "751         2.973200e+10     1.986000e+09    4.285000e+09  5.757000e+09   \n",
              "752         2.973200e+10     1.986000e+09    4.285000e+09  5.757000e+09   \n",
              "\n",
              "     Accounts Payable  Target  Positive  Negative   Neutral  Label  \n",
              "0        3.405000e+09       0  0.051453  0.051624  0.896924      0  \n",
              "1        3.405000e+09       1  0.073506  0.036434  0.890060      1  \n",
              "2        3.405000e+09       1  0.057328  0.025493  0.917179      1  \n",
              "3        3.405000e+09       1  0.105883  0.032860  0.861258      1  \n",
              "4        3.405000e+09       0  0.041082  0.027480  0.931438      1  \n",
              "..                ...     ...       ...       ...       ...    ...  \n",
              "748      1.002500e+10       1  0.079623  0.071458  0.848919      1  \n",
              "749      1.002500e+10       0  0.073798  0.096653  0.829548      0  \n",
              "750      1.002500e+10       1  0.075230  0.078415  0.846355      0  \n",
              "751      1.002500e+10       0  0.085092  0.116204  0.798704      0  \n",
              "752      1.002500e+10       1  0.091825  0.080255  0.827920      1  \n",
              "\n",
              "[753 rows x 54 columns]"
            ],
            "text/html": [
              "\n",
              "  <div id=\"df-d77ea94f-39d5-4cae-9dc2-3a7937fe076e\">\n",
              "    <div class=\"colab-df-container\">\n",
              "      <div>\n",
              "<style scoped>\n",
              "    .dataframe tbody tr th:only-of-type {\n",
              "        vertical-align: middle;\n",
              "    }\n",
              "\n",
              "    .dataframe tbody tr th {\n",
              "        vertical-align: top;\n",
              "    }\n",
              "\n",
              "    .dataframe thead th {\n",
              "        text-align: right;\n",
              "    }\n",
              "</style>\n",
              "<table border=\"1\" class=\"dataframe\">\n",
              "  <thead>\n",
              "    <tr style=\"text-align: right;\">\n",
              "      <th></th>\n",
              "      <th>Date</th>\n",
              "      <th>Open</th>\n",
              "      <th>High</th>\n",
              "      <th>Low</th>\n",
              "      <th>Close</th>\n",
              "      <th>Volume</th>\n",
              "      <th>Dividends</th>\n",
              "      <th>Stock Splits</th>\n",
              "      <th>Research Development</th>\n",
              "      <th>Income Before Tax</th>\n",
              "      <th>...</th>\n",
              "      <th>Net Tangible Assets</th>\n",
              "      <th>Net Receivables</th>\n",
              "      <th>Long Term Debt</th>\n",
              "      <th>Inventory</th>\n",
              "      <th>Accounts Payable</th>\n",
              "      <th>Target</th>\n",
              "      <th>Positive</th>\n",
              "      <th>Negative</th>\n",
              "      <th>Neutral</th>\n",
              "      <th>Label</th>\n",
              "    </tr>\n",
              "  </thead>\n",
              "  <tbody>\n",
              "    <tr>\n",
              "      <th>0</th>\n",
              "      <td>2018-01-09</td>\n",
              "      <td>67.03</td>\n",
              "      <td>67.76</td>\n",
              "      <td>65.48</td>\n",
              "      <td>66.74</td>\n",
              "      <td>35733000.0</td>\n",
              "      <td>0.0</td>\n",
              "      <td>0.0</td>\n",
              "      <td>1.460000e+09</td>\n",
              "      <td>-1.005000e+09</td>\n",
              "      <td>...</td>\n",
              "      <td>4.573000e+09</td>\n",
              "      <td>9.490000e+08</td>\n",
              "      <td>8.461000e+09</td>\n",
              "      <td>3.113000e+09</td>\n",
              "      <td>3.405000e+09</td>\n",
              "      <td>0</td>\n",
              "      <td>0.051453</td>\n",
              "      <td>0.051624</td>\n",
              "      <td>0.896924</td>\n",
              "      <td>0</td>\n",
              "    </tr>\n",
              "    <tr>\n",
              "      <th>1</th>\n",
              "      <td>2018-01-29</td>\n",
              "      <td>67.97</td>\n",
              "      <td>70.17</td>\n",
              "      <td>67.66</td>\n",
              "      <td>69.91</td>\n",
              "      <td>23735500.0</td>\n",
              "      <td>0.0</td>\n",
              "      <td>0.0</td>\n",
              "      <td>1.460000e+09</td>\n",
              "      <td>-1.005000e+09</td>\n",
              "      <td>...</td>\n",
              "      <td>4.573000e+09</td>\n",
              "      <td>9.490000e+08</td>\n",
              "      <td>8.461000e+09</td>\n",
              "      <td>3.113000e+09</td>\n",
              "      <td>3.405000e+09</td>\n",
              "      <td>1</td>\n",
              "      <td>0.073506</td>\n",
              "      <td>0.036434</td>\n",
              "      <td>0.890060</td>\n",
              "      <td>1</td>\n",
              "    </tr>\n",
              "    <tr>\n",
              "      <th>2</th>\n",
              "      <td>2018-01-31</td>\n",
              "      <td>69.50</td>\n",
              "      <td>71.24</td>\n",
              "      <td>69.04</td>\n",
              "      <td>70.86</td>\n",
              "      <td>31070500.0</td>\n",
              "      <td>0.0</td>\n",
              "      <td>0.0</td>\n",
              "      <td>1.460000e+09</td>\n",
              "      <td>-1.005000e+09</td>\n",
              "      <td>...</td>\n",
              "      <td>4.573000e+09</td>\n",
              "      <td>9.490000e+08</td>\n",
              "      <td>8.461000e+09</td>\n",
              "      <td>3.113000e+09</td>\n",
              "      <td>3.405000e+09</td>\n",
              "      <td>1</td>\n",
              "      <td>0.057328</td>\n",
              "      <td>0.025493</td>\n",
              "      <td>0.917179</td>\n",
              "      <td>1</td>\n",
              "    </tr>\n",
              "    <tr>\n",
              "      <th>3</th>\n",
              "      <td>2018-03-07</td>\n",
              "      <td>65.09</td>\n",
              "      <td>66.50</td>\n",
              "      <td>64.35</td>\n",
              "      <td>66.46</td>\n",
              "      <td>25036500.0</td>\n",
              "      <td>0.0</td>\n",
              "      <td>0.0</td>\n",
              "      <td>1.460000e+09</td>\n",
              "      <td>-1.005000e+09</td>\n",
              "      <td>...</td>\n",
              "      <td>4.573000e+09</td>\n",
              "      <td>9.490000e+08</td>\n",
              "      <td>8.461000e+09</td>\n",
              "      <td>3.113000e+09</td>\n",
              "      <td>3.405000e+09</td>\n",
              "      <td>1</td>\n",
              "      <td>0.105883</td>\n",
              "      <td>0.032860</td>\n",
              "      <td>0.861258</td>\n",
              "      <td>1</td>\n",
              "    </tr>\n",
              "    <tr>\n",
              "      <th>4</th>\n",
              "      <td>2018-03-20</td>\n",
              "      <td>62.97</td>\n",
              "      <td>63.25</td>\n",
              "      <td>61.75</td>\n",
              "      <td>62.11</td>\n",
              "      <td>23821500.0</td>\n",
              "      <td>0.0</td>\n",
              "      <td>0.0</td>\n",
              "      <td>1.460000e+09</td>\n",
              "      <td>-1.005000e+09</td>\n",
              "      <td>...</td>\n",
              "      <td>4.573000e+09</td>\n",
              "      <td>9.490000e+08</td>\n",
              "      <td>8.461000e+09</td>\n",
              "      <td>3.113000e+09</td>\n",
              "      <td>3.405000e+09</td>\n",
              "      <td>0</td>\n",
              "      <td>0.041082</td>\n",
              "      <td>0.027480</td>\n",
              "      <td>0.931438</td>\n",
              "      <td>1</td>\n",
              "    </tr>\n",
              "    <tr>\n",
              "      <th>...</th>\n",
              "      <td>...</td>\n",
              "      <td>...</td>\n",
              "      <td>...</td>\n",
              "      <td>...</td>\n",
              "      <td>...</td>\n",
              "      <td>...</td>\n",
              "      <td>...</td>\n",
              "      <td>...</td>\n",
              "      <td>...</td>\n",
              "      <td>...</td>\n",
              "      <td>...</td>\n",
              "      <td>...</td>\n",
              "      <td>...</td>\n",
              "      <td>...</td>\n",
              "      <td>...</td>\n",
              "      <td>...</td>\n",
              "      <td>...</td>\n",
              "      <td>...</td>\n",
              "      <td>...</td>\n",
              "      <td>...</td>\n",
              "      <td>...</td>\n",
              "    </tr>\n",
              "    <tr>\n",
              "      <th>748</th>\n",
              "      <td>2022-05-19</td>\n",
              "      <td>707.00</td>\n",
              "      <td>734.00</td>\n",
              "      <td>694.11</td>\n",
              "      <td>709.42</td>\n",
              "      <td>30098900.0</td>\n",
              "      <td>0.0</td>\n",
              "      <td>0.0</td>\n",
              "      <td>2.593000e+09</td>\n",
              "      <td>6.343000e+09</td>\n",
              "      <td>...</td>\n",
              "      <td>2.973200e+10</td>\n",
              "      <td>1.986000e+09</td>\n",
              "      <td>4.285000e+09</td>\n",
              "      <td>5.757000e+09</td>\n",
              "      <td>1.002500e+10</td>\n",
              "      <td>1</td>\n",
              "      <td>0.079623</td>\n",
              "      <td>0.071458</td>\n",
              "      <td>0.848919</td>\n",
              "      <td>1</td>\n",
              "    </tr>\n",
              "    <tr>\n",
              "      <th>749</th>\n",
              "      <td>2022-05-20</td>\n",
              "      <td>713.99</td>\n",
              "      <td>721.58</td>\n",
              "      <td>633.00</td>\n",
              "      <td>663.90</td>\n",
              "      <td>48324400.0</td>\n",
              "      <td>0.0</td>\n",
              "      <td>0.0</td>\n",
              "      <td>2.593000e+09</td>\n",
              "      <td>6.343000e+09</td>\n",
              "      <td>...</td>\n",
              "      <td>2.973200e+10</td>\n",
              "      <td>1.986000e+09</td>\n",
              "      <td>4.285000e+09</td>\n",
              "      <td>5.757000e+09</td>\n",
              "      <td>1.002500e+10</td>\n",
              "      <td>0</td>\n",
              "      <td>0.073798</td>\n",
              "      <td>0.096653</td>\n",
              "      <td>0.829548</td>\n",
              "      <td>0</td>\n",
              "    </tr>\n",
              "    <tr>\n",
              "      <th>750</th>\n",
              "      <td>2022-05-23</td>\n",
              "      <td>655.02</td>\n",
              "      <td>679.96</td>\n",
              "      <td>638.06</td>\n",
              "      <td>674.90</td>\n",
              "      <td>29634500.0</td>\n",
              "      <td>0.0</td>\n",
              "      <td>0.0</td>\n",
              "      <td>2.593000e+09</td>\n",
              "      <td>6.343000e+09</td>\n",
              "      <td>...</td>\n",
              "      <td>2.973200e+10</td>\n",
              "      <td>1.986000e+09</td>\n",
              "      <td>4.285000e+09</td>\n",
              "      <td>5.757000e+09</td>\n",
              "      <td>1.002500e+10</td>\n",
              "      <td>1</td>\n",
              "      <td>0.075230</td>\n",
              "      <td>0.078415</td>\n",
              "      <td>0.846355</td>\n",
              "      <td>0</td>\n",
              "    </tr>\n",
              "    <tr>\n",
              "      <th>751</th>\n",
              "      <td>2022-05-24</td>\n",
              "      <td>653.53</td>\n",
              "      <td>653.92</td>\n",
              "      <td>620.57</td>\n",
              "      <td>628.16</td>\n",
              "      <td>29697500.0</td>\n",
              "      <td>0.0</td>\n",
              "      <td>0.0</td>\n",
              "      <td>2.593000e+09</td>\n",
              "      <td>6.343000e+09</td>\n",
              "      <td>...</td>\n",
              "      <td>2.973200e+10</td>\n",
              "      <td>1.986000e+09</td>\n",
              "      <td>4.285000e+09</td>\n",
              "      <td>5.757000e+09</td>\n",
              "      <td>1.002500e+10</td>\n",
              "      <td>0</td>\n",
              "      <td>0.085092</td>\n",
              "      <td>0.116204</td>\n",
              "      <td>0.798704</td>\n",
              "      <td>0</td>\n",
              "    </tr>\n",
              "    <tr>\n",
              "      <th>752</th>\n",
              "      <td>2022-05-25</td>\n",
              "      <td>623.85</td>\n",
              "      <td>669.32</td>\n",
              "      <td>623.01</td>\n",
              "      <td>658.80</td>\n",
              "      <td>30713100.0</td>\n",
              "      <td>0.0</td>\n",
              "      <td>0.0</td>\n",
              "      <td>2.593000e+09</td>\n",
              "      <td>6.343000e+09</td>\n",
              "      <td>...</td>\n",
              "      <td>2.973200e+10</td>\n",
              "      <td>1.986000e+09</td>\n",
              "      <td>4.285000e+09</td>\n",
              "      <td>5.757000e+09</td>\n",
              "      <td>1.002500e+10</td>\n",
              "      <td>1</td>\n",
              "      <td>0.091825</td>\n",
              "      <td>0.080255</td>\n",
              "      <td>0.827920</td>\n",
              "      <td>1</td>\n",
              "    </tr>\n",
              "  </tbody>\n",
              "</table>\n",
              "<p>753 rows × 54 columns</p>\n",
              "</div>\n",
              "      <button class=\"colab-df-convert\" onclick=\"convertToInteractive('df-d77ea94f-39d5-4cae-9dc2-3a7937fe076e')\"\n",
              "              title=\"Convert this dataframe to an interactive table.\"\n",
              "              style=\"display:none;\">\n",
              "        \n",
              "  <svg xmlns=\"http://www.w3.org/2000/svg\" height=\"24px\"viewBox=\"0 0 24 24\"\n",
              "       width=\"24px\">\n",
              "    <path d=\"M0 0h24v24H0V0z\" fill=\"none\"/>\n",
              "    <path d=\"M18.56 5.44l.94 2.06.94-2.06 2.06-.94-2.06-.94-.94-2.06-.94 2.06-2.06.94zm-11 1L8.5 8.5l.94-2.06 2.06-.94-2.06-.94L8.5 2.5l-.94 2.06-2.06.94zm10 10l.94 2.06.94-2.06 2.06-.94-2.06-.94-.94-2.06-.94 2.06-2.06.94z\"/><path d=\"M17.41 7.96l-1.37-1.37c-.4-.4-.92-.59-1.43-.59-.52 0-1.04.2-1.43.59L10.3 9.45l-7.72 7.72c-.78.78-.78 2.05 0 2.83L4 21.41c.39.39.9.59 1.41.59.51 0 1.02-.2 1.41-.59l7.78-7.78 2.81-2.81c.8-.78.8-2.07 0-2.86zM5.41 20L4 18.59l7.72-7.72 1.47 1.35L5.41 20z\"/>\n",
              "  </svg>\n",
              "      </button>\n",
              "      \n",
              "  <style>\n",
              "    .colab-df-container {\n",
              "      display:flex;\n",
              "      flex-wrap:wrap;\n",
              "      gap: 12px;\n",
              "    }\n",
              "\n",
              "    .colab-df-convert {\n",
              "      background-color: #E8F0FE;\n",
              "      border: none;\n",
              "      border-radius: 50%;\n",
              "      cursor: pointer;\n",
              "      display: none;\n",
              "      fill: #1967D2;\n",
              "      height: 32px;\n",
              "      padding: 0 0 0 0;\n",
              "      width: 32px;\n",
              "    }\n",
              "\n",
              "    .colab-df-convert:hover {\n",
              "      background-color: #E2EBFA;\n",
              "      box-shadow: 0px 1px 2px rgba(60, 64, 67, 0.3), 0px 1px 3px 1px rgba(60, 64, 67, 0.15);\n",
              "      fill: #174EA6;\n",
              "    }\n",
              "\n",
              "    [theme=dark] .colab-df-convert {\n",
              "      background-color: #3B4455;\n",
              "      fill: #D2E3FC;\n",
              "    }\n",
              "\n",
              "    [theme=dark] .colab-df-convert:hover {\n",
              "      background-color: #434B5C;\n",
              "      box-shadow: 0px 1px 3px 1px rgba(0, 0, 0, 0.15);\n",
              "      filter: drop-shadow(0px 1px 2px rgba(0, 0, 0, 0.3));\n",
              "      fill: #FFFFFF;\n",
              "    }\n",
              "  </style>\n",
              "\n",
              "      <script>\n",
              "        const buttonEl =\n",
              "          document.querySelector('#df-d77ea94f-39d5-4cae-9dc2-3a7937fe076e button.colab-df-convert');\n",
              "        buttonEl.style.display =\n",
              "          google.colab.kernel.accessAllowed ? 'block' : 'none';\n",
              "\n",
              "        async function convertToInteractive(key) {\n",
              "          const element = document.querySelector('#df-d77ea94f-39d5-4cae-9dc2-3a7937fe076e');\n",
              "          const dataTable =\n",
              "            await google.colab.kernel.invokeFunction('convertToInteractive',\n",
              "                                                     [key], {});\n",
              "          if (!dataTable) return;\n",
              "\n",
              "          const docLinkHtml = 'Like what you see? Visit the ' +\n",
              "            '<a target=\"_blank\" href=https://colab.research.google.com/notebooks/data_table.ipynb>data table notebook</a>'\n",
              "            + ' to learn more about interactive tables.';\n",
              "          element.innerHTML = '';\n",
              "          dataTable['output_type'] = 'display_data';\n",
              "          await google.colab.output.renderOutput(dataTable, element);\n",
              "          const docLink = document.createElement('div');\n",
              "          docLink.innerHTML = docLinkHtml;\n",
              "          element.appendChild(docLink);\n",
              "        }\n",
              "      </script>\n",
              "    </div>\n",
              "  </div>\n",
              "  "
            ]
          },
          "metadata": {},
          "execution_count": 148
        }
      ],
      "source": [
        "'''plt.figure(figsize=(20,20))\n",
        "sns.heatmap(df.corr(),annot=True)\n",
        "plt.show()'''\n",
        "df"
      ]
    },
    {
      "cell_type": "markdown",
      "metadata": {
        "id": "PSUyeL48EwcC"
      },
      "source": [
        "# EDA - Exploratory Data Analysis\n"
      ]
    },
    {
      "cell_type": "code",
      "source": [
        "print(\"Total number of days: \",df.shape[0])\n",
        "print(\"Total number of fields: \",df.shape[1])"
      ],
      "metadata": {
        "id": "tlQ_Nij1zAen",
        "colab": {
          "base_uri": "https://localhost:8080/"
        },
        "outputId": "97285985-e363-4cd3-cb2e-805862b8923e"
      },
      "execution_count": null,
      "outputs": [
        {
          "output_type": "stream",
          "name": "stdout",
          "text": [
            "Total number of days:  753\n",
            "Total number of fields:  54\n"
          ]
        }
      ]
    },
    {
      "cell_type": "markdown",
      "source": [
        ""
      ],
      "metadata": {
        "id": "i2D7zlhy2aZT"
      }
    },
    {
      "cell_type": "markdown",
      "source": [
        "\n",
        "Find the duration of dataset"
      ],
      "metadata": {
        "id": "RqWsCrAN2aZU"
      }
    },
    {
      "cell_type": "code",
      "source": [
        "# convert date field from string to Date format \n",
        "df['Date'] = pd.to_datetime(df.Date)\n",
        "df.head()"
      ],
      "metadata": {
        "id": "7pvXZ_8l3Prc",
        "colab": {
          "base_uri": "https://localhost:8080/",
          "height": 421
        },
        "outputId": "f304b199-3d31-4d86-f1bd-757510042bd0"
      },
      "execution_count": null,
      "outputs": [
        {
          "output_type": "execute_result",
          "data": {
            "text/plain": [
              "        Date   Open   High    Low  Close      Volume  Dividends  Stock Splits  \\\n",
              "0 2018-01-09  67.03  67.76  65.48  66.74  35733000.0        0.0           0.0   \n",
              "1 2018-01-29  67.97  70.17  67.66  69.91  23735500.0        0.0           0.0   \n",
              "2 2018-01-31  69.50  71.24  69.04  70.86  31070500.0        0.0           0.0   \n",
              "3 2018-03-07  65.09  66.50  64.35  66.46  25036500.0        0.0           0.0   \n",
              "4 2018-03-20  62.97  63.25  61.75  62.11  23821500.0        0.0           0.0   \n",
              "\n",
              "   Research Development  Income Before Tax  ...  Net Tangible Assets  \\\n",
              "0          1.460000e+09      -1.005000e+09  ...         4.573000e+09   \n",
              "1          1.460000e+09      -1.005000e+09  ...         4.573000e+09   \n",
              "2          1.460000e+09      -1.005000e+09  ...         4.573000e+09   \n",
              "3          1.460000e+09      -1.005000e+09  ...         4.573000e+09   \n",
              "4          1.460000e+09      -1.005000e+09  ...         4.573000e+09   \n",
              "\n",
              "   Net Receivables  Long Term Debt     Inventory  Accounts Payable  Target  \\\n",
              "0      949000000.0    8.461000e+09  3.113000e+09      3.405000e+09       0   \n",
              "1      949000000.0    8.461000e+09  3.113000e+09      3.405000e+09       1   \n",
              "2      949000000.0    8.461000e+09  3.113000e+09      3.405000e+09       1   \n",
              "3      949000000.0    8.461000e+09  3.113000e+09      3.405000e+09       1   \n",
              "4      949000000.0    8.461000e+09  3.113000e+09      3.405000e+09       0   \n",
              "\n",
              "   Positive  Negative   Neutral  Label  \n",
              "0  0.051453  0.051624  0.896924      0  \n",
              "1  0.073506  0.036434  0.890060      1  \n",
              "2  0.057328  0.025493  0.917179      1  \n",
              "3  0.105883  0.032860  0.861258      1  \n",
              "4  0.041082  0.027480  0.931438      1  \n",
              "\n",
              "[5 rows x 54 columns]"
            ],
            "text/html": [
              "\n",
              "  <div id=\"df-dcc88865-bbdb-4d0d-82f9-e1003e243c61\">\n",
              "    <div class=\"colab-df-container\">\n",
              "      <div>\n",
              "<style scoped>\n",
              "    .dataframe tbody tr th:only-of-type {\n",
              "        vertical-align: middle;\n",
              "    }\n",
              "\n",
              "    .dataframe tbody tr th {\n",
              "        vertical-align: top;\n",
              "    }\n",
              "\n",
              "    .dataframe thead th {\n",
              "        text-align: right;\n",
              "    }\n",
              "</style>\n",
              "<table border=\"1\" class=\"dataframe\">\n",
              "  <thead>\n",
              "    <tr style=\"text-align: right;\">\n",
              "      <th></th>\n",
              "      <th>Date</th>\n",
              "      <th>Open</th>\n",
              "      <th>High</th>\n",
              "      <th>Low</th>\n",
              "      <th>Close</th>\n",
              "      <th>Volume</th>\n",
              "      <th>Dividends</th>\n",
              "      <th>Stock Splits</th>\n",
              "      <th>Research Development</th>\n",
              "      <th>Income Before Tax</th>\n",
              "      <th>...</th>\n",
              "      <th>Net Tangible Assets</th>\n",
              "      <th>Net Receivables</th>\n",
              "      <th>Long Term Debt</th>\n",
              "      <th>Inventory</th>\n",
              "      <th>Accounts Payable</th>\n",
              "      <th>Target</th>\n",
              "      <th>Positive</th>\n",
              "      <th>Negative</th>\n",
              "      <th>Neutral</th>\n",
              "      <th>Label</th>\n",
              "    </tr>\n",
              "  </thead>\n",
              "  <tbody>\n",
              "    <tr>\n",
              "      <th>0</th>\n",
              "      <td>2018-01-09</td>\n",
              "      <td>67.03</td>\n",
              "      <td>67.76</td>\n",
              "      <td>65.48</td>\n",
              "      <td>66.74</td>\n",
              "      <td>35733000.0</td>\n",
              "      <td>0.0</td>\n",
              "      <td>0.0</td>\n",
              "      <td>1.460000e+09</td>\n",
              "      <td>-1.005000e+09</td>\n",
              "      <td>...</td>\n",
              "      <td>4.573000e+09</td>\n",
              "      <td>949000000.0</td>\n",
              "      <td>8.461000e+09</td>\n",
              "      <td>3.113000e+09</td>\n",
              "      <td>3.405000e+09</td>\n",
              "      <td>0</td>\n",
              "      <td>0.051453</td>\n",
              "      <td>0.051624</td>\n",
              "      <td>0.896924</td>\n",
              "      <td>0</td>\n",
              "    </tr>\n",
              "    <tr>\n",
              "      <th>1</th>\n",
              "      <td>2018-01-29</td>\n",
              "      <td>67.97</td>\n",
              "      <td>70.17</td>\n",
              "      <td>67.66</td>\n",
              "      <td>69.91</td>\n",
              "      <td>23735500.0</td>\n",
              "      <td>0.0</td>\n",
              "      <td>0.0</td>\n",
              "      <td>1.460000e+09</td>\n",
              "      <td>-1.005000e+09</td>\n",
              "      <td>...</td>\n",
              "      <td>4.573000e+09</td>\n",
              "      <td>949000000.0</td>\n",
              "      <td>8.461000e+09</td>\n",
              "      <td>3.113000e+09</td>\n",
              "      <td>3.405000e+09</td>\n",
              "      <td>1</td>\n",
              "      <td>0.073506</td>\n",
              "      <td>0.036434</td>\n",
              "      <td>0.890060</td>\n",
              "      <td>1</td>\n",
              "    </tr>\n",
              "    <tr>\n",
              "      <th>2</th>\n",
              "      <td>2018-01-31</td>\n",
              "      <td>69.50</td>\n",
              "      <td>71.24</td>\n",
              "      <td>69.04</td>\n",
              "      <td>70.86</td>\n",
              "      <td>31070500.0</td>\n",
              "      <td>0.0</td>\n",
              "      <td>0.0</td>\n",
              "      <td>1.460000e+09</td>\n",
              "      <td>-1.005000e+09</td>\n",
              "      <td>...</td>\n",
              "      <td>4.573000e+09</td>\n",
              "      <td>949000000.0</td>\n",
              "      <td>8.461000e+09</td>\n",
              "      <td>3.113000e+09</td>\n",
              "      <td>3.405000e+09</td>\n",
              "      <td>1</td>\n",
              "      <td>0.057328</td>\n",
              "      <td>0.025493</td>\n",
              "      <td>0.917179</td>\n",
              "      <td>1</td>\n",
              "    </tr>\n",
              "    <tr>\n",
              "      <th>3</th>\n",
              "      <td>2018-03-07</td>\n",
              "      <td>65.09</td>\n",
              "      <td>66.50</td>\n",
              "      <td>64.35</td>\n",
              "      <td>66.46</td>\n",
              "      <td>25036500.0</td>\n",
              "      <td>0.0</td>\n",
              "      <td>0.0</td>\n",
              "      <td>1.460000e+09</td>\n",
              "      <td>-1.005000e+09</td>\n",
              "      <td>...</td>\n",
              "      <td>4.573000e+09</td>\n",
              "      <td>949000000.0</td>\n",
              "      <td>8.461000e+09</td>\n",
              "      <td>3.113000e+09</td>\n",
              "      <td>3.405000e+09</td>\n",
              "      <td>1</td>\n",
              "      <td>0.105883</td>\n",
              "      <td>0.032860</td>\n",
              "      <td>0.861258</td>\n",
              "      <td>1</td>\n",
              "    </tr>\n",
              "    <tr>\n",
              "      <th>4</th>\n",
              "      <td>2018-03-20</td>\n",
              "      <td>62.97</td>\n",
              "      <td>63.25</td>\n",
              "      <td>61.75</td>\n",
              "      <td>62.11</td>\n",
              "      <td>23821500.0</td>\n",
              "      <td>0.0</td>\n",
              "      <td>0.0</td>\n",
              "      <td>1.460000e+09</td>\n",
              "      <td>-1.005000e+09</td>\n",
              "      <td>...</td>\n",
              "      <td>4.573000e+09</td>\n",
              "      <td>949000000.0</td>\n",
              "      <td>8.461000e+09</td>\n",
              "      <td>3.113000e+09</td>\n",
              "      <td>3.405000e+09</td>\n",
              "      <td>0</td>\n",
              "      <td>0.041082</td>\n",
              "      <td>0.027480</td>\n",
              "      <td>0.931438</td>\n",
              "      <td>1</td>\n",
              "    </tr>\n",
              "  </tbody>\n",
              "</table>\n",
              "<p>5 rows × 54 columns</p>\n",
              "</div>\n",
              "      <button class=\"colab-df-convert\" onclick=\"convertToInteractive('df-dcc88865-bbdb-4d0d-82f9-e1003e243c61')\"\n",
              "              title=\"Convert this dataframe to an interactive table.\"\n",
              "              style=\"display:none;\">\n",
              "        \n",
              "  <svg xmlns=\"http://www.w3.org/2000/svg\" height=\"24px\"viewBox=\"0 0 24 24\"\n",
              "       width=\"24px\">\n",
              "    <path d=\"M0 0h24v24H0V0z\" fill=\"none\"/>\n",
              "    <path d=\"M18.56 5.44l.94 2.06.94-2.06 2.06-.94-2.06-.94-.94-2.06-.94 2.06-2.06.94zm-11 1L8.5 8.5l.94-2.06 2.06-.94-2.06-.94L8.5 2.5l-.94 2.06-2.06.94zm10 10l.94 2.06.94-2.06 2.06-.94-2.06-.94-.94-2.06-.94 2.06-2.06.94z\"/><path d=\"M17.41 7.96l-1.37-1.37c-.4-.4-.92-.59-1.43-.59-.52 0-1.04.2-1.43.59L10.3 9.45l-7.72 7.72c-.78.78-.78 2.05 0 2.83L4 21.41c.39.39.9.59 1.41.59.51 0 1.02-.2 1.41-.59l7.78-7.78 2.81-2.81c.8-.78.8-2.07 0-2.86zM5.41 20L4 18.59l7.72-7.72 1.47 1.35L5.41 20z\"/>\n",
              "  </svg>\n",
              "      </button>\n",
              "      \n",
              "  <style>\n",
              "    .colab-df-container {\n",
              "      display:flex;\n",
              "      flex-wrap:wrap;\n",
              "      gap: 12px;\n",
              "    }\n",
              "\n",
              "    .colab-df-convert {\n",
              "      background-color: #E8F0FE;\n",
              "      border: none;\n",
              "      border-radius: 50%;\n",
              "      cursor: pointer;\n",
              "      display: none;\n",
              "      fill: #1967D2;\n",
              "      height: 32px;\n",
              "      padding: 0 0 0 0;\n",
              "      width: 32px;\n",
              "    }\n",
              "\n",
              "    .colab-df-convert:hover {\n",
              "      background-color: #E2EBFA;\n",
              "      box-shadow: 0px 1px 2px rgba(60, 64, 67, 0.3), 0px 1px 3px 1px rgba(60, 64, 67, 0.15);\n",
              "      fill: #174EA6;\n",
              "    }\n",
              "\n",
              "    [theme=dark] .colab-df-convert {\n",
              "      background-color: #3B4455;\n",
              "      fill: #D2E3FC;\n",
              "    }\n",
              "\n",
              "    [theme=dark] .colab-df-convert:hover {\n",
              "      background-color: #434B5C;\n",
              "      box-shadow: 0px 1px 3px 1px rgba(0, 0, 0, 0.15);\n",
              "      filter: drop-shadow(0px 1px 2px rgba(0, 0, 0, 0.3));\n",
              "      fill: #FFFFFF;\n",
              "    }\n",
              "  </style>\n",
              "\n",
              "      <script>\n",
              "        const buttonEl =\n",
              "          document.querySelector('#df-dcc88865-bbdb-4d0d-82f9-e1003e243c61 button.colab-df-convert');\n",
              "        buttonEl.style.display =\n",
              "          google.colab.kernel.accessAllowed ? 'block' : 'none';\n",
              "\n",
              "        async function convertToInteractive(key) {\n",
              "          const element = document.querySelector('#df-dcc88865-bbdb-4d0d-82f9-e1003e243c61');\n",
              "          const dataTable =\n",
              "            await google.colab.kernel.invokeFunction('convertToInteractive',\n",
              "                                                     [key], {});\n",
              "          if (!dataTable) return;\n",
              "\n",
              "          const docLinkHtml = 'Like what you see? Visit the ' +\n",
              "            '<a target=\"_blank\" href=https://colab.research.google.com/notebooks/data_table.ipynb>data table notebook</a>'\n",
              "            + ' to learn more about interactive tables.';\n",
              "          element.innerHTML = '';\n",
              "          dataTable['output_type'] = 'display_data';\n",
              "          await google.colab.output.renderOutput(dataTable, element);\n",
              "          const docLink = document.createElement('div');\n",
              "          docLink.innerHTML = docLinkHtml;\n",
              "          element.appendChild(docLink);\n",
              "        }\n",
              "      </script>\n",
              "    </div>\n",
              "  </div>\n",
              "  "
            ]
          },
          "metadata": {},
          "execution_count": 150
        }
      ]
    },
    {
      "cell_type": "code",
      "source": [
        "print(\"Starting date: \",df.iloc[0][0])\n",
        "print(\"Ending date: \", df.iloc[-1][0])\n",
        "print(\"Duration: \", df.iloc[-1][0]-df.iloc[0][0])"
      ],
      "metadata": {
        "execution": {
          "iopub.status.busy": "2021-08-16T08:12:25.463845Z",
          "iopub.execute_input": "2021-08-16T08:12:25.464188Z",
          "iopub.status.idle": "2021-08-16T08:12:25.478743Z",
          "shell.execute_reply.started": "2021-08-16T08:12:25.464157Z",
          "shell.execute_reply": "2021-08-16T08:12:25.477735Z"
        },
        "trusted": true,
        "id": "pStX3q0a2aZU",
        "colab": {
          "base_uri": "https://localhost:8080/"
        },
        "outputId": "c1b5929b-b9a0-4739-b0ea-b8dfb1305490"
      },
      "execution_count": null,
      "outputs": [
        {
          "output_type": "stream",
          "name": "stdout",
          "text": [
            "Starting date:  2018-01-09 00:00:00\n",
            "Ending date:  2022-05-25 00:00:00\n",
            "Duration:  1597 days 00:00:00\n"
          ]
        }
      ]
    },
    {
      "cell_type": "markdown",
      "source": [
        "\n",
        "Monthwise comparision between Stock open and close price"
      ],
      "metadata": {
        "id": "LKmSfURq2aZV"
      }
    },
    {
      "cell_type": "code",
      "source": [
        "monthvise= df.groupby(df['Date'].dt.strftime('%B'))[['Open','Close']].mean()\n",
        "new_order = ['January', 'February', 'March', 'April', 'May', 'June', 'July', 'August', \n",
        "             'September', 'October', 'November', 'December']\n",
        "monthvise = monthvise.reindex(new_order, axis=0)\n",
        "monthvise"
      ],
      "metadata": {
        "execution": {
          "iopub.status.busy": "2021-08-16T08:12:25.480290Z",
          "iopub.execute_input": "2021-08-16T08:12:25.480698Z",
          "iopub.status.idle": "2021-08-16T08:12:25.515217Z",
          "shell.execute_reply.started": "2021-08-16T08:12:25.480656Z",
          "shell.execute_reply": "2021-08-16T08:12:25.514120Z"
        },
        "trusted": true,
        "id": "3R1q72eU2aZV",
        "colab": {
          "base_uri": "https://localhost:8080/",
          "height": 457
        },
        "outputId": "f10fd819-8f87-461c-def5-2b404d790f98"
      },
      "execution_count": null,
      "outputs": [
        {
          "output_type": "execute_result",
          "data": {
            "text/plain": [
              "                 Open       Close\n",
              "Date                             \n",
              "January    474.339483  471.547414\n",
              "February   486.117647  485.927059\n",
              "March      414.202000  414.537571\n",
              "April      461.598056  458.110139\n",
              "May        325.243750  322.421250\n",
              "June       239.020182  238.788364\n",
              "July       287.012121  286.344091\n",
              "August     342.380526  343.733333\n",
              "September  352.567049  352.471967\n",
              "October    360.431806  362.585694\n",
              "November   491.420500  493.169000\n",
              "December   486.104746  484.259661"
            ],
            "text/html": [
              "\n",
              "  <div id=\"df-7325f99d-53fc-4a12-a440-3d06148733cf\">\n",
              "    <div class=\"colab-df-container\">\n",
              "      <div>\n",
              "<style scoped>\n",
              "    .dataframe tbody tr th:only-of-type {\n",
              "        vertical-align: middle;\n",
              "    }\n",
              "\n",
              "    .dataframe tbody tr th {\n",
              "        vertical-align: top;\n",
              "    }\n",
              "\n",
              "    .dataframe thead th {\n",
              "        text-align: right;\n",
              "    }\n",
              "</style>\n",
              "<table border=\"1\" class=\"dataframe\">\n",
              "  <thead>\n",
              "    <tr style=\"text-align: right;\">\n",
              "      <th></th>\n",
              "      <th>Open</th>\n",
              "      <th>Close</th>\n",
              "    </tr>\n",
              "    <tr>\n",
              "      <th>Date</th>\n",
              "      <th></th>\n",
              "      <th></th>\n",
              "    </tr>\n",
              "  </thead>\n",
              "  <tbody>\n",
              "    <tr>\n",
              "      <th>January</th>\n",
              "      <td>474.339483</td>\n",
              "      <td>471.547414</td>\n",
              "    </tr>\n",
              "    <tr>\n",
              "      <th>February</th>\n",
              "      <td>486.117647</td>\n",
              "      <td>485.927059</td>\n",
              "    </tr>\n",
              "    <tr>\n",
              "      <th>March</th>\n",
              "      <td>414.202000</td>\n",
              "      <td>414.537571</td>\n",
              "    </tr>\n",
              "    <tr>\n",
              "      <th>April</th>\n",
              "      <td>461.598056</td>\n",
              "      <td>458.110139</td>\n",
              "    </tr>\n",
              "    <tr>\n",
              "      <th>May</th>\n",
              "      <td>325.243750</td>\n",
              "      <td>322.421250</td>\n",
              "    </tr>\n",
              "    <tr>\n",
              "      <th>June</th>\n",
              "      <td>239.020182</td>\n",
              "      <td>238.788364</td>\n",
              "    </tr>\n",
              "    <tr>\n",
              "      <th>July</th>\n",
              "      <td>287.012121</td>\n",
              "      <td>286.344091</td>\n",
              "    </tr>\n",
              "    <tr>\n",
              "      <th>August</th>\n",
              "      <td>342.380526</td>\n",
              "      <td>343.733333</td>\n",
              "    </tr>\n",
              "    <tr>\n",
              "      <th>September</th>\n",
              "      <td>352.567049</td>\n",
              "      <td>352.471967</td>\n",
              "    </tr>\n",
              "    <tr>\n",
              "      <th>October</th>\n",
              "      <td>360.431806</td>\n",
              "      <td>362.585694</td>\n",
              "    </tr>\n",
              "    <tr>\n",
              "      <th>November</th>\n",
              "      <td>491.420500</td>\n",
              "      <td>493.169000</td>\n",
              "    </tr>\n",
              "    <tr>\n",
              "      <th>December</th>\n",
              "      <td>486.104746</td>\n",
              "      <td>484.259661</td>\n",
              "    </tr>\n",
              "  </tbody>\n",
              "</table>\n",
              "</div>\n",
              "      <button class=\"colab-df-convert\" onclick=\"convertToInteractive('df-7325f99d-53fc-4a12-a440-3d06148733cf')\"\n",
              "              title=\"Convert this dataframe to an interactive table.\"\n",
              "              style=\"display:none;\">\n",
              "        \n",
              "  <svg xmlns=\"http://www.w3.org/2000/svg\" height=\"24px\"viewBox=\"0 0 24 24\"\n",
              "       width=\"24px\">\n",
              "    <path d=\"M0 0h24v24H0V0z\" fill=\"none\"/>\n",
              "    <path d=\"M18.56 5.44l.94 2.06.94-2.06 2.06-.94-2.06-.94-.94-2.06-.94 2.06-2.06.94zm-11 1L8.5 8.5l.94-2.06 2.06-.94-2.06-.94L8.5 2.5l-.94 2.06-2.06.94zm10 10l.94 2.06.94-2.06 2.06-.94-2.06-.94-.94-2.06-.94 2.06-2.06.94z\"/><path d=\"M17.41 7.96l-1.37-1.37c-.4-.4-.92-.59-1.43-.59-.52 0-1.04.2-1.43.59L10.3 9.45l-7.72 7.72c-.78.78-.78 2.05 0 2.83L4 21.41c.39.39.9.59 1.41.59.51 0 1.02-.2 1.41-.59l7.78-7.78 2.81-2.81c.8-.78.8-2.07 0-2.86zM5.41 20L4 18.59l7.72-7.72 1.47 1.35L5.41 20z\"/>\n",
              "  </svg>\n",
              "      </button>\n",
              "      \n",
              "  <style>\n",
              "    .colab-df-container {\n",
              "      display:flex;\n",
              "      flex-wrap:wrap;\n",
              "      gap: 12px;\n",
              "    }\n",
              "\n",
              "    .colab-df-convert {\n",
              "      background-color: #E8F0FE;\n",
              "      border: none;\n",
              "      border-radius: 50%;\n",
              "      cursor: pointer;\n",
              "      display: none;\n",
              "      fill: #1967D2;\n",
              "      height: 32px;\n",
              "      padding: 0 0 0 0;\n",
              "      width: 32px;\n",
              "    }\n",
              "\n",
              "    .colab-df-convert:hover {\n",
              "      background-color: #E2EBFA;\n",
              "      box-shadow: 0px 1px 2px rgba(60, 64, 67, 0.3), 0px 1px 3px 1px rgba(60, 64, 67, 0.15);\n",
              "      fill: #174EA6;\n",
              "    }\n",
              "\n",
              "    [theme=dark] .colab-df-convert {\n",
              "      background-color: #3B4455;\n",
              "      fill: #D2E3FC;\n",
              "    }\n",
              "\n",
              "    [theme=dark] .colab-df-convert:hover {\n",
              "      background-color: #434B5C;\n",
              "      box-shadow: 0px 1px 3px 1px rgba(0, 0, 0, 0.15);\n",
              "      filter: drop-shadow(0px 1px 2px rgba(0, 0, 0, 0.3));\n",
              "      fill: #FFFFFF;\n",
              "    }\n",
              "  </style>\n",
              "\n",
              "      <script>\n",
              "        const buttonEl =\n",
              "          document.querySelector('#df-7325f99d-53fc-4a12-a440-3d06148733cf button.colab-df-convert');\n",
              "        buttonEl.style.display =\n",
              "          google.colab.kernel.accessAllowed ? 'block' : 'none';\n",
              "\n",
              "        async function convertToInteractive(key) {\n",
              "          const element = document.querySelector('#df-7325f99d-53fc-4a12-a440-3d06148733cf');\n",
              "          const dataTable =\n",
              "            await google.colab.kernel.invokeFunction('convertToInteractive',\n",
              "                                                     [key], {});\n",
              "          if (!dataTable) return;\n",
              "\n",
              "          const docLinkHtml = 'Like what you see? Visit the ' +\n",
              "            '<a target=\"_blank\" href=https://colab.research.google.com/notebooks/data_table.ipynb>data table notebook</a>'\n",
              "            + ' to learn more about interactive tables.';\n",
              "          element.innerHTML = '';\n",
              "          dataTable['output_type'] = 'display_data';\n",
              "          await google.colab.output.renderOutput(dataTable, element);\n",
              "          const docLink = document.createElement('div');\n",
              "          docLink.innerHTML = docLinkHtml;\n",
              "          element.appendChild(docLink);\n",
              "        }\n",
              "      </script>\n",
              "    </div>\n",
              "  </div>\n",
              "  "
            ]
          },
          "metadata": {},
          "execution_count": 152
        }
      ]
    },
    {
      "cell_type": "code",
      "source": [
        "fig = go.Figure()\n",
        "\n",
        "fig.add_trace(go.Bar(\n",
        "    x=monthvise.index,\n",
        "    y=monthvise['Open'],\n",
        "    name='Stock Open Price',\n",
        "    marker_color='crimson'\n",
        "))\n",
        "fig.add_trace(go.Bar(\n",
        "    x=monthvise.index,\n",
        "    y=monthvise['Close'],\n",
        "    name='Stock Close Price',\n",
        "    marker_color='lightsalmon'\n",
        "))\n",
        "\n",
        "fig.update_layout(barmode='group', xaxis_tickangle=-45, \n",
        "                  title='Monthwise comparision between Stock open and close price')\n",
        "fig.show()"
      ],
      "metadata": {
        "execution": {
          "iopub.status.busy": "2021-08-16T08:12:25.518866Z",
          "iopub.execute_input": "2021-08-16T08:12:25.519194Z",
          "iopub.status.idle": "2021-08-16T08:12:25.567213Z",
          "shell.execute_reply.started": "2021-08-16T08:12:25.519156Z",
          "shell.execute_reply": "2021-08-16T08:12:25.566097Z"
        },
        "trusted": true,
        "id": "vg6fz7f72aZV",
        "colab": {
          "base_uri": "https://localhost:8080/",
          "height": 542
        },
        "outputId": "b8739dce-e5c6-46b8-9578-8af8a3e0b6e3"
      },
      "execution_count": null,
      "outputs": [
        {
          "output_type": "display_data",
          "data": {
            "text/html": [
              "<html>\n",
              "<head><meta charset=\"utf-8\" /></head>\n",
              "<body>\n",
              "    <div>            <script src=\"https://cdnjs.cloudflare.com/ajax/libs/mathjax/2.7.5/MathJax.js?config=TeX-AMS-MML_SVG\"></script><script type=\"text/javascript\">if (window.MathJax) {MathJax.Hub.Config({SVG: {font: \"STIX-Web\"}});}</script>                <script type=\"text/javascript\">window.PlotlyConfig = {MathJaxConfig: 'local'};</script>\n",
              "        <script src=\"https://cdn.plot.ly/plotly-2.8.3.min.js\"></script>                <div id=\"c6c82a3e-2e79-402f-8c43-490371686a20\" class=\"plotly-graph-div\" style=\"height:525px; width:100%;\"></div>            <script type=\"text/javascript\">                                    window.PLOTLYENV=window.PLOTLYENV || {};                                    if (document.getElementById(\"c6c82a3e-2e79-402f-8c43-490371686a20\")) {                    Plotly.newPlot(                        \"c6c82a3e-2e79-402f-8c43-490371686a20\",                        [{\"marker\":{\"color\":\"crimson\"},\"name\":\"Stock Open Price\",\"x\":[\"January\",\"February\",\"March\",\"April\",\"May\",\"June\",\"July\",\"August\",\"September\",\"October\",\"November\",\"December\"],\"y\":[474.33948275862065,486.11764705882354,414.202,461.5980555555555,325.24375,239.02018181818184,287.0121212121212,342.38052631578944,352.5670491803279,360.43180555555557,491.4205,486.10474576271184],\"type\":\"bar\"},{\"marker\":{\"color\":\"lightsalmon\"},\"name\":\"Stock Close Price\",\"x\":[\"January\",\"February\",\"March\",\"April\",\"May\",\"June\",\"July\",\"August\",\"September\",\"October\",\"November\",\"December\"],\"y\":[471.54741379310343,485.92705882352936,414.5375714285714,458.1101388888889,322.42125000000004,238.78836363636364,286.3440909090909,343.73333333333335,352.4719672131148,362.5856944444444,493.169,484.25966101694917],\"type\":\"bar\"}],                        {\"template\":{\"data\":{\"bar\":[{\"error_x\":{\"color\":\"#2a3f5f\"},\"error_y\":{\"color\":\"#2a3f5f\"},\"marker\":{\"line\":{\"color\":\"#E5ECF6\",\"width\":0.5},\"pattern\":{\"fillmode\":\"overlay\",\"size\":10,\"solidity\":0.2}},\"type\":\"bar\"}],\"barpolar\":[{\"marker\":{\"line\":{\"color\":\"#E5ECF6\",\"width\":0.5},\"pattern\":{\"fillmode\":\"overlay\",\"size\":10,\"solidity\":0.2}},\"type\":\"barpolar\"}],\"carpet\":[{\"aaxis\":{\"endlinecolor\":\"#2a3f5f\",\"gridcolor\":\"white\",\"linecolor\":\"white\",\"minorgridcolor\":\"white\",\"startlinecolor\":\"#2a3f5f\"},\"baxis\":{\"endlinecolor\":\"#2a3f5f\",\"gridcolor\":\"white\",\"linecolor\":\"white\",\"minorgridcolor\":\"white\",\"startlinecolor\":\"#2a3f5f\"},\"type\":\"carpet\"}],\"choropleth\":[{\"colorbar\":{\"outlinewidth\":0,\"ticks\":\"\"},\"type\":\"choropleth\"}],\"contour\":[{\"colorbar\":{\"outlinewidth\":0,\"ticks\":\"\"},\"colorscale\":[[0.0,\"#0d0887\"],[0.1111111111111111,\"#46039f\"],[0.2222222222222222,\"#7201a8\"],[0.3333333333333333,\"#9c179e\"],[0.4444444444444444,\"#bd3786\"],[0.5555555555555556,\"#d8576b\"],[0.6666666666666666,\"#ed7953\"],[0.7777777777777778,\"#fb9f3a\"],[0.8888888888888888,\"#fdca26\"],[1.0,\"#f0f921\"]],\"type\":\"contour\"}],\"contourcarpet\":[{\"colorbar\":{\"outlinewidth\":0,\"ticks\":\"\"},\"type\":\"contourcarpet\"}],\"heatmap\":[{\"colorbar\":{\"outlinewidth\":0,\"ticks\":\"\"},\"colorscale\":[[0.0,\"#0d0887\"],[0.1111111111111111,\"#46039f\"],[0.2222222222222222,\"#7201a8\"],[0.3333333333333333,\"#9c179e\"],[0.4444444444444444,\"#bd3786\"],[0.5555555555555556,\"#d8576b\"],[0.6666666666666666,\"#ed7953\"],[0.7777777777777778,\"#fb9f3a\"],[0.8888888888888888,\"#fdca26\"],[1.0,\"#f0f921\"]],\"type\":\"heatmap\"}],\"heatmapgl\":[{\"colorbar\":{\"outlinewidth\":0,\"ticks\":\"\"},\"colorscale\":[[0.0,\"#0d0887\"],[0.1111111111111111,\"#46039f\"],[0.2222222222222222,\"#7201a8\"],[0.3333333333333333,\"#9c179e\"],[0.4444444444444444,\"#bd3786\"],[0.5555555555555556,\"#d8576b\"],[0.6666666666666666,\"#ed7953\"],[0.7777777777777778,\"#fb9f3a\"],[0.8888888888888888,\"#fdca26\"],[1.0,\"#f0f921\"]],\"type\":\"heatmapgl\"}],\"histogram\":[{\"marker\":{\"pattern\":{\"fillmode\":\"overlay\",\"size\":10,\"solidity\":0.2}},\"type\":\"histogram\"}],\"histogram2d\":[{\"colorbar\":{\"outlinewidth\":0,\"ticks\":\"\"},\"colorscale\":[[0.0,\"#0d0887\"],[0.1111111111111111,\"#46039f\"],[0.2222222222222222,\"#7201a8\"],[0.3333333333333333,\"#9c179e\"],[0.4444444444444444,\"#bd3786\"],[0.5555555555555556,\"#d8576b\"],[0.6666666666666666,\"#ed7953\"],[0.7777777777777778,\"#fb9f3a\"],[0.8888888888888888,\"#fdca26\"],[1.0,\"#f0f921\"]],\"type\":\"histogram2d\"}],\"histogram2dcontour\":[{\"colorbar\":{\"outlinewidth\":0,\"ticks\":\"\"},\"colorscale\":[[0.0,\"#0d0887\"],[0.1111111111111111,\"#46039f\"],[0.2222222222222222,\"#7201a8\"],[0.3333333333333333,\"#9c179e\"],[0.4444444444444444,\"#bd3786\"],[0.5555555555555556,\"#d8576b\"],[0.6666666666666666,\"#ed7953\"],[0.7777777777777778,\"#fb9f3a\"],[0.8888888888888888,\"#fdca26\"],[1.0,\"#f0f921\"]],\"type\":\"histogram2dcontour\"}],\"mesh3d\":[{\"colorbar\":{\"outlinewidth\":0,\"ticks\":\"\"},\"type\":\"mesh3d\"}],\"parcoords\":[{\"line\":{\"colorbar\":{\"outlinewidth\":0,\"ticks\":\"\"}},\"type\":\"parcoords\"}],\"pie\":[{\"automargin\":true,\"type\":\"pie\"}],\"scatter\":[{\"marker\":{\"colorbar\":{\"outlinewidth\":0,\"ticks\":\"\"}},\"type\":\"scatter\"}],\"scatter3d\":[{\"line\":{\"colorbar\":{\"outlinewidth\":0,\"ticks\":\"\"}},\"marker\":{\"colorbar\":{\"outlinewidth\":0,\"ticks\":\"\"}},\"type\":\"scatter3d\"}],\"scattercarpet\":[{\"marker\":{\"colorbar\":{\"outlinewidth\":0,\"ticks\":\"\"}},\"type\":\"scattercarpet\"}],\"scattergeo\":[{\"marker\":{\"colorbar\":{\"outlinewidth\":0,\"ticks\":\"\"}},\"type\":\"scattergeo\"}],\"scattergl\":[{\"marker\":{\"colorbar\":{\"outlinewidth\":0,\"ticks\":\"\"}},\"type\":\"scattergl\"}],\"scattermapbox\":[{\"marker\":{\"colorbar\":{\"outlinewidth\":0,\"ticks\":\"\"}},\"type\":\"scattermapbox\"}],\"scatterpolar\":[{\"marker\":{\"colorbar\":{\"outlinewidth\":0,\"ticks\":\"\"}},\"type\":\"scatterpolar\"}],\"scatterpolargl\":[{\"marker\":{\"colorbar\":{\"outlinewidth\":0,\"ticks\":\"\"}},\"type\":\"scatterpolargl\"}],\"scatterternary\":[{\"marker\":{\"colorbar\":{\"outlinewidth\":0,\"ticks\":\"\"}},\"type\":\"scatterternary\"}],\"surface\":[{\"colorbar\":{\"outlinewidth\":0,\"ticks\":\"\"},\"colorscale\":[[0.0,\"#0d0887\"],[0.1111111111111111,\"#46039f\"],[0.2222222222222222,\"#7201a8\"],[0.3333333333333333,\"#9c179e\"],[0.4444444444444444,\"#bd3786\"],[0.5555555555555556,\"#d8576b\"],[0.6666666666666666,\"#ed7953\"],[0.7777777777777778,\"#fb9f3a\"],[0.8888888888888888,\"#fdca26\"],[1.0,\"#f0f921\"]],\"type\":\"surface\"}],\"table\":[{\"cells\":{\"fill\":{\"color\":\"#EBF0F8\"},\"line\":{\"color\":\"white\"}},\"header\":{\"fill\":{\"color\":\"#C8D4E3\"},\"line\":{\"color\":\"white\"}},\"type\":\"table\"}]},\"layout\":{\"annotationdefaults\":{\"arrowcolor\":\"#2a3f5f\",\"arrowhead\":0,\"arrowwidth\":1},\"autotypenumbers\":\"strict\",\"coloraxis\":{\"colorbar\":{\"outlinewidth\":0,\"ticks\":\"\"}},\"colorscale\":{\"diverging\":[[0,\"#8e0152\"],[0.1,\"#c51b7d\"],[0.2,\"#de77ae\"],[0.3,\"#f1b6da\"],[0.4,\"#fde0ef\"],[0.5,\"#f7f7f7\"],[0.6,\"#e6f5d0\"],[0.7,\"#b8e186\"],[0.8,\"#7fbc41\"],[0.9,\"#4d9221\"],[1,\"#276419\"]],\"sequential\":[[0.0,\"#0d0887\"],[0.1111111111111111,\"#46039f\"],[0.2222222222222222,\"#7201a8\"],[0.3333333333333333,\"#9c179e\"],[0.4444444444444444,\"#bd3786\"],[0.5555555555555556,\"#d8576b\"],[0.6666666666666666,\"#ed7953\"],[0.7777777777777778,\"#fb9f3a\"],[0.8888888888888888,\"#fdca26\"],[1.0,\"#f0f921\"]],\"sequentialminus\":[[0.0,\"#0d0887\"],[0.1111111111111111,\"#46039f\"],[0.2222222222222222,\"#7201a8\"],[0.3333333333333333,\"#9c179e\"],[0.4444444444444444,\"#bd3786\"],[0.5555555555555556,\"#d8576b\"],[0.6666666666666666,\"#ed7953\"],[0.7777777777777778,\"#fb9f3a\"],[0.8888888888888888,\"#fdca26\"],[1.0,\"#f0f921\"]]},\"colorway\":[\"#636efa\",\"#EF553B\",\"#00cc96\",\"#ab63fa\",\"#FFA15A\",\"#19d3f3\",\"#FF6692\",\"#B6E880\",\"#FF97FF\",\"#FECB52\"],\"font\":{\"color\":\"#2a3f5f\"},\"geo\":{\"bgcolor\":\"white\",\"lakecolor\":\"white\",\"landcolor\":\"#E5ECF6\",\"showlakes\":true,\"showland\":true,\"subunitcolor\":\"white\"},\"hoverlabel\":{\"align\":\"left\"},\"hovermode\":\"closest\",\"mapbox\":{\"style\":\"light\"},\"paper_bgcolor\":\"white\",\"plot_bgcolor\":\"#E5ECF6\",\"polar\":{\"angularaxis\":{\"gridcolor\":\"white\",\"linecolor\":\"white\",\"ticks\":\"\"},\"bgcolor\":\"#E5ECF6\",\"radialaxis\":{\"gridcolor\":\"white\",\"linecolor\":\"white\",\"ticks\":\"\"}},\"scene\":{\"xaxis\":{\"backgroundcolor\":\"#E5ECF6\",\"gridcolor\":\"white\",\"gridwidth\":2,\"linecolor\":\"white\",\"showbackground\":true,\"ticks\":\"\",\"zerolinecolor\":\"white\"},\"yaxis\":{\"backgroundcolor\":\"#E5ECF6\",\"gridcolor\":\"white\",\"gridwidth\":2,\"linecolor\":\"white\",\"showbackground\":true,\"ticks\":\"\",\"zerolinecolor\":\"white\"},\"zaxis\":{\"backgroundcolor\":\"#E5ECF6\",\"gridcolor\":\"white\",\"gridwidth\":2,\"linecolor\":\"white\",\"showbackground\":true,\"ticks\":\"\",\"zerolinecolor\":\"white\"}},\"shapedefaults\":{\"line\":{\"color\":\"#2a3f5f\"}},\"ternary\":{\"aaxis\":{\"gridcolor\":\"white\",\"linecolor\":\"white\",\"ticks\":\"\"},\"baxis\":{\"gridcolor\":\"white\",\"linecolor\":\"white\",\"ticks\":\"\"},\"bgcolor\":\"#E5ECF6\",\"caxis\":{\"gridcolor\":\"white\",\"linecolor\":\"white\",\"ticks\":\"\"}},\"title\":{\"x\":0.05},\"xaxis\":{\"automargin\":true,\"gridcolor\":\"white\",\"linecolor\":\"white\",\"ticks\":\"\",\"title\":{\"standoff\":15},\"zerolinecolor\":\"white\",\"zerolinewidth\":2},\"yaxis\":{\"automargin\":true,\"gridcolor\":\"white\",\"linecolor\":\"white\",\"ticks\":\"\",\"title\":{\"standoff\":15},\"zerolinecolor\":\"white\",\"zerolinewidth\":2}}},\"xaxis\":{\"tickangle\":-45},\"barmode\":\"group\",\"title\":{\"text\":\"Monthwise comparision between Stock open and close price\"}},                        {\"responsive\": true}                    ).then(function(){\n",
              "                            \n",
              "var gd = document.getElementById('c6c82a3e-2e79-402f-8c43-490371686a20');\n",
              "var x = new MutationObserver(function (mutations, observer) {{\n",
              "        var display = window.getComputedStyle(gd).display;\n",
              "        if (!display || display === 'none') {{\n",
              "            console.log([gd, 'removed!']);\n",
              "            Plotly.purge(gd);\n",
              "            observer.disconnect();\n",
              "        }}\n",
              "}});\n",
              "\n",
              "// Listen for the removal of the full notebook cells\n",
              "var notebookContainer = gd.closest('#notebook-container');\n",
              "if (notebookContainer) {{\n",
              "    x.observe(notebookContainer, {childList: true});\n",
              "}}\n",
              "\n",
              "// Listen for the clearing of the current output cell\n",
              "var outputEl = gd.closest('.output');\n",
              "if (outputEl) {{\n",
              "    x.observe(outputEl, {childList: true});\n",
              "}}\n",
              "\n",
              "                        })                };                            </script>        </div>\n",
              "</body>\n",
              "</html>"
            ]
          },
          "metadata": {}
        }
      ]
    },
    {
      "cell_type": "code",
      "source": [
        "from itertools import cycle\n",
        "import plotly.express as px\n",
        "\n",
        "names = cycle(['Stock Open Price','Stock Close Price','Stock High Price','Stock Low Price'])\n",
        "\n",
        "fig =px.line(df, x=df.Date, y=[df['Open'], df['Close'], \n",
        "                                          df['High'], df['Low']],\n",
        "            labels={'Date': 'Date','value':'Stock value'})\n",
        "fig.update_layout(title_text='Stock analysis chart', font_size=15, font_color='black',legend_title_text='Stock Parameters')\n",
        "fig.for_each_trace(lambda t:  t.update(name = next(names)))\n",
        "fig.update_xaxes(showgrid=False)\n",
        "fig.update_yaxes(showgrid=False)\n",
        "\n",
        "fig.show()"
      ],
      "metadata": {
        "id": "N-Yy6hiO5elI",
        "colab": {
          "base_uri": "https://localhost:8080/",
          "height": 542
        },
        "outputId": "531e95a4-f924-4eee-d8e4-bfad570708c7"
      },
      "execution_count": null,
      "outputs": [
        {
          "output_type": "display_data",
          "data": {
            "text/html": [
              "<html>\n",
              "<head><meta charset=\"utf-8\" /></head>\n",
              "<body>\n",
              "    <div>            <script src=\"https://cdnjs.cloudflare.com/ajax/libs/mathjax/2.7.5/MathJax.js?config=TeX-AMS-MML_SVG\"></script><script type=\"text/javascript\">if (window.MathJax) {MathJax.Hub.Config({SVG: {font: \"STIX-Web\"}});}</script>                <script type=\"text/javascript\">window.PlotlyConfig = {MathJaxConfig: 'local'};</script>\n",
              "        <script src=\"https://cdn.plot.ly/plotly-2.8.3.min.js\"></script>                <div id=\"6d15e05e-2dc9-42e4-8c39-191762760e15\" class=\"plotly-graph-div\" style=\"height:525px; width:100%;\"></div>            <script type=\"text/javascript\">                                    window.PLOTLYENV=window.PLOTLYENV || {};                                    if (document.getElementById(\"6d15e05e-2dc9-42e4-8c39-191762760e15\")) {                    Plotly.newPlot(                        \"6d15e05e-2dc9-42e4-8c39-191762760e15\",                        [{\"hovertemplate\":\"variable=Open<br>Date=%{x}<br>Stock value=%{y}<extra></extra>\",\"legendgroup\":\"Open\",\"line\":{\"color\":\"#636efa\",\"dash\":\"solid\"},\"marker\":{\"symbol\":\"circle\"},\"mode\":\"lines\",\"name\":\"Stock Open Price\",\"showlegend\":true,\"x\":[\"2018-01-09T00:00:00\",\"2018-01-29T00:00:00\",\"2018-01-31T00:00:00\",\"2018-03-07T00:00:00\",\"2018-03-20T00:00:00\",\"2018-03-22T00:00:00\",\"2018-04-02T00:00:00\",\"2018-04-05T00:00:00\",\"2018-04-11T00:00:00\",\"2018-04-13T00:00:00\",\"2018-04-18T00:00:00\",\"2018-05-01T00:00:00\",\"2018-05-02T00:00:00\",\"2018-05-04T00:00:00\",\"2018-05-09T00:00:00\",\"2018-05-10T00:00:00\",\"2018-05-11T00:00:00\",\"2018-05-14T00:00:00\",\"2018-05-21T00:00:00\",\"2018-05-22T00:00:00\",\"2018-05-23T00:00:00\",\"2018-05-24T00:00:00\",\"2018-05-25T00:00:00\",\"2018-05-29T00:00:00\",\"2018-05-30T00:00:00\",\"2018-05-31T00:00:00\",\"2018-06-01T00:00:00\",\"2018-06-06T00:00:00\",\"2018-06-07T00:00:00\",\"2018-06-08T00:00:00\",\"2018-06-12T00:00:00\",\"2018-06-13T00:00:00\",\"2018-06-15T00:00:00\",\"2018-06-18T00:00:00\",\"2018-06-19T00:00:00\",\"2018-06-20T00:00:00\",\"2018-06-22T00:00:00\",\"2018-06-25T00:00:00\",\"2018-06-26T00:00:00\",\"2018-06-27T00:00:00\",\"2018-07-02T00:00:00\",\"2018-07-05T00:00:00\",\"2018-07-10T00:00:00\",\"2018-07-11T00:00:00\",\"2018-07-12T00:00:00\",\"2018-07-13T00:00:00\",\"2018-07-23T00:00:00\",\"2018-07-25T00:00:00\",\"2018-07-27T00:00:00\",\"2018-07-31T00:00:00\",\"2018-08-01T00:00:00\",\"2018-08-07T00:00:00\",\"2018-08-08T00:00:00\",\"2018-08-14T00:00:00\",\"2018-08-16T00:00:00\",\"2018-08-22T00:00:00\",\"2018-08-23T00:00:00\",\"2018-08-24T00:00:00\",\"2018-08-28T00:00:00\",\"2018-09-06T00:00:00\",\"2018-09-11T00:00:00\",\"2018-09-12T00:00:00\",\"2018-09-14T00:00:00\",\"2018-09-17T00:00:00\",\"2018-09-19T00:00:00\",\"2018-09-20T00:00:00\",\"2018-09-25T00:00:00\",\"2018-09-26T00:00:00\",\"2018-09-28T00:00:00\",\"2018-10-02T00:00:00\",\"2018-10-04T00:00:00\",\"2018-10-05T00:00:00\",\"2018-10-08T00:00:00\",\"2018-10-09T00:00:00\",\"2018-10-11T00:00:00\",\"2018-10-12T00:00:00\",\"2018-10-15T00:00:00\",\"2018-10-16T00:00:00\",\"2018-10-17T00:00:00\",\"2018-10-18T00:00:00\",\"2018-10-19T00:00:00\",\"2018-10-22T00:00:00\",\"2018-10-23T00:00:00\",\"2018-10-25T00:00:00\",\"2018-10-26T00:00:00\",\"2018-10-29T00:00:00\",\"2018-10-31T00:00:00\",\"2018-11-01T00:00:00\",\"2018-11-02T00:00:00\",\"2018-11-08T00:00:00\",\"2018-11-09T00:00:00\",\"2018-11-15T00:00:00\",\"2018-11-19T00:00:00\",\"2018-11-21T00:00:00\",\"2018-11-26T00:00:00\",\"2018-11-28T00:00:00\",\"2018-11-29T00:00:00\",\"2018-11-30T00:00:00\",\"2018-12-03T00:00:00\",\"2018-12-11T00:00:00\",\"2018-12-12T00:00:00\",\"2018-12-14T00:00:00\",\"2018-12-19T00:00:00\",\"2018-12-20T00:00:00\",\"2018-12-24T00:00:00\",\"2018-12-26T00:00:00\",\"2018-12-27T00:00:00\",\"2018-12-28T00:00:00\",\"2018-12-31T00:00:00\",\"2019-01-03T00:00:00\",\"2019-01-04T00:00:00\",\"2019-01-07T00:00:00\",\"2019-01-09T00:00:00\",\"2019-01-10T00:00:00\",\"2019-01-17T00:00:00\",\"2019-01-18T00:00:00\",\"2019-01-22T00:00:00\",\"2019-01-28T00:00:00\",\"2019-01-31T00:00:00\",\"2019-02-01T00:00:00\",\"2019-02-08T00:00:00\",\"2019-02-13T00:00:00\",\"2019-02-14T00:00:00\",\"2019-02-20T00:00:00\",\"2019-02-26T00:00:00\",\"2019-02-27T00:00:00\",\"2019-03-01T00:00:00\",\"2019-03-04T00:00:00\",\"2019-03-05T00:00:00\",\"2019-03-06T00:00:00\",\"2019-03-07T00:00:00\",\"2019-03-08T00:00:00\",\"2019-03-11T00:00:00\",\"2019-03-12T00:00:00\",\"2019-03-13T00:00:00\",\"2019-03-14T00:00:00\",\"2019-03-15T00:00:00\",\"2019-03-21T00:00:00\",\"2019-03-22T00:00:00\",\"2019-03-26T00:00:00\",\"2019-03-27T00:00:00\",\"2019-04-01T00:00:00\",\"2019-04-03T00:00:00\",\"2019-04-04T00:00:00\",\"2019-04-05T00:00:00\",\"2019-04-08T00:00:00\",\"2019-04-09T00:00:00\",\"2019-04-12T00:00:00\",\"2019-04-16T00:00:00\",\"2019-04-22T00:00:00\",\"2019-04-23T00:00:00\",\"2019-04-24T00:00:00\",\"2019-04-26T00:00:00\",\"2019-04-29T00:00:00\",\"2019-05-03T00:00:00\",\"2019-05-07T00:00:00\",\"2019-05-08T00:00:00\",\"2019-05-09T00:00:00\",\"2019-05-10T00:00:00\",\"2019-05-14T00:00:00\",\"2019-05-17T00:00:00\",\"2019-05-24T00:00:00\",\"2019-05-29T00:00:00\",\"2019-05-30T00:00:00\",\"2019-05-31T00:00:00\",\"2019-06-03T00:00:00\",\"2019-06-04T00:00:00\",\"2019-06-12T00:00:00\",\"2019-06-13T00:00:00\",\"2019-06-14T00:00:00\",\"2019-06-17T00:00:00\",\"2019-06-19T00:00:00\",\"2019-06-20T00:00:00\",\"2019-06-21T00:00:00\",\"2019-06-24T00:00:00\",\"2019-06-26T00:00:00\",\"2019-06-28T00:00:00\",\"2019-07-01T00:00:00\",\"2019-07-02T00:00:00\",\"2019-07-03T00:00:00\",\"2019-07-05T00:00:00\",\"2019-07-08T00:00:00\",\"2019-07-09T00:00:00\",\"2019-07-10T00:00:00\",\"2019-07-11T00:00:00\",\"2019-07-12T00:00:00\",\"2019-07-15T00:00:00\",\"2019-07-16T00:00:00\",\"2019-07-17T00:00:00\",\"2019-07-18T00:00:00\",\"2019-07-19T00:00:00\",\"2019-07-22T00:00:00\",\"2019-07-23T00:00:00\",\"2019-07-24T00:00:00\",\"2019-07-25T00:00:00\",\"2019-07-26T00:00:00\",\"2019-07-29T00:00:00\",\"2019-07-30T00:00:00\",\"2019-07-31T00:00:00\",\"2019-08-02T00:00:00\",\"2019-08-05T00:00:00\",\"2019-08-06T00:00:00\",\"2019-08-07T00:00:00\",\"2019-08-08T00:00:00\",\"2019-08-09T00:00:00\",\"2019-08-12T00:00:00\",\"2019-08-14T00:00:00\",\"2019-08-15T00:00:00\",\"2019-08-16T00:00:00\",\"2019-08-19T00:00:00\",\"2019-08-20T00:00:00\",\"2019-08-21T00:00:00\",\"2019-08-22T00:00:00\",\"2019-08-23T00:00:00\",\"2019-08-26T00:00:00\",\"2019-08-28T00:00:00\",\"2019-08-29T00:00:00\",\"2019-08-30T00:00:00\",\"2019-09-03T00:00:00\",\"2019-09-04T00:00:00\",\"2019-09-05T00:00:00\",\"2019-09-06T00:00:00\",\"2019-09-09T00:00:00\",\"2019-09-10T00:00:00\",\"2019-09-11T00:00:00\",\"2019-09-12T00:00:00\",\"2019-09-13T00:00:00\",\"2019-09-16T00:00:00\",\"2019-09-17T00:00:00\",\"2019-09-18T00:00:00\",\"2019-09-19T00:00:00\",\"2019-09-20T00:00:00\",\"2019-09-23T00:00:00\",\"2019-09-24T00:00:00\",\"2019-09-25T00:00:00\",\"2019-09-26T00:00:00\",\"2019-09-27T00:00:00\",\"2019-09-30T00:00:00\",\"2019-10-01T00:00:00\",\"2019-10-02T00:00:00\",\"2019-10-03T00:00:00\",\"2019-10-04T00:00:00\",\"2019-10-07T00:00:00\",\"2019-10-09T00:00:00\",\"2019-10-10T00:00:00\",\"2019-10-14T00:00:00\",\"2019-10-15T00:00:00\",\"2019-10-16T00:00:00\",\"2019-10-17T00:00:00\",\"2019-10-18T00:00:00\",\"2019-10-21T00:00:00\",\"2019-10-22T00:00:00\",\"2019-10-23T00:00:00\",\"2019-10-24T00:00:00\",\"2019-10-25T00:00:00\",\"2019-10-28T00:00:00\",\"2019-10-29T00:00:00\",\"2019-10-30T00:00:00\",\"2019-11-01T00:00:00\",\"2019-11-04T00:00:00\",\"2019-11-05T00:00:00\",\"2019-11-06T00:00:00\",\"2019-11-07T00:00:00\",\"2019-11-08T00:00:00\",\"2019-11-11T00:00:00\",\"2019-11-12T00:00:00\",\"2019-11-13T00:00:00\",\"2019-11-14T00:00:00\",\"2019-11-18T00:00:00\",\"2019-11-19T00:00:00\",\"2019-11-20T00:00:00\",\"2019-11-21T00:00:00\",\"2019-11-22T00:00:00\",\"2019-11-25T00:00:00\",\"2019-11-26T00:00:00\",\"2019-11-27T00:00:00\",\"2019-11-29T00:00:00\",\"2019-12-03T00:00:00\",\"2019-12-04T00:00:00\",\"2019-12-05T00:00:00\",\"2019-12-06T00:00:00\",\"2019-12-09T00:00:00\",\"2019-12-10T00:00:00\",\"2019-12-11T00:00:00\",\"2019-12-12T00:00:00\",\"2019-12-13T00:00:00\",\"2019-12-16T00:00:00\",\"2019-12-17T00:00:00\",\"2019-12-18T00:00:00\",\"2019-12-19T00:00:00\",\"2019-12-20T00:00:00\",\"2019-12-23T00:00:00\",\"2019-12-24T00:00:00\",\"2019-12-26T00:00:00\",\"2019-12-27T00:00:00\",\"2019-12-30T00:00:00\",\"2019-12-31T00:00:00\",\"2020-01-02T00:00:00\",\"2020-01-03T00:00:00\",\"2020-01-06T00:00:00\",\"2020-01-07T00:00:00\",\"2020-01-08T00:00:00\",\"2020-01-09T00:00:00\",\"2020-01-10T00:00:00\",\"2020-01-13T00:00:00\",\"2020-01-14T00:00:00\",\"2020-01-15T00:00:00\",\"2020-01-16T00:00:00\",\"2020-01-17T00:00:00\",\"2020-01-21T00:00:00\",\"2020-01-22T00:00:00\",\"2020-01-23T00:00:00\",\"2020-01-24T00:00:00\",\"2020-01-27T00:00:00\",\"2020-01-28T00:00:00\",\"2020-01-29T00:00:00\",\"2020-01-30T00:00:00\",\"2020-02-03T00:00:00\",\"2020-02-04T00:00:00\",\"2020-02-05T00:00:00\",\"2020-02-06T00:00:00\",\"2020-02-07T00:00:00\",\"2020-02-10T00:00:00\",\"2020-02-11T00:00:00\",\"2020-02-12T00:00:00\",\"2020-02-13T00:00:00\",\"2020-02-14T00:00:00\",\"2020-02-18T00:00:00\",\"2020-02-19T00:00:00\",\"2020-02-20T00:00:00\",\"2020-02-21T00:00:00\",\"2020-02-24T00:00:00\",\"2020-02-25T00:00:00\",\"2020-02-26T00:00:00\",\"2020-02-27T00:00:00\",\"2020-02-28T00:00:00\",\"2020-03-02T00:00:00\",\"2020-03-03T00:00:00\",\"2020-03-04T00:00:00\",\"2020-03-05T00:00:00\",\"2020-03-06T00:00:00\",\"2020-03-09T00:00:00\",\"2020-03-10T00:00:00\",\"2020-03-11T00:00:00\",\"2020-03-12T00:00:00\",\"2020-03-13T00:00:00\",\"2020-03-16T00:00:00\",\"2020-03-17T00:00:00\",\"2020-03-18T00:00:00\",\"2020-03-19T00:00:00\",\"2020-03-20T00:00:00\",\"2020-03-23T00:00:00\",\"2020-03-24T00:00:00\",\"2020-03-25T00:00:00\",\"2020-03-26T00:00:00\",\"2020-03-27T00:00:00\",\"2020-03-30T00:00:00\",\"2020-03-31T00:00:00\",\"2020-04-01T00:00:00\",\"2020-04-02T00:00:00\",\"2020-04-03T00:00:00\",\"2020-04-06T00:00:00\",\"2020-04-07T00:00:00\",\"2020-04-08T00:00:00\",\"2020-04-09T00:00:00\",\"2020-04-13T00:00:00\",\"2020-04-14T00:00:00\",\"2020-04-15T00:00:00\",\"2020-04-16T00:00:00\",\"2020-04-17T00:00:00\",\"2020-04-20T00:00:00\",\"2020-04-21T00:00:00\",\"2020-04-22T00:00:00\",\"2020-04-23T00:00:00\",\"2020-04-24T00:00:00\",\"2020-04-27T00:00:00\",\"2020-04-28T00:00:00\",\"2020-04-29T00:00:00\",\"2020-04-30T00:00:00\",\"2020-05-01T00:00:00\",\"2020-05-04T00:00:00\",\"2020-05-05T00:00:00\",\"2020-05-06T00:00:00\",\"2020-05-07T00:00:00\",\"2020-05-08T00:00:00\",\"2020-05-11T00:00:00\",\"2020-05-12T00:00:00\",\"2020-05-13T00:00:00\",\"2020-05-14T00:00:00\",\"2020-05-15T00:00:00\",\"2020-05-18T00:00:00\",\"2020-05-19T00:00:00\",\"2020-05-20T00:00:00\",\"2020-05-21T00:00:00\",\"2020-05-22T00:00:00\",\"2020-05-26T00:00:00\",\"2020-05-27T00:00:00\",\"2020-05-28T00:00:00\",\"2020-05-29T00:00:00\",\"2020-06-01T00:00:00\",\"2020-06-02T00:00:00\",\"2020-06-03T00:00:00\",\"2020-06-04T00:00:00\",\"2020-06-05T00:00:00\",\"2020-06-08T00:00:00\",\"2020-06-09T00:00:00\",\"2020-06-10T00:00:00\",\"2020-06-15T00:00:00\",\"2020-06-18T00:00:00\",\"2020-06-19T00:00:00\",\"2020-06-22T00:00:00\",\"2020-06-25T00:00:00\",\"2020-06-26T00:00:00\",\"2020-06-29T00:00:00\",\"2020-07-01T00:00:00\",\"2020-07-02T00:00:00\",\"2020-07-07T00:00:00\",\"2020-07-08T00:00:00\",\"2020-07-10T00:00:00\",\"2020-07-13T00:00:00\",\"2020-07-14T00:00:00\",\"2020-07-15T00:00:00\",\"2020-07-21T00:00:00\",\"2020-07-23T00:00:00\",\"2020-07-24T00:00:00\",\"2020-07-27T00:00:00\",\"2020-07-29T00:00:00\",\"2020-07-30T00:00:00\",\"2020-08-11T00:00:00\",\"2020-08-14T00:00:00\",\"2020-08-17T00:00:00\",\"2020-08-19T00:00:00\",\"2020-08-20T00:00:00\",\"2020-08-26T00:00:00\",\"2020-08-28T00:00:00\",\"2020-09-02T00:00:00\",\"2020-09-03T00:00:00\",\"2020-09-09T00:00:00\",\"2020-09-10T00:00:00\",\"2020-09-15T00:00:00\",\"2020-09-21T00:00:00\",\"2020-09-22T00:00:00\",\"2020-09-23T00:00:00\",\"2020-09-28T00:00:00\",\"2020-09-29T00:00:00\",\"2020-10-01T00:00:00\",\"2020-10-02T00:00:00\",\"2020-10-05T00:00:00\",\"2020-10-06T00:00:00\",\"2020-10-07T00:00:00\",\"2020-10-08T00:00:00\",\"2020-10-12T00:00:00\",\"2020-10-14T00:00:00\",\"2020-10-16T00:00:00\",\"2020-10-21T00:00:00\",\"2020-10-22T00:00:00\",\"2020-10-27T00:00:00\",\"2020-10-29T00:00:00\",\"2020-11-03T00:00:00\",\"2020-11-06T00:00:00\",\"2020-11-09T00:00:00\",\"2020-11-10T00:00:00\",\"2020-11-13T00:00:00\",\"2020-11-16T00:00:00\",\"2020-11-18T00:00:00\",\"2020-11-19T00:00:00\",\"2020-11-23T00:00:00\",\"2020-12-16T00:00:00\",\"2020-12-17T00:00:00\",\"2020-12-21T00:00:00\",\"2020-12-22T00:00:00\",\"2020-12-24T00:00:00\",\"2020-12-28T00:00:00\",\"2021-01-14T00:00:00\",\"2021-01-21T00:00:00\",\"2021-01-22T00:00:00\",\"2021-01-25T00:00:00\",\"2021-01-29T00:00:00\",\"2021-02-09T00:00:00\",\"2021-02-12T00:00:00\",\"2021-02-16T00:00:00\",\"2021-02-19T00:00:00\",\"2021-02-23T00:00:00\",\"2021-02-25T00:00:00\",\"2021-03-02T00:00:00\",\"2021-03-03T00:00:00\",\"2021-03-05T00:00:00\",\"2021-03-09T00:00:00\",\"2021-03-24T00:00:00\",\"2021-03-26T00:00:00\",\"2021-03-30T00:00:00\",\"2021-04-05T00:00:00\",\"2021-04-08T00:00:00\",\"2021-04-09T00:00:00\",\"2021-04-13T00:00:00\",\"2021-04-14T00:00:00\",\"2021-04-15T00:00:00\",\"2021-04-21T00:00:00\",\"2021-04-22T00:00:00\",\"2021-04-23T00:00:00\",\"2021-04-27T00:00:00\",\"2021-04-28T00:00:00\",\"2021-04-29T00:00:00\",\"2021-04-30T00:00:00\",\"2021-05-03T00:00:00\",\"2021-05-11T00:00:00\",\"2021-05-13T00:00:00\",\"2021-05-17T00:00:00\",\"2021-05-19T00:00:00\",\"2021-05-20T00:00:00\",\"2021-05-21T00:00:00\",\"2021-05-28T00:00:00\",\"2021-06-01T00:00:00\",\"2021-06-02T00:00:00\",\"2021-06-08T00:00:00\",\"2021-06-09T00:00:00\",\"2021-06-11T00:00:00\",\"2021-06-15T00:00:00\",\"2021-06-16T00:00:00\",\"2021-06-17T00:00:00\",\"2021-06-21T00:00:00\",\"2021-06-22T00:00:00\",\"2021-06-24T00:00:00\",\"2021-06-25T00:00:00\",\"2021-06-29T00:00:00\",\"2021-06-30T00:00:00\",\"2021-07-02T00:00:00\",\"2021-07-06T00:00:00\",\"2021-07-07T00:00:00\",\"2021-07-08T00:00:00\",\"2021-07-09T00:00:00\",\"2021-07-12T00:00:00\",\"2021-07-13T00:00:00\",\"2021-07-14T00:00:00\",\"2021-07-15T00:00:00\",\"2021-07-16T00:00:00\",\"2021-07-19T00:00:00\",\"2021-07-20T00:00:00\",\"2021-07-21T00:00:00\",\"2021-07-22T00:00:00\",\"2021-07-23T00:00:00\",\"2021-07-26T00:00:00\",\"2021-07-27T00:00:00\",\"2021-07-28T00:00:00\",\"2021-07-29T00:00:00\",\"2021-07-30T00:00:00\",\"2021-08-02T00:00:00\",\"2021-08-03T00:00:00\",\"2021-08-04T00:00:00\",\"2021-08-05T00:00:00\",\"2021-08-06T00:00:00\",\"2021-08-09T00:00:00\",\"2021-08-10T00:00:00\",\"2021-08-11T00:00:00\",\"2021-08-12T00:00:00\",\"2021-08-13T00:00:00\",\"2021-08-16T00:00:00\",\"2021-08-17T00:00:00\",\"2021-08-18T00:00:00\",\"2021-08-19T00:00:00\",\"2021-08-20T00:00:00\",\"2021-08-23T00:00:00\",\"2021-08-24T00:00:00\",\"2021-08-25T00:00:00\",\"2021-08-26T00:00:00\",\"2021-08-27T00:00:00\",\"2021-08-30T00:00:00\",\"2021-08-31T00:00:00\",\"2021-09-01T00:00:00\",\"2021-09-02T00:00:00\",\"2021-09-03T00:00:00\",\"2021-09-07T00:00:00\",\"2021-09-08T00:00:00\",\"2021-09-09T00:00:00\",\"2021-09-10T00:00:00\",\"2021-09-13T00:00:00\",\"2021-09-14T00:00:00\",\"2021-09-15T00:00:00\",\"2021-09-16T00:00:00\",\"2021-09-17T00:00:00\",\"2021-09-20T00:00:00\",\"2021-09-21T00:00:00\",\"2021-09-22T00:00:00\",\"2021-09-23T00:00:00\",\"2021-09-24T00:00:00\",\"2021-09-27T00:00:00\",\"2021-09-28T00:00:00\",\"2021-09-29T00:00:00\",\"2021-09-30T00:00:00\",\"2021-10-01T00:00:00\",\"2021-10-04T00:00:00\",\"2021-10-05T00:00:00\",\"2021-10-06T00:00:00\",\"2021-10-07T00:00:00\",\"2021-10-08T00:00:00\",\"2021-10-11T00:00:00\",\"2021-10-12T00:00:00\",\"2021-10-13T00:00:00\",\"2021-10-14T00:00:00\",\"2021-10-15T00:00:00\",\"2021-10-18T00:00:00\",\"2021-10-19T00:00:00\",\"2021-10-20T00:00:00\",\"2021-10-21T00:00:00\",\"2021-10-22T00:00:00\",\"2021-10-25T00:00:00\",\"2021-10-26T00:00:00\",\"2021-10-27T00:00:00\",\"2021-10-28T00:00:00\",\"2021-10-29T00:00:00\",\"2021-11-01T00:00:00\",\"2021-11-02T00:00:00\",\"2021-11-03T00:00:00\",\"2021-11-04T00:00:00\",\"2021-11-05T00:00:00\",\"2021-11-08T00:00:00\",\"2021-11-09T00:00:00\",\"2021-11-10T00:00:00\",\"2021-11-11T00:00:00\",\"2021-11-12T00:00:00\",\"2021-11-15T00:00:00\",\"2021-11-16T00:00:00\",\"2021-11-17T00:00:00\",\"2021-11-18T00:00:00\",\"2021-11-19T00:00:00\",\"2021-11-22T00:00:00\",\"2021-11-23T00:00:00\",\"2021-11-24T00:00:00\",\"2021-11-26T00:00:00\",\"2021-11-29T00:00:00\",\"2021-11-30T00:00:00\",\"2021-12-01T00:00:00\",\"2021-12-02T00:00:00\",\"2021-12-03T00:00:00\",\"2021-12-06T00:00:00\",\"2021-12-07T00:00:00\",\"2021-12-08T00:00:00\",\"2021-12-09T00:00:00\",\"2021-12-10T00:00:00\",\"2021-12-13T00:00:00\",\"2021-12-14T00:00:00\",\"2021-12-15T00:00:00\",\"2021-12-16T00:00:00\",\"2021-12-17T00:00:00\",\"2021-12-20T00:00:00\",\"2021-12-21T00:00:00\",\"2021-12-22T00:00:00\",\"2021-12-23T00:00:00\",\"2021-12-27T00:00:00\",\"2021-12-28T00:00:00\",\"2021-12-29T00:00:00\",\"2021-12-30T00:00:00\",\"2021-12-31T00:00:00\",\"2022-01-03T00:00:00\",\"2022-01-04T00:00:00\",\"2022-01-05T00:00:00\",\"2022-01-06T00:00:00\",\"2022-01-07T00:00:00\",\"2022-01-10T00:00:00\",\"2022-01-11T00:00:00\",\"2022-01-12T00:00:00\",\"2022-01-13T00:00:00\",\"2022-01-14T00:00:00\",\"2022-01-18T00:00:00\",\"2022-01-19T00:00:00\",\"2022-01-20T00:00:00\",\"2022-01-21T00:00:00\",\"2022-01-24T00:00:00\",\"2022-01-25T00:00:00\",\"2022-01-26T00:00:00\",\"2022-01-27T00:00:00\",\"2022-01-28T00:00:00\",\"2022-01-31T00:00:00\",\"2022-02-01T00:00:00\",\"2022-02-02T00:00:00\",\"2022-02-03T00:00:00\",\"2022-02-04T00:00:00\",\"2022-02-07T00:00:00\",\"2022-02-08T00:00:00\",\"2022-02-09T00:00:00\",\"2022-02-10T00:00:00\",\"2022-02-11T00:00:00\",\"2022-02-14T00:00:00\",\"2022-02-15T00:00:00\",\"2022-02-16T00:00:00\",\"2022-02-17T00:00:00\",\"2022-02-18T00:00:00\",\"2022-02-22T00:00:00\",\"2022-02-23T00:00:00\",\"2022-02-24T00:00:00\",\"2022-02-25T00:00:00\",\"2022-02-28T00:00:00\",\"2022-03-01T00:00:00\",\"2022-03-02T00:00:00\",\"2022-03-03T00:00:00\",\"2022-03-04T00:00:00\",\"2022-03-07T00:00:00\",\"2022-03-08T00:00:00\",\"2022-03-09T00:00:00\",\"2022-03-10T00:00:00\",\"2022-03-11T00:00:00\",\"2022-03-14T00:00:00\",\"2022-03-15T00:00:00\",\"2022-03-16T00:00:00\",\"2022-03-17T00:00:00\",\"2022-03-18T00:00:00\",\"2022-03-21T00:00:00\",\"2022-03-22T00:00:00\",\"2022-03-23T00:00:00\",\"2022-03-24T00:00:00\",\"2022-03-25T00:00:00\",\"2022-03-28T00:00:00\",\"2022-03-29T00:00:00\",\"2022-03-30T00:00:00\",\"2022-03-31T00:00:00\",\"2022-04-01T00:00:00\",\"2022-04-04T00:00:00\",\"2022-04-05T00:00:00\",\"2022-04-06T00:00:00\",\"2022-04-07T00:00:00\",\"2022-04-08T00:00:00\",\"2022-04-11T00:00:00\",\"2022-04-12T00:00:00\",\"2022-04-13T00:00:00\",\"2022-04-14T00:00:00\",\"2022-04-18T00:00:00\",\"2022-04-19T00:00:00\",\"2022-04-20T00:00:00\",\"2022-04-21T00:00:00\",\"2022-04-22T00:00:00\",\"2022-04-25T00:00:00\",\"2022-04-26T00:00:00\",\"2022-04-27T00:00:00\",\"2022-04-28T00:00:00\",\"2022-04-29T00:00:00\",\"2022-05-02T00:00:00\",\"2022-05-03T00:00:00\",\"2022-05-04T00:00:00\",\"2022-05-05T00:00:00\",\"2022-05-06T00:00:00\",\"2022-05-09T00:00:00\",\"2022-05-10T00:00:00\",\"2022-05-11T00:00:00\",\"2022-05-12T00:00:00\",\"2022-05-13T00:00:00\",\"2022-05-16T00:00:00\",\"2022-05-17T00:00:00\",\"2022-05-18T00:00:00\",\"2022-05-19T00:00:00\",\"2022-05-20T00:00:00\",\"2022-05-23T00:00:00\",\"2022-05-24T00:00:00\",\"2022-05-25T00:00:00\"],\"xaxis\":\"x\",\"y\":[67.03,67.97,69.5,65.09,62.97,62.78,51.25,57.87,60.15,60.72,58.22,58.7,59.71,56.6,60.08,61.5,61.54,60.66,56.27,57.55,55.55,55.68,55.53,55.7,56.66,57.44,57.17,60.1,63.23,63.8,68.94,69.34,70.77,71.08,73.03,71.61,70.31,66.02,67.21,69.0,72.01,62.75,64.91,63.16,64.29,63.12,60.37,59.35,61.45,58.45,59.6,68.77,73.82,71.69,67.98,64.17,63.83,64.14,63.68,56.96,55.89,56.29,57.75,58.01,56.1,60.71,60.0,60.38,54.05,62.79,58.79,54.93,52.9,51.05,51.51,52.2,51.81,53.14,56.48,53.86,53.48,52.14,52.77,63.44,61.65,67.49,66.51,67.65,68.75,69.7,69.8,68.47,71.27,70.4,65.0,69.2,69.4,68.37,72.0,73.98,73.88,75.0,67.52,65.41,62.7,60.0,63.97,64.62,67.56,61.4,61.2,64.34,67.1,66.88,69.24,64.6,60.96,58.58,60.2,61.08,61.37,62.47,60.68,60.88,58.44,60.36,61.39,59.62,56.4,55.3,55.77,55.38,56.7,57.3,56.78,58.49,56.7,54.52,54.52,52.89,53.75,56.52,57.46,52.38,53.97,55.54,54.33,54.04,53.15,53.8,52.03,52.77,49.3,47.17,48.77,51.36,49.39,48.4,47.95,45.86,44.39,39.97,37.42,37.75,37.02,37.1,36.22,44.59,42.08,42.25,43.1,45.02,44.6,43.24,44.65,44.06,44.2,46.04,45.78,47.88,46.91,46.25,45.79,46.83,47.63,47.95,49.6,49.86,51.13,51.01,51.14,51.75,51.34,51.83,46.7,45.38,45.42,46.58,48.6,46.27,45.92,46.38,45.3,46.89,47.21,46.6,46.24,44.17,43.33,44.84,45.52,44.4,44.56,43.99,42.72,42.74,43.8,45.83,44.82,45.38,44.5,45.44,46.0,46.16,47.48,49.54,49.39,49.2,48.49,49.0,49.2,49.3,48.0,48.3,44.91,46.13,48.44,48.6,48.3,48.66,46.37,46.32,45.96,48.26,49.06,49.58,51.54,51.48,52.5,52.14,51.67,50.86,50.9,59.67,59.54,65.51,64.0,62.6,63.26,62.96,63.92,63.6,65.83,66.9,68.79,69.38,71.0,69.22,70.58,70.35,72.0,70.9,68.03,68.86,67.05,66.22,66.22,66.52,67.55,66.57,67.0,67.32,67.99,70.38,70.98,72.21,72.51,75.8,76.13,79.46,82.06,82.36,83.67,85.58,87.0,85.76,81.0,84.9,88.1,88.09,92.28,94.74,99.42,96.36,98.7,108.85,105.95,98.75,101.52,106.05,114.38,112.85,114.13,108.4,113.7,115.14,126.48,134.74,176.59,164.65,139.98,146.11,160.0,153.76,155.57,148.37,157.44,168.32,184.7,182.39,181.4,167.8,169.8,156.5,146.0,125.94,142.25,161.0,152.79,144.75,138.0,121.08,131.89,128.04,116.18,119.0,93.9,88.0,77.8,74.94,87.64,86.72,95.46,109.05,109.48,101.0,102.05,100.25,100.8,96.21,101.9,102.24,109.0,110.84,112.42,118.03,139.79,148.4,143.39,154.46,146.54,146.02,140.8,145.52,142.16,147.52,159.13,158.03,171.04,151.0,140.2,157.96,155.3,155.44,158.75,158.1,165.4,164.17,156.0,158.07,165.56,163.03,164.1,163.2,164.43,166.9,164.17,162.7,161.75,171.6,178.94,177.62,177.98,175.57,183.8,188.0,198.38,183.56,200.6,202.56,199.99,190.85,198.96,193.8,216.6,244.3,281.0,281.0,279.2,331.8,311.2,308.6,327.99,335.79,283.2,287.0,300.2,297.6,279.2,333.0,335.4,373.0,372.14,412.0,459.02,478.99,407.23,356.6,386.21,436.56,453.13,429.6,405.16,424.62,416.0,440.76,421.39,423.35,423.79,419.87,438.44,442.0,449.78,454.44,422.7,441.92,423.76,409.96,409.73,436.1,439.5,420.09,410.85,408.93,448.35,492.0,503.5,628.23,628.19,666.24,648.0,642.99,674.51,843.39,855.0,834.31,855.0,830.0,855.12,801.26,818.0,795.0,662.13,726.15,718.28,687.99,626.06,608.18,667.91,641.87,601.75,707.71,677.38,677.77,712.7,770.7,743.1,704.77,741.5,719.8,717.96,696.41,699.51,667.59,703.8,599.24,601.54,575.55,552.55,575.0,596.11,628.5,627.8,620.13,623.01,602.17,610.23,616.69,597.54,601.89,624.48,618.25,674.99,689.58,684.65,679.77,678.98,681.71,664.27,628.37,653.18,662.2,686.32,670.75,658.39,654.68,629.89,651.99,659.61,656.44,646.36,650.97,663.4,647.0,649.79,671.76,700.0,719.0,711.0,716.0,711.9,710.17,713.99,712.71,706.34,723.71,705.07,672.66,669.75,678.21,682.85,685.44,710.68,707.03,708.31,705.0,714.72,733.0,734.08,734.5,732.25,740.0,761.58,753.41,759.6,740.21,742.57,745.0,752.83,757.15,734.56,734.79,743.53,755.0,745.89,773.12,787.2,779.8,781.0,778.4,796.5,784.8,776.2,785.46,796.21,787.65,800.93,810.47,815.49,823.74,851.79,877.53,865.35,856.0,895.5,950.53,1024.69,1039.66,1068.31,1081.86,1145.0,1159.36,1177.33,1234.41,1228.0,1149.79,1173.6,1010.41,1102.77,1047.5,1017.63,1003.31,1063.51,1106.55,1098.87,1162.33,1167.51,1080.39,1099.47,1100.99,1144.37,1160.7,1099.06,1084.79,1001.51,1044.2,1052.71,1060.64,1008.75,1001.09,945.0,953.21,994.5,914.77,910.7,916.87,965.66,1006.8,1073.67,1109.49,1098.64,1061.33,1073.44,1147.75,1189.55,1146.65,1077.0,1080.37,1000.0,1053.67,1078.85,1109.07,1019.88,1026.61,1041.71,1009.73,996.34,904.76,914.2,952.43,933.36,831.56,872.71,935.21,928.18,882.0,897.22,923.79,905.53,935.0,908.37,909.63,861.57,900.0,914.05,913.26,886.0,834.13,830.43,700.39,809.23,815.01,869.68,872.13,878.77,849.1,856.3,795.53,839.48,851.45,840.2,780.61,775.27,809.0,830.99,874.49,914.98,930.0,979.94,1009.73,1008.0,1065.1,1107.99,1091.17,1094.57,1081.15,1089.38,1136.3,1073.47,1052.39,1043.21,980.4,997.64,981.08,999.29,989.03,1005.06,1030.0,1074.73,1014.91,978.97,995.43,898.58,899.98,902.25,860.77,903.18,903.94,939.02,887.0,836.45,819.31,795.0,701.0,773.48,767.16,747.36,744.52,707.0,713.99,655.02,653.53,623.85],\"yaxis\":\"y\",\"type\":\"scattergl\"},{\"hovertemplate\":\"variable=Close<br>Date=%{x}<br>Stock value=%{y}<extra></extra>\",\"legendgroup\":\"Close\",\"line\":{\"color\":\"#EF553B\",\"dash\":\"solid\"},\"marker\":{\"symbol\":\"circle\"},\"mode\":\"lines\",\"name\":\"Stock Close Price\",\"showlegend\":true,\"x\":[\"2018-01-09T00:00:00\",\"2018-01-29T00:00:00\",\"2018-01-31T00:00:00\",\"2018-03-07T00:00:00\",\"2018-03-20T00:00:00\",\"2018-03-22T00:00:00\",\"2018-04-02T00:00:00\",\"2018-04-05T00:00:00\",\"2018-04-11T00:00:00\",\"2018-04-13T00:00:00\",\"2018-04-18T00:00:00\",\"2018-05-01T00:00:00\",\"2018-05-02T00:00:00\",\"2018-05-04T00:00:00\",\"2018-05-09T00:00:00\",\"2018-05-10T00:00:00\",\"2018-05-11T00:00:00\",\"2018-05-14T00:00:00\",\"2018-05-21T00:00:00\",\"2018-05-22T00:00:00\",\"2018-05-23T00:00:00\",\"2018-05-24T00:00:00\",\"2018-05-25T00:00:00\",\"2018-05-29T00:00:00\",\"2018-05-30T00:00:00\",\"2018-05-31T00:00:00\",\"2018-06-01T00:00:00\",\"2018-06-06T00:00:00\",\"2018-06-07T00:00:00\",\"2018-06-08T00:00:00\",\"2018-06-12T00:00:00\",\"2018-06-13T00:00:00\",\"2018-06-15T00:00:00\",\"2018-06-18T00:00:00\",\"2018-06-19T00:00:00\",\"2018-06-20T00:00:00\",\"2018-06-22T00:00:00\",\"2018-06-25T00:00:00\",\"2018-06-26T00:00:00\",\"2018-06-27T00:00:00\",\"2018-07-02T00:00:00\",\"2018-07-05T00:00:00\",\"2018-07-10T00:00:00\",\"2018-07-11T00:00:00\",\"2018-07-12T00:00:00\",\"2018-07-13T00:00:00\",\"2018-07-23T00:00:00\",\"2018-07-25T00:00:00\",\"2018-07-27T00:00:00\",\"2018-07-31T00:00:00\",\"2018-08-01T00:00:00\",\"2018-08-07T00:00:00\",\"2018-08-08T00:00:00\",\"2018-08-14T00:00:00\",\"2018-08-16T00:00:00\",\"2018-08-22T00:00:00\",\"2018-08-23T00:00:00\",\"2018-08-24T00:00:00\",\"2018-08-28T00:00:00\",\"2018-09-06T00:00:00\",\"2018-09-11T00:00:00\",\"2018-09-12T00:00:00\",\"2018-09-14T00:00:00\",\"2018-09-17T00:00:00\",\"2018-09-19T00:00:00\",\"2018-09-20T00:00:00\",\"2018-09-25T00:00:00\",\"2018-09-26T00:00:00\",\"2018-09-28T00:00:00\",\"2018-10-02T00:00:00\",\"2018-10-04T00:00:00\",\"2018-10-05T00:00:00\",\"2018-10-08T00:00:00\",\"2018-10-09T00:00:00\",\"2018-10-11T00:00:00\",\"2018-10-12T00:00:00\",\"2018-10-15T00:00:00\",\"2018-10-16T00:00:00\",\"2018-10-17T00:00:00\",\"2018-10-18T00:00:00\",\"2018-10-19T00:00:00\",\"2018-10-22T00:00:00\",\"2018-10-23T00:00:00\",\"2018-10-25T00:00:00\",\"2018-10-26T00:00:00\",\"2018-10-29T00:00:00\",\"2018-10-31T00:00:00\",\"2018-11-01T00:00:00\",\"2018-11-02T00:00:00\",\"2018-11-08T00:00:00\",\"2018-11-09T00:00:00\",\"2018-11-15T00:00:00\",\"2018-11-19T00:00:00\",\"2018-11-21T00:00:00\",\"2018-11-26T00:00:00\",\"2018-11-28T00:00:00\",\"2018-11-29T00:00:00\",\"2018-11-30T00:00:00\",\"2018-12-03T00:00:00\",\"2018-12-11T00:00:00\",\"2018-12-12T00:00:00\",\"2018-12-14T00:00:00\",\"2018-12-19T00:00:00\",\"2018-12-20T00:00:00\",\"2018-12-24T00:00:00\",\"2018-12-26T00:00:00\",\"2018-12-27T00:00:00\",\"2018-12-28T00:00:00\",\"2018-12-31T00:00:00\",\"2019-01-03T00:00:00\",\"2019-01-04T00:00:00\",\"2019-01-07T00:00:00\",\"2019-01-09T00:00:00\",\"2019-01-10T00:00:00\",\"2019-01-17T00:00:00\",\"2019-01-18T00:00:00\",\"2019-01-22T00:00:00\",\"2019-01-28T00:00:00\",\"2019-01-31T00:00:00\",\"2019-02-01T00:00:00\",\"2019-02-08T00:00:00\",\"2019-02-13T00:00:00\",\"2019-02-14T00:00:00\",\"2019-02-20T00:00:00\",\"2019-02-26T00:00:00\",\"2019-02-27T00:00:00\",\"2019-03-01T00:00:00\",\"2019-03-04T00:00:00\",\"2019-03-05T00:00:00\",\"2019-03-06T00:00:00\",\"2019-03-07T00:00:00\",\"2019-03-08T00:00:00\",\"2019-03-11T00:00:00\",\"2019-03-12T00:00:00\",\"2019-03-13T00:00:00\",\"2019-03-14T00:00:00\",\"2019-03-15T00:00:00\",\"2019-03-21T00:00:00\",\"2019-03-22T00:00:00\",\"2019-03-26T00:00:00\",\"2019-03-27T00:00:00\",\"2019-04-01T00:00:00\",\"2019-04-03T00:00:00\",\"2019-04-04T00:00:00\",\"2019-04-05T00:00:00\",\"2019-04-08T00:00:00\",\"2019-04-09T00:00:00\",\"2019-04-12T00:00:00\",\"2019-04-16T00:00:00\",\"2019-04-22T00:00:00\",\"2019-04-23T00:00:00\",\"2019-04-24T00:00:00\",\"2019-04-26T00:00:00\",\"2019-04-29T00:00:00\",\"2019-05-03T00:00:00\",\"2019-05-07T00:00:00\",\"2019-05-08T00:00:00\",\"2019-05-09T00:00:00\",\"2019-05-10T00:00:00\",\"2019-05-14T00:00:00\",\"2019-05-17T00:00:00\",\"2019-05-24T00:00:00\",\"2019-05-29T00:00:00\",\"2019-05-30T00:00:00\",\"2019-05-31T00:00:00\",\"2019-06-03T00:00:00\",\"2019-06-04T00:00:00\",\"2019-06-12T00:00:00\",\"2019-06-13T00:00:00\",\"2019-06-14T00:00:00\",\"2019-06-17T00:00:00\",\"2019-06-19T00:00:00\",\"2019-06-20T00:00:00\",\"2019-06-21T00:00:00\",\"2019-06-24T00:00:00\",\"2019-06-26T00:00:00\",\"2019-06-28T00:00:00\",\"2019-07-01T00:00:00\",\"2019-07-02T00:00:00\",\"2019-07-03T00:00:00\",\"2019-07-05T00:00:00\",\"2019-07-08T00:00:00\",\"2019-07-09T00:00:00\",\"2019-07-10T00:00:00\",\"2019-07-11T00:00:00\",\"2019-07-12T00:00:00\",\"2019-07-15T00:00:00\",\"2019-07-16T00:00:00\",\"2019-07-17T00:00:00\",\"2019-07-18T00:00:00\",\"2019-07-19T00:00:00\",\"2019-07-22T00:00:00\",\"2019-07-23T00:00:00\",\"2019-07-24T00:00:00\",\"2019-07-25T00:00:00\",\"2019-07-26T00:00:00\",\"2019-07-29T00:00:00\",\"2019-07-30T00:00:00\",\"2019-07-31T00:00:00\",\"2019-08-02T00:00:00\",\"2019-08-05T00:00:00\",\"2019-08-06T00:00:00\",\"2019-08-07T00:00:00\",\"2019-08-08T00:00:00\",\"2019-08-09T00:00:00\",\"2019-08-12T00:00:00\",\"2019-08-14T00:00:00\",\"2019-08-15T00:00:00\",\"2019-08-16T00:00:00\",\"2019-08-19T00:00:00\",\"2019-08-20T00:00:00\",\"2019-08-21T00:00:00\",\"2019-08-22T00:00:00\",\"2019-08-23T00:00:00\",\"2019-08-26T00:00:00\",\"2019-08-28T00:00:00\",\"2019-08-29T00:00:00\",\"2019-08-30T00:00:00\",\"2019-09-03T00:00:00\",\"2019-09-04T00:00:00\",\"2019-09-05T00:00:00\",\"2019-09-06T00:00:00\",\"2019-09-09T00:00:00\",\"2019-09-10T00:00:00\",\"2019-09-11T00:00:00\",\"2019-09-12T00:00:00\",\"2019-09-13T00:00:00\",\"2019-09-16T00:00:00\",\"2019-09-17T00:00:00\",\"2019-09-18T00:00:00\",\"2019-09-19T00:00:00\",\"2019-09-20T00:00:00\",\"2019-09-23T00:00:00\",\"2019-09-24T00:00:00\",\"2019-09-25T00:00:00\",\"2019-09-26T00:00:00\",\"2019-09-27T00:00:00\",\"2019-09-30T00:00:00\",\"2019-10-01T00:00:00\",\"2019-10-02T00:00:00\",\"2019-10-03T00:00:00\",\"2019-10-04T00:00:00\",\"2019-10-07T00:00:00\",\"2019-10-09T00:00:00\",\"2019-10-10T00:00:00\",\"2019-10-14T00:00:00\",\"2019-10-15T00:00:00\",\"2019-10-16T00:00:00\",\"2019-10-17T00:00:00\",\"2019-10-18T00:00:00\",\"2019-10-21T00:00:00\",\"2019-10-22T00:00:00\",\"2019-10-23T00:00:00\",\"2019-10-24T00:00:00\",\"2019-10-25T00:00:00\",\"2019-10-28T00:00:00\",\"2019-10-29T00:00:00\",\"2019-10-30T00:00:00\",\"2019-11-01T00:00:00\",\"2019-11-04T00:00:00\",\"2019-11-05T00:00:00\",\"2019-11-06T00:00:00\",\"2019-11-07T00:00:00\",\"2019-11-08T00:00:00\",\"2019-11-11T00:00:00\",\"2019-11-12T00:00:00\",\"2019-11-13T00:00:00\",\"2019-11-14T00:00:00\",\"2019-11-18T00:00:00\",\"2019-11-19T00:00:00\",\"2019-11-20T00:00:00\",\"2019-11-21T00:00:00\",\"2019-11-22T00:00:00\",\"2019-11-25T00:00:00\",\"2019-11-26T00:00:00\",\"2019-11-27T00:00:00\",\"2019-11-29T00:00:00\",\"2019-12-03T00:00:00\",\"2019-12-04T00:00:00\",\"2019-12-05T00:00:00\",\"2019-12-06T00:00:00\",\"2019-12-09T00:00:00\",\"2019-12-10T00:00:00\",\"2019-12-11T00:00:00\",\"2019-12-12T00:00:00\",\"2019-12-13T00:00:00\",\"2019-12-16T00:00:00\",\"2019-12-17T00:00:00\",\"2019-12-18T00:00:00\",\"2019-12-19T00:00:00\",\"2019-12-20T00:00:00\",\"2019-12-23T00:00:00\",\"2019-12-24T00:00:00\",\"2019-12-26T00:00:00\",\"2019-12-27T00:00:00\",\"2019-12-30T00:00:00\",\"2019-12-31T00:00:00\",\"2020-01-02T00:00:00\",\"2020-01-03T00:00:00\",\"2020-01-06T00:00:00\",\"2020-01-07T00:00:00\",\"2020-01-08T00:00:00\",\"2020-01-09T00:00:00\",\"2020-01-10T00:00:00\",\"2020-01-13T00:00:00\",\"2020-01-14T00:00:00\",\"2020-01-15T00:00:00\",\"2020-01-16T00:00:00\",\"2020-01-17T00:00:00\",\"2020-01-21T00:00:00\",\"2020-01-22T00:00:00\",\"2020-01-23T00:00:00\",\"2020-01-24T00:00:00\",\"2020-01-27T00:00:00\",\"2020-01-28T00:00:00\",\"2020-01-29T00:00:00\",\"2020-01-30T00:00:00\",\"2020-02-03T00:00:00\",\"2020-02-04T00:00:00\",\"2020-02-05T00:00:00\",\"2020-02-06T00:00:00\",\"2020-02-07T00:00:00\",\"2020-02-10T00:00:00\",\"2020-02-11T00:00:00\",\"2020-02-12T00:00:00\",\"2020-02-13T00:00:00\",\"2020-02-14T00:00:00\",\"2020-02-18T00:00:00\",\"2020-02-19T00:00:00\",\"2020-02-20T00:00:00\",\"2020-02-21T00:00:00\",\"2020-02-24T00:00:00\",\"2020-02-25T00:00:00\",\"2020-02-26T00:00:00\",\"2020-02-27T00:00:00\",\"2020-02-28T00:00:00\",\"2020-03-02T00:00:00\",\"2020-03-03T00:00:00\",\"2020-03-04T00:00:00\",\"2020-03-05T00:00:00\",\"2020-03-06T00:00:00\",\"2020-03-09T00:00:00\",\"2020-03-10T00:00:00\",\"2020-03-11T00:00:00\",\"2020-03-12T00:00:00\",\"2020-03-13T00:00:00\",\"2020-03-16T00:00:00\",\"2020-03-17T00:00:00\",\"2020-03-18T00:00:00\",\"2020-03-19T00:00:00\",\"2020-03-20T00:00:00\",\"2020-03-23T00:00:00\",\"2020-03-24T00:00:00\",\"2020-03-25T00:00:00\",\"2020-03-26T00:00:00\",\"2020-03-27T00:00:00\",\"2020-03-30T00:00:00\",\"2020-03-31T00:00:00\",\"2020-04-01T00:00:00\",\"2020-04-02T00:00:00\",\"2020-04-03T00:00:00\",\"2020-04-06T00:00:00\",\"2020-04-07T00:00:00\",\"2020-04-08T00:00:00\",\"2020-04-09T00:00:00\",\"2020-04-13T00:00:00\",\"2020-04-14T00:00:00\",\"2020-04-15T00:00:00\",\"2020-04-16T00:00:00\",\"2020-04-17T00:00:00\",\"2020-04-20T00:00:00\",\"2020-04-21T00:00:00\",\"2020-04-22T00:00:00\",\"2020-04-23T00:00:00\",\"2020-04-24T00:00:00\",\"2020-04-27T00:00:00\",\"2020-04-28T00:00:00\",\"2020-04-29T00:00:00\",\"2020-04-30T00:00:00\",\"2020-05-01T00:00:00\",\"2020-05-04T00:00:00\",\"2020-05-05T00:00:00\",\"2020-05-06T00:00:00\",\"2020-05-07T00:00:00\",\"2020-05-08T00:00:00\",\"2020-05-11T00:00:00\",\"2020-05-12T00:00:00\",\"2020-05-13T00:00:00\",\"2020-05-14T00:00:00\",\"2020-05-15T00:00:00\",\"2020-05-18T00:00:00\",\"2020-05-19T00:00:00\",\"2020-05-20T00:00:00\",\"2020-05-21T00:00:00\",\"2020-05-22T00:00:00\",\"2020-05-26T00:00:00\",\"2020-05-27T00:00:00\",\"2020-05-28T00:00:00\",\"2020-05-29T00:00:00\",\"2020-06-01T00:00:00\",\"2020-06-02T00:00:00\",\"2020-06-03T00:00:00\",\"2020-06-04T00:00:00\",\"2020-06-05T00:00:00\",\"2020-06-08T00:00:00\",\"2020-06-09T00:00:00\",\"2020-06-10T00:00:00\",\"2020-06-15T00:00:00\",\"2020-06-18T00:00:00\",\"2020-06-19T00:00:00\",\"2020-06-22T00:00:00\",\"2020-06-25T00:00:00\",\"2020-06-26T00:00:00\",\"2020-06-29T00:00:00\",\"2020-07-01T00:00:00\",\"2020-07-02T00:00:00\",\"2020-07-07T00:00:00\",\"2020-07-08T00:00:00\",\"2020-07-10T00:00:00\",\"2020-07-13T00:00:00\",\"2020-07-14T00:00:00\",\"2020-07-15T00:00:00\",\"2020-07-21T00:00:00\",\"2020-07-23T00:00:00\",\"2020-07-24T00:00:00\",\"2020-07-27T00:00:00\",\"2020-07-29T00:00:00\",\"2020-07-30T00:00:00\",\"2020-08-11T00:00:00\",\"2020-08-14T00:00:00\",\"2020-08-17T00:00:00\",\"2020-08-19T00:00:00\",\"2020-08-20T00:00:00\",\"2020-08-26T00:00:00\",\"2020-08-28T00:00:00\",\"2020-09-02T00:00:00\",\"2020-09-03T00:00:00\",\"2020-09-09T00:00:00\",\"2020-09-10T00:00:00\",\"2020-09-15T00:00:00\",\"2020-09-21T00:00:00\",\"2020-09-22T00:00:00\",\"2020-09-23T00:00:00\",\"2020-09-28T00:00:00\",\"2020-09-29T00:00:00\",\"2020-10-01T00:00:00\",\"2020-10-02T00:00:00\",\"2020-10-05T00:00:00\",\"2020-10-06T00:00:00\",\"2020-10-07T00:00:00\",\"2020-10-08T00:00:00\",\"2020-10-12T00:00:00\",\"2020-10-14T00:00:00\",\"2020-10-16T00:00:00\",\"2020-10-21T00:00:00\",\"2020-10-22T00:00:00\",\"2020-10-27T00:00:00\",\"2020-10-29T00:00:00\",\"2020-11-03T00:00:00\",\"2020-11-06T00:00:00\",\"2020-11-09T00:00:00\",\"2020-11-10T00:00:00\",\"2020-11-13T00:00:00\",\"2020-11-16T00:00:00\",\"2020-11-18T00:00:00\",\"2020-11-19T00:00:00\",\"2020-11-23T00:00:00\",\"2020-12-16T00:00:00\",\"2020-12-17T00:00:00\",\"2020-12-21T00:00:00\",\"2020-12-22T00:00:00\",\"2020-12-24T00:00:00\",\"2020-12-28T00:00:00\",\"2021-01-14T00:00:00\",\"2021-01-21T00:00:00\",\"2021-01-22T00:00:00\",\"2021-01-25T00:00:00\",\"2021-01-29T00:00:00\",\"2021-02-09T00:00:00\",\"2021-02-12T00:00:00\",\"2021-02-16T00:00:00\",\"2021-02-19T00:00:00\",\"2021-02-23T00:00:00\",\"2021-02-25T00:00:00\",\"2021-03-02T00:00:00\",\"2021-03-03T00:00:00\",\"2021-03-05T00:00:00\",\"2021-03-09T00:00:00\",\"2021-03-24T00:00:00\",\"2021-03-26T00:00:00\",\"2021-03-30T00:00:00\",\"2021-04-05T00:00:00\",\"2021-04-08T00:00:00\",\"2021-04-09T00:00:00\",\"2021-04-13T00:00:00\",\"2021-04-14T00:00:00\",\"2021-04-15T00:00:00\",\"2021-04-21T00:00:00\",\"2021-04-22T00:00:00\",\"2021-04-23T00:00:00\",\"2021-04-27T00:00:00\",\"2021-04-28T00:00:00\",\"2021-04-29T00:00:00\",\"2021-04-30T00:00:00\",\"2021-05-03T00:00:00\",\"2021-05-11T00:00:00\",\"2021-05-13T00:00:00\",\"2021-05-17T00:00:00\",\"2021-05-19T00:00:00\",\"2021-05-20T00:00:00\",\"2021-05-21T00:00:00\",\"2021-05-28T00:00:00\",\"2021-06-01T00:00:00\",\"2021-06-02T00:00:00\",\"2021-06-08T00:00:00\",\"2021-06-09T00:00:00\",\"2021-06-11T00:00:00\",\"2021-06-15T00:00:00\",\"2021-06-16T00:00:00\",\"2021-06-17T00:00:00\",\"2021-06-21T00:00:00\",\"2021-06-22T00:00:00\",\"2021-06-24T00:00:00\",\"2021-06-25T00:00:00\",\"2021-06-29T00:00:00\",\"2021-06-30T00:00:00\",\"2021-07-02T00:00:00\",\"2021-07-06T00:00:00\",\"2021-07-07T00:00:00\",\"2021-07-08T00:00:00\",\"2021-07-09T00:00:00\",\"2021-07-12T00:00:00\",\"2021-07-13T00:00:00\",\"2021-07-14T00:00:00\",\"2021-07-15T00:00:00\",\"2021-07-16T00:00:00\",\"2021-07-19T00:00:00\",\"2021-07-20T00:00:00\",\"2021-07-21T00:00:00\",\"2021-07-22T00:00:00\",\"2021-07-23T00:00:00\",\"2021-07-26T00:00:00\",\"2021-07-27T00:00:00\",\"2021-07-28T00:00:00\",\"2021-07-29T00:00:00\",\"2021-07-30T00:00:00\",\"2021-08-02T00:00:00\",\"2021-08-03T00:00:00\",\"2021-08-04T00:00:00\",\"2021-08-05T00:00:00\",\"2021-08-06T00:00:00\",\"2021-08-09T00:00:00\",\"2021-08-10T00:00:00\",\"2021-08-11T00:00:00\",\"2021-08-12T00:00:00\",\"2021-08-13T00:00:00\",\"2021-08-16T00:00:00\",\"2021-08-17T00:00:00\",\"2021-08-18T00:00:00\",\"2021-08-19T00:00:00\",\"2021-08-20T00:00:00\",\"2021-08-23T00:00:00\",\"2021-08-24T00:00:00\",\"2021-08-25T00:00:00\",\"2021-08-26T00:00:00\",\"2021-08-27T00:00:00\",\"2021-08-30T00:00:00\",\"2021-08-31T00:00:00\",\"2021-09-01T00:00:00\",\"2021-09-02T00:00:00\",\"2021-09-03T00:00:00\",\"2021-09-07T00:00:00\",\"2021-09-08T00:00:00\",\"2021-09-09T00:00:00\",\"2021-09-10T00:00:00\",\"2021-09-13T00:00:00\",\"2021-09-14T00:00:00\",\"2021-09-15T00:00:00\",\"2021-09-16T00:00:00\",\"2021-09-17T00:00:00\",\"2021-09-20T00:00:00\",\"2021-09-21T00:00:00\",\"2021-09-22T00:00:00\",\"2021-09-23T00:00:00\",\"2021-09-24T00:00:00\",\"2021-09-27T00:00:00\",\"2021-09-28T00:00:00\",\"2021-09-29T00:00:00\",\"2021-09-30T00:00:00\",\"2021-10-01T00:00:00\",\"2021-10-04T00:00:00\",\"2021-10-05T00:00:00\",\"2021-10-06T00:00:00\",\"2021-10-07T00:00:00\",\"2021-10-08T00:00:00\",\"2021-10-11T00:00:00\",\"2021-10-12T00:00:00\",\"2021-10-13T00:00:00\",\"2021-10-14T00:00:00\",\"2021-10-15T00:00:00\",\"2021-10-18T00:00:00\",\"2021-10-19T00:00:00\",\"2021-10-20T00:00:00\",\"2021-10-21T00:00:00\",\"2021-10-22T00:00:00\",\"2021-10-25T00:00:00\",\"2021-10-26T00:00:00\",\"2021-10-27T00:00:00\",\"2021-10-28T00:00:00\",\"2021-10-29T00:00:00\",\"2021-11-01T00:00:00\",\"2021-11-02T00:00:00\",\"2021-11-03T00:00:00\",\"2021-11-04T00:00:00\",\"2021-11-05T00:00:00\",\"2021-11-08T00:00:00\",\"2021-11-09T00:00:00\",\"2021-11-10T00:00:00\",\"2021-11-11T00:00:00\",\"2021-11-12T00:00:00\",\"2021-11-15T00:00:00\",\"2021-11-16T00:00:00\",\"2021-11-17T00:00:00\",\"2021-11-18T00:00:00\",\"2021-11-19T00:00:00\",\"2021-11-22T00:00:00\",\"2021-11-23T00:00:00\",\"2021-11-24T00:00:00\",\"2021-11-26T00:00:00\",\"2021-11-29T00:00:00\",\"2021-11-30T00:00:00\",\"2021-12-01T00:00:00\",\"2021-12-02T00:00:00\",\"2021-12-03T00:00:00\",\"2021-12-06T00:00:00\",\"2021-12-07T00:00:00\",\"2021-12-08T00:00:00\",\"2021-12-09T00:00:00\",\"2021-12-10T00:00:00\",\"2021-12-13T00:00:00\",\"2021-12-14T00:00:00\",\"2021-12-15T00:00:00\",\"2021-12-16T00:00:00\",\"2021-12-17T00:00:00\",\"2021-12-20T00:00:00\",\"2021-12-21T00:00:00\",\"2021-12-22T00:00:00\",\"2021-12-23T00:00:00\",\"2021-12-27T00:00:00\",\"2021-12-28T00:00:00\",\"2021-12-29T00:00:00\",\"2021-12-30T00:00:00\",\"2021-12-31T00:00:00\",\"2022-01-03T00:00:00\",\"2022-01-04T00:00:00\",\"2022-01-05T00:00:00\",\"2022-01-06T00:00:00\",\"2022-01-07T00:00:00\",\"2022-01-10T00:00:00\",\"2022-01-11T00:00:00\",\"2022-01-12T00:00:00\",\"2022-01-13T00:00:00\",\"2022-01-14T00:00:00\",\"2022-01-18T00:00:00\",\"2022-01-19T00:00:00\",\"2022-01-20T00:00:00\",\"2022-01-21T00:00:00\",\"2022-01-24T00:00:00\",\"2022-01-25T00:00:00\",\"2022-01-26T00:00:00\",\"2022-01-27T00:00:00\",\"2022-01-28T00:00:00\",\"2022-01-31T00:00:00\",\"2022-02-01T00:00:00\",\"2022-02-02T00:00:00\",\"2022-02-03T00:00:00\",\"2022-02-04T00:00:00\",\"2022-02-07T00:00:00\",\"2022-02-08T00:00:00\",\"2022-02-09T00:00:00\",\"2022-02-10T00:00:00\",\"2022-02-11T00:00:00\",\"2022-02-14T00:00:00\",\"2022-02-15T00:00:00\",\"2022-02-16T00:00:00\",\"2022-02-17T00:00:00\",\"2022-02-18T00:00:00\",\"2022-02-22T00:00:00\",\"2022-02-23T00:00:00\",\"2022-02-24T00:00:00\",\"2022-02-25T00:00:00\",\"2022-02-28T00:00:00\",\"2022-03-01T00:00:00\",\"2022-03-02T00:00:00\",\"2022-03-03T00:00:00\",\"2022-03-04T00:00:00\",\"2022-03-07T00:00:00\",\"2022-03-08T00:00:00\",\"2022-03-09T00:00:00\",\"2022-03-10T00:00:00\",\"2022-03-11T00:00:00\",\"2022-03-14T00:00:00\",\"2022-03-15T00:00:00\",\"2022-03-16T00:00:00\",\"2022-03-17T00:00:00\",\"2022-03-18T00:00:00\",\"2022-03-21T00:00:00\",\"2022-03-22T00:00:00\",\"2022-03-23T00:00:00\",\"2022-03-24T00:00:00\",\"2022-03-25T00:00:00\",\"2022-03-28T00:00:00\",\"2022-03-29T00:00:00\",\"2022-03-30T00:00:00\",\"2022-03-31T00:00:00\",\"2022-04-01T00:00:00\",\"2022-04-04T00:00:00\",\"2022-04-05T00:00:00\",\"2022-04-06T00:00:00\",\"2022-04-07T00:00:00\",\"2022-04-08T00:00:00\",\"2022-04-11T00:00:00\",\"2022-04-12T00:00:00\",\"2022-04-13T00:00:00\",\"2022-04-14T00:00:00\",\"2022-04-18T00:00:00\",\"2022-04-19T00:00:00\",\"2022-04-20T00:00:00\",\"2022-04-21T00:00:00\",\"2022-04-22T00:00:00\",\"2022-04-25T00:00:00\",\"2022-04-26T00:00:00\",\"2022-04-27T00:00:00\",\"2022-04-28T00:00:00\",\"2022-04-29T00:00:00\",\"2022-05-02T00:00:00\",\"2022-05-03T00:00:00\",\"2022-05-04T00:00:00\",\"2022-05-05T00:00:00\",\"2022-05-06T00:00:00\",\"2022-05-09T00:00:00\",\"2022-05-10T00:00:00\",\"2022-05-11T00:00:00\",\"2022-05-12T00:00:00\",\"2022-05-13T00:00:00\",\"2022-05-16T00:00:00\",\"2022-05-17T00:00:00\",\"2022-05-18T00:00:00\",\"2022-05-19T00:00:00\",\"2022-05-20T00:00:00\",\"2022-05-23T00:00:00\",\"2022-05-24T00:00:00\",\"2022-05-25T00:00:00\"],\"xaxis\":\"x\",\"y\":[66.74,69.91,70.86,66.46,62.11,61.82,50.5,61.14,60.19,60.07,58.67,59.98,60.23,58.82,61.37,61.0,60.21,58.39,56.9,55.0,55.81,55.57,55.77,56.75,58.34,56.95,58.36,63.9,63.22,63.53,68.55,68.96,71.63,74.17,70.51,72.44,66.73,66.6,68.4,68.9,67.01,61.83,64.49,63.79,63.34,63.77,60.64,61.75,59.44,59.63,60.17,75.91,74.07,69.53,67.09,64.33,64.02,64.56,62.37,56.19,55.89,58.11,59.04,58.97,59.8,59.67,60.2,61.92,52.95,60.2,56.37,52.39,50.11,52.56,50.45,51.76,51.92,55.32,54.36,52.78,52.0,52.19,58.83,62.97,66.18,66.97,67.46,68.86,69.28,70.28,70.1,69.69,70.69,67.64,69.2,69.57,68.23,70.1,71.7,73.35,73.32,73.14,66.59,63.08,59.08,65.22,63.23,66.77,66.56,60.07,63.54,66.99,67.71,68.99,69.46,60.45,59.78,59.28,61.4,62.44,61.16,61.63,60.75,60.51,59.57,62.95,58.96,57.07,55.31,55.25,55.32,56.83,58.18,56.67,57.79,57.99,55.09,54.8,52.91,53.55,54.97,57.84,58.36,53.56,54.99,54.64,54.46,53.54,54.67,52.55,52.78,51.73,47.03,48.29,51.01,49.41,48.97,48.4,47.9,46.46,42.21,38.13,37.97,37.64,37.03,35.79,38.72,41.85,42.78,42.98,45.01,45.29,43.92,44.37,44.73,43.85,44.69,45.43,44.91,46.98,46.62,46.07,46.01,47.78,47.72,49.02,50.7,50.48,50.97,50.71,51.64,51.14,52.03,52.98,45.76,45.61,47.15,48.45,48.32,46.87,45.66,46.15,46.68,47.66,47.0,45.8,43.92,43.13,43.99,45.37,45.17,44.17,44.43,42.28,43.0,43.12,44.34,45.12,45.0,44.14,45.92,45.49,46.36,47.11,49.42,49.17,49.04,48.56,48.96,48.7,49.32,48.12,48.25,44.64,45.74,48.51,48.43,48.17,48.94,48.63,46.61,46.29,47.54,48.91,48.95,51.39,51.58,51.95,52.39,51.39,50.7,51.12,50.94,59.94,65.63,65.54,63.24,63.0,62.66,63.49,63.44,65.32,67.11,67.43,69.02,69.99,69.22,69.87,70.0,71.9,70.44,70.97,66.61,67.27,65.78,66.26,65.99,67.24,66.61,66.07,67.18,67.91,69.77,70.54,71.94,71.68,76.3,75.8,78.63,80.81,81.12,83.84,85.05,86.19,86.08,82.94,83.67,86.05,88.6,90.31,93.81,98.43,96.27,95.63,104.97,107.58,103.7,102.7,102.1,109.44,113.91,114.44,112.96,111.6,113.38,116.2,128.16,156.0,177.41,146.94,149.79,149.61,154.26,154.88,153.46,160.8,160.01,171.68,183.48,179.88,180.2,166.76,159.98,155.76,135.8,133.6,148.72,149.1,149.9,144.91,140.7,121.6,129.07,126.85,112.11,109.32,89.01,86.04,72.24,85.53,85.51,86.86,101.0,107.85,105.63,102.87,100.43,104.8,96.31,90.89,96.0,103.25,109.09,109.77,114.6,130.19,141.98,145.97,149.04,150.78,149.27,137.34,146.42,141.13,145.03,159.75,153.82,160.1,156.38,140.26,152.24,153.64,156.52,156.01,163.88,162.26,161.88,158.19,160.67,159.83,162.73,161.6,163.11,165.52,163.38,163.77,164.05,161.16,167.0,179.62,176.31,176.59,172.88,177.13,189.98,188.13,205.01,198.18,200.79,200.18,198.86,197.2,191.95,201.87,223.93,241.73,277.97,273.18,308.93,299.41,303.36,309.2,313.67,302.61,283.4,307.92,299.82,297.5,274.88,330.14,367.13,375.71,400.37,430.63,442.68,447.37,407.0,366.28,371.34,449.76,449.39,424.23,380.36,421.2,419.07,448.16,415.09,425.68,413.98,425.3,425.92,442.3,461.3,439.67,422.64,425.79,424.68,410.83,423.9,429.95,421.26,410.36,408.5,408.09,486.64,499.27,521.85,622.77,655.9,649.86,640.34,661.77,663.69,845.0,844.99,846.64,880.8,793.53,849.46,816.12,796.22,781.3,698.84,682.22,686.44,653.2,597.95,673.58,630.27,618.71,635.62,691.05,683.8,677.02,762.32,732.23,738.85,744.12,719.69,729.4,704.74,694.4,677.0,709.44,684.9,617.2,571.69,576.83,563.46,586.78,580.88,625.22,623.9,605.12,603.59,598.78,609.89,599.36,604.87,616.6,620.83,623.71,679.82,671.87,680.76,679.7,678.9,659.58,644.65,652.81,656.95,685.7,668.54,653.38,650.6,644.22,646.22,660.5,655.29,649.26,643.38,657.62,644.78,646.98,677.35,687.2,709.67,709.74,710.92,714.63,699.1,713.76,709.99,707.82,722.25,717.17,686.17,665.71,688.99,673.47,680.26,706.3,708.49,711.2,701.16,711.92,730.91,735.72,734.09,732.39,733.57,752.92,753.87,754.86,736.27,743.0,744.49,755.83,756.99,759.49,730.17,739.38,751.94,753.64,774.39,791.36,777.56,781.31,775.48,775.22,781.53,780.59,782.75,793.61,785.49,791.94,805.72,811.08,818.32,843.03,870.11,864.27,865.8,894.0,909.68,1024.86,1018.43,1037.86,1077.04,1114.0,1208.59,1172.0,1213.86,1229.91,1222.09,1162.94,1023.5,1067.95,1063.51,1033.42,1013.39,1054.73,1089.01,1096.38,1137.06,1156.87,1109.03,1116.0,1081.92,1136.99,1144.76,1095.0,1084.6,1014.97,1009.01,1051.75,1068.96,1003.8,1017.03,966.41,958.51,975.99,926.92,932.57,899.94,938.53,1008.87,1067.0,1093.94,1088.47,1086.19,1070.34,1056.78,1199.78,1149.59,1088.12,1064.7,1026.96,1058.12,1064.4,1106.22,1031.56,1049.61,1030.51,995.65,996.27,943.9,930.0,918.4,937.41,829.1,846.35,936.72,931.25,905.66,891.14,923.32,907.34,922.0,932.0,904.55,860.0,875.76,922.43,923.39,876.35,856.98,821.53,764.04,800.77,809.87,870.43,864.37,879.89,839.29,838.29,804.58,824.4,858.97,838.3,795.35,766.37,801.89,840.23,871.6,905.39,921.16,993.98,999.11,1013.92,1010.64,1091.84,1099.57,1093.99,1077.6,1084.59,1145.45,1091.26,1045.76,1057.26,1025.49,975.93,986.95,1022.37,985.0,1004.29,1028.15,977.2,1008.78,1005.05,998.02,876.42,881.51,877.51,870.76,902.94,909.25,952.62,873.28,865.65,787.11,800.04,734.0,728.0,769.59,724.37,761.61,709.81,709.42,663.9,674.9,628.16,658.8],\"yaxis\":\"y\",\"type\":\"scattergl\"},{\"hovertemplate\":\"variable=High<br>Date=%{x}<br>Stock value=%{y}<extra></extra>\",\"legendgroup\":\"High\",\"line\":{\"color\":\"#00cc96\",\"dash\":\"solid\"},\"marker\":{\"symbol\":\"circle\"},\"mode\":\"lines\",\"name\":\"Stock High Price\",\"showlegend\":true,\"x\":[\"2018-01-09T00:00:00\",\"2018-01-29T00:00:00\",\"2018-01-31T00:00:00\",\"2018-03-07T00:00:00\",\"2018-03-20T00:00:00\",\"2018-03-22T00:00:00\",\"2018-04-02T00:00:00\",\"2018-04-05T00:00:00\",\"2018-04-11T00:00:00\",\"2018-04-13T00:00:00\",\"2018-04-18T00:00:00\",\"2018-05-01T00:00:00\",\"2018-05-02T00:00:00\",\"2018-05-04T00:00:00\",\"2018-05-09T00:00:00\",\"2018-05-10T00:00:00\",\"2018-05-11T00:00:00\",\"2018-05-14T00:00:00\",\"2018-05-21T00:00:00\",\"2018-05-22T00:00:00\",\"2018-05-23T00:00:00\",\"2018-05-24T00:00:00\",\"2018-05-25T00:00:00\",\"2018-05-29T00:00:00\",\"2018-05-30T00:00:00\",\"2018-05-31T00:00:00\",\"2018-06-01T00:00:00\",\"2018-06-06T00:00:00\",\"2018-06-07T00:00:00\",\"2018-06-08T00:00:00\",\"2018-06-12T00:00:00\",\"2018-06-13T00:00:00\",\"2018-06-15T00:00:00\",\"2018-06-18T00:00:00\",\"2018-06-19T00:00:00\",\"2018-06-20T00:00:00\",\"2018-06-22T00:00:00\",\"2018-06-25T00:00:00\",\"2018-06-26T00:00:00\",\"2018-06-27T00:00:00\",\"2018-07-02T00:00:00\",\"2018-07-05T00:00:00\",\"2018-07-10T00:00:00\",\"2018-07-11T00:00:00\",\"2018-07-12T00:00:00\",\"2018-07-13T00:00:00\",\"2018-07-23T00:00:00\",\"2018-07-25T00:00:00\",\"2018-07-27T00:00:00\",\"2018-07-31T00:00:00\",\"2018-08-01T00:00:00\",\"2018-08-07T00:00:00\",\"2018-08-08T00:00:00\",\"2018-08-14T00:00:00\",\"2018-08-16T00:00:00\",\"2018-08-22T00:00:00\",\"2018-08-23T00:00:00\",\"2018-08-24T00:00:00\",\"2018-08-28T00:00:00\",\"2018-09-06T00:00:00\",\"2018-09-11T00:00:00\",\"2018-09-12T00:00:00\",\"2018-09-14T00:00:00\",\"2018-09-17T00:00:00\",\"2018-09-19T00:00:00\",\"2018-09-20T00:00:00\",\"2018-09-25T00:00:00\",\"2018-09-26T00:00:00\",\"2018-09-28T00:00:00\",\"2018-10-02T00:00:00\",\"2018-10-04T00:00:00\",\"2018-10-05T00:00:00\",\"2018-10-08T00:00:00\",\"2018-10-09T00:00:00\",\"2018-10-11T00:00:00\",\"2018-10-12T00:00:00\",\"2018-10-15T00:00:00\",\"2018-10-16T00:00:00\",\"2018-10-17T00:00:00\",\"2018-10-18T00:00:00\",\"2018-10-19T00:00:00\",\"2018-10-22T00:00:00\",\"2018-10-23T00:00:00\",\"2018-10-25T00:00:00\",\"2018-10-26T00:00:00\",\"2018-10-29T00:00:00\",\"2018-10-31T00:00:00\",\"2018-11-01T00:00:00\",\"2018-11-02T00:00:00\",\"2018-11-08T00:00:00\",\"2018-11-09T00:00:00\",\"2018-11-15T00:00:00\",\"2018-11-19T00:00:00\",\"2018-11-21T00:00:00\",\"2018-11-26T00:00:00\",\"2018-11-28T00:00:00\",\"2018-11-29T00:00:00\",\"2018-11-30T00:00:00\",\"2018-12-03T00:00:00\",\"2018-12-11T00:00:00\",\"2018-12-12T00:00:00\",\"2018-12-14T00:00:00\",\"2018-12-19T00:00:00\",\"2018-12-20T00:00:00\",\"2018-12-24T00:00:00\",\"2018-12-26T00:00:00\",\"2018-12-27T00:00:00\",\"2018-12-28T00:00:00\",\"2018-12-31T00:00:00\",\"2019-01-03T00:00:00\",\"2019-01-04T00:00:00\",\"2019-01-07T00:00:00\",\"2019-01-09T00:00:00\",\"2019-01-10T00:00:00\",\"2019-01-17T00:00:00\",\"2019-01-18T00:00:00\",\"2019-01-22T00:00:00\",\"2019-01-28T00:00:00\",\"2019-01-31T00:00:00\",\"2019-02-01T00:00:00\",\"2019-02-08T00:00:00\",\"2019-02-13T00:00:00\",\"2019-02-14T00:00:00\",\"2019-02-20T00:00:00\",\"2019-02-26T00:00:00\",\"2019-02-27T00:00:00\",\"2019-03-01T00:00:00\",\"2019-03-04T00:00:00\",\"2019-03-05T00:00:00\",\"2019-03-06T00:00:00\",\"2019-03-07T00:00:00\",\"2019-03-08T00:00:00\",\"2019-03-11T00:00:00\",\"2019-03-12T00:00:00\",\"2019-03-13T00:00:00\",\"2019-03-14T00:00:00\",\"2019-03-15T00:00:00\",\"2019-03-21T00:00:00\",\"2019-03-22T00:00:00\",\"2019-03-26T00:00:00\",\"2019-03-27T00:00:00\",\"2019-04-01T00:00:00\",\"2019-04-03T00:00:00\",\"2019-04-04T00:00:00\",\"2019-04-05T00:00:00\",\"2019-04-08T00:00:00\",\"2019-04-09T00:00:00\",\"2019-04-12T00:00:00\",\"2019-04-16T00:00:00\",\"2019-04-22T00:00:00\",\"2019-04-23T00:00:00\",\"2019-04-24T00:00:00\",\"2019-04-26T00:00:00\",\"2019-04-29T00:00:00\",\"2019-05-03T00:00:00\",\"2019-05-07T00:00:00\",\"2019-05-08T00:00:00\",\"2019-05-09T00:00:00\",\"2019-05-10T00:00:00\",\"2019-05-14T00:00:00\",\"2019-05-17T00:00:00\",\"2019-05-24T00:00:00\",\"2019-05-29T00:00:00\",\"2019-05-30T00:00:00\",\"2019-05-31T00:00:00\",\"2019-06-03T00:00:00\",\"2019-06-04T00:00:00\",\"2019-06-12T00:00:00\",\"2019-06-13T00:00:00\",\"2019-06-14T00:00:00\",\"2019-06-17T00:00:00\",\"2019-06-19T00:00:00\",\"2019-06-20T00:00:00\",\"2019-06-21T00:00:00\",\"2019-06-24T00:00:00\",\"2019-06-26T00:00:00\",\"2019-06-28T00:00:00\",\"2019-07-01T00:00:00\",\"2019-07-02T00:00:00\",\"2019-07-03T00:00:00\",\"2019-07-05T00:00:00\",\"2019-07-08T00:00:00\",\"2019-07-09T00:00:00\",\"2019-07-10T00:00:00\",\"2019-07-11T00:00:00\",\"2019-07-12T00:00:00\",\"2019-07-15T00:00:00\",\"2019-07-16T00:00:00\",\"2019-07-17T00:00:00\",\"2019-07-18T00:00:00\",\"2019-07-19T00:00:00\",\"2019-07-22T00:00:00\",\"2019-07-23T00:00:00\",\"2019-07-24T00:00:00\",\"2019-07-25T00:00:00\",\"2019-07-26T00:00:00\",\"2019-07-29T00:00:00\",\"2019-07-30T00:00:00\",\"2019-07-31T00:00:00\",\"2019-08-02T00:00:00\",\"2019-08-05T00:00:00\",\"2019-08-06T00:00:00\",\"2019-08-07T00:00:00\",\"2019-08-08T00:00:00\",\"2019-08-09T00:00:00\",\"2019-08-12T00:00:00\",\"2019-08-14T00:00:00\",\"2019-08-15T00:00:00\",\"2019-08-16T00:00:00\",\"2019-08-19T00:00:00\",\"2019-08-20T00:00:00\",\"2019-08-21T00:00:00\",\"2019-08-22T00:00:00\",\"2019-08-23T00:00:00\",\"2019-08-26T00:00:00\",\"2019-08-28T00:00:00\",\"2019-08-29T00:00:00\",\"2019-08-30T00:00:00\",\"2019-09-03T00:00:00\",\"2019-09-04T00:00:00\",\"2019-09-05T00:00:00\",\"2019-09-06T00:00:00\",\"2019-09-09T00:00:00\",\"2019-09-10T00:00:00\",\"2019-09-11T00:00:00\",\"2019-09-12T00:00:00\",\"2019-09-13T00:00:00\",\"2019-09-16T00:00:00\",\"2019-09-17T00:00:00\",\"2019-09-18T00:00:00\",\"2019-09-19T00:00:00\",\"2019-09-20T00:00:00\",\"2019-09-23T00:00:00\",\"2019-09-24T00:00:00\",\"2019-09-25T00:00:00\",\"2019-09-26T00:00:00\",\"2019-09-27T00:00:00\",\"2019-09-30T00:00:00\",\"2019-10-01T00:00:00\",\"2019-10-02T00:00:00\",\"2019-10-03T00:00:00\",\"2019-10-04T00:00:00\",\"2019-10-07T00:00:00\",\"2019-10-09T00:00:00\",\"2019-10-10T00:00:00\",\"2019-10-14T00:00:00\",\"2019-10-15T00:00:00\",\"2019-10-16T00:00:00\",\"2019-10-17T00:00:00\",\"2019-10-18T00:00:00\",\"2019-10-21T00:00:00\",\"2019-10-22T00:00:00\",\"2019-10-23T00:00:00\",\"2019-10-24T00:00:00\",\"2019-10-25T00:00:00\",\"2019-10-28T00:00:00\",\"2019-10-29T00:00:00\",\"2019-10-30T00:00:00\",\"2019-11-01T00:00:00\",\"2019-11-04T00:00:00\",\"2019-11-05T00:00:00\",\"2019-11-06T00:00:00\",\"2019-11-07T00:00:00\",\"2019-11-08T00:00:00\",\"2019-11-11T00:00:00\",\"2019-11-12T00:00:00\",\"2019-11-13T00:00:00\",\"2019-11-14T00:00:00\",\"2019-11-18T00:00:00\",\"2019-11-19T00:00:00\",\"2019-11-20T00:00:00\",\"2019-11-21T00:00:00\",\"2019-11-22T00:00:00\",\"2019-11-25T00:00:00\",\"2019-11-26T00:00:00\",\"2019-11-27T00:00:00\",\"2019-11-29T00:00:00\",\"2019-12-03T00:00:00\",\"2019-12-04T00:00:00\",\"2019-12-05T00:00:00\",\"2019-12-06T00:00:00\",\"2019-12-09T00:00:00\",\"2019-12-10T00:00:00\",\"2019-12-11T00:00:00\",\"2019-12-12T00:00:00\",\"2019-12-13T00:00:00\",\"2019-12-16T00:00:00\",\"2019-12-17T00:00:00\",\"2019-12-18T00:00:00\",\"2019-12-19T00:00:00\",\"2019-12-20T00:00:00\",\"2019-12-23T00:00:00\",\"2019-12-24T00:00:00\",\"2019-12-26T00:00:00\",\"2019-12-27T00:00:00\",\"2019-12-30T00:00:00\",\"2019-12-31T00:00:00\",\"2020-01-02T00:00:00\",\"2020-01-03T00:00:00\",\"2020-01-06T00:00:00\",\"2020-01-07T00:00:00\",\"2020-01-08T00:00:00\",\"2020-01-09T00:00:00\",\"2020-01-10T00:00:00\",\"2020-01-13T00:00:00\",\"2020-01-14T00:00:00\",\"2020-01-15T00:00:00\",\"2020-01-16T00:00:00\",\"2020-01-17T00:00:00\",\"2020-01-21T00:00:00\",\"2020-01-22T00:00:00\",\"2020-01-23T00:00:00\",\"2020-01-24T00:00:00\",\"2020-01-27T00:00:00\",\"2020-01-28T00:00:00\",\"2020-01-29T00:00:00\",\"2020-01-30T00:00:00\",\"2020-02-03T00:00:00\",\"2020-02-04T00:00:00\",\"2020-02-05T00:00:00\",\"2020-02-06T00:00:00\",\"2020-02-07T00:00:00\",\"2020-02-10T00:00:00\",\"2020-02-11T00:00:00\",\"2020-02-12T00:00:00\",\"2020-02-13T00:00:00\",\"2020-02-14T00:00:00\",\"2020-02-18T00:00:00\",\"2020-02-19T00:00:00\",\"2020-02-20T00:00:00\",\"2020-02-21T00:00:00\",\"2020-02-24T00:00:00\",\"2020-02-25T00:00:00\",\"2020-02-26T00:00:00\",\"2020-02-27T00:00:00\",\"2020-02-28T00:00:00\",\"2020-03-02T00:00:00\",\"2020-03-03T00:00:00\",\"2020-03-04T00:00:00\",\"2020-03-05T00:00:00\",\"2020-03-06T00:00:00\",\"2020-03-09T00:00:00\",\"2020-03-10T00:00:00\",\"2020-03-11T00:00:00\",\"2020-03-12T00:00:00\",\"2020-03-13T00:00:00\",\"2020-03-16T00:00:00\",\"2020-03-17T00:00:00\",\"2020-03-18T00:00:00\",\"2020-03-19T00:00:00\",\"2020-03-20T00:00:00\",\"2020-03-23T00:00:00\",\"2020-03-24T00:00:00\",\"2020-03-25T00:00:00\",\"2020-03-26T00:00:00\",\"2020-03-27T00:00:00\",\"2020-03-30T00:00:00\",\"2020-03-31T00:00:00\",\"2020-04-01T00:00:00\",\"2020-04-02T00:00:00\",\"2020-04-03T00:00:00\",\"2020-04-06T00:00:00\",\"2020-04-07T00:00:00\",\"2020-04-08T00:00:00\",\"2020-04-09T00:00:00\",\"2020-04-13T00:00:00\",\"2020-04-14T00:00:00\",\"2020-04-15T00:00:00\",\"2020-04-16T00:00:00\",\"2020-04-17T00:00:00\",\"2020-04-20T00:00:00\",\"2020-04-21T00:00:00\",\"2020-04-22T00:00:00\",\"2020-04-23T00:00:00\",\"2020-04-24T00:00:00\",\"2020-04-27T00:00:00\",\"2020-04-28T00:00:00\",\"2020-04-29T00:00:00\",\"2020-04-30T00:00:00\",\"2020-05-01T00:00:00\",\"2020-05-04T00:00:00\",\"2020-05-05T00:00:00\",\"2020-05-06T00:00:00\",\"2020-05-07T00:00:00\",\"2020-05-08T00:00:00\",\"2020-05-11T00:00:00\",\"2020-05-12T00:00:00\",\"2020-05-13T00:00:00\",\"2020-05-14T00:00:00\",\"2020-05-15T00:00:00\",\"2020-05-18T00:00:00\",\"2020-05-19T00:00:00\",\"2020-05-20T00:00:00\",\"2020-05-21T00:00:00\",\"2020-05-22T00:00:00\",\"2020-05-26T00:00:00\",\"2020-05-27T00:00:00\",\"2020-05-28T00:00:00\",\"2020-05-29T00:00:00\",\"2020-06-01T00:00:00\",\"2020-06-02T00:00:00\",\"2020-06-03T00:00:00\",\"2020-06-04T00:00:00\",\"2020-06-05T00:00:00\",\"2020-06-08T00:00:00\",\"2020-06-09T00:00:00\",\"2020-06-10T00:00:00\",\"2020-06-15T00:00:00\",\"2020-06-18T00:00:00\",\"2020-06-19T00:00:00\",\"2020-06-22T00:00:00\",\"2020-06-25T00:00:00\",\"2020-06-26T00:00:00\",\"2020-06-29T00:00:00\",\"2020-07-01T00:00:00\",\"2020-07-02T00:00:00\",\"2020-07-07T00:00:00\",\"2020-07-08T00:00:00\",\"2020-07-10T00:00:00\",\"2020-07-13T00:00:00\",\"2020-07-14T00:00:00\",\"2020-07-15T00:00:00\",\"2020-07-21T00:00:00\",\"2020-07-23T00:00:00\",\"2020-07-24T00:00:00\",\"2020-07-27T00:00:00\",\"2020-07-29T00:00:00\",\"2020-07-30T00:00:00\",\"2020-08-11T00:00:00\",\"2020-08-14T00:00:00\",\"2020-08-17T00:00:00\",\"2020-08-19T00:00:00\",\"2020-08-20T00:00:00\",\"2020-08-26T00:00:00\",\"2020-08-28T00:00:00\",\"2020-09-02T00:00:00\",\"2020-09-03T00:00:00\",\"2020-09-09T00:00:00\",\"2020-09-10T00:00:00\",\"2020-09-15T00:00:00\",\"2020-09-21T00:00:00\",\"2020-09-22T00:00:00\",\"2020-09-23T00:00:00\",\"2020-09-28T00:00:00\",\"2020-09-29T00:00:00\",\"2020-10-01T00:00:00\",\"2020-10-02T00:00:00\",\"2020-10-05T00:00:00\",\"2020-10-06T00:00:00\",\"2020-10-07T00:00:00\",\"2020-10-08T00:00:00\",\"2020-10-12T00:00:00\",\"2020-10-14T00:00:00\",\"2020-10-16T00:00:00\",\"2020-10-21T00:00:00\",\"2020-10-22T00:00:00\",\"2020-10-27T00:00:00\",\"2020-10-29T00:00:00\",\"2020-11-03T00:00:00\",\"2020-11-06T00:00:00\",\"2020-11-09T00:00:00\",\"2020-11-10T00:00:00\",\"2020-11-13T00:00:00\",\"2020-11-16T00:00:00\",\"2020-11-18T00:00:00\",\"2020-11-19T00:00:00\",\"2020-11-23T00:00:00\",\"2020-12-16T00:00:00\",\"2020-12-17T00:00:00\",\"2020-12-21T00:00:00\",\"2020-12-22T00:00:00\",\"2020-12-24T00:00:00\",\"2020-12-28T00:00:00\",\"2021-01-14T00:00:00\",\"2021-01-21T00:00:00\",\"2021-01-22T00:00:00\",\"2021-01-25T00:00:00\",\"2021-01-29T00:00:00\",\"2021-02-09T00:00:00\",\"2021-02-12T00:00:00\",\"2021-02-16T00:00:00\",\"2021-02-19T00:00:00\",\"2021-02-23T00:00:00\",\"2021-02-25T00:00:00\",\"2021-03-02T00:00:00\",\"2021-03-03T00:00:00\",\"2021-03-05T00:00:00\",\"2021-03-09T00:00:00\",\"2021-03-24T00:00:00\",\"2021-03-26T00:00:00\",\"2021-03-30T00:00:00\",\"2021-04-05T00:00:00\",\"2021-04-08T00:00:00\",\"2021-04-09T00:00:00\",\"2021-04-13T00:00:00\",\"2021-04-14T00:00:00\",\"2021-04-15T00:00:00\",\"2021-04-21T00:00:00\",\"2021-04-22T00:00:00\",\"2021-04-23T00:00:00\",\"2021-04-27T00:00:00\",\"2021-04-28T00:00:00\",\"2021-04-29T00:00:00\",\"2021-04-30T00:00:00\",\"2021-05-03T00:00:00\",\"2021-05-11T00:00:00\",\"2021-05-13T00:00:00\",\"2021-05-17T00:00:00\",\"2021-05-19T00:00:00\",\"2021-05-20T00:00:00\",\"2021-05-21T00:00:00\",\"2021-05-28T00:00:00\",\"2021-06-01T00:00:00\",\"2021-06-02T00:00:00\",\"2021-06-08T00:00:00\",\"2021-06-09T00:00:00\",\"2021-06-11T00:00:00\",\"2021-06-15T00:00:00\",\"2021-06-16T00:00:00\",\"2021-06-17T00:00:00\",\"2021-06-21T00:00:00\",\"2021-06-22T00:00:00\",\"2021-06-24T00:00:00\",\"2021-06-25T00:00:00\",\"2021-06-29T00:00:00\",\"2021-06-30T00:00:00\",\"2021-07-02T00:00:00\",\"2021-07-06T00:00:00\",\"2021-07-07T00:00:00\",\"2021-07-08T00:00:00\",\"2021-07-09T00:00:00\",\"2021-07-12T00:00:00\",\"2021-07-13T00:00:00\",\"2021-07-14T00:00:00\",\"2021-07-15T00:00:00\",\"2021-07-16T00:00:00\",\"2021-07-19T00:00:00\",\"2021-07-20T00:00:00\",\"2021-07-21T00:00:00\",\"2021-07-22T00:00:00\",\"2021-07-23T00:00:00\",\"2021-07-26T00:00:00\",\"2021-07-27T00:00:00\",\"2021-07-28T00:00:00\",\"2021-07-29T00:00:00\",\"2021-07-30T00:00:00\",\"2021-08-02T00:00:00\",\"2021-08-03T00:00:00\",\"2021-08-04T00:00:00\",\"2021-08-05T00:00:00\",\"2021-08-06T00:00:00\",\"2021-08-09T00:00:00\",\"2021-08-10T00:00:00\",\"2021-08-11T00:00:00\",\"2021-08-12T00:00:00\",\"2021-08-13T00:00:00\",\"2021-08-16T00:00:00\",\"2021-08-17T00:00:00\",\"2021-08-18T00:00:00\",\"2021-08-19T00:00:00\",\"2021-08-20T00:00:00\",\"2021-08-23T00:00:00\",\"2021-08-24T00:00:00\",\"2021-08-25T00:00:00\",\"2021-08-26T00:00:00\",\"2021-08-27T00:00:00\",\"2021-08-30T00:00:00\",\"2021-08-31T00:00:00\",\"2021-09-01T00:00:00\",\"2021-09-02T00:00:00\",\"2021-09-03T00:00:00\",\"2021-09-07T00:00:00\",\"2021-09-08T00:00:00\",\"2021-09-09T00:00:00\",\"2021-09-10T00:00:00\",\"2021-09-13T00:00:00\",\"2021-09-14T00:00:00\",\"2021-09-15T00:00:00\",\"2021-09-16T00:00:00\",\"2021-09-17T00:00:00\",\"2021-09-20T00:00:00\",\"2021-09-21T00:00:00\",\"2021-09-22T00:00:00\",\"2021-09-23T00:00:00\",\"2021-09-24T00:00:00\",\"2021-09-27T00:00:00\",\"2021-09-28T00:00:00\",\"2021-09-29T00:00:00\",\"2021-09-30T00:00:00\",\"2021-10-01T00:00:00\",\"2021-10-04T00:00:00\",\"2021-10-05T00:00:00\",\"2021-10-06T00:00:00\",\"2021-10-07T00:00:00\",\"2021-10-08T00:00:00\",\"2021-10-11T00:00:00\",\"2021-10-12T00:00:00\",\"2021-10-13T00:00:00\",\"2021-10-14T00:00:00\",\"2021-10-15T00:00:00\",\"2021-10-18T00:00:00\",\"2021-10-19T00:00:00\",\"2021-10-20T00:00:00\",\"2021-10-21T00:00:00\",\"2021-10-22T00:00:00\",\"2021-10-25T00:00:00\",\"2021-10-26T00:00:00\",\"2021-10-27T00:00:00\",\"2021-10-28T00:00:00\",\"2021-10-29T00:00:00\",\"2021-11-01T00:00:00\",\"2021-11-02T00:00:00\",\"2021-11-03T00:00:00\",\"2021-11-04T00:00:00\",\"2021-11-05T00:00:00\",\"2021-11-08T00:00:00\",\"2021-11-09T00:00:00\",\"2021-11-10T00:00:00\",\"2021-11-11T00:00:00\",\"2021-11-12T00:00:00\",\"2021-11-15T00:00:00\",\"2021-11-16T00:00:00\",\"2021-11-17T00:00:00\",\"2021-11-18T00:00:00\",\"2021-11-19T00:00:00\",\"2021-11-22T00:00:00\",\"2021-11-23T00:00:00\",\"2021-11-24T00:00:00\",\"2021-11-26T00:00:00\",\"2021-11-29T00:00:00\",\"2021-11-30T00:00:00\",\"2021-12-01T00:00:00\",\"2021-12-02T00:00:00\",\"2021-12-03T00:00:00\",\"2021-12-06T00:00:00\",\"2021-12-07T00:00:00\",\"2021-12-08T00:00:00\",\"2021-12-09T00:00:00\",\"2021-12-10T00:00:00\",\"2021-12-13T00:00:00\",\"2021-12-14T00:00:00\",\"2021-12-15T00:00:00\",\"2021-12-16T00:00:00\",\"2021-12-17T00:00:00\",\"2021-12-20T00:00:00\",\"2021-12-21T00:00:00\",\"2021-12-22T00:00:00\",\"2021-12-23T00:00:00\",\"2021-12-27T00:00:00\",\"2021-12-28T00:00:00\",\"2021-12-29T00:00:00\",\"2021-12-30T00:00:00\",\"2021-12-31T00:00:00\",\"2022-01-03T00:00:00\",\"2022-01-04T00:00:00\",\"2022-01-05T00:00:00\",\"2022-01-06T00:00:00\",\"2022-01-07T00:00:00\",\"2022-01-10T00:00:00\",\"2022-01-11T00:00:00\",\"2022-01-12T00:00:00\",\"2022-01-13T00:00:00\",\"2022-01-14T00:00:00\",\"2022-01-18T00:00:00\",\"2022-01-19T00:00:00\",\"2022-01-20T00:00:00\",\"2022-01-21T00:00:00\",\"2022-01-24T00:00:00\",\"2022-01-25T00:00:00\",\"2022-01-26T00:00:00\",\"2022-01-27T00:00:00\",\"2022-01-28T00:00:00\",\"2022-01-31T00:00:00\",\"2022-02-01T00:00:00\",\"2022-02-02T00:00:00\",\"2022-02-03T00:00:00\",\"2022-02-04T00:00:00\",\"2022-02-07T00:00:00\",\"2022-02-08T00:00:00\",\"2022-02-09T00:00:00\",\"2022-02-10T00:00:00\",\"2022-02-11T00:00:00\",\"2022-02-14T00:00:00\",\"2022-02-15T00:00:00\",\"2022-02-16T00:00:00\",\"2022-02-17T00:00:00\",\"2022-02-18T00:00:00\",\"2022-02-22T00:00:00\",\"2022-02-23T00:00:00\",\"2022-02-24T00:00:00\",\"2022-02-25T00:00:00\",\"2022-02-28T00:00:00\",\"2022-03-01T00:00:00\",\"2022-03-02T00:00:00\",\"2022-03-03T00:00:00\",\"2022-03-04T00:00:00\",\"2022-03-07T00:00:00\",\"2022-03-08T00:00:00\",\"2022-03-09T00:00:00\",\"2022-03-10T00:00:00\",\"2022-03-11T00:00:00\",\"2022-03-14T00:00:00\",\"2022-03-15T00:00:00\",\"2022-03-16T00:00:00\",\"2022-03-17T00:00:00\",\"2022-03-18T00:00:00\",\"2022-03-21T00:00:00\",\"2022-03-22T00:00:00\",\"2022-03-23T00:00:00\",\"2022-03-24T00:00:00\",\"2022-03-25T00:00:00\",\"2022-03-28T00:00:00\",\"2022-03-29T00:00:00\",\"2022-03-30T00:00:00\",\"2022-03-31T00:00:00\",\"2022-04-01T00:00:00\",\"2022-04-04T00:00:00\",\"2022-04-05T00:00:00\",\"2022-04-06T00:00:00\",\"2022-04-07T00:00:00\",\"2022-04-08T00:00:00\",\"2022-04-11T00:00:00\",\"2022-04-12T00:00:00\",\"2022-04-13T00:00:00\",\"2022-04-14T00:00:00\",\"2022-04-18T00:00:00\",\"2022-04-19T00:00:00\",\"2022-04-20T00:00:00\",\"2022-04-21T00:00:00\",\"2022-04-22T00:00:00\",\"2022-04-25T00:00:00\",\"2022-04-26T00:00:00\",\"2022-04-27T00:00:00\",\"2022-04-28T00:00:00\",\"2022-04-29T00:00:00\",\"2022-05-02T00:00:00\",\"2022-05-03T00:00:00\",\"2022-05-04T00:00:00\",\"2022-05-05T00:00:00\",\"2022-05-06T00:00:00\",\"2022-05-09T00:00:00\",\"2022-05-10T00:00:00\",\"2022-05-11T00:00:00\",\"2022-05-12T00:00:00\",\"2022-05-13T00:00:00\",\"2022-05-16T00:00:00\",\"2022-05-17T00:00:00\",\"2022-05-18T00:00:00\",\"2022-05-19T00:00:00\",\"2022-05-20T00:00:00\",\"2022-05-23T00:00:00\",\"2022-05-24T00:00:00\",\"2022-05-25T00:00:00\"],\"xaxis\":\"x\",\"y\":[67.76,70.17,71.24,66.5,63.25,63.76,52.07,61.25,61.8,60.79,60.05,60.16,61.37,59.37,61.4,62.6,61.78,60.99,58.3,57.6,55.98,56.22,55.93,57.3,59.0,58.07,58.39,64.43,66.0,64.9,70.99,69.44,72.93,74.75,74.0,72.88,70.45,67.69,68.71,70.16,72.96,62.88,65.54,64.39,64.65,63.92,61.1,61.92,61.54,59.66,60.6,77.49,76.53,71.84,68.46,64.78,65.46,64.77,63.78,58.23,56.4,58.5,59.47,60.17,60.0,61.2,60.92,62.78,55.6,63.37,58.8,54.98,53.55,53.35,52.45,52.4,52.66,55.48,56.54,54.2,53.93,52.37,59.59,64.2,67.98,69.43,68.4,69.57,69.84,71.52,70.8,69.72,73.35,70.62,69.24,69.66,69.5,70.32,73.2,74.43,74.38,75.57,69.4,66.06,62.9,65.39,64.43,67.25,67.84,61.88,63.6,67.35,68.7,69.08,70.3,65.43,61.6,59.49,62.31,63.22,61.49,62.55,61.35,61.26,60.4,63.26,61.43,59.8,56.8,56.3,56.94,57.12,58.26,57.61,58.4,59.08,56.74,55.29,54.56,54.05,55.07,57.84,59.23,54.24,55.22,56.23,55.0,54.39,55.0,53.94,53.12,53.06,49.34,48.8,51.32,51.44,50.12,48.74,48.4,46.9,44.45,40.0,38.48,38.45,37.98,37.34,38.8,44.68,42.98,43.33,45.4,45.55,45.38,44.44,45.17,45.45,45.03,46.62,45.83,48.31,47.09,46.45,46.2,47.79,48.3,49.08,50.88,50.71,51.66,51.15,51.99,52.43,52.1,53.21,46.9,46.05,47.19,48.67,49.34,47.25,46.27,46.5,46.71,47.96,47.79,47.15,46.3,44.31,44.45,45.57,45.82,44.64,45.08,44.23,43.0,43.45,44.68,46.49,45.79,45.69,45.96,45.93,46.75,47.11,49.63,50.7,49.69,49.49,49.12,49.63,49.59,49.39,49.04,48.4,45.8,48.66,49.74,48.8,49.19,48.93,46.9,46.96,47.71,49.46,49.86,51.71,52.0,52.42,52.96,52.56,51.9,51.67,51.23,60.99,66.0,68.17,64.86,63.76,63.3,64.39,64.7,65.34,68.3,67.49,69.84,70.07,71.27,70.77,70.63,72.0,72.24,72.17,68.2,68.91,67.1,66.79,66.25,67.58,67.57,66.88,67.77,68.89,70.15,71.44,72.55,73.04,76.72,77.1,79.04,81.37,82.6,84.4,85.09,86.7,87.06,85.8,84.26,86.14,90.8,90.31,94.33,99.7,99.76,96.99,105.13,109.48,107.57,102.89,103.13,109.72,118.9,116.4,114.77,112.89,115.36,117.96,130.18,157.23,193.8,169.2,159.17,153.95,164.0,156.7,157.95,163.6,162.59,172.0,188.96,182.4,182.61,172.7,171.32,162.66,147.95,138.1,148.74,161.4,153.3,149.15,141.4,132.6,133.6,130.72,118.9,121.51,98.97,94.37,80.97,90.4,95.4,88.4,102.74,111.4,112.0,105.16,103.33,108.59,102.79,98.85,103.1,104.2,113.0,111.44,115.04,130.4,148.38,150.63,151.89,154.99,153.11,150.67,146.8,146.8,146.15,159.9,161.0,160.64,173.96,154.55,152.4,159.78,157.96,159.28,164.8,164.8,168.66,165.2,160.67,161.01,166.94,164.41,165.2,166.5,166.36,166.92,165.54,164.95,167.0,179.8,181.73,179.59,179.15,177.3,190.0,190.89,205.5,199.77,203.84,203.19,201.78,197.2,199.0,202.0,227.07,245.6,285.9,283.45,309.78,359.0,318.0,310.0,335.0,337.8,293.0,309.59,306.96,302.65,284.0,333.76,369.17,382.2,404.4,433.2,463.7,479.04,431.8,369.0,398.99,461.94,455.68,437.76,412.15,428.08,428.5,448.88,439.13,433.64,428.78,429.9,439.0,448.74,465.9,455.95,432.95,445.23,430.5,418.06,427.77,436.57,452.5,420.09,412.53,412.45,496.0,508.61,526.0,632.5,658.82,668.5,649.88,666.09,681.4,863.0,855.72,848.0,900.4,842.41,859.8,817.33,821.0,796.79,713.61,737.21,721.11,700.7,627.84,678.09,668.02,643.82,637.66,708.16,689.55,680.97,763.0,780.79,743.69,744.84,753.77,737.36,724.0,708.5,702.25,715.47,706.0,627.1,606.46,589.73,566.21,588.85,596.68,635.59,633.8,623.36,623.09,611.79,612.56,616.79,608.5,621.47,631.39,628.57,697.62,693.81,687.51,692.81,700.0,684.0,665.7,654.43,658.91,687.24,693.28,678.61,666.14,656.7,647.2,662.39,664.86,662.17,648.8,668.2,666.5,654.97,683.69,697.53,726.94,722.65,724.9,720.95,716.33,719.03,716.59,715.18,722.8,729.9,709.5,674.58,695.77,686.55,692.13,712.13,715.22,716.97,715.4,715.0,731.0,740.39,741.99,740.97,734.0,760.2,764.45,762.1,762.61,744.78,754.47,756.86,758.91,761.04,742.0,744.74,753.67,758.2,774.8,799.0,795.64,793.5,789.13,780.78,806.97,797.31,786.66,805.0,796.38,801.24,812.32,815.41,820.25,843.21,875.26,877.95,869.49,900.0,910.0,1045.02,1094.94,1070.88,1081.0,1115.21,1209.75,1208.59,1215.39,1243.49,1239.87,1197.0,1174.5,1078.1,1104.97,1054.5,1031.98,1057.2,1119.64,1112.0,1138.72,1201.95,1180.5,1132.77,1108.78,1142.67,1168.0,1172.84,1113.0,1090.58,1021.64,1057.67,1072.38,1062.49,1020.98,1005.0,966.41,978.75,994.98,960.66,921.69,939.5,1015.66,1072.98,1117.0,1119.0,1104.0,1095.55,1082.0,1201.07,1208.0,1170.34,1088.0,1080.93,1059.1,1075.85,1114.84,1115.6,1052.0,1070.79,1054.67,1041.66,1004.55,933.51,951.26,987.69,935.39,857.5,937.99,943.7,931.5,937.0,936.5,947.77,926.29,946.27,943.81,915.96,898.88,923.0,926.43,918.5,886.87,856.73,835.3,802.48,819.5,876.86,889.88,886.48,886.44,855.65,866.14,849.99,860.56,854.45,843.8,800.7,805.57,842.0,875.0,907.85,942.85,997.86,1040.7,1024.49,1021.8,1097.88,1114.77,1113.95,1103.14,1094.75,1149.91,1152.87,1079.0,1076.59,1048.44,1008.47,1021.19,1026.24,1012.71,1014.92,1034.94,1034.0,1092.22,1034.85,1008.62,1000.0,918.0,900.0,934.4,906.36,924.08,955.5,945.6,888.0,845.63,825.36,809.77,759.66,787.35,769.76,764.48,760.5,734.0,721.58,679.96,653.92,669.32],\"yaxis\":\"y\",\"type\":\"scattergl\"},{\"hovertemplate\":\"variable=Low<br>Date=%{x}<br>Stock value=%{y}<extra></extra>\",\"legendgroup\":\"Low\",\"line\":{\"color\":\"#ab63fa\",\"dash\":\"solid\"},\"marker\":{\"symbol\":\"circle\"},\"mode\":\"lines\",\"name\":\"Stock Low Price\",\"showlegend\":true,\"x\":[\"2018-01-09T00:00:00\",\"2018-01-29T00:00:00\",\"2018-01-31T00:00:00\",\"2018-03-07T00:00:00\",\"2018-03-20T00:00:00\",\"2018-03-22T00:00:00\",\"2018-04-02T00:00:00\",\"2018-04-05T00:00:00\",\"2018-04-11T00:00:00\",\"2018-04-13T00:00:00\",\"2018-04-18T00:00:00\",\"2018-05-01T00:00:00\",\"2018-05-02T00:00:00\",\"2018-05-04T00:00:00\",\"2018-05-09T00:00:00\",\"2018-05-10T00:00:00\",\"2018-05-11T00:00:00\",\"2018-05-14T00:00:00\",\"2018-05-21T00:00:00\",\"2018-05-22T00:00:00\",\"2018-05-23T00:00:00\",\"2018-05-24T00:00:00\",\"2018-05-25T00:00:00\",\"2018-05-29T00:00:00\",\"2018-05-30T00:00:00\",\"2018-05-31T00:00:00\",\"2018-06-01T00:00:00\",\"2018-06-06T00:00:00\",\"2018-06-07T00:00:00\",\"2018-06-08T00:00:00\",\"2018-06-12T00:00:00\",\"2018-06-13T00:00:00\",\"2018-06-15T00:00:00\",\"2018-06-18T00:00:00\",\"2018-06-19T00:00:00\",\"2018-06-20T00:00:00\",\"2018-06-22T00:00:00\",\"2018-06-25T00:00:00\",\"2018-06-26T00:00:00\",\"2018-06-27T00:00:00\",\"2018-07-02T00:00:00\",\"2018-07-05T00:00:00\",\"2018-07-10T00:00:00\",\"2018-07-11T00:00:00\",\"2018-07-12T00:00:00\",\"2018-07-13T00:00:00\",\"2018-07-23T00:00:00\",\"2018-07-25T00:00:00\",\"2018-07-27T00:00:00\",\"2018-07-31T00:00:00\",\"2018-08-01T00:00:00\",\"2018-08-07T00:00:00\",\"2018-08-08T00:00:00\",\"2018-08-14T00:00:00\",\"2018-08-16T00:00:00\",\"2018-08-22T00:00:00\",\"2018-08-23T00:00:00\",\"2018-08-24T00:00:00\",\"2018-08-28T00:00:00\",\"2018-09-06T00:00:00\",\"2018-09-11T00:00:00\",\"2018-09-12T00:00:00\",\"2018-09-14T00:00:00\",\"2018-09-17T00:00:00\",\"2018-09-19T00:00:00\",\"2018-09-20T00:00:00\",\"2018-09-25T00:00:00\",\"2018-09-26T00:00:00\",\"2018-09-28T00:00:00\",\"2018-10-02T00:00:00\",\"2018-10-04T00:00:00\",\"2018-10-05T00:00:00\",\"2018-10-08T00:00:00\",\"2018-10-09T00:00:00\",\"2018-10-11T00:00:00\",\"2018-10-12T00:00:00\",\"2018-10-15T00:00:00\",\"2018-10-16T00:00:00\",\"2018-10-17T00:00:00\",\"2018-10-18T00:00:00\",\"2018-10-19T00:00:00\",\"2018-10-22T00:00:00\",\"2018-10-23T00:00:00\",\"2018-10-25T00:00:00\",\"2018-10-26T00:00:00\",\"2018-10-29T00:00:00\",\"2018-10-31T00:00:00\",\"2018-11-01T00:00:00\",\"2018-11-02T00:00:00\",\"2018-11-08T00:00:00\",\"2018-11-09T00:00:00\",\"2018-11-15T00:00:00\",\"2018-11-19T00:00:00\",\"2018-11-21T00:00:00\",\"2018-11-26T00:00:00\",\"2018-11-28T00:00:00\",\"2018-11-29T00:00:00\",\"2018-11-30T00:00:00\",\"2018-12-03T00:00:00\",\"2018-12-11T00:00:00\",\"2018-12-12T00:00:00\",\"2018-12-14T00:00:00\",\"2018-12-19T00:00:00\",\"2018-12-20T00:00:00\",\"2018-12-24T00:00:00\",\"2018-12-26T00:00:00\",\"2018-12-27T00:00:00\",\"2018-12-28T00:00:00\",\"2018-12-31T00:00:00\",\"2019-01-03T00:00:00\",\"2019-01-04T00:00:00\",\"2019-01-07T00:00:00\",\"2019-01-09T00:00:00\",\"2019-01-10T00:00:00\",\"2019-01-17T00:00:00\",\"2019-01-18T00:00:00\",\"2019-01-22T00:00:00\",\"2019-01-28T00:00:00\",\"2019-01-31T00:00:00\",\"2019-02-01T00:00:00\",\"2019-02-08T00:00:00\",\"2019-02-13T00:00:00\",\"2019-02-14T00:00:00\",\"2019-02-20T00:00:00\",\"2019-02-26T00:00:00\",\"2019-02-27T00:00:00\",\"2019-03-01T00:00:00\",\"2019-03-04T00:00:00\",\"2019-03-05T00:00:00\",\"2019-03-06T00:00:00\",\"2019-03-07T00:00:00\",\"2019-03-08T00:00:00\",\"2019-03-11T00:00:00\",\"2019-03-12T00:00:00\",\"2019-03-13T00:00:00\",\"2019-03-14T00:00:00\",\"2019-03-15T00:00:00\",\"2019-03-21T00:00:00\",\"2019-03-22T00:00:00\",\"2019-03-26T00:00:00\",\"2019-03-27T00:00:00\",\"2019-04-01T00:00:00\",\"2019-04-03T00:00:00\",\"2019-04-04T00:00:00\",\"2019-04-05T00:00:00\",\"2019-04-08T00:00:00\",\"2019-04-09T00:00:00\",\"2019-04-12T00:00:00\",\"2019-04-16T00:00:00\",\"2019-04-22T00:00:00\",\"2019-04-23T00:00:00\",\"2019-04-24T00:00:00\",\"2019-04-26T00:00:00\",\"2019-04-29T00:00:00\",\"2019-05-03T00:00:00\",\"2019-05-07T00:00:00\",\"2019-05-08T00:00:00\",\"2019-05-09T00:00:00\",\"2019-05-10T00:00:00\",\"2019-05-14T00:00:00\",\"2019-05-17T00:00:00\",\"2019-05-24T00:00:00\",\"2019-05-29T00:00:00\",\"2019-05-30T00:00:00\",\"2019-05-31T00:00:00\",\"2019-06-03T00:00:00\",\"2019-06-04T00:00:00\",\"2019-06-12T00:00:00\",\"2019-06-13T00:00:00\",\"2019-06-14T00:00:00\",\"2019-06-17T00:00:00\",\"2019-06-19T00:00:00\",\"2019-06-20T00:00:00\",\"2019-06-21T00:00:00\",\"2019-06-24T00:00:00\",\"2019-06-26T00:00:00\",\"2019-06-28T00:00:00\",\"2019-07-01T00:00:00\",\"2019-07-02T00:00:00\",\"2019-07-03T00:00:00\",\"2019-07-05T00:00:00\",\"2019-07-08T00:00:00\",\"2019-07-09T00:00:00\",\"2019-07-10T00:00:00\",\"2019-07-11T00:00:00\",\"2019-07-12T00:00:00\",\"2019-07-15T00:00:00\",\"2019-07-16T00:00:00\",\"2019-07-17T00:00:00\",\"2019-07-18T00:00:00\",\"2019-07-19T00:00:00\",\"2019-07-22T00:00:00\",\"2019-07-23T00:00:00\",\"2019-07-24T00:00:00\",\"2019-07-25T00:00:00\",\"2019-07-26T00:00:00\",\"2019-07-29T00:00:00\",\"2019-07-30T00:00:00\",\"2019-07-31T00:00:00\",\"2019-08-02T00:00:00\",\"2019-08-05T00:00:00\",\"2019-08-06T00:00:00\",\"2019-08-07T00:00:00\",\"2019-08-08T00:00:00\",\"2019-08-09T00:00:00\",\"2019-08-12T00:00:00\",\"2019-08-14T00:00:00\",\"2019-08-15T00:00:00\",\"2019-08-16T00:00:00\",\"2019-08-19T00:00:00\",\"2019-08-20T00:00:00\",\"2019-08-21T00:00:00\",\"2019-08-22T00:00:00\",\"2019-08-23T00:00:00\",\"2019-08-26T00:00:00\",\"2019-08-28T00:00:00\",\"2019-08-29T00:00:00\",\"2019-08-30T00:00:00\",\"2019-09-03T00:00:00\",\"2019-09-04T00:00:00\",\"2019-09-05T00:00:00\",\"2019-09-06T00:00:00\",\"2019-09-09T00:00:00\",\"2019-09-10T00:00:00\",\"2019-09-11T00:00:00\",\"2019-09-12T00:00:00\",\"2019-09-13T00:00:00\",\"2019-09-16T00:00:00\",\"2019-09-17T00:00:00\",\"2019-09-18T00:00:00\",\"2019-09-19T00:00:00\",\"2019-09-20T00:00:00\",\"2019-09-23T00:00:00\",\"2019-09-24T00:00:00\",\"2019-09-25T00:00:00\",\"2019-09-26T00:00:00\",\"2019-09-27T00:00:00\",\"2019-09-30T00:00:00\",\"2019-10-01T00:00:00\",\"2019-10-02T00:00:00\",\"2019-10-03T00:00:00\",\"2019-10-04T00:00:00\",\"2019-10-07T00:00:00\",\"2019-10-09T00:00:00\",\"2019-10-10T00:00:00\",\"2019-10-14T00:00:00\",\"2019-10-15T00:00:00\",\"2019-10-16T00:00:00\",\"2019-10-17T00:00:00\",\"2019-10-18T00:00:00\",\"2019-10-21T00:00:00\",\"2019-10-22T00:00:00\",\"2019-10-23T00:00:00\",\"2019-10-24T00:00:00\",\"2019-10-25T00:00:00\",\"2019-10-28T00:00:00\",\"2019-10-29T00:00:00\",\"2019-10-30T00:00:00\",\"2019-11-01T00:00:00\",\"2019-11-04T00:00:00\",\"2019-11-05T00:00:00\",\"2019-11-06T00:00:00\",\"2019-11-07T00:00:00\",\"2019-11-08T00:00:00\",\"2019-11-11T00:00:00\",\"2019-11-12T00:00:00\",\"2019-11-13T00:00:00\",\"2019-11-14T00:00:00\",\"2019-11-18T00:00:00\",\"2019-11-19T00:00:00\",\"2019-11-20T00:00:00\",\"2019-11-21T00:00:00\",\"2019-11-22T00:00:00\",\"2019-11-25T00:00:00\",\"2019-11-26T00:00:00\",\"2019-11-27T00:00:00\",\"2019-11-29T00:00:00\",\"2019-12-03T00:00:00\",\"2019-12-04T00:00:00\",\"2019-12-05T00:00:00\",\"2019-12-06T00:00:00\",\"2019-12-09T00:00:00\",\"2019-12-10T00:00:00\",\"2019-12-11T00:00:00\",\"2019-12-12T00:00:00\",\"2019-12-13T00:00:00\",\"2019-12-16T00:00:00\",\"2019-12-17T00:00:00\",\"2019-12-18T00:00:00\",\"2019-12-19T00:00:00\",\"2019-12-20T00:00:00\",\"2019-12-23T00:00:00\",\"2019-12-24T00:00:00\",\"2019-12-26T00:00:00\",\"2019-12-27T00:00:00\",\"2019-12-30T00:00:00\",\"2019-12-31T00:00:00\",\"2020-01-02T00:00:00\",\"2020-01-03T00:00:00\",\"2020-01-06T00:00:00\",\"2020-01-07T00:00:00\",\"2020-01-08T00:00:00\",\"2020-01-09T00:00:00\",\"2020-01-10T00:00:00\",\"2020-01-13T00:00:00\",\"2020-01-14T00:00:00\",\"2020-01-15T00:00:00\",\"2020-01-16T00:00:00\",\"2020-01-17T00:00:00\",\"2020-01-21T00:00:00\",\"2020-01-22T00:00:00\",\"2020-01-23T00:00:00\",\"2020-01-24T00:00:00\",\"2020-01-27T00:00:00\",\"2020-01-28T00:00:00\",\"2020-01-29T00:00:00\",\"2020-01-30T00:00:00\",\"2020-02-03T00:00:00\",\"2020-02-04T00:00:00\",\"2020-02-05T00:00:00\",\"2020-02-06T00:00:00\",\"2020-02-07T00:00:00\",\"2020-02-10T00:00:00\",\"2020-02-11T00:00:00\",\"2020-02-12T00:00:00\",\"2020-02-13T00:00:00\",\"2020-02-14T00:00:00\",\"2020-02-18T00:00:00\",\"2020-02-19T00:00:00\",\"2020-02-20T00:00:00\",\"2020-02-21T00:00:00\",\"2020-02-24T00:00:00\",\"2020-02-25T00:00:00\",\"2020-02-26T00:00:00\",\"2020-02-27T00:00:00\",\"2020-02-28T00:00:00\",\"2020-03-02T00:00:00\",\"2020-03-03T00:00:00\",\"2020-03-04T00:00:00\",\"2020-03-05T00:00:00\",\"2020-03-06T00:00:00\",\"2020-03-09T00:00:00\",\"2020-03-10T00:00:00\",\"2020-03-11T00:00:00\",\"2020-03-12T00:00:00\",\"2020-03-13T00:00:00\",\"2020-03-16T00:00:00\",\"2020-03-17T00:00:00\",\"2020-03-18T00:00:00\",\"2020-03-19T00:00:00\",\"2020-03-20T00:00:00\",\"2020-03-23T00:00:00\",\"2020-03-24T00:00:00\",\"2020-03-25T00:00:00\",\"2020-03-26T00:00:00\",\"2020-03-27T00:00:00\",\"2020-03-30T00:00:00\",\"2020-03-31T00:00:00\",\"2020-04-01T00:00:00\",\"2020-04-02T00:00:00\",\"2020-04-03T00:00:00\",\"2020-04-06T00:00:00\",\"2020-04-07T00:00:00\",\"2020-04-08T00:00:00\",\"2020-04-09T00:00:00\",\"2020-04-13T00:00:00\",\"2020-04-14T00:00:00\",\"2020-04-15T00:00:00\",\"2020-04-16T00:00:00\",\"2020-04-17T00:00:00\",\"2020-04-20T00:00:00\",\"2020-04-21T00:00:00\",\"2020-04-22T00:00:00\",\"2020-04-23T00:00:00\",\"2020-04-24T00:00:00\",\"2020-04-27T00:00:00\",\"2020-04-28T00:00:00\",\"2020-04-29T00:00:00\",\"2020-04-30T00:00:00\",\"2020-05-01T00:00:00\",\"2020-05-04T00:00:00\",\"2020-05-05T00:00:00\",\"2020-05-06T00:00:00\",\"2020-05-07T00:00:00\",\"2020-05-08T00:00:00\",\"2020-05-11T00:00:00\",\"2020-05-12T00:00:00\",\"2020-05-13T00:00:00\",\"2020-05-14T00:00:00\",\"2020-05-15T00:00:00\",\"2020-05-18T00:00:00\",\"2020-05-19T00:00:00\",\"2020-05-20T00:00:00\",\"2020-05-21T00:00:00\",\"2020-05-22T00:00:00\",\"2020-05-26T00:00:00\",\"2020-05-27T00:00:00\",\"2020-05-28T00:00:00\",\"2020-05-29T00:00:00\",\"2020-06-01T00:00:00\",\"2020-06-02T00:00:00\",\"2020-06-03T00:00:00\",\"2020-06-04T00:00:00\",\"2020-06-05T00:00:00\",\"2020-06-08T00:00:00\",\"2020-06-09T00:00:00\",\"2020-06-10T00:00:00\",\"2020-06-15T00:00:00\",\"2020-06-18T00:00:00\",\"2020-06-19T00:00:00\",\"2020-06-22T00:00:00\",\"2020-06-25T00:00:00\",\"2020-06-26T00:00:00\",\"2020-06-29T00:00:00\",\"2020-07-01T00:00:00\",\"2020-07-02T00:00:00\",\"2020-07-07T00:00:00\",\"2020-07-08T00:00:00\",\"2020-07-10T00:00:00\",\"2020-07-13T00:00:00\",\"2020-07-14T00:00:00\",\"2020-07-15T00:00:00\",\"2020-07-21T00:00:00\",\"2020-07-23T00:00:00\",\"2020-07-24T00:00:00\",\"2020-07-27T00:00:00\",\"2020-07-29T00:00:00\",\"2020-07-30T00:00:00\",\"2020-08-11T00:00:00\",\"2020-08-14T00:00:00\",\"2020-08-17T00:00:00\",\"2020-08-19T00:00:00\",\"2020-08-20T00:00:00\",\"2020-08-26T00:00:00\",\"2020-08-28T00:00:00\",\"2020-09-02T00:00:00\",\"2020-09-03T00:00:00\",\"2020-09-09T00:00:00\",\"2020-09-10T00:00:00\",\"2020-09-15T00:00:00\",\"2020-09-21T00:00:00\",\"2020-09-22T00:00:00\",\"2020-09-23T00:00:00\",\"2020-09-28T00:00:00\",\"2020-09-29T00:00:00\",\"2020-10-01T00:00:00\",\"2020-10-02T00:00:00\",\"2020-10-05T00:00:00\",\"2020-10-06T00:00:00\",\"2020-10-07T00:00:00\",\"2020-10-08T00:00:00\",\"2020-10-12T00:00:00\",\"2020-10-14T00:00:00\",\"2020-10-16T00:00:00\",\"2020-10-21T00:00:00\",\"2020-10-22T00:00:00\",\"2020-10-27T00:00:00\",\"2020-10-29T00:00:00\",\"2020-11-03T00:00:00\",\"2020-11-06T00:00:00\",\"2020-11-09T00:00:00\",\"2020-11-10T00:00:00\",\"2020-11-13T00:00:00\",\"2020-11-16T00:00:00\",\"2020-11-18T00:00:00\",\"2020-11-19T00:00:00\",\"2020-11-23T00:00:00\",\"2020-12-16T00:00:00\",\"2020-12-17T00:00:00\",\"2020-12-21T00:00:00\",\"2020-12-22T00:00:00\",\"2020-12-24T00:00:00\",\"2020-12-28T00:00:00\",\"2021-01-14T00:00:00\",\"2021-01-21T00:00:00\",\"2021-01-22T00:00:00\",\"2021-01-25T00:00:00\",\"2021-01-29T00:00:00\",\"2021-02-09T00:00:00\",\"2021-02-12T00:00:00\",\"2021-02-16T00:00:00\",\"2021-02-19T00:00:00\",\"2021-02-23T00:00:00\",\"2021-02-25T00:00:00\",\"2021-03-02T00:00:00\",\"2021-03-03T00:00:00\",\"2021-03-05T00:00:00\",\"2021-03-09T00:00:00\",\"2021-03-24T00:00:00\",\"2021-03-26T00:00:00\",\"2021-03-30T00:00:00\",\"2021-04-05T00:00:00\",\"2021-04-08T00:00:00\",\"2021-04-09T00:00:00\",\"2021-04-13T00:00:00\",\"2021-04-14T00:00:00\",\"2021-04-15T00:00:00\",\"2021-04-21T00:00:00\",\"2021-04-22T00:00:00\",\"2021-04-23T00:00:00\",\"2021-04-27T00:00:00\",\"2021-04-28T00:00:00\",\"2021-04-29T00:00:00\",\"2021-04-30T00:00:00\",\"2021-05-03T00:00:00\",\"2021-05-11T00:00:00\",\"2021-05-13T00:00:00\",\"2021-05-17T00:00:00\",\"2021-05-19T00:00:00\",\"2021-05-20T00:00:00\",\"2021-05-21T00:00:00\",\"2021-05-28T00:00:00\",\"2021-06-01T00:00:00\",\"2021-06-02T00:00:00\",\"2021-06-08T00:00:00\",\"2021-06-09T00:00:00\",\"2021-06-11T00:00:00\",\"2021-06-15T00:00:00\",\"2021-06-16T00:00:00\",\"2021-06-17T00:00:00\",\"2021-06-21T00:00:00\",\"2021-06-22T00:00:00\",\"2021-06-24T00:00:00\",\"2021-06-25T00:00:00\",\"2021-06-29T00:00:00\",\"2021-06-30T00:00:00\",\"2021-07-02T00:00:00\",\"2021-07-06T00:00:00\",\"2021-07-07T00:00:00\",\"2021-07-08T00:00:00\",\"2021-07-09T00:00:00\",\"2021-07-12T00:00:00\",\"2021-07-13T00:00:00\",\"2021-07-14T00:00:00\",\"2021-07-15T00:00:00\",\"2021-07-16T00:00:00\",\"2021-07-19T00:00:00\",\"2021-07-20T00:00:00\",\"2021-07-21T00:00:00\",\"2021-07-22T00:00:00\",\"2021-07-23T00:00:00\",\"2021-07-26T00:00:00\",\"2021-07-27T00:00:00\",\"2021-07-28T00:00:00\",\"2021-07-29T00:00:00\",\"2021-07-30T00:00:00\",\"2021-08-02T00:00:00\",\"2021-08-03T00:00:00\",\"2021-08-04T00:00:00\",\"2021-08-05T00:00:00\",\"2021-08-06T00:00:00\",\"2021-08-09T00:00:00\",\"2021-08-10T00:00:00\",\"2021-08-11T00:00:00\",\"2021-08-12T00:00:00\",\"2021-08-13T00:00:00\",\"2021-08-16T00:00:00\",\"2021-08-17T00:00:00\",\"2021-08-18T00:00:00\",\"2021-08-19T00:00:00\",\"2021-08-20T00:00:00\",\"2021-08-23T00:00:00\",\"2021-08-24T00:00:00\",\"2021-08-25T00:00:00\",\"2021-08-26T00:00:00\",\"2021-08-27T00:00:00\",\"2021-08-30T00:00:00\",\"2021-08-31T00:00:00\",\"2021-09-01T00:00:00\",\"2021-09-02T00:00:00\",\"2021-09-03T00:00:00\",\"2021-09-07T00:00:00\",\"2021-09-08T00:00:00\",\"2021-09-09T00:00:00\",\"2021-09-10T00:00:00\",\"2021-09-13T00:00:00\",\"2021-09-14T00:00:00\",\"2021-09-15T00:00:00\",\"2021-09-16T00:00:00\",\"2021-09-17T00:00:00\",\"2021-09-20T00:00:00\",\"2021-09-21T00:00:00\",\"2021-09-22T00:00:00\",\"2021-09-23T00:00:00\",\"2021-09-24T00:00:00\",\"2021-09-27T00:00:00\",\"2021-09-28T00:00:00\",\"2021-09-29T00:00:00\",\"2021-09-30T00:00:00\",\"2021-10-01T00:00:00\",\"2021-10-04T00:00:00\",\"2021-10-05T00:00:00\",\"2021-10-06T00:00:00\",\"2021-10-07T00:00:00\",\"2021-10-08T00:00:00\",\"2021-10-11T00:00:00\",\"2021-10-12T00:00:00\",\"2021-10-13T00:00:00\",\"2021-10-14T00:00:00\",\"2021-10-15T00:00:00\",\"2021-10-18T00:00:00\",\"2021-10-19T00:00:00\",\"2021-10-20T00:00:00\",\"2021-10-21T00:00:00\",\"2021-10-22T00:00:00\",\"2021-10-25T00:00:00\",\"2021-10-26T00:00:00\",\"2021-10-27T00:00:00\",\"2021-10-28T00:00:00\",\"2021-10-29T00:00:00\",\"2021-11-01T00:00:00\",\"2021-11-02T00:00:00\",\"2021-11-03T00:00:00\",\"2021-11-04T00:00:00\",\"2021-11-05T00:00:00\",\"2021-11-08T00:00:00\",\"2021-11-09T00:00:00\",\"2021-11-10T00:00:00\",\"2021-11-11T00:00:00\",\"2021-11-12T00:00:00\",\"2021-11-15T00:00:00\",\"2021-11-16T00:00:00\",\"2021-11-17T00:00:00\",\"2021-11-18T00:00:00\",\"2021-11-19T00:00:00\",\"2021-11-22T00:00:00\",\"2021-11-23T00:00:00\",\"2021-11-24T00:00:00\",\"2021-11-26T00:00:00\",\"2021-11-29T00:00:00\",\"2021-11-30T00:00:00\",\"2021-12-01T00:00:00\",\"2021-12-02T00:00:00\",\"2021-12-03T00:00:00\",\"2021-12-06T00:00:00\",\"2021-12-07T00:00:00\",\"2021-12-08T00:00:00\",\"2021-12-09T00:00:00\",\"2021-12-10T00:00:00\",\"2021-12-13T00:00:00\",\"2021-12-14T00:00:00\",\"2021-12-15T00:00:00\",\"2021-12-16T00:00:00\",\"2021-12-17T00:00:00\",\"2021-12-20T00:00:00\",\"2021-12-21T00:00:00\",\"2021-12-22T00:00:00\",\"2021-12-23T00:00:00\",\"2021-12-27T00:00:00\",\"2021-12-28T00:00:00\",\"2021-12-29T00:00:00\",\"2021-12-30T00:00:00\",\"2021-12-31T00:00:00\",\"2022-01-03T00:00:00\",\"2022-01-04T00:00:00\",\"2022-01-05T00:00:00\",\"2022-01-06T00:00:00\",\"2022-01-07T00:00:00\",\"2022-01-10T00:00:00\",\"2022-01-11T00:00:00\",\"2022-01-12T00:00:00\",\"2022-01-13T00:00:00\",\"2022-01-14T00:00:00\",\"2022-01-18T00:00:00\",\"2022-01-19T00:00:00\",\"2022-01-20T00:00:00\",\"2022-01-21T00:00:00\",\"2022-01-24T00:00:00\",\"2022-01-25T00:00:00\",\"2022-01-26T00:00:00\",\"2022-01-27T00:00:00\",\"2022-01-28T00:00:00\",\"2022-01-31T00:00:00\",\"2022-02-01T00:00:00\",\"2022-02-02T00:00:00\",\"2022-02-03T00:00:00\",\"2022-02-04T00:00:00\",\"2022-02-07T00:00:00\",\"2022-02-08T00:00:00\",\"2022-02-09T00:00:00\",\"2022-02-10T00:00:00\",\"2022-02-11T00:00:00\",\"2022-02-14T00:00:00\",\"2022-02-15T00:00:00\",\"2022-02-16T00:00:00\",\"2022-02-17T00:00:00\",\"2022-02-18T00:00:00\",\"2022-02-22T00:00:00\",\"2022-02-23T00:00:00\",\"2022-02-24T00:00:00\",\"2022-02-25T00:00:00\",\"2022-02-28T00:00:00\",\"2022-03-01T00:00:00\",\"2022-03-02T00:00:00\",\"2022-03-03T00:00:00\",\"2022-03-04T00:00:00\",\"2022-03-07T00:00:00\",\"2022-03-08T00:00:00\",\"2022-03-09T00:00:00\",\"2022-03-10T00:00:00\",\"2022-03-11T00:00:00\",\"2022-03-14T00:00:00\",\"2022-03-15T00:00:00\",\"2022-03-16T00:00:00\",\"2022-03-17T00:00:00\",\"2022-03-18T00:00:00\",\"2022-03-21T00:00:00\",\"2022-03-22T00:00:00\",\"2022-03-23T00:00:00\",\"2022-03-24T00:00:00\",\"2022-03-25T00:00:00\",\"2022-03-28T00:00:00\",\"2022-03-29T00:00:00\",\"2022-03-30T00:00:00\",\"2022-03-31T00:00:00\",\"2022-04-01T00:00:00\",\"2022-04-04T00:00:00\",\"2022-04-05T00:00:00\",\"2022-04-06T00:00:00\",\"2022-04-07T00:00:00\",\"2022-04-08T00:00:00\",\"2022-04-11T00:00:00\",\"2022-04-12T00:00:00\",\"2022-04-13T00:00:00\",\"2022-04-14T00:00:00\",\"2022-04-18T00:00:00\",\"2022-04-19T00:00:00\",\"2022-04-20T00:00:00\",\"2022-04-21T00:00:00\",\"2022-04-22T00:00:00\",\"2022-04-25T00:00:00\",\"2022-04-26T00:00:00\",\"2022-04-27T00:00:00\",\"2022-04-28T00:00:00\",\"2022-04-29T00:00:00\",\"2022-05-02T00:00:00\",\"2022-05-03T00:00:00\",\"2022-05-04T00:00:00\",\"2022-05-05T00:00:00\",\"2022-05-06T00:00:00\",\"2022-05-09T00:00:00\",\"2022-05-10T00:00:00\",\"2022-05-11T00:00:00\",\"2022-05-12T00:00:00\",\"2022-05-13T00:00:00\",\"2022-05-16T00:00:00\",\"2022-05-17T00:00:00\",\"2022-05-18T00:00:00\",\"2022-05-19T00:00:00\",\"2022-05-20T00:00:00\",\"2022-05-23T00:00:00\",\"2022-05-24T00:00:00\",\"2022-05-25T00:00:00\"],\"xaxis\":\"x\",\"y\":[65.48,67.66,69.04,64.35,61.75,61.64,48.92,57.64,59.93,59.2,57.63,58.64,59.56,55.9,60.01,60.82,59.82,58.32,56.26,54.68,54.8,54.98,55.12,55.23,56.32,56.59,56.77,59.5,62.72,63.43,67.6,67.96,70.25,70.9,69.25,70.4,66.4,65.5,65.16,67.9,65.97,59.24,63.84,63.01,62.55,61.85,58.57,58.9,59.07,57.81,58.6,67.83,73.42,69.42,66.76,62.93,63.62,63.88,62.24,55.78,54.71,55.73,57.3,57.63,56.1,58.67,59.3,60.22,52.11,59.83,55.53,52.0,49.8,50.66,49.81,50.4,50.91,52.45,53.16,52.6,50.7,50.52,52.42,60.2,61.33,65.3,65.82,66.95,68.18,69.69,69.05,67.81,70.58,67.48,65.0,68.44,67.91,67.65,70.4,72.05,73.03,72.87,65.95,62.37,59.04,58.82,60.3,63.68,65.05,59.48,60.55,63.55,66.29,66.36,68.83,59.95,59.1,57.55,58.8,60.7,59.7,61.11,60.2,59.8,57.75,60.11,58.38,56.56,54.02,54.88,54.85,55.18,56.1,56.21,56.54,57.66,54.88,53.69,52.8,52.89,53.64,56.26,57.43,52.12,53.22,54.09,53.92,53.37,52.94,52.5,51.15,51.6,46.23,46.43,48.7,49.02,48.84,47.39,47.2,45.6,41.78,37.75,37.01,37.4,36.82,35.4,35.92,41.8,41.5,42.08,42.85,44.21,43.27,43.1,44.2,43.62,44.16,45.26,44.44,46.9,46.16,45.73,45.46,46.63,47.16,47.94,48.97,49.59,50.67,50.38,50.92,50.84,50.9,51.63,45.11,44.45,45.21,46.44,47.33,45.85,45.16,45.15,45.16,46.53,46.76,45.75,43.34,42.31,43.2,44.34,44.91,43.52,43.64,42.2,42.31,42.46,43.6,44.84,44.63,43.84,44.17,45.03,45.85,45.79,47.2,48.88,48.97,48.23,48.07,48.47,48.97,47.63,47.84,44.52,43.67,45.48,47.75,47.22,47.83,47.89,44.86,45.61,45.71,48.13,48.32,49.43,50.82,51.38,52.03,51.02,50.04,50.17,50.27,57.84,59.22,64.52,62.95,61.99,61.96,61.85,63.22,62.9,65.6,66.5,68.4,68.81,69.04,68.58,69.22,69.56,69.91,70.8,66.0,66.89,65.42,65.71,65.5,66.44,66.57,65.45,66.95,67.02,67.86,70.22,70.65,70.93,72.5,75.18,76.12,79.3,80.04,82.0,82.54,85.27,85.22,81.85,80.42,84.34,87.38,88.0,90.67,93.65,94.57,94.74,98.4,104.98,103.36,98.43,100.63,105.68,111.82,111.12,110.85,107.86,111.62,113.49,123.6,134.7,166.78,140.82,137.4,146.0,150.48,151.6,152.67,147.0,157.1,166.47,180.2,171.99,176.09,164.44,157.4,155.22,133.8,122.3,137.33,143.22,144.95,143.61,136.85,121.0,121.6,122.6,109.25,100.4,88.43,79.2,70.1,71.69,85.16,82.1,94.8,102.22,102.45,98.81,98.25,99.4,95.02,89.28,93.68,99.59,106.47,106.67,111.42,116.11,138.49,142.0,141.34,149.53,142.44,134.76,137.74,140.63,139.64,147.0,151.34,156.63,152.7,136.61,139.6,152.44,152.22,154.47,157.4,157.0,161.6,152.66,152.8,157.31,160.78,161.22,162.36,159.2,162.4,163.14,157.0,160.34,160.84,170.82,174.2,176.02,171.69,173.24,181.83,184.79,196.5,181.7,198.89,198.27,198.0,187.43,190.97,189.7,216.1,237.12,267.34,262.27,275.2,294.22,286.2,291.4,311.6,296.15,273.31,282.6,297.4,294.2,273.0,325.33,334.57,368.24,371.41,410.73,437.3,405.12,402.0,341.51,360.56,430.7,407.07,417.6,375.88,415.55,411.6,434.42,415.0,419.33,406.05,413.85,425.3,438.58,447.35,438.85,421.25,424.51,420.1,406.46,406.69,424.28,421.0,396.03,401.66,404.09,443.5,487.57,501.79,605.0,619.5,646.07,614.23,641.0,660.8,838.75,841.42,828.62,838.82,780.1,841.75,785.33,792.44,777.37,619.0,670.58,685.0,651.71,539.49,595.21,630.11,599.89,591.01,684.7,671.65,669.43,710.66,728.03,721.31,698.0,718.04,715.46,703.35,693.6,668.5,666.14,680.5,595.6,559.65,561.2,546.98,571.07,580.0,622.38,620.55,599.14,595.5,597.63,601.52,598.23,593.5,601.34,608.88,615.5,667.61,668.7,675.89,678.14,673.26,651.4,638.32,620.46,644.69,662.16,666.3,652.84,637.88,642.2,621.29,640.5,650.29,644.6,637.3,647.11,627.24,639.4,648.8,669.0,698.4,701.01,708.93,711.41,697.63,705.13,701.88,704.21,699.4,714.34,676.4,648.84,669.35,667.59,673.7,680.75,702.64,704.0,697.62,702.1,712.73,726.44,731.27,730.54,724.2,739.26,740.77,751.63,734.52,708.85,736.4,738.36,747.61,750.0,718.62,730.44,739.12,747.92,744.56,769.31,766.18,770.68,775.0,763.59,776.12,774.2,773.22,783.38,780.91,785.5,796.57,805.78,813.35,822.35,851.47,862.51,857.38,855.5,890.96,944.2,1001.44,1030.78,1054.2,1073.21,1118.66,1146.0,1152.62,1217.0,1208.0,1133.0,1011.52,987.31,1054.68,1019.2,978.6,1002.18,1055.5,1075.02,1092.7,1132.43,1062.7,1062.0,1081.0,1100.19,1118.0,1090.76,1056.65,1000.21,950.5,1026.81,1033.0,1002.36,982.53,951.42,930.0,928.25,921.85,909.04,893.39,886.12,957.05,997.56,1070.72,1078.42,1064.14,1053.15,1054.59,1136.04,1123.05,1081.01,1020.5,1010.0,980.0,1038.82,1072.59,1026.54,1013.38,1016.06,995.0,994.0,940.5,851.47,903.21,906.0,829.0,792.01,862.05,905.0,889.41,880.52,881.17,902.71,894.8,920.0,896.7,850.7,853.15,893.38,901.21,874.1,837.61,801.1,760.56,700.0,782.4,814.71,853.78,844.27,832.6,825.16,804.57,782.17,832.01,810.36,793.77,756.04,756.57,802.26,825.72,867.39,907.09,921.75,976.4,988.8,997.32,1053.6,1073.11,1084.0,1076.64,1066.64,1072.53,1087.3,1027.7,1021.54,1022.44,974.64,976.6,973.1,982.19,973.41,995.33,975.25,996.42,994.0,975.3,875.0,877.36,821.7,870.0,848.03,888.59,885.28,857.7,843.11,781.15,774.25,727.2,680.0,751.57,719.09,728.85,700.81,694.11,633.0,638.06,620.57,623.01],\"yaxis\":\"y\",\"type\":\"scattergl\"}],                        {\"template\":{\"data\":{\"bar\":[{\"error_x\":{\"color\":\"#2a3f5f\"},\"error_y\":{\"color\":\"#2a3f5f\"},\"marker\":{\"line\":{\"color\":\"#E5ECF6\",\"width\":0.5},\"pattern\":{\"fillmode\":\"overlay\",\"size\":10,\"solidity\":0.2}},\"type\":\"bar\"}],\"barpolar\":[{\"marker\":{\"line\":{\"color\":\"#E5ECF6\",\"width\":0.5},\"pattern\":{\"fillmode\":\"overlay\",\"size\":10,\"solidity\":0.2}},\"type\":\"barpolar\"}],\"carpet\":[{\"aaxis\":{\"endlinecolor\":\"#2a3f5f\",\"gridcolor\":\"white\",\"linecolor\":\"white\",\"minorgridcolor\":\"white\",\"startlinecolor\":\"#2a3f5f\"},\"baxis\":{\"endlinecolor\":\"#2a3f5f\",\"gridcolor\":\"white\",\"linecolor\":\"white\",\"minorgridcolor\":\"white\",\"startlinecolor\":\"#2a3f5f\"},\"type\":\"carpet\"}],\"choropleth\":[{\"colorbar\":{\"outlinewidth\":0,\"ticks\":\"\"},\"type\":\"choropleth\"}],\"contour\":[{\"colorbar\":{\"outlinewidth\":0,\"ticks\":\"\"},\"colorscale\":[[0.0,\"#0d0887\"],[0.1111111111111111,\"#46039f\"],[0.2222222222222222,\"#7201a8\"],[0.3333333333333333,\"#9c179e\"],[0.4444444444444444,\"#bd3786\"],[0.5555555555555556,\"#d8576b\"],[0.6666666666666666,\"#ed7953\"],[0.7777777777777778,\"#fb9f3a\"],[0.8888888888888888,\"#fdca26\"],[1.0,\"#f0f921\"]],\"type\":\"contour\"}],\"contourcarpet\":[{\"colorbar\":{\"outlinewidth\":0,\"ticks\":\"\"},\"type\":\"contourcarpet\"}],\"heatmap\":[{\"colorbar\":{\"outlinewidth\":0,\"ticks\":\"\"},\"colorscale\":[[0.0,\"#0d0887\"],[0.1111111111111111,\"#46039f\"],[0.2222222222222222,\"#7201a8\"],[0.3333333333333333,\"#9c179e\"],[0.4444444444444444,\"#bd3786\"],[0.5555555555555556,\"#d8576b\"],[0.6666666666666666,\"#ed7953\"],[0.7777777777777778,\"#fb9f3a\"],[0.8888888888888888,\"#fdca26\"],[1.0,\"#f0f921\"]],\"type\":\"heatmap\"}],\"heatmapgl\":[{\"colorbar\":{\"outlinewidth\":0,\"ticks\":\"\"},\"colorscale\":[[0.0,\"#0d0887\"],[0.1111111111111111,\"#46039f\"],[0.2222222222222222,\"#7201a8\"],[0.3333333333333333,\"#9c179e\"],[0.4444444444444444,\"#bd3786\"],[0.5555555555555556,\"#d8576b\"],[0.6666666666666666,\"#ed7953\"],[0.7777777777777778,\"#fb9f3a\"],[0.8888888888888888,\"#fdca26\"],[1.0,\"#f0f921\"]],\"type\":\"heatmapgl\"}],\"histogram\":[{\"marker\":{\"pattern\":{\"fillmode\":\"overlay\",\"size\":10,\"solidity\":0.2}},\"type\":\"histogram\"}],\"histogram2d\":[{\"colorbar\":{\"outlinewidth\":0,\"ticks\":\"\"},\"colorscale\":[[0.0,\"#0d0887\"],[0.1111111111111111,\"#46039f\"],[0.2222222222222222,\"#7201a8\"],[0.3333333333333333,\"#9c179e\"],[0.4444444444444444,\"#bd3786\"],[0.5555555555555556,\"#d8576b\"],[0.6666666666666666,\"#ed7953\"],[0.7777777777777778,\"#fb9f3a\"],[0.8888888888888888,\"#fdca26\"],[1.0,\"#f0f921\"]],\"type\":\"histogram2d\"}],\"histogram2dcontour\":[{\"colorbar\":{\"outlinewidth\":0,\"ticks\":\"\"},\"colorscale\":[[0.0,\"#0d0887\"],[0.1111111111111111,\"#46039f\"],[0.2222222222222222,\"#7201a8\"],[0.3333333333333333,\"#9c179e\"],[0.4444444444444444,\"#bd3786\"],[0.5555555555555556,\"#d8576b\"],[0.6666666666666666,\"#ed7953\"],[0.7777777777777778,\"#fb9f3a\"],[0.8888888888888888,\"#fdca26\"],[1.0,\"#f0f921\"]],\"type\":\"histogram2dcontour\"}],\"mesh3d\":[{\"colorbar\":{\"outlinewidth\":0,\"ticks\":\"\"},\"type\":\"mesh3d\"}],\"parcoords\":[{\"line\":{\"colorbar\":{\"outlinewidth\":0,\"ticks\":\"\"}},\"type\":\"parcoords\"}],\"pie\":[{\"automargin\":true,\"type\":\"pie\"}],\"scatter\":[{\"marker\":{\"colorbar\":{\"outlinewidth\":0,\"ticks\":\"\"}},\"type\":\"scatter\"}],\"scatter3d\":[{\"line\":{\"colorbar\":{\"outlinewidth\":0,\"ticks\":\"\"}},\"marker\":{\"colorbar\":{\"outlinewidth\":0,\"ticks\":\"\"}},\"type\":\"scatter3d\"}],\"scattercarpet\":[{\"marker\":{\"colorbar\":{\"outlinewidth\":0,\"ticks\":\"\"}},\"type\":\"scattercarpet\"}],\"scattergeo\":[{\"marker\":{\"colorbar\":{\"outlinewidth\":0,\"ticks\":\"\"}},\"type\":\"scattergeo\"}],\"scattergl\":[{\"marker\":{\"colorbar\":{\"outlinewidth\":0,\"ticks\":\"\"}},\"type\":\"scattergl\"}],\"scattermapbox\":[{\"marker\":{\"colorbar\":{\"outlinewidth\":0,\"ticks\":\"\"}},\"type\":\"scattermapbox\"}],\"scatterpolar\":[{\"marker\":{\"colorbar\":{\"outlinewidth\":0,\"ticks\":\"\"}},\"type\":\"scatterpolar\"}],\"scatterpolargl\":[{\"marker\":{\"colorbar\":{\"outlinewidth\":0,\"ticks\":\"\"}},\"type\":\"scatterpolargl\"}],\"scatterternary\":[{\"marker\":{\"colorbar\":{\"outlinewidth\":0,\"ticks\":\"\"}},\"type\":\"scatterternary\"}],\"surface\":[{\"colorbar\":{\"outlinewidth\":0,\"ticks\":\"\"},\"colorscale\":[[0.0,\"#0d0887\"],[0.1111111111111111,\"#46039f\"],[0.2222222222222222,\"#7201a8\"],[0.3333333333333333,\"#9c179e\"],[0.4444444444444444,\"#bd3786\"],[0.5555555555555556,\"#d8576b\"],[0.6666666666666666,\"#ed7953\"],[0.7777777777777778,\"#fb9f3a\"],[0.8888888888888888,\"#fdca26\"],[1.0,\"#f0f921\"]],\"type\":\"surface\"}],\"table\":[{\"cells\":{\"fill\":{\"color\":\"#EBF0F8\"},\"line\":{\"color\":\"white\"}},\"header\":{\"fill\":{\"color\":\"#C8D4E3\"},\"line\":{\"color\":\"white\"}},\"type\":\"table\"}]},\"layout\":{\"annotationdefaults\":{\"arrowcolor\":\"#2a3f5f\",\"arrowhead\":0,\"arrowwidth\":1},\"autotypenumbers\":\"strict\",\"coloraxis\":{\"colorbar\":{\"outlinewidth\":0,\"ticks\":\"\"}},\"colorscale\":{\"diverging\":[[0,\"#8e0152\"],[0.1,\"#c51b7d\"],[0.2,\"#de77ae\"],[0.3,\"#f1b6da\"],[0.4,\"#fde0ef\"],[0.5,\"#f7f7f7\"],[0.6,\"#e6f5d0\"],[0.7,\"#b8e186\"],[0.8,\"#7fbc41\"],[0.9,\"#4d9221\"],[1,\"#276419\"]],\"sequential\":[[0.0,\"#0d0887\"],[0.1111111111111111,\"#46039f\"],[0.2222222222222222,\"#7201a8\"],[0.3333333333333333,\"#9c179e\"],[0.4444444444444444,\"#bd3786\"],[0.5555555555555556,\"#d8576b\"],[0.6666666666666666,\"#ed7953\"],[0.7777777777777778,\"#fb9f3a\"],[0.8888888888888888,\"#fdca26\"],[1.0,\"#f0f921\"]],\"sequentialminus\":[[0.0,\"#0d0887\"],[0.1111111111111111,\"#46039f\"],[0.2222222222222222,\"#7201a8\"],[0.3333333333333333,\"#9c179e\"],[0.4444444444444444,\"#bd3786\"],[0.5555555555555556,\"#d8576b\"],[0.6666666666666666,\"#ed7953\"],[0.7777777777777778,\"#fb9f3a\"],[0.8888888888888888,\"#fdca26\"],[1.0,\"#f0f921\"]]},\"colorway\":[\"#636efa\",\"#EF553B\",\"#00cc96\",\"#ab63fa\",\"#FFA15A\",\"#19d3f3\",\"#FF6692\",\"#B6E880\",\"#FF97FF\",\"#FECB52\"],\"font\":{\"color\":\"#2a3f5f\"},\"geo\":{\"bgcolor\":\"white\",\"lakecolor\":\"white\",\"landcolor\":\"#E5ECF6\",\"showlakes\":true,\"showland\":true,\"subunitcolor\":\"white\"},\"hoverlabel\":{\"align\":\"left\"},\"hovermode\":\"closest\",\"mapbox\":{\"style\":\"light\"},\"paper_bgcolor\":\"white\",\"plot_bgcolor\":\"#E5ECF6\",\"polar\":{\"angularaxis\":{\"gridcolor\":\"white\",\"linecolor\":\"white\",\"ticks\":\"\"},\"bgcolor\":\"#E5ECF6\",\"radialaxis\":{\"gridcolor\":\"white\",\"linecolor\":\"white\",\"ticks\":\"\"}},\"scene\":{\"xaxis\":{\"backgroundcolor\":\"#E5ECF6\",\"gridcolor\":\"white\",\"gridwidth\":2,\"linecolor\":\"white\",\"showbackground\":true,\"ticks\":\"\",\"zerolinecolor\":\"white\"},\"yaxis\":{\"backgroundcolor\":\"#E5ECF6\",\"gridcolor\":\"white\",\"gridwidth\":2,\"linecolor\":\"white\",\"showbackground\":true,\"ticks\":\"\",\"zerolinecolor\":\"white\"},\"zaxis\":{\"backgroundcolor\":\"#E5ECF6\",\"gridcolor\":\"white\",\"gridwidth\":2,\"linecolor\":\"white\",\"showbackground\":true,\"ticks\":\"\",\"zerolinecolor\":\"white\"}},\"shapedefaults\":{\"line\":{\"color\":\"#2a3f5f\"}},\"ternary\":{\"aaxis\":{\"gridcolor\":\"white\",\"linecolor\":\"white\",\"ticks\":\"\"},\"baxis\":{\"gridcolor\":\"white\",\"linecolor\":\"white\",\"ticks\":\"\"},\"bgcolor\":\"#E5ECF6\",\"caxis\":{\"gridcolor\":\"white\",\"linecolor\":\"white\",\"ticks\":\"\"}},\"title\":{\"x\":0.05},\"xaxis\":{\"automargin\":true,\"gridcolor\":\"white\",\"linecolor\":\"white\",\"ticks\":\"\",\"title\":{\"standoff\":15},\"zerolinecolor\":\"white\",\"zerolinewidth\":2},\"yaxis\":{\"automargin\":true,\"gridcolor\":\"white\",\"linecolor\":\"white\",\"ticks\":\"\",\"title\":{\"standoff\":15},\"zerolinecolor\":\"white\",\"zerolinewidth\":2}}},\"xaxis\":{\"anchor\":\"y\",\"domain\":[0.0,1.0],\"title\":{\"text\":\"Date\"},\"showgrid\":false},\"yaxis\":{\"anchor\":\"x\",\"domain\":[0.0,1.0],\"title\":{\"text\":\"Stock value\"},\"showgrid\":false},\"legend\":{\"title\":{\"text\":\"Stock Parameters\"},\"tracegroupgap\":0},\"margin\":{\"t\":60},\"title\":{\"text\":\"Stock analysis chart\"},\"font\":{\"size\":15,\"color\":\"black\"}},                        {\"responsive\": true}                    ).then(function(){\n",
              "                            \n",
              "var gd = document.getElementById('6d15e05e-2dc9-42e4-8c39-191762760e15');\n",
              "var x = new MutationObserver(function (mutations, observer) {{\n",
              "        var display = window.getComputedStyle(gd).display;\n",
              "        if (!display || display === 'none') {{\n",
              "            console.log([gd, 'removed!']);\n",
              "            Plotly.purge(gd);\n",
              "            observer.disconnect();\n",
              "        }}\n",
              "}});\n",
              "\n",
              "// Listen for the removal of the full notebook cells\n",
              "var notebookContainer = gd.closest('#notebook-container');\n",
              "if (notebookContainer) {{\n",
              "    x.observe(notebookContainer, {childList: true});\n",
              "}}\n",
              "\n",
              "// Listen for the clearing of the current output cell\n",
              "var outputEl = gd.closest('.output');\n",
              "if (outputEl) {{\n",
              "    x.observe(outputEl, {childList: true});\n",
              "}}\n",
              "\n",
              "                        })                };                            </script>        </div>\n",
              "</body>\n",
              "</html>"
            ]
          },
          "metadata": {}
        }
      ]
    },
    {
      "cell_type": "markdown",
      "metadata": {
        "papermill": {
          "duration": 0.073383,
          "end_time": "2022-02-16T19:27:11.891348",
          "exception": false,
          "start_time": "2022-02-16T19:27:11.817965",
          "status": "completed"
        },
        "tags": [],
        "id": "36c1e270"
      },
      "source": [
        "What was the moving average of the various stocks?"
      ]
    },
    {
      "cell_type": "code",
      "execution_count": null,
      "metadata": {
        "execution": {
          "iopub.execute_input": "2022-02-16T19:27:08.355819Z",
          "iopub.status.busy": "2022-02-16T19:27:08.346429Z",
          "iopub.status.idle": "2022-02-16T19:27:10.178634Z",
          "shell.execute_reply": "2022-02-16T19:27:10.179205Z",
          "shell.execute_reply.started": "2022-02-16T19:18:06.807319Z"
        },
        "papermill": {
          "duration": 1.880434,
          "end_time": "2022-02-16T19:27:10.179406",
          "exception": false,
          "start_time": "2022-02-16T19:27:08.298972",
          "status": "completed"
        },
        "tags": [],
        "id": "11a7b74a",
        "colab": {
          "base_uri": "https://localhost:8080/",
          "height": 441
        },
        "outputId": "cfe6fa34-cc1d-4056-f96a-447d7f1a86ed"
      },
      "outputs": [
        {
          "output_type": "display_data",
          "data": {
            "text/plain": [
              "<Figure size 1080x432 with 1 Axes>"
            ],
            "image/png": "[encoded data removed]"
          },
          "metadata": {
            "needs_background": "light"
          }
        }
      ],
      "source": [
        "# Let's see a historical view of the closing price\n",
        "plt.figure(figsize=(15, 6))\n",
        "df['Close'].plot()\n",
        "plt.ylabel('Volume')\n",
        "plt.xlabel(None)\n",
        "plt.title(f\"Closing Price of Tesla\")\n",
        "    \n",
        "plt.tight_layout()"
      ]
    },
    {
      "cell_type": "code",
      "source": [
        "ma_day = [10, 20, 50,100]\n",
        "df_moving_average = pd.DataFrame(df['Close'])\n",
        "df_moving_average\n",
        "for ma in ma_day:\n",
        "  column_name = f\"MA for {ma} days\"\n",
        "  df_moving_average[column_name] = df['Close'].rolling(ma).mean()\n",
        "\n",
        "df_moving_average\n",
        "\n",
        "df_moving_average[['Close', 'MA for 10 days', 'MA for 20 days', 'MA for 50 days']].plot(figsize=(15, 10))\n"
      ],
      "metadata": {
        "id": "gqGlJ8ivQR0Z",
        "colab": {
          "base_uri": "https://localhost:8080/",
          "height": 610
        },
        "outputId": "ffeb9858-a780-43f3-b9e3-beaa13c70b61"
      },
      "execution_count": null,
      "outputs": [
        {
          "output_type": "execute_result",
          "data": {
            "text/plain": [
              "<matplotlib.axes._subplots.AxesSubplot at 0x7efda8233810>"
            ]
          },
          "metadata": {},
          "execution_count": 156
        },
        {
          "output_type": "display_data",
          "data": {
            "text/plain": [
              "<Figure size 1080x720 with 1 Axes>"
            ],
            "image/png": "[encoded data removed]"
          },
          "metadata": {
            "needs_background": "light"
          }
        }
      ]
    },
    {
      "cell_type": "markdown",
      "metadata": {
        "papermill": {
          "duration": 0.078222,
          "end_time": "2022-02-16T19:27:14.275551",
          "exception": false,
          "start_time": "2022-02-16T19:27:14.197329",
          "status": "completed"
        },
        "tags": [],
        "id": "a809ad45"
      },
      "source": [
        "What was the daily return of the stock on average?"
      ]
    },
    {
      "cell_type": "markdown",
      "metadata": {
        "papermill": {
          "duration": 0.078284,
          "end_time": "2022-02-16T19:27:14.432528",
          "exception": false,
          "start_time": "2022-02-16T19:27:14.354244",
          "status": "completed"
        },
        "tags": [],
        "id": "9347fc14"
      },
      "source": [
        "Now that we've done some baseline analysis, let's go ahead and dive a little deeper. We're now going to analyze the risk of the stock. In order to do so we'll need to take a closer look at the daily changes of the stock, and not just its absolute value. Let's go ahead and use pandas to retrieve teh daily returns for the Apple stock."
      ]
    },
    {
      "cell_type": "code",
      "execution_count": null,
      "metadata": {
        "execution": {
          "iopub.execute_input": "2022-02-16T19:27:14.601078Z",
          "iopub.status.busy": "2022-02-16T19:27:14.600348Z",
          "iopub.status.idle": "2022-02-16T19:27:16.432387Z",
          "shell.execute_reply": "2022-02-16T19:27:16.432964Z",
          "shell.execute_reply.started": "2022-02-16T19:18:12.132214Z"
        },
        "papermill": {
          "duration": 1.922179,
          "end_time": "2022-02-16T19:27:16.433138",
          "exception": false,
          "start_time": "2022-02-16T19:27:14.510959",
          "status": "completed"
        },
        "tags": [],
        "id": "a79fcd53",
        "colab": {
          "base_uri": "https://localhost:8080/",
          "height": 610
        },
        "outputId": "6d0e557b-3b10-41ab-bed3-ee228385fe82"
      },
      "outputs": [
        {
          "output_type": "execute_result",
          "data": {
            "text/plain": [
              "<matplotlib.axes._subplots.AxesSubplot at 0x7efda82f5c50>"
            ]
          },
          "metadata": {},
          "execution_count": 157
        },
        {
          "output_type": "display_data",
          "data": {
            "text/plain": [
              "<Figure size 1080x720 with 1 Axes>"
            ],
            "image/png": "[encoded data removed]"
          },
          "metadata": {
            "needs_background": "light"
          }
        }
      ],
      "source": [
        "# We'll use pct_change to find the percent change for each day\n",
        "df_daily_return = pd.DataFrame()\n",
        "df_daily_return['Daily Return'] = df['Close'].pct_change()\n",
        "\n",
        "# Then we'll plot the daily return percentage\n",
        "\n",
        "\n",
        "df_daily_return['Daily Return'].plot(legend=True, linestyle='--', marker='o',figsize=(15, 10))"
      ]
    },
    {
      "cell_type": "markdown",
      "metadata": {
        "papermill": {
          "duration": 0.080426,
          "end_time": "2022-02-16T19:27:16.595429",
          "exception": false,
          "start_time": "2022-02-16T19:27:16.515003",
          "status": "completed"
        },
        "tags": [],
        "id": "61866355"
      },
      "source": [
        "Great, now let's get an overall look at the average daily return using a histogram. We'll use seaborn to create both a histogram and kde plot on the same figure."
      ]
    },
    {
      "cell_type": "code",
      "execution_count": null,
      "metadata": {
        "execution": {
          "iopub.execute_input": "2022-02-16T19:27:16.777513Z",
          "iopub.status.busy": "2022-02-16T19:27:16.774356Z",
          "iopub.status.idle": "2022-02-16T19:27:17.790843Z",
          "shell.execute_reply": "2022-02-16T19:27:17.791424Z",
          "shell.execute_reply.started": "2022-02-16T19:19:48.119435Z"
        },
        "papermill": {
          "duration": 1.11475,
          "end_time": "2022-02-16T19:27:17.791632",
          "exception": false,
          "start_time": "2022-02-16T19:27:16.676882",
          "status": "completed"
        },
        "tags": [],
        "id": "ceb0cac7",
        "colab": {
          "base_uri": "https://localhost:8080/",
          "height": 446
        },
        "outputId": "8cce7d53-0054-498f-a1d5-ed9798795ce0"
      },
      "outputs": [
        {
          "output_type": "execute_result",
          "data": {
            "text/plain": [
              "Text(0, 0.5, 'Daily Return')"
            ]
          },
          "metadata": {},
          "execution_count": 158
        },
        {
          "output_type": "display_data",
          "data": {
            "text/plain": [
              "<Figure size 864x504 with 1 Axes>"
            ],
            "image/png": "[encoded data removed]"
          },
          "metadata": {
            "needs_background": "light"
          }
        }
      ],
      "source": [
        "plt.figure(figsize=(12, 7))\n",
        "\n",
        "df_daily_return['Daily Return'].hist(bins=50)\n",
        "plt.ylabel('Daily Return')\n",
        "    "
      ]
    },
    {
      "cell_type": "code",
      "source": [
        "!pip install yfinance"
      ],
      "metadata": {
        "id": "GuuyhvHJsD4Y",
        "colab": {
          "base_uri": "https://localhost:8080/"
        },
        "outputId": "65bca1d1-9a44-4c77-bcc3-45b1f9d0b5a1"
      },
      "execution_count": null,
      "outputs": [
        {
          "output_type": "stream",
          "name": "stdout",
          "text": [
            "Looking in indexes: https://pypi.org/simple, https://us-python.pkg.dev/colab-wheels/public/simple/\n",
            "Collecting yfinance\n",
            "  Downloading yfinance-0.1.74-py2.py3-none-any.whl (27 kB)\n",
            "Requirement already satisfied: lxml>=4.5.1 in /usr/local/lib/python3.7/dist-packages (from yfinance) (4.9.1)\n",
            "Requirement already satisfied: pandas>=0.24.0 in /usr/local/lib/python3.7/dist-packages (from yfinance) (1.3.5)\n",
            "Collecting requests>=2.26\n",
            "  Downloading requests-2.28.1-py3-none-any.whl (62 kB)\n",
            "\u001b[K     |████████████████████████████████| 62 kB 1.7 MB/s \n",
            "\u001b[?25hRequirement already satisfied: multitasking>=0.0.7 in /usr/local/lib/python3.7/dist-packages (from yfinance) (0.0.11)\n",
            "Requirement already satisfied: numpy>=1.15 in /usr/local/lib/python3.7/dist-packages (from yfinance) (1.21.6)\n",
            "Requirement already satisfied: pytz>=2017.3 in /usr/local/lib/python3.7/dist-packages (from pandas>=0.24.0->yfinance) (2022.1)\n",
            "Requirement already satisfied: python-dateutil>=2.7.3 in /usr/local/lib/python3.7/dist-packages (from pandas>=0.24.0->yfinance) (2.8.2)\n",
            "Requirement already satisfied: six>=1.5 in /usr/local/lib/python3.7/dist-packages (from python-dateutil>=2.7.3->pandas>=0.24.0->yfinance) (1.15.0)\n",
            "Requirement already satisfied: certifi>=2017.4.17 in /usr/local/lib/python3.7/dist-packages (from requests>=2.26->yfinance) (2022.6.15)\n",
            "Requirement already satisfied: urllib3<1.27,>=1.21.1 in /usr/local/lib/python3.7/dist-packages (from requests>=2.26->yfinance) (1.24.3)\n",
            "Requirement already satisfied: idna<4,>=2.5 in /usr/local/lib/python3.7/dist-packages (from requests>=2.26->yfinance) (2.10)\n",
            "Requirement already satisfied: charset-normalizer<3,>=2 in /usr/local/lib/python3.7/dist-packages (from requests>=2.26->yfinance) (2.1.0)\n",
            "Installing collected packages: requests, yfinance\n",
            "  Attempting uninstall: requests\n",
            "    Found existing installation: requests 2.23.0\n",
            "    Uninstalling requests-2.23.0:\n",
            "      Successfully uninstalled requests-2.23.0\n",
            "Successfully installed requests-2.28.1 yfinance-0.1.74\n"
          ]
        }
      ]
    },
    {
      "cell_type": "markdown",
      "source": [
        "# Experiment 1"
      ],
      "metadata": {
        "id": "R1bd7c3UCToG"
      }
    },
    {
      "cell_type": "markdown",
      "source": [
        "### Research Question - When a model is trained using only historical time series data for a specific stock, what is the most effective method for forecasting stock prices and trends?"
      ],
      "metadata": {
        "id": "rlD1r4zuCWjE"
      }
    },
    {
      "cell_type": "markdown",
      "source": [
        "## Regression"
      ],
      "metadata": {
        "id": "OyBMj0hFHag-"
      }
    },
    {
      "cell_type": "code",
      "source": [
        "!pip install yfinance\n",
        "import yfinance as yf\n",
        "import pandas as pd\n",
        "import seaborn as sns\n",
        "from datetime import date\n"
      ],
      "metadata": {
        "id": "cmOfUy3KEK5h",
        "colab": {
          "base_uri": "https://localhost:8080/"
        },
        "outputId": "49d17d77-f9b2-4bb7-8b81-889a22204389"
      },
      "execution_count": 3,
      "outputs": [
        {
          "output_type": "stream",
          "name": "stdout",
          "text": [
            "Looking in indexes: https://pypi.org/simple, https://us-python.pkg.dev/colab-wheels/public/simple/\n",
            "Collecting yfinance\n",
            "  Downloading yfinance-0.1.74-py2.py3-none-any.whl (27 kB)\n",
            "Collecting requests>=2.26\n",
            "  Downloading requests-2.28.1-py3-none-any.whl (62 kB)\n",
            "\u001b[K     |████████████████████████████████| 62 kB 652 kB/s \n",
            "\u001b[?25hRequirement already satisfied: numpy>=1.15 in /usr/local/lib/python3.7/dist-packages (from yfinance) (1.21.6)\n",
            "Requirement already satisfied: multitasking>=0.0.7 in /usr/local/lib/python3.7/dist-packages (from yfinance) (0.0.11)\n",
            "Requirement already satisfied: pandas>=0.24.0 in /usr/local/lib/python3.7/dist-packages (from yfinance) (1.3.5)\n",
            "Requirement already satisfied: lxml>=4.5.1 in /usr/local/lib/python3.7/dist-packages (from yfinance) (4.9.1)\n",
            "Requirement already satisfied: pytz>=2017.3 in /usr/local/lib/python3.7/dist-packages (from pandas>=0.24.0->yfinance) (2022.1)\n",
            "Requirement already satisfied: python-dateutil>=2.7.3 in /usr/local/lib/python3.7/dist-packages (from pandas>=0.24.0->yfinance) (2.8.2)\n",
            "Requirement already satisfied: six>=1.5 in /usr/local/lib/python3.7/dist-packages (from python-dateutil>=2.7.3->pandas>=0.24.0->yfinance) (1.15.0)\n",
            "Requirement already satisfied: urllib3<1.27,>=1.21.1 in /usr/local/lib/python3.7/dist-packages (from requests>=2.26->yfinance) (1.24.3)\n",
            "Requirement already satisfied: idna<4,>=2.5 in /usr/local/lib/python3.7/dist-packages (from requests>=2.26->yfinance) (2.10)\n",
            "Requirement already satisfied: charset-normalizer<3,>=2 in /usr/local/lib/python3.7/dist-packages (from requests>=2.26->yfinance) (2.1.0)\n",
            "Requirement already satisfied: certifi>=2017.4.17 in /usr/local/lib/python3.7/dist-packages (from requests>=2.26->yfinance) (2022.6.15)\n",
            "Installing collected packages: requests, yfinance\n",
            "  Attempting uninstall: requests\n",
            "    Found existing installation: requests 2.23.0\n",
            "    Uninstalling requests-2.23.0:\n",
            "      Successfully uninstalled requests-2.23.0\n",
            "Successfully installed requests-2.28.1 yfinance-0.1.74\n"
          ]
        }
      ]
    },
    {
      "cell_type": "code",
      "source": [
        "\n",
        "# Import yfinance package\n",
        "!pip install yfinance\n",
        "import yfinance as yf\n",
        "#Set Ticker \n",
        "ticker = 'TSLA'\n",
        "stock = yf.Ticker(ticker)\n",
        "\n",
        "# get historical market data\n",
        "hist = stock.history(period=\"max\")\n",
        "\n",
        "# Set the start and end date\n",
        "start_date = '2018-01-01'\n",
        "end_date = today = date.today()\n",
        "\n",
        "# Get the data\n",
        "df_1 = stock.history(period ='max', rounding=True, start=start_date, end = end_date)\n",
        "\n",
        "\n",
        "df_1.reset_index(inplace=True)\n",
        "df_1_backup = df_1\n",
        "df_1.info()\n",
        "df_1.head()\n"
      ],
      "metadata": {
        "colab": {
          "base_uri": "https://localhost:8080/",
          "height": 745
        },
        "id": "ORPeTKuzC6PV",
        "outputId": "f9387b6d-77db-4922-94da-b43e42d52390"
      },
      "execution_count": 4,
      "outputs": [
        {
          "output_type": "stream",
          "name": "stdout",
          "text": [
            "Looking in indexes: https://pypi.org/simple, https://us-python.pkg.dev/colab-wheels/public/simple/\n",
            "Requirement already satisfied: yfinance in /usr/local/lib/python3.7/dist-packages (0.1.74)\n",
            "Requirement already satisfied: multitasking>=0.0.7 in /usr/local/lib/python3.7/dist-packages (from yfinance) (0.0.11)\n",
            "Requirement already satisfied: numpy>=1.15 in /usr/local/lib/python3.7/dist-packages (from yfinance) (1.21.6)\n",
            "Requirement already satisfied: lxml>=4.5.1 in /usr/local/lib/python3.7/dist-packages (from yfinance) (4.9.1)\n",
            "Requirement already satisfied: pandas>=0.24.0 in /usr/local/lib/python3.7/dist-packages (from yfinance) (1.3.5)\n",
            "Requirement already satisfied: requests>=2.26 in /usr/local/lib/python3.7/dist-packages (from yfinance) (2.28.1)\n",
            "Requirement already satisfied: python-dateutil>=2.7.3 in /usr/local/lib/python3.7/dist-packages (from pandas>=0.24.0->yfinance) (2.8.2)\n",
            "Requirement already satisfied: pytz>=2017.3 in /usr/local/lib/python3.7/dist-packages (from pandas>=0.24.0->yfinance) (2022.1)\n",
            "Requirement already satisfied: six>=1.5 in /usr/local/lib/python3.7/dist-packages (from python-dateutil>=2.7.3->pandas>=0.24.0->yfinance) (1.15.0)\n",
            "Requirement already satisfied: charset-normalizer<3,>=2 in /usr/local/lib/python3.7/dist-packages (from requests>=2.26->yfinance) (2.1.0)\n",
            "Requirement already satisfied: urllib3<1.27,>=1.21.1 in /usr/local/lib/python3.7/dist-packages (from requests>=2.26->yfinance) (1.24.3)\n",
            "Requirement already satisfied: certifi>=2017.4.17 in /usr/local/lib/python3.7/dist-packages (from requests>=2.26->yfinance) (2022.6.15)\n",
            "Requirement already satisfied: idna<4,>=2.5 in /usr/local/lib/python3.7/dist-packages (from requests>=2.26->yfinance) (2.10)\n",
            "<class 'pandas.core.frame.DataFrame'>\n",
            "RangeIndex: 1157 entries, 0 to 1156\n",
            "Data columns (total 8 columns):\n",
            " #   Column        Non-Null Count  Dtype         \n",
            "---  ------        --------------  -----         \n",
            " 0   Date          1157 non-null   datetime64[ns]\n",
            " 1   Open          1157 non-null   float64       \n",
            " 2   High          1157 non-null   float64       \n",
            " 3   Low           1157 non-null   float64       \n",
            " 4   Close         1157 non-null   float64       \n",
            " 5   Volume        1157 non-null   int64         \n",
            " 6   Dividends     1157 non-null   int64         \n",
            " 7   Stock Splits  1157 non-null   float64       \n",
            "dtypes: datetime64[ns](1), float64(5), int64(2)\n",
            "memory usage: 72.4 KB\n"
          ]
        },
        {
          "output_type": "execute_result",
          "data": {
            "text/plain": [
              "        Date   Open   High    Low  Close    Volume  Dividends  Stock Splits\n",
              "0 2018-01-02  62.40  64.42  62.20  64.11  21761000          0           0.0\n",
              "1 2018-01-03  64.20  65.05  63.11  63.45  22607500          0           0.0\n",
              "2 2018-01-04  62.57  63.71  61.14  62.92  49731500          0           0.0\n",
              "3 2018-01-05  63.32  63.45  62.40  63.32  22956000          0           0.0\n",
              "4 2018-01-08  63.20  67.40  63.10  67.28  49297000          0           0.0"
            ],
            "text/html": [
              "\n",
              "  <div id=\"df-3acfbbcb-3c79-4cf8-9f70-abba6220734c\">\n",
              "    <div class=\"colab-df-container\">\n",
              "      <div>\n",
              "<style scoped>\n",
              "    .dataframe tbody tr th:only-of-type {\n",
              "        vertical-align: middle;\n",
              "    }\n",
              "\n",
              "    .dataframe tbody tr th {\n",
              "        vertical-align: top;\n",
              "    }\n",
              "\n",
              "    .dataframe thead th {\n",
              "        text-align: right;\n",
              "    }\n",
              "</style>\n",
              "<table border=\"1\" class=\"dataframe\">\n",
              "  <thead>\n",
              "    <tr style=\"text-align: right;\">\n",
              "      <th></th>\n",
              "      <th>Date</th>\n",
              "      <th>Open</th>\n",
              "      <th>High</th>\n",
              "      <th>Low</th>\n",
              "      <th>Close</th>\n",
              "      <th>Volume</th>\n",
              "      <th>Dividends</th>\n",
              "      <th>Stock Splits</th>\n",
              "    </tr>\n",
              "  </thead>\n",
              "  <tbody>\n",
              "    <tr>\n",
              "      <th>0</th>\n",
              "      <td>2018-01-02</td>\n",
              "      <td>62.40</td>\n",
              "      <td>64.42</td>\n",
              "      <td>62.20</td>\n",
              "      <td>64.11</td>\n",
              "      <td>21761000</td>\n",
              "      <td>0</td>\n",
              "      <td>0.0</td>\n",
              "    </tr>\n",
              "    <tr>\n",
              "      <th>1</th>\n",
              "      <td>2018-01-03</td>\n",
              "      <td>64.20</td>\n",
              "      <td>65.05</td>\n",
              "      <td>63.11</td>\n",
              "      <td>63.45</td>\n",
              "      <td>22607500</td>\n",
              "      <td>0</td>\n",
              "      <td>0.0</td>\n",
              "    </tr>\n",
              "    <tr>\n",
              "      <th>2</th>\n",
              "      <td>2018-01-04</td>\n",
              "      <td>62.57</td>\n",
              "      <td>63.71</td>\n",
              "      <td>61.14</td>\n",
              "      <td>62.92</td>\n",
              "      <td>49731500</td>\n",
              "      <td>0</td>\n",
              "      <td>0.0</td>\n",
              "    </tr>\n",
              "    <tr>\n",
              "      <th>3</th>\n",
              "      <td>2018-01-05</td>\n",
              "      <td>63.32</td>\n",
              "      <td>63.45</td>\n",
              "      <td>62.40</td>\n",
              "      <td>63.32</td>\n",
              "      <td>22956000</td>\n",
              "      <td>0</td>\n",
              "      <td>0.0</td>\n",
              "    </tr>\n",
              "    <tr>\n",
              "      <th>4</th>\n",
              "      <td>2018-01-08</td>\n",
              "      <td>63.20</td>\n",
              "      <td>67.40</td>\n",
              "      <td>63.10</td>\n",
              "      <td>67.28</td>\n",
              "      <td>49297000</td>\n",
              "      <td>0</td>\n",
              "      <td>0.0</td>\n",
              "    </tr>\n",
              "  </tbody>\n",
              "</table>\n",
              "</div>\n",
              "      <button class=\"colab-df-convert\" onclick=\"convertToInteractive('df-3acfbbcb-3c79-4cf8-9f70-abba6220734c')\"\n",
              "              title=\"Convert this dataframe to an interactive table.\"\n",
              "              style=\"display:none;\">\n",
              "        \n",
              "  <svg xmlns=\"http://www.w3.org/2000/svg\" height=\"24px\"viewBox=\"0 0 24 24\"\n",
              "       width=\"24px\">\n",
              "    <path d=\"M0 0h24v24H0V0z\" fill=\"none\"/>\n",
              "    <path d=\"M18.56 5.44l.94 2.06.94-2.06 2.06-.94-2.06-.94-.94-2.06-.94 2.06-2.06.94zm-11 1L8.5 8.5l.94-2.06 2.06-.94-2.06-.94L8.5 2.5l-.94 2.06-2.06.94zm10 10l.94 2.06.94-2.06 2.06-.94-2.06-.94-.94-2.06-.94 2.06-2.06.94z\"/><path d=\"M17.41 7.96l-1.37-1.37c-.4-.4-.92-.59-1.43-.59-.52 0-1.04.2-1.43.59L10.3 9.45l-7.72 7.72c-.78.78-.78 2.05 0 2.83L4 21.41c.39.39.9.59 1.41.59.51 0 1.02-.2 1.41-.59l7.78-7.78 2.81-2.81c.8-.78.8-2.07 0-2.86zM5.41 20L4 18.59l7.72-7.72 1.47 1.35L5.41 20z\"/>\n",
              "  </svg>\n",
              "      </button>\n",
              "      \n",
              "  <style>\n",
              "    .colab-df-container {\n",
              "      display:flex;\n",
              "      flex-wrap:wrap;\n",
              "      gap: 12px;\n",
              "    }\n",
              "\n",
              "    .colab-df-convert {\n",
              "      background-color: #E8F0FE;\n",
              "      border: none;\n",
              "      border-radius: 50%;\n",
              "      cursor: pointer;\n",
              "      display: none;\n",
              "      fill: #1967D2;\n",
              "      height: 32px;\n",
              "      padding: 0 0 0 0;\n",
              "      width: 32px;\n",
              "    }\n",
              "\n",
              "    .colab-df-convert:hover {\n",
              "      background-color: #E2EBFA;\n",
              "      box-shadow: 0px 1px 2px rgba(60, 64, 67, 0.3), 0px 1px 3px 1px rgba(60, 64, 67, 0.15);\n",
              "      fill: #174EA6;\n",
              "    }\n",
              "\n",
              "    [theme=dark] .colab-df-convert {\n",
              "      background-color: #3B4455;\n",
              "      fill: #D2E3FC;\n",
              "    }\n",
              "\n",
              "    [theme=dark] .colab-df-convert:hover {\n",
              "      background-color: #434B5C;\n",
              "      box-shadow: 0px 1px 3px 1px rgba(0, 0, 0, 0.15);\n",
              "      filter: drop-shadow(0px 1px 2px rgba(0, 0, 0, 0.3));\n",
              "      fill: #FFFFFF;\n",
              "    }\n",
              "  </style>\n",
              "\n",
              "      <script>\n",
              "        const buttonEl =\n",
              "          document.querySelector('#df-3acfbbcb-3c79-4cf8-9f70-abba6220734c button.colab-df-convert');\n",
              "        buttonEl.style.display =\n",
              "          google.colab.kernel.accessAllowed ? 'block' : 'none';\n",
              "\n",
              "        async function convertToInteractive(key) {\n",
              "          const element = document.querySelector('#df-3acfbbcb-3c79-4cf8-9f70-abba6220734c');\n",
              "          const dataTable =\n",
              "            await google.colab.kernel.invokeFunction('convertToInteractive',\n",
              "                                                     [key], {});\n",
              "          if (!dataTable) return;\n",
              "\n",
              "          const docLinkHtml = 'Like what you see? Visit the ' +\n",
              "            '<a target=\"_blank\" href=https://colab.research.google.com/notebooks/data_table.ipynb>data table notebook</a>'\n",
              "            + ' to learn more about interactive tables.';\n",
              "          element.innerHTML = '';\n",
              "          dataTable['output_type'] = 'display_data';\n",
              "          await google.colab.output.renderOutput(dataTable, element);\n",
              "          const docLink = document.createElement('div');\n",
              "          docLink.innerHTML = docLinkHtml;\n",
              "          element.appendChild(docLink);\n",
              "        }\n",
              "      </script>\n",
              "    </div>\n",
              "  </div>\n",
              "  "
            ]
          },
          "metadata": {},
          "execution_count": 4
        }
      ]
    },
    {
      "cell_type": "code",
      "source": [
        "def labelDataset(row):\n",
        "  if row.Close-row.Open > 0:\n",
        "    target=1\n",
        "  else:\n",
        "    target=0\n",
        "  row['Target'] = target\n",
        "  return row\n",
        "df_1=df_1.apply(labelDataset, axis=1) "
      ],
      "metadata": {
        "id": "IGqquf6UOM_s"
      },
      "execution_count": 5,
      "outputs": []
    },
    {
      "cell_type": "code",
      "source": [
        "# Splitting data using split function as we need to maintain the order of the date\n",
        "train_set, test_set= np.split(df_1, [int(.67 *len(df_1))])\n"
      ],
      "metadata": {
        "id": "LGGfcJfSDY0N"
      },
      "execution_count": 6,
      "outputs": []
    },
    {
      "cell_type": "code",
      "execution_count": 7,
      "metadata": {
        "id": "nh0UDAvZPBqd"
      },
      "outputs": [],
      "source": [
        "# Split the dataset\n",
        "#X_train, X_test, y_train, y_test = train_test_split(X, y, test_size = 0.20, random_state = 0)\n",
        "\n",
        "X_train_bkup = train_set\n",
        "X_test_bkup = test_set\n",
        "y_train = train_set['Close']\n",
        "X_train = train_set.drop(columns=['Date','Close'])\n",
        "\n",
        "y_test =  test_set['Close']\n",
        "X_test = test_set.drop(columns=['Date','Close'])"
      ]
    },
    {
      "cell_type": "markdown",
      "metadata": {
        "id": "wcKqDZtVsEdz"
      },
      "source": [
        "### Preprocessing Pipeline"
      ]
    },
    {
      "cell_type": "code",
      "execution_count": 8,
      "metadata": {
        "id": "k0E2r45vsEdz"
      },
      "outputs": [],
      "source": [
        "# store a list with the names of all predictors\n",
        "\n",
        "names_all = [c for c in  df_1 if c not in ['Close','Date']]\n",
        "names_no_outliers = list(set(names_all))\n"
      ]
    },
    {
      "cell_type": "code",
      "execution_count": 9,
      "metadata": {
        "id": "lNbKgmELsEdz"
      },
      "outputs": [],
      "source": [
        "class AddColumnNames(BaseEstimator, TransformerMixin):\n",
        "    def __init__(self, columns):\n",
        "        self.columns = columns\n",
        "\n",
        "    def fit(self, X, y=None):\n",
        "        return self\n",
        "\n",
        "    def transform(self, X):\n",
        "        return pd.DataFrame(data=X, columns=self.columns)"
      ]
    },
    {
      "cell_type": "code",
      "execution_count": 10,
      "metadata": {
        "id": "QwaGpifGsEdz"
      },
      "outputs": [],
      "source": [
        "class ColumnSelector(BaseEstimator, TransformerMixin):\n",
        "    def __init__(self, columns):\n",
        "        self.columns = columns\n",
        "\n",
        "    def fit(self, X, y=None):\n",
        "        return self\n",
        "\n",
        "    def transform(self, X):\n",
        "        assert isinstance(X, pd.DataFrame)\n",
        "        return X[self.columns]"
      ]
    },
    {
      "cell_type": "code",
      "execution_count": 11,
      "metadata": {
        "id": "f0n4qjKjsEdz"
      },
      "outputs": [],
      "source": [
        "preprocess_pipeline = make_pipeline(\n",
        "    AddColumnNames(columns=names_all),\n",
        "    FeatureUnion(transformer_list=[\n",
        "        (\"no_outlier_columns\", make_pipeline(\n",
        "            ColumnSelector(columns=names_no_outliers),\n",
        "            StandardScaler()\n",
        "        ))\n",
        "    ])\n",
        ")"
      ]
    },
    {
      "cell_type": "code",
      "execution_count": 12,
      "metadata": {
        "colab": {
          "base_uri": "https://localhost:8080/"
        },
        "outputId": "0b984575-0a57-4895-fcec-9c0d8aad5ba4",
        "id": "yiKcuS8CsEd0"
      },
      "outputs": [
        {
          "output_type": "stream",
          "name": "stdout",
          "text": [
            "(775, 7)\n",
            "(775,)\n"
          ]
        }
      ],
      "source": [
        "print(X_train.shape)\n",
        "print(y_train.shape)"
      ]
    },
    {
      "cell_type": "code",
      "execution_count": 13,
      "metadata": {
        "colab": {
          "base_uri": "https://localhost:8080/"
        },
        "outputId": "d2e627ac-88f1-410c-b955-f7ab325016ed",
        "id": "ZzyzD7zYFQVs"
      },
      "outputs": [
        {
          "output_type": "stream",
          "name": "stdout",
          "text": [
            "Best CV score = 0.057:\n",
            "Best parameters:  {'reduce_dim': RFE(estimator=LinearRegression(), n_features_to_select=2), 'reduce_dim__n_features_to_select': 2, 'regresson__max_depth': 8}\n"
          ]
        }
      ],
      "source": [
        "# create the pipeline\n",
        "pipe = Pipeline(steps=[('preprocess', preprocess_pipeline), \n",
        "                       ('reduce_dim', 'passthrough'),\n",
        "                       ('regresson', RandomForestRegressor(n_estimators=10))])\n",
        "# prepare a prameter grid\n",
        "N_FEATURES_OPTIONS = [2, 6, 11]\n",
        "MAX_DEPTH_OPTIONS = [2, 4, 6, 8]\n",
        "\n",
        "\n",
        "param_grid = [\n",
        "    {\n",
        "        'reduce_dim': [PCA(iterated_power=7)],\n",
        "        'reduce_dim__n_components': N_FEATURES_OPTIONS,\n",
        "        'regresson__max_depth': MAX_DEPTH_OPTIONS,\n",
        "\n",
        "    },\n",
        "    {\n",
        "        'reduce_dim': [RFE(svm.SVR(kernel='linear', gamma='auto')),RFE(LinearRegression())],\n",
        "        'reduce_dim__n_features_to_select': N_FEATURES_OPTIONS,\n",
        "        'regresson__max_depth': MAX_DEPTH_OPTIONS\n",
        "    }  \n",
        "]\n",
        "\n",
        "search = GridSearchCV(pipe, param_grid, n_jobs=-1, cv=5, refit=True)\n",
        "search.fit(X_train, y_train)\n",
        "\n",
        "print(\"Best CV score = %0.3f:\" % search.best_score_)\n",
        "print(\"Best parameters: \", search.best_params_)\n",
        "\n",
        "# store the best params and best model for later use\n",
        "RF_best_params = search.best_params_\n",
        "RF_best_model = search.best_estimator_"
      ]
    },
    {
      "cell_type": "code",
      "source": [
        "pipe = Pipeline(steps=[('preprocess', preprocess_pipeline), \n",
        "                       ('reduce_dim', 'passthrough'),\n",
        "                       ('regresson', LinearRegression())])\n",
        "\n",
        "N_FEATURES_OPTIONS = [1, 2, 2]\n",
        "NORMALIZE_OPTIONS = [False]\n",
        "\n",
        "param_grid = [\n",
        "    {\n",
        "        'reduce_dim': [PCA(iterated_power=1)],\n",
        "        'reduce_dim__n_components': N_FEATURES_OPTIONS,\n",
        "        'regresson__normalize': NORMALIZE_OPTIONS\n",
        "    },\n",
        "    {\n",
        "        'reduce_dim': [RFE(svm.SVR(kernel='linear', gamma='auto')),RFE(LinearRegression())],\n",
        "        'reduce_dim__n_features_to_select': N_FEATURES_OPTIONS,\n",
        "        'regresson__normalize': NORMALIZE_OPTIONS\n",
        "    }  \n",
        "]\n",
        "\n",
        "search = GridSearchCV(pipe, param_grid, n_jobs=-1, cv=5, refit=True)\n",
        "search.fit(X_train, y_train)\n",
        "print(\"Best CV score = %0.3f:\" % search.best_score_)\n",
        "print(\"Best parameters: \", search.best_params_)\n",
        "\n",
        "# store the best params and best model for later use\n",
        "LR_best_params = search.best_params_\n",
        "LR_best_model = search.best_estimator_"
      ],
      "metadata": {
        "colab": {
          "base_uri": "https://localhost:8080/"
        },
        "outputId": "276194b0-1f6b-4d91-da54-c6bacc705d3e",
        "id": "5ObnY8pcFQVt"
      },
      "execution_count": 14,
      "outputs": [
        {
          "output_type": "stream",
          "name": "stdout",
          "text": [
            "Best CV score = 0.984:\n",
            "Best parameters:  {'reduce_dim': RFE(estimator=SVR(gamma='auto', kernel='linear'), n_features_to_select=2), 'reduce_dim__n_features_to_select': 2, 'regresson__normalize': False}\n"
          ]
        }
      ]
    },
    {
      "cell_type": "code",
      "execution_count": 15,
      "metadata": {
        "colab": {
          "base_uri": "https://localhost:8080/"
        },
        "outputId": "2bf232f5-80de-46c8-d0fd-cb744cc995f4",
        "id": "5e4cjv31FQVt"
      },
      "outputs": [
        {
          "output_type": "stream",
          "name": "stdout",
          "text": [
            "Best CV score = -0.733:\n",
            "Best parameters:  {'knn__n_neighbors': 3}\n"
          ]
        }
      ],
      "source": [
        "# create the pipeline\n",
        "pipe = Pipeline(steps=[('preprocess', preprocess_pipeline), ('knn', KNeighborsRegressor())])\n",
        "\n",
        "param_grid = {\n",
        "'knn__n_neighbors': list(range(1, 31))\n",
        "}\n",
        "\n",
        "search = GridSearchCV(pipe, param_grid, n_jobs=-1, cv=5, refit=True)\n",
        "search.fit(X_train, y_train) #trainign happens here!\n",
        "\n",
        "print(\"Best CV score = %0.3f:\" % search.best_score_)\n",
        "print(\"Best parameters: \", search.best_params_)\n",
        "\n",
        "# store the best params and best model for later use\n",
        "KNN_best_params = search.best_params_\n",
        "KNN_best_model = search.best_estimator_"
      ]
    },
    {
      "cell_type": "code",
      "execution_count": 16,
      "metadata": {
        "colab": {
          "base_uri": "https://localhost:8080/"
        },
        "outputId": "9c85d765-578c-4acd-b06d-3f83eca83fd6",
        "id": "b0Wpz7DPFQVt"
      },
      "outputs": [
        {
          "output_type": "stream",
          "name": "stdout",
          "text": [
            "Best CV score = 0.070:\n",
            "Best parameters:  {'dec__criterion': 'absolute_error', 'dec__max_depth': 8}\n"
          ]
        }
      ],
      "source": [
        "# create the pipeline\n",
        "pipe = Pipeline(steps=[('preprocess', preprocess_pipeline), ('dec', DecisionTreeRegressor())])\n",
        "\n",
        "\n",
        "param_grid = {\n",
        "'dec__criterion': [\"squared_error\", \"friedman_mse\", \"absolute_error\", \"poisson\"],\n",
        "'dec__max_depth': [2,4,6,8,10]  \n",
        "}\n",
        "\n",
        "search = GridSearchCV(pipe, param_grid, n_jobs=-1, cv=5, refit=True)\n",
        "search.fit(X_train, y_train) #trainig happens here!\n",
        "\n",
        "print(\"Best CV score = %0.3f:\" % search.best_score_)\n",
        "print(\"Best parameters: \", search.best_params_)\n",
        "\n",
        "# store the best params and best model for later use\n",
        "DEC_best_params = search.best_params_\n",
        "DEC_best_model = search.best_estimator_"
      ]
    },
    {
      "cell_type": "code",
      "execution_count": 17,
      "metadata": {
        "id": "0SSI6MDiFQVt"
      },
      "outputs": [],
      "source": [
        "mean_fpr = np.linspace(start=0, stop=1, num=100)"
      ]
    },
    {
      "cell_type": "code",
      "execution_count": 18,
      "metadata": {
        "id": "_jinNugvFQVt"
      },
      "outputs": [],
      "source": [
        "# model - a trained regression model\n",
        "\n",
        "def evaluate_model(X_test, y_test, model):\n",
        "    \n",
        "    # compute predictiond for the test set\n",
        "    _predicted_values = model.predict(X_test)\n",
        "        \n",
        "    # compute metrics\n",
        "    _mse = mean_squared_error(y_test, _predicted_values)\n",
        "    _mae = mean_absolute_error(y_test, _predicted_values)\n",
        "    _r2 = r2_score(y_test, _predicted_values)\n",
        "            \n",
        "    return _mse, _mae, _r2, _predicted_values"
      ]
    },
    {
      "cell_type": "code",
      "execution_count": 19,
      "metadata": {
        "id": "swJvoLlGFQVt"
      },
      "outputs": [],
      "source": [
        "RF_mse, RF_mae, RF_r2, RF_predicted_values = evaluate_model(X_test, y_test, RF_best_model)\n",
        "LR_mse, LR_mae, LR_r2, LR_predicted_values = evaluate_model(X_test, y_test, LR_best_model)\n",
        "KNN_mse, KNN_mae, KNN_r2, KNN_predicted =  evaluate_model(X_test, y_test, KNN_best_model)\n",
        "DEC_mse, DEC_mae, DEC_r2, DEC_predicted =  evaluate_model(X_test, y_test, DEC_best_model)\n",
        "\n"
      ]
    },
    {
      "cell_type": "code",
      "source": [
        "print(LR_mse, LR_mae, LR_r2)"
      ],
      "metadata": {
        "colab": {
          "base_uri": "https://localhost:8080/"
        },
        "id": "NkpprGE80XhD",
        "outputId": "d6dae188-e0c6-45fa-87fc-80d8da0dbf5a"
      },
      "execution_count": 20,
      "outputs": [
        {
          "output_type": "stream",
          "name": "stdout",
          "text": [
            "274.73075814225535 12.113769156233214 0.9892599537955999\n"
          ]
        }
      ]
    },
    {
      "cell_type": "code",
      "source": [
        "df_mse = pd.DataFrame({'Random Forest': RF_mse, 'Linear Regression': LR_mse, 'KNN Regression' : KNN_mse, 'Decision Tree Regression' : DEC_mse}, index=['MSE'])\n",
        "df_mae = pd.DataFrame({'Random Forest': RF_mae, 'Linear Regression': LR_mae, 'KNN Regression' : KNN_mae, 'Decision Tree Regression' : DEC_mae}, index=['MAE'])\n",
        "df_r2 = pd.DataFrame({'Random Forest': RF_r2, 'Linear Regression': LR_r2, 'KNN Regression': KNN_r2, 'Decision Tree Regression' : DEC_r2}, index=['R2'])\n",
        "\n",
        "fig, axes = plt.subplots(nrows=1, ncols=3, figsize=(20, 5))\n",
        "\n",
        "df_mse.plot.bar(rot=0, ax=axes[0])\n",
        "df_mae.plot.bar(rot=0, ax=axes[1])\n",
        "df_r2.plot.bar(rot=0, ax=axes[2])\n",
        "\n",
        "plt.show()"
      ],
      "metadata": {
        "colab": {
          "base_uri": "https://localhost:8080/",
          "height": 180
        },
        "outputId": "5b09038f-cff3-4543-d817-9a2aa16097d1",
        "id": "GaEgv_xeFQVt"
      },
      "execution_count": 21,
      "outputs": [
        {
          "output_type": "display_data",
          "data": {
            "text/plain": [
              "<Figure size 1440x360 with 3 Axes>"
            ],
            "image/png": "[encoded data removed]"
          },
          "metadata": {
            "needs_background": "light"
          }
        }
      ]
    },
    {
      "cell_type": "code",
      "source": [
        "from itertools import cycle\n",
        "import plotly.express as px\n",
        "#LR_inverse =  scalar.inverse_transform(pd.DataFrame(LR_predicted_values))\n",
        "#RF_inverse =  scalar.inverse_transform(pd.DataFrame(RF_predicted_values))\n",
        "names = cycle(['Linear Regression','RandomForest', 'KNN','Decision tree','Actual'])\n",
        "\n",
        "fig =px.line(df_1, x=X_test_bkup.Date, y=[LR_predicted_values, RF_predicted_values,KNN_predicted, DEC_predicted, y_test],\n",
        "            labels={'Date': 'Date','value':'Stock value'})\n",
        "fig.update_layout(title_text='Stock analysis chart', font_size=15, font_color='black',legend_title_text='Stock Parameters')\n",
        "fig.for_each_trace(lambda t:  t.update(name = next(names)))\n",
        "fig.update_xaxes(showgrid=False)\n",
        "fig.update_yaxes(showgrid=False)\n",
        "\n",
        "fig.show()"
      ],
      "metadata": {
        "colab": {
          "base_uri": "https://localhost:8080/",
          "height": 542
        },
        "outputId": "3ce88a23-2b03-4d44-b52a-c3332edf7e2b",
        "id": "ozxhjuo9FQVu"
      },
      "execution_count": 22,
      "outputs": [
        {
          "output_type": "display_data",
          "data": {
            "text/html": [
              "<html>\n",
              "<head><meta charset=\"utf-8\" /></head>\n",
              "<body>\n",
              "    <div>            <script src=\"https://cdnjs.cloudflare.com/ajax/libs/mathjax/2.7.5/MathJax.js?config=TeX-AMS-MML_SVG\"></script><script type=\"text/javascript\">if (window.MathJax) {MathJax.Hub.Config({SVG: {font: \"STIX-Web\"}});}</script>                <script type=\"text/javascript\">window.PlotlyConfig = {MathJaxConfig: 'local'};</script>\n",
              "        <script src=\"https://cdn.plot.ly/plotly-2.8.3.min.js\"></script>                <div id=\"05a22e6c-44a6-4042-b736-b38001da37ad\" class=\"plotly-graph-div\" style=\"height:525px; width:100%;\"></div>            <script type=\"text/javascript\">                                    window.PLOTLYENV=window.PLOTLYENV || {};                                    if (document.getElementById(\"05a22e6c-44a6-4042-b736-b38001da37ad\")) {                    Plotly.newPlot(                        \"05a22e6c-44a6-4042-b736-b38001da37ad\",                        [{\"hovertemplate\":\"variable=wide_variable_0<br>x=%{x}<br>Stock value=%{y}<extra></extra>\",\"legendgroup\":\"wide_variable_0\",\"line\":{\"color\":\"#636efa\",\"dash\":\"solid\"},\"marker\":{\"symbol\":\"circle\"},\"mode\":\"lines\",\"name\":\"Linear Regression\",\"showlegend\":true,\"x\":[\"2021-02-01T00:00:00\",\"2021-02-02T00:00:00\",\"2021-02-03T00:00:00\",\"2021-02-04T00:00:00\",\"2021-02-05T00:00:00\",\"2021-02-08T00:00:00\",\"2021-02-09T00:00:00\",\"2021-02-10T00:00:00\",\"2021-02-11T00:00:00\",\"2021-02-12T00:00:00\",\"2021-02-16T00:00:00\",\"2021-02-17T00:00:00\",\"2021-02-18T00:00:00\",\"2021-02-19T00:00:00\",\"2021-02-22T00:00:00\",\"2021-02-23T00:00:00\",\"2021-02-24T00:00:00\",\"2021-02-25T00:00:00\",\"2021-02-26T00:00:00\",\"2021-03-01T00:00:00\",\"2021-03-02T00:00:00\",\"2021-03-03T00:00:00\",\"2021-03-04T00:00:00\",\"2021-03-05T00:00:00\",\"2021-03-08T00:00:00\",\"2021-03-09T00:00:00\",\"2021-03-10T00:00:00\",\"2021-03-11T00:00:00\",\"2021-03-12T00:00:00\",\"2021-03-15T00:00:00\",\"2021-03-16T00:00:00\",\"2021-03-17T00:00:00\",\"2021-03-18T00:00:00\",\"2021-03-19T00:00:00\",\"2021-03-22T00:00:00\",\"2021-03-23T00:00:00\",\"2021-03-24T00:00:00\",\"2021-03-25T00:00:00\",\"2021-03-26T00:00:00\",\"2021-03-29T00:00:00\",\"2021-03-30T00:00:00\",\"2021-03-31T00:00:00\",\"2021-04-01T00:00:00\",\"2021-04-05T00:00:00\",\"2021-04-06T00:00:00\",\"2021-04-07T00:00:00\",\"2021-04-08T00:00:00\",\"2021-04-09T00:00:00\",\"2021-04-12T00:00:00\",\"2021-04-13T00:00:00\",\"2021-04-14T00:00:00\",\"2021-04-15T00:00:00\",\"2021-04-16T00:00:00\",\"2021-04-19T00:00:00\",\"2021-04-20T00:00:00\",\"2021-04-21T00:00:00\",\"2021-04-22T00:00:00\",\"2021-04-23T00:00:00\",\"2021-04-26T00:00:00\",\"2021-04-27T00:00:00\",\"2021-04-28T00:00:00\",\"2021-04-29T00:00:00\",\"2021-04-30T00:00:00\",\"2021-05-03T00:00:00\",\"2021-05-04T00:00:00\",\"2021-05-05T00:00:00\",\"2021-05-06T00:00:00\",\"2021-05-07T00:00:00\",\"2021-05-10T00:00:00\",\"2021-05-11T00:00:00\",\"2021-05-12T00:00:00\",\"2021-05-13T00:00:00\",\"2021-05-14T00:00:00\",\"2021-05-17T00:00:00\",\"2021-05-18T00:00:00\",\"2021-05-19T00:00:00\",\"2021-05-20T00:00:00\",\"2021-05-21T00:00:00\",\"2021-05-24T00:00:00\",\"2021-05-25T00:00:00\",\"2021-05-26T00:00:00\",\"2021-05-27T00:00:00\",\"2021-05-28T00:00:00\",\"2021-06-01T00:00:00\",\"2021-06-02T00:00:00\",\"2021-06-03T00:00:00\",\"2021-06-04T00:00:00\",\"2021-06-07T00:00:00\",\"2021-06-08T00:00:00\",\"2021-06-09T00:00:00\",\"2021-06-10T00:00:00\",\"2021-06-11T00:00:00\",\"2021-06-14T00:00:00\",\"2021-06-15T00:00:00\",\"2021-06-16T00:00:00\",\"2021-06-17T00:00:00\",\"2021-06-18T00:00:00\",\"2021-06-21T00:00:00\",\"2021-06-22T00:00:00\",\"2021-06-23T00:00:00\",\"2021-06-24T00:00:00\",\"2021-06-25T00:00:00\",\"2021-06-28T00:00:00\",\"2021-06-29T00:00:00\",\"2021-06-30T00:00:00\",\"2021-07-01T00:00:00\",\"2021-07-02T00:00:00\",\"2021-07-06T00:00:00\",\"2021-07-07T00:00:00\",\"2021-07-08T00:00:00\",\"2021-07-09T00:00:00\",\"2021-07-12T00:00:00\",\"2021-07-13T00:00:00\",\"2021-07-14T00:00:00\",\"2021-07-15T00:00:00\",\"2021-07-16T00:00:00\",\"2021-07-19T00:00:00\",\"2021-07-20T00:00:00\",\"2021-07-21T00:00:00\",\"2021-07-22T00:00:00\",\"2021-07-23T00:00:00\",\"2021-07-26T00:00:00\",\"2021-07-27T00:00:00\",\"2021-07-28T00:00:00\",\"2021-07-29T00:00:00\",\"2021-07-30T00:00:00\",\"2021-08-02T00:00:00\",\"2021-08-03T00:00:00\",\"2021-08-04T00:00:00\",\"2021-08-05T00:00:00\",\"2021-08-06T00:00:00\",\"2021-08-09T00:00:00\",\"2021-08-10T00:00:00\",\"2021-08-11T00:00:00\",\"2021-08-12T00:00:00\",\"2021-08-13T00:00:00\",\"2021-08-16T00:00:00\",\"2021-08-17T00:00:00\",\"2021-08-18T00:00:00\",\"2021-08-19T00:00:00\",\"2021-08-20T00:00:00\",\"2021-08-23T00:00:00\",\"2021-08-24T00:00:00\",\"2021-08-25T00:00:00\",\"2021-08-26T00:00:00\",\"2021-08-27T00:00:00\",\"2021-08-30T00:00:00\",\"2021-08-31T00:00:00\",\"2021-09-01T00:00:00\",\"2021-09-02T00:00:00\",\"2021-09-03T00:00:00\",\"2021-09-07T00:00:00\",\"2021-09-08T00:00:00\",\"2021-09-09T00:00:00\",\"2021-09-10T00:00:00\",\"2021-09-13T00:00:00\",\"2021-09-14T00:00:00\",\"2021-09-15T00:00:00\",\"2021-09-16T00:00:00\",\"2021-09-17T00:00:00\",\"2021-09-20T00:00:00\",\"2021-09-21T00:00:00\",\"2021-09-22T00:00:00\",\"2021-09-23T00:00:00\",\"2021-09-24T00:00:00\",\"2021-09-27T00:00:00\",\"2021-09-28T00:00:00\",\"2021-09-29T00:00:00\",\"2021-09-30T00:00:00\",\"2021-10-01T00:00:00\",\"2021-10-04T00:00:00\",\"2021-10-05T00:00:00\",\"2021-10-06T00:00:00\",\"2021-10-07T00:00:00\",\"2021-10-08T00:00:00\",\"2021-10-11T00:00:00\",\"2021-10-12T00:00:00\",\"2021-10-13T00:00:00\",\"2021-10-14T00:00:00\",\"2021-10-15T00:00:00\",\"2021-10-18T00:00:00\",\"2021-10-19T00:00:00\",\"2021-10-20T00:00:00\",\"2021-10-21T00:00:00\",\"2021-10-22T00:00:00\",\"2021-10-25T00:00:00\",\"2021-10-26T00:00:00\",\"2021-10-27T00:00:00\",\"2021-10-28T00:00:00\",\"2021-10-29T00:00:00\",\"2021-11-01T00:00:00\",\"2021-11-02T00:00:00\",\"2021-11-03T00:00:00\",\"2021-11-04T00:00:00\",\"2021-11-05T00:00:00\",\"2021-11-08T00:00:00\",\"2021-11-09T00:00:00\",\"2021-11-10T00:00:00\",\"2021-11-11T00:00:00\",\"2021-11-12T00:00:00\",\"2021-11-15T00:00:00\",\"2021-11-16T00:00:00\",\"2021-11-17T00:00:00\",\"2021-11-18T00:00:00\",\"2021-11-19T00:00:00\",\"2021-11-22T00:00:00\",\"2021-11-23T00:00:00\",\"2021-11-24T00:00:00\",\"2021-11-26T00:00:00\",\"2021-11-29T00:00:00\",\"2021-11-30T00:00:00\",\"2021-12-01T00:00:00\",\"2021-12-02T00:00:00\",\"2021-12-03T00:00:00\",\"2021-12-06T00:00:00\",\"2021-12-07T00:00:00\",\"2021-12-08T00:00:00\",\"2021-12-09T00:00:00\",\"2021-12-10T00:00:00\",\"2021-12-13T00:00:00\",\"2021-12-14T00:00:00\",\"2021-12-15T00:00:00\",\"2021-12-16T00:00:00\",\"2021-12-17T00:00:00\",\"2021-12-20T00:00:00\",\"2021-12-21T00:00:00\",\"2021-12-22T00:00:00\",\"2021-12-23T00:00:00\",\"2021-12-27T00:00:00\",\"2021-12-28T00:00:00\",\"2021-12-29T00:00:00\",\"2021-12-30T00:00:00\",\"2021-12-31T00:00:00\",\"2022-01-03T00:00:00\",\"2022-01-04T00:00:00\",\"2022-01-05T00:00:00\",\"2022-01-06T00:00:00\",\"2022-01-07T00:00:00\",\"2022-01-10T00:00:00\",\"2022-01-11T00:00:00\",\"2022-01-12T00:00:00\",\"2022-01-13T00:00:00\",\"2022-01-14T00:00:00\",\"2022-01-18T00:00:00\",\"2022-01-19T00:00:00\",\"2022-01-20T00:00:00\",\"2022-01-21T00:00:00\",\"2022-01-24T00:00:00\",\"2022-01-25T00:00:00\",\"2022-01-26T00:00:00\",\"2022-01-27T00:00:00\",\"2022-01-28T00:00:00\",\"2022-01-31T00:00:00\",\"2022-02-01T00:00:00\",\"2022-02-02T00:00:00\",\"2022-02-03T00:00:00\",\"2022-02-04T00:00:00\",\"2022-02-07T00:00:00\",\"2022-02-08T00:00:00\",\"2022-02-09T00:00:00\",\"2022-02-10T00:00:00\",\"2022-02-11T00:00:00\",\"2022-02-14T00:00:00\",\"2022-02-15T00:00:00\",\"2022-02-16T00:00:00\",\"2022-02-17T00:00:00\",\"2022-02-18T00:00:00\",\"2022-02-22T00:00:00\",\"2022-02-23T00:00:00\",\"2022-02-24T00:00:00\",\"2022-02-25T00:00:00\",\"2022-02-28T00:00:00\",\"2022-03-01T00:00:00\",\"2022-03-02T00:00:00\",\"2022-03-03T00:00:00\",\"2022-03-04T00:00:00\",\"2022-03-07T00:00:00\",\"2022-03-08T00:00:00\",\"2022-03-09T00:00:00\",\"2022-03-10T00:00:00\",\"2022-03-11T00:00:00\",\"2022-03-14T00:00:00\",\"2022-03-15T00:00:00\",\"2022-03-16T00:00:00\",\"2022-03-17T00:00:00\",\"2022-03-18T00:00:00\",\"2022-03-21T00:00:00\",\"2022-03-22T00:00:00\",\"2022-03-23T00:00:00\",\"2022-03-24T00:00:00\",\"2022-03-25T00:00:00\",\"2022-03-28T00:00:00\",\"2022-03-29T00:00:00\",\"2022-03-30T00:00:00\",\"2022-03-31T00:00:00\",\"2022-04-01T00:00:00\",\"2022-04-04T00:00:00\",\"2022-04-05T00:00:00\",\"2022-04-06T00:00:00\",\"2022-04-07T00:00:00\",\"2022-04-08T00:00:00\",\"2022-04-11T00:00:00\",\"2022-04-12T00:00:00\",\"2022-04-13T00:00:00\",\"2022-04-14T00:00:00\",\"2022-04-18T00:00:00\",\"2022-04-19T00:00:00\",\"2022-04-20T00:00:00\",\"2022-04-21T00:00:00\",\"2022-04-22T00:00:00\",\"2022-04-25T00:00:00\",\"2022-04-26T00:00:00\",\"2022-04-27T00:00:00\",\"2022-04-28T00:00:00\",\"2022-04-29T00:00:00\",\"2022-05-02T00:00:00\",\"2022-05-03T00:00:00\",\"2022-05-04T00:00:00\",\"2022-05-05T00:00:00\",\"2022-05-06T00:00:00\",\"2022-05-09T00:00:00\",\"2022-05-10T00:00:00\",\"2022-05-11T00:00:00\",\"2022-05-12T00:00:00\",\"2022-05-13T00:00:00\",\"2022-05-16T00:00:00\",\"2022-05-17T00:00:00\",\"2022-05-18T00:00:00\",\"2022-05-19T00:00:00\",\"2022-05-20T00:00:00\",\"2022-05-23T00:00:00\",\"2022-05-24T00:00:00\",\"2022-05-25T00:00:00\",\"2022-05-26T00:00:00\",\"2022-05-27T00:00:00\",\"2022-05-31T00:00:00\",\"2022-06-01T00:00:00\",\"2022-06-02T00:00:00\",\"2022-06-03T00:00:00\",\"2022-06-06T00:00:00\",\"2022-06-07T00:00:00\",\"2022-06-08T00:00:00\",\"2022-06-09T00:00:00\",\"2022-06-10T00:00:00\",\"2022-06-13T00:00:00\",\"2022-06-14T00:00:00\",\"2022-06-15T00:00:00\",\"2022-06-16T00:00:00\",\"2022-06-17T00:00:00\",\"2022-06-21T00:00:00\",\"2022-06-22T00:00:00\",\"2022-06-23T00:00:00\",\"2022-06-24T00:00:00\",\"2022-06-27T00:00:00\",\"2022-06-28T00:00:00\",\"2022-06-29T00:00:00\",\"2022-06-30T00:00:00\",\"2022-07-01T00:00:00\",\"2022-07-05T00:00:00\",\"2022-07-06T00:00:00\",\"2022-07-07T00:00:00\",\"2022-07-08T00:00:00\",\"2022-07-11T00:00:00\",\"2022-07-12T00:00:00\",\"2022-07-13T00:00:00\",\"2022-07-14T00:00:00\",\"2022-07-15T00:00:00\",\"2022-07-18T00:00:00\",\"2022-07-19T00:00:00\",\"2022-07-20T00:00:00\",\"2022-07-21T00:00:00\",\"2022-07-22T00:00:00\",\"2022-07-25T00:00:00\",\"2022-07-26T00:00:00\",\"2022-07-27T00:00:00\",\"2022-07-28T00:00:00\",\"2022-07-29T00:00:00\",\"2022-08-01T00:00:00\",\"2022-08-02T00:00:00\",\"2022-08-03T00:00:00\",\"2022-08-04T00:00:00\",\"2022-08-05T00:00:00\"],\"xaxis\":\"x\",\"y\":[822.3807030516163,863.9968438542027,866.7599635207921,845.9694465965215,853.1660098482611,867.2304709375147,851.2262127962559,825.8360396538378,817.4125768760317,803.3801117919636,808.3861865303163,783.6429310808892,786.0710152281794,787.7778008836818,744.3669723704115,675.39897946183,723.816176300226,709.8757532882709,686.9941404018026,704.4392528979592,705.7036027175806,680.3012414821764,640.5105859021289,592.2010479107028,595.0371638914825,644.5079556742595,692.0428908934012,691.3302221961408,682.3879604161538,700.5040974511368,692.2177658505708,681.8718629979522,673.4353098477411,643.2859016435183,686.2900074408581,668.6296093788134,651.9923831581883,630.2515965480787,625.4813128847919,607.336646310416,618.2698411645242,658.7042496407552,678.2702292704295,697.707039722521,689.3440593506958,680.9213804470626,681.2938662599165,675.2074395689741,694.6446675685564,741.199850263035,758.7989632533632,733.6041759319677,738.367725891036,710.9660171787739,725.5437044761949,725.212590754101,738.4620951382343,727.4710198484407,741.4248376293227,714.6188783594856,701.3850742998667,687.7927529329795,694.9161528716121,694.7546913745335,672.1415120448842,677.0269344500086,667.6598172853362,677.1097701630005,649.210212379001,613.6346845910784,606.1202299321815,587.0549302736168,583.0020502790851,577.4799211607296,582.2973194352438,557.6228880546257,580.7939517131912,589.041052607603,597.3950286756086,605.7006752738358,615.3699215909915,624.1250448533772,629.2451863276954,627.4423103154163,612.7397069079146,590.405277183601,590.3402508508815,598.2689916702341,611.1557580084452,605.1108972809544,609.1508565291365,607.0965806487485,617.951505235703,608.3872081997245,601.4982903189969,612.4477565067417,620.7135475417449,621.4244142069081,622.2904745048979,645.381544159593,684.6284670796507,682.7353536544944,683.9087118887755,681.7062831034399,685.8086613593705,680.7931890163436,688.2802024065423,670.0190531171812,653.7828017373442,639.9597395735551,652.1357711891346,676.1870548968285,681.4768271774609,667.3010790308051,653.878916340757,649.8199302266133,635.8842881526851,652.6190377079655,657.9402080104883,654.0842493568747,643.1020087448452,658.7322080706276,649.9481728781413,647.675244579756,668.8163842972697,685.1158303764174,714.477162944845,712.8848157066649,717.3427915665569,715.9066184356046,707.7210881174702,712.2890635367031,709.5368632566011,709.5876759902344,712.3481561034027,722.4950879627653,695.2852286937596,663.2889139411157,684.1814469059707,677.8850139567788,683.6632296222625,698.5820559314561,708.9996864921646,710.5949157501278,707.15132009209,708.6552156846676,722.5364654082008,733.5970489268943,736.4543708417654,735.549028616812,728.8353493927974,750.650670363733,753.8255524154646,756.6312642856423,750.2683748537873,729.407775963958,746.0487434455862,748.2673977988227,753.1224052835962,755.3505676649389,731.5267306419464,737.8039212329874,746.6228237410916,752.811304156142,761.6012812972585,785.9789543645037,782.713772969735,783.1667484285346,782.1926547742827,772.6619105816878,793.4844019920445,786.8578437769737,779.9955268156853,795.1172647069033,788.9089951712161,793.6562925882107,804.7155266786831,810.1877319059366,816.085113078822,833.565515792763,864.4239779207011,870.3665316479727,863.2181684502199,881.0490512051234,900.9636818694902,1003.8825041068909,1056.581447065113,1053.385019626383,1068.6768515367435,1096.9065077128473,1172.1566286408597,1182.1139008344458,1188.833346825564,1231.0404183486262,1225.3276330260676,1169.9916178202304,1108.9219078728502,1040.8240287008005,1083.4488474954362,1038.9020382011324,1009.3647963531868,1033.9067778809083,1092.6947710194681,1095.6592831134071,1118.8128498704345,1172.7811849446282,1132.5337776887916,1103.2189670025732,1096.0323480175953,1124.1375001760357,1146.4960097720116,1138.8168723441424,1089.1031167154908,1053.4488393835602,992.1138200643114,1043.7988917992434,1055.1635491543996,1037.1957347508176,1004.2045056284732,982.3478611604481,950.5132071322492,957.3390730659465,964.718265964934,938.83978936201,909.0243230517166,917.0255673711199,991.0298453563631,1041.7063953888119,1097.0245069553687,1101.2445638928748,1086.5482093572655,1077.120426623271,1069.4374185186073,1173.6537042520242,1172.8040015648653,1133.493048950913,1059.792473020377,1051.395473864803,1026.4122578224653,1059.5448089581973,1096.4395664759988,1078.941677770667,1035.1109846470574,1047.589196635929,1029.5670463570386,1021.2609633193596,977.8150600804938,899.866775906638,930.8464612765282,954.1008105244247,892.2469814936446,830.4272707598983,906.719064951109,926.9446350986884,913.441045426891,913.3203177266157,913.2695992519905,928.5279268122397,912.3731643443117,934.3586439920863,923.7744182068762,888.887988323514,879.451034186385,909.8175055411604,914.9583626621701,899.5598926899027,866.0825528128661,833.5040180567925,804.6533987309674,761.0642636503235,803.5577180348221,851.0604607489485,874.2206049206281,868.4427717462506,863.8669259592303,842.2307087663302,840.5829888037528,822.0199609104828,847.8898693478442,835.7282936973148,822.7777993341944,781.8378006334336,785.0077105015852,824.9938221158235,854.2228207098605,890.462773902061,927.2425811960412,966.4316291354872,1013.8125289044705,1008.7856118311714,1010.4718057003016,1078.713646539558,1096.5997835132148,1100.348139794945,1090.9001558478963,1081.8949983100467,1117.7548594074658,1125.3164636335766,1057.1244605086263,1053.2555623171004,1036.4784278678105,993.5154301757696,1002.0194768585292,1003.7271379196756,999.0399349624829,996.960275648345,1017.6908354100211,1009.2873261246299,1052.9685465163823,1017.1173503702738,993.8641109121714,949.5004028613511,900.527120597006,867.8664505528542,907.6353346447617,882.005424383436,908.6064572744992,926.4333132638386,909.6528686383223,868.9152104100652,818.9692569607932,803.9446491033757,776.1084207891539,727.2096488397952,771.9714795137289,748.6008900172093,749.1947943893382,735.8370250927278,717.0997146701114,685.7086548612587,662.3580374479201,639.6923269021976,650.0142550523091,691.9958032563469,743.1022534965716,760.006237930173,754.5655815593024,765.289397739768,725.2078636640216,720.951549571616,707.0814212898721,735.9023610762464,746.2695749317132,703.6240995926107,664.6577362917998,660.6562805514822,685.1971038965357,654.9718927253864,652.5805207632138,706.8767751613823,723.9291359739342,704.1357851270039,725.1739983419039,743.7143093290182,727.919165976339,681.8256668305677,674.7022157715243,679.9243167109424,678.282624773393,693.7625674931452,719.3542409596049,747.3802905838446,735.0672436695307,704.6573611806093,704.927319246778,703.7400867659194,721.6539289937358,737.411627507934,728.1745871549384,742.2191567823353,796.7979397303662,829.0662433095562,813.0689424469172,787.5589330738934,809.7541200384691,836.0955433411272,870.8840891186243,914.2340070694704,904.1232622522374,917.1827837825098,929.0924478588295,889.8986891945249],\"yaxis\":\"y\",\"type\":\"scattergl\"},{\"hovertemplate\":\"variable=wide_variable_1<br>x=%{x}<br>Stock value=%{y}<extra></extra>\",\"legendgroup\":\"wide_variable_1\",\"line\":{\"color\":\"#EF553B\",\"dash\":\"solid\"},\"marker\":{\"symbol\":\"circle\"},\"mode\":\"lines\",\"name\":\"RandomForest\",\"showlegend\":true,\"x\":[\"2021-02-01T00:00:00\",\"2021-02-02T00:00:00\",\"2021-02-03T00:00:00\",\"2021-02-04T00:00:00\",\"2021-02-05T00:00:00\",\"2021-02-08T00:00:00\",\"2021-02-09T00:00:00\",\"2021-02-10T00:00:00\",\"2021-02-11T00:00:00\",\"2021-02-12T00:00:00\",\"2021-02-16T00:00:00\",\"2021-02-17T00:00:00\",\"2021-02-18T00:00:00\",\"2021-02-19T00:00:00\",\"2021-02-22T00:00:00\",\"2021-02-23T00:00:00\",\"2021-02-24T00:00:00\",\"2021-02-25T00:00:00\",\"2021-02-26T00:00:00\",\"2021-03-01T00:00:00\",\"2021-03-02T00:00:00\",\"2021-03-03T00:00:00\",\"2021-03-04T00:00:00\",\"2021-03-05T00:00:00\",\"2021-03-08T00:00:00\",\"2021-03-09T00:00:00\",\"2021-03-10T00:00:00\",\"2021-03-11T00:00:00\",\"2021-03-12T00:00:00\",\"2021-03-15T00:00:00\",\"2021-03-16T00:00:00\",\"2021-03-17T00:00:00\",\"2021-03-18T00:00:00\",\"2021-03-19T00:00:00\",\"2021-03-22T00:00:00\",\"2021-03-23T00:00:00\",\"2021-03-24T00:00:00\",\"2021-03-25T00:00:00\",\"2021-03-26T00:00:00\",\"2021-03-29T00:00:00\",\"2021-03-30T00:00:00\",\"2021-03-31T00:00:00\",\"2021-04-01T00:00:00\",\"2021-04-05T00:00:00\",\"2021-04-06T00:00:00\",\"2021-04-07T00:00:00\",\"2021-04-08T00:00:00\",\"2021-04-09T00:00:00\",\"2021-04-12T00:00:00\",\"2021-04-13T00:00:00\",\"2021-04-14T00:00:00\",\"2021-04-15T00:00:00\",\"2021-04-16T00:00:00\",\"2021-04-19T00:00:00\",\"2021-04-20T00:00:00\",\"2021-04-21T00:00:00\",\"2021-04-22T00:00:00\",\"2021-04-23T00:00:00\",\"2021-04-26T00:00:00\",\"2021-04-27T00:00:00\",\"2021-04-28T00:00:00\",\"2021-04-29T00:00:00\",\"2021-04-30T00:00:00\",\"2021-05-03T00:00:00\",\"2021-05-04T00:00:00\",\"2021-05-05T00:00:00\",\"2021-05-06T00:00:00\",\"2021-05-07T00:00:00\",\"2021-05-10T00:00:00\",\"2021-05-11T00:00:00\",\"2021-05-12T00:00:00\",\"2021-05-13T00:00:00\",\"2021-05-14T00:00:00\",\"2021-05-17T00:00:00\",\"2021-05-18T00:00:00\",\"2021-05-19T00:00:00\",\"2021-05-20T00:00:00\",\"2021-05-21T00:00:00\",\"2021-05-24T00:00:00\",\"2021-05-25T00:00:00\",\"2021-05-26T00:00:00\",\"2021-05-27T00:00:00\",\"2021-05-28T00:00:00\",\"2021-06-01T00:00:00\",\"2021-06-02T00:00:00\",\"2021-06-03T00:00:00\",\"2021-06-04T00:00:00\",\"2021-06-07T00:00:00\",\"2021-06-08T00:00:00\",\"2021-06-09T00:00:00\",\"2021-06-10T00:00:00\",\"2021-06-11T00:00:00\",\"2021-06-14T00:00:00\",\"2021-06-15T00:00:00\",\"2021-06-16T00:00:00\",\"2021-06-17T00:00:00\",\"2021-06-18T00:00:00\",\"2021-06-21T00:00:00\",\"2021-06-22T00:00:00\",\"2021-06-23T00:00:00\",\"2021-06-24T00:00:00\",\"2021-06-25T00:00:00\",\"2021-06-28T00:00:00\",\"2021-06-29T00:00:00\",\"2021-06-30T00:00:00\",\"2021-07-01T00:00:00\",\"2021-07-02T00:00:00\",\"2021-07-06T00:00:00\",\"2021-07-07T00:00:00\",\"2021-07-08T00:00:00\",\"2021-07-09T00:00:00\",\"2021-07-12T00:00:00\",\"2021-07-13T00:00:00\",\"2021-07-14T00:00:00\",\"2021-07-15T00:00:00\",\"2021-07-16T00:00:00\",\"2021-07-19T00:00:00\",\"2021-07-20T00:00:00\",\"2021-07-21T00:00:00\",\"2021-07-22T00:00:00\",\"2021-07-23T00:00:00\",\"2021-07-26T00:00:00\",\"2021-07-27T00:00:00\",\"2021-07-28T00:00:00\",\"2021-07-29T00:00:00\",\"2021-07-30T00:00:00\",\"2021-08-02T00:00:00\",\"2021-08-03T00:00:00\",\"2021-08-04T00:00:00\",\"2021-08-05T00:00:00\",\"2021-08-06T00:00:00\",\"2021-08-09T00:00:00\",\"2021-08-10T00:00:00\",\"2021-08-11T00:00:00\",\"2021-08-12T00:00:00\",\"2021-08-13T00:00:00\",\"2021-08-16T00:00:00\",\"2021-08-17T00:00:00\",\"2021-08-18T00:00:00\",\"2021-08-19T00:00:00\",\"2021-08-20T00:00:00\",\"2021-08-23T00:00:00\",\"2021-08-24T00:00:00\",\"2021-08-25T00:00:00\",\"2021-08-26T00:00:00\",\"2021-08-27T00:00:00\",\"2021-08-30T00:00:00\",\"2021-08-31T00:00:00\",\"2021-09-01T00:00:00\",\"2021-09-02T00:00:00\",\"2021-09-03T00:00:00\",\"2021-09-07T00:00:00\",\"2021-09-08T00:00:00\",\"2021-09-09T00:00:00\",\"2021-09-10T00:00:00\",\"2021-09-13T00:00:00\",\"2021-09-14T00:00:00\",\"2021-09-15T00:00:00\",\"2021-09-16T00:00:00\",\"2021-09-17T00:00:00\",\"2021-09-20T00:00:00\",\"2021-09-21T00:00:00\",\"2021-09-22T00:00:00\",\"2021-09-23T00:00:00\",\"2021-09-24T00:00:00\",\"2021-09-27T00:00:00\",\"2021-09-28T00:00:00\",\"2021-09-29T00:00:00\",\"2021-09-30T00:00:00\",\"2021-10-01T00:00:00\",\"2021-10-04T00:00:00\",\"2021-10-05T00:00:00\",\"2021-10-06T00:00:00\",\"2021-10-07T00:00:00\",\"2021-10-08T00:00:00\",\"2021-10-11T00:00:00\",\"2021-10-12T00:00:00\",\"2021-10-13T00:00:00\",\"2021-10-14T00:00:00\",\"2021-10-15T00:00:00\",\"2021-10-18T00:00:00\",\"2021-10-19T00:00:00\",\"2021-10-20T00:00:00\",\"2021-10-21T00:00:00\",\"2021-10-22T00:00:00\",\"2021-10-25T00:00:00\",\"2021-10-26T00:00:00\",\"2021-10-27T00:00:00\",\"2021-10-28T00:00:00\",\"2021-10-29T00:00:00\",\"2021-11-01T00:00:00\",\"2021-11-02T00:00:00\",\"2021-11-03T00:00:00\",\"2021-11-04T00:00:00\",\"2021-11-05T00:00:00\",\"2021-11-08T00:00:00\",\"2021-11-09T00:00:00\",\"2021-11-10T00:00:00\",\"2021-11-11T00:00:00\",\"2021-11-12T00:00:00\",\"2021-11-15T00:00:00\",\"2021-11-16T00:00:00\",\"2021-11-17T00:00:00\",\"2021-11-18T00:00:00\",\"2021-11-19T00:00:00\",\"2021-11-22T00:00:00\",\"2021-11-23T00:00:00\",\"2021-11-24T00:00:00\",\"2021-11-26T00:00:00\",\"2021-11-29T00:00:00\",\"2021-11-30T00:00:00\",\"2021-12-01T00:00:00\",\"2021-12-02T00:00:00\",\"2021-12-03T00:00:00\",\"2021-12-06T00:00:00\",\"2021-12-07T00:00:00\",\"2021-12-08T00:00:00\",\"2021-12-09T00:00:00\",\"2021-12-10T00:00:00\",\"2021-12-13T00:00:00\",\"2021-12-14T00:00:00\",\"2021-12-15T00:00:00\",\"2021-12-16T00:00:00\",\"2021-12-17T00:00:00\",\"2021-12-20T00:00:00\",\"2021-12-21T00:00:00\",\"2021-12-22T00:00:00\",\"2021-12-23T00:00:00\",\"2021-12-27T00:00:00\",\"2021-12-28T00:00:00\",\"2021-12-29T00:00:00\",\"2021-12-30T00:00:00\",\"2021-12-31T00:00:00\",\"2022-01-03T00:00:00\",\"2022-01-04T00:00:00\",\"2022-01-05T00:00:00\",\"2022-01-06T00:00:00\",\"2022-01-07T00:00:00\",\"2022-01-10T00:00:00\",\"2022-01-11T00:00:00\",\"2022-01-12T00:00:00\",\"2022-01-13T00:00:00\",\"2022-01-14T00:00:00\",\"2022-01-18T00:00:00\",\"2022-01-19T00:00:00\",\"2022-01-20T00:00:00\",\"2022-01-21T00:00:00\",\"2022-01-24T00:00:00\",\"2022-01-25T00:00:00\",\"2022-01-26T00:00:00\",\"2022-01-27T00:00:00\",\"2022-01-28T00:00:00\",\"2022-01-31T00:00:00\",\"2022-02-01T00:00:00\",\"2022-02-02T00:00:00\",\"2022-02-03T00:00:00\",\"2022-02-04T00:00:00\",\"2022-02-07T00:00:00\",\"2022-02-08T00:00:00\",\"2022-02-09T00:00:00\",\"2022-02-10T00:00:00\",\"2022-02-11T00:00:00\",\"2022-02-14T00:00:00\",\"2022-02-15T00:00:00\",\"2022-02-16T00:00:00\",\"2022-02-17T00:00:00\",\"2022-02-18T00:00:00\",\"2022-02-22T00:00:00\",\"2022-02-23T00:00:00\",\"2022-02-24T00:00:00\",\"2022-02-25T00:00:00\",\"2022-02-28T00:00:00\",\"2022-03-01T00:00:00\",\"2022-03-02T00:00:00\",\"2022-03-03T00:00:00\",\"2022-03-04T00:00:00\",\"2022-03-07T00:00:00\",\"2022-03-08T00:00:00\",\"2022-03-09T00:00:00\",\"2022-03-10T00:00:00\",\"2022-03-11T00:00:00\",\"2022-03-14T00:00:00\",\"2022-03-15T00:00:00\",\"2022-03-16T00:00:00\",\"2022-03-17T00:00:00\",\"2022-03-18T00:00:00\",\"2022-03-21T00:00:00\",\"2022-03-22T00:00:00\",\"2022-03-23T00:00:00\",\"2022-03-24T00:00:00\",\"2022-03-25T00:00:00\",\"2022-03-28T00:00:00\",\"2022-03-29T00:00:00\",\"2022-03-30T00:00:00\",\"2022-03-31T00:00:00\",\"2022-04-01T00:00:00\",\"2022-04-04T00:00:00\",\"2022-04-05T00:00:00\",\"2022-04-06T00:00:00\",\"2022-04-07T00:00:00\",\"2022-04-08T00:00:00\",\"2022-04-11T00:00:00\",\"2022-04-12T00:00:00\",\"2022-04-13T00:00:00\",\"2022-04-14T00:00:00\",\"2022-04-18T00:00:00\",\"2022-04-19T00:00:00\",\"2022-04-20T00:00:00\",\"2022-04-21T00:00:00\",\"2022-04-22T00:00:00\",\"2022-04-25T00:00:00\",\"2022-04-26T00:00:00\",\"2022-04-27T00:00:00\",\"2022-04-28T00:00:00\",\"2022-04-29T00:00:00\",\"2022-05-02T00:00:00\",\"2022-05-03T00:00:00\",\"2022-05-04T00:00:00\",\"2022-05-05T00:00:00\",\"2022-05-06T00:00:00\",\"2022-05-09T00:00:00\",\"2022-05-10T00:00:00\",\"2022-05-11T00:00:00\",\"2022-05-12T00:00:00\",\"2022-05-13T00:00:00\",\"2022-05-16T00:00:00\",\"2022-05-17T00:00:00\",\"2022-05-18T00:00:00\",\"2022-05-19T00:00:00\",\"2022-05-20T00:00:00\",\"2022-05-23T00:00:00\",\"2022-05-24T00:00:00\",\"2022-05-25T00:00:00\",\"2022-05-26T00:00:00\",\"2022-05-27T00:00:00\",\"2022-05-31T00:00:00\",\"2022-06-01T00:00:00\",\"2022-06-02T00:00:00\",\"2022-06-03T00:00:00\",\"2022-06-06T00:00:00\",\"2022-06-07T00:00:00\",\"2022-06-08T00:00:00\",\"2022-06-09T00:00:00\",\"2022-06-10T00:00:00\",\"2022-06-13T00:00:00\",\"2022-06-14T00:00:00\",\"2022-06-15T00:00:00\",\"2022-06-16T00:00:00\",\"2022-06-17T00:00:00\",\"2022-06-21T00:00:00\",\"2022-06-22T00:00:00\",\"2022-06-23T00:00:00\",\"2022-06-24T00:00:00\",\"2022-06-27T00:00:00\",\"2022-06-28T00:00:00\",\"2022-06-29T00:00:00\",\"2022-06-30T00:00:00\",\"2022-07-01T00:00:00\",\"2022-07-05T00:00:00\",\"2022-07-06T00:00:00\",\"2022-07-07T00:00:00\",\"2022-07-08T00:00:00\",\"2022-07-11T00:00:00\",\"2022-07-12T00:00:00\",\"2022-07-13T00:00:00\",\"2022-07-14T00:00:00\",\"2022-07-15T00:00:00\",\"2022-07-18T00:00:00\",\"2022-07-19T00:00:00\",\"2022-07-20T00:00:00\",\"2022-07-21T00:00:00\",\"2022-07-22T00:00:00\",\"2022-07-25T00:00:00\",\"2022-07-26T00:00:00\",\"2022-07-27T00:00:00\",\"2022-07-28T00:00:00\",\"2022-07-29T00:00:00\",\"2022-08-01T00:00:00\",\"2022-08-02T00:00:00\",\"2022-08-03T00:00:00\",\"2022-08-04T00:00:00\",\"2022-08-05T00:00:00\"],\"xaxis\":\"x\",\"y\":[819.7780000000002,876.926,870.582,846.7085,847.7465,870.582,848.2425,819.7780000000002,818.809,813.477,821.5450000000001,767.992,804.028,810.034,738.167,690.301,715.8439999999999,706.6899999999999,688.858,709.4010000000001,709.4010000000001,689.088,649.7249999999999,595.9929999999999,595.627,624.3516666666667,691.266,699.3899999999998,695.9569999999999,705.924,700.269,689.088,689.132,649.8896333333332,695.9129999999998,663.6869999999999,652.6421666666666,636.9290833333334,620.0566666666667,615.1206666666666,612.2336666666666,659.463,688.9019999999999,705.924,701.568,695.9569999999999,695.9569999999999,668.7550000000001,701.568,738.167,747.862,732.9739999999999,732.9739999999999,709.4010000000001,730.838,715.8439999999999,730.3040000000001,730.838,732.9739999999999,712.9,709.423,695.9129999999998,700.269,701.568,671.0799999999999,677.2150000000001,657.6949999999999,689.9689999999999,655.4716333333332,615.6646666666666,610.8416666666666,580.985,594.2840000000001,588.914,591.7060000000001,570.374,594.2840000000001,587.0840000000001,606.977,612.6976666666666,626.0383333333333,630.5718333333332,630.4219999999999,630.4219999999999,617.4936666666666,600.705,589.2740000000001,592.988,611.3926666666666,608.1366666666667,626.0383333333333,616.6813333333333,627.5768333333333,617.4936666666666,598.7506666666667,626.0383333333333,629.9028333333333,628.4248333333333,631.0018333333334,649.8896333333332,695.9129999999998,695.9569999999999,695.9569999999999,677.2150000000001,699.4339999999999,677.2150000000001,699.3899999999998,668.314,659.1191333333334,646.6163,657.1591333333332,674.1060000000001,695.9569999999999,660.9209999999999,659.1191333333334,654.5461333333333,637.7779999999999,659.5411333333334,658.5901333333333,657.1591333333332,642.918,653.7256666666666,655.4716333333332,649.5144666666667,666.7009999999999,695.9129999999998,712.9,712.9,727.8939999999999,727.8939999999999,709.423,727.8939999999999,709.423,724.417,712.9,730.838,703.746,657.925,695.9569999999999,677.2150000000001,699.4339999999999,705.924,709.423,709.423,709.423,709.423,730.838,733.5079999999999,733.5079999999999,733.5079999999999,733.5079999999999,753.3589999999998,753.3589999999998,753.3589999999998,753.3589999999998,730.3040000000001,747.098,747.098,747.098,753.3589999999998,733.5079999999999,732.9739999999999,747.098,747.098,753.3589999999998,810.034,810.034,804.028,804.028,804.028,810.034,810.034,804.028,805.5319999999999,805.5319999999999,805.5319999999999,821.5450000000001,814.273,819.2909999999999,822.878,854.2824999999999,871.118,847.7454999999998,879.075,880.9680000000001,880.9680000000001,880.9680000000001,880.9680000000001,880.9680000000001,880.9680000000001,880.9680000000001,880.9680000000001,880.9680000000001,880.9680000000001,880.9680000000001,880.9680000000001,880.9680000000001,880.9680000000001,880.9680000000001,880.9680000000001,880.9680000000001,880.9680000000001,880.9680000000001,880.9680000000001,880.9680000000001,880.9680000000001,880.9680000000001,880.9680000000001,880.9680000000001,880.9680000000001,880.9680000000001,880.9680000000001,880.9680000000001,880.9680000000001,880.9680000000001,880.9680000000001,880.9680000000001,880.9680000000001,880.9680000000001,880.9680000000001,880.9680000000001,880.9680000000001,880.9680000000001,880.9680000000001,880.9680000000001,880.9680000000001,880.9680000000001,880.9680000000001,880.9680000000001,880.9680000000001,880.9680000000001,880.9680000000001,880.9680000000001,880.9680000000001,880.9680000000001,880.9680000000001,880.9680000000001,880.9680000000001,880.9680000000001,880.9680000000001,880.9680000000001,880.9680000000001,880.9680000000001,880.9680000000001,880.9680000000001,880.9680000000001,880.9680000000001,877.93,880.9680000000001,880.9680000000001,880.8729999999999,826.3040000000001,879.075,880.9680000000001,880.9680000000001,880.9680000000001,880.9680000000001,880.9680000000001,880.9680000000001,880.9680000000001,880.9680000000001,877.93,877.93,880.9680000000001,880.9680000000001,880.9680000000001,876.8480000000002,823.3100000000002,775.9369999999999,732.1229999999999,813.477,840.8210000000001,868.9959999999999,876.926,876.8480000000002,842.5649999999999,819.0320000000002,815.9,852.4780000000001,814.1840000000002,819.7780000000002,767.992,767.992,819.7780000000002,850.3870000000001,880.9680000000001,880.9680000000001,880.9680000000001,880.9680000000001,880.9680000000001,880.9680000000001,880.9680000000001,880.9680000000001,880.9680000000001,880.9680000000001,880.9680000000001,880.9680000000001,880.9680000000001,880.9680000000001,880.9680000000001,880.9680000000001,880.9680000000001,880.9680000000001,880.9680000000001,880.9680000000001,880.9680000000001,880.9680000000001,880.9680000000001,880.9680000000001,880.9680000000001,880.9680000000001,880.9680000000001,880.9680000000001,859.095,880.9680000000001,880.951,880.9680000000001,880.9680000000001,879.075,875.3399999999999,814.1339999999999,817.979,747.862,719.997,761.9859999999999,739.2349999999999,739.2349999999999,723.4960000000001,715.8439999999999,693.778,658.454,643.6555000000001,655.9975,694.7429999999999,739.2349999999999,753.3589999999998,739.2349999999999,747.862,715.8439999999999,715.8439999999999,709.4010000000001,730.3040000000001,738.167,709.4010000000001,657.0809999999999,658.454,689.088,655.9975,660.1281333333334,710.1669999999999,715.8439999999999,709.4010000000001,730.838,732.9739999999999,715.8439999999999,695.9569999999999,686.2529999999999,695.9569999999999,689.088,701.568,715.8439999999999,739.2349999999999,715.8439999999999,709.4010000000001,707.223,705.924,730.838,732.9739999999999,730.838,732.9739999999999,817.979,819.333,821.5450000000001,810.034,813.477,826.141,881.1020000000001,880.9680000000001,880.9680000000001,880.9680000000001,880.9680000000001,879.075],\"yaxis\":\"y\",\"type\":\"scattergl\"},{\"hovertemplate\":\"variable=wide_variable_2<br>x=%{x}<br>Stock value=%{y}<extra></extra>\",\"legendgroup\":\"wide_variable_2\",\"line\":{\"color\":\"#00cc96\",\"dash\":\"solid\"},\"marker\":{\"symbol\":\"circle\"},\"mode\":\"lines\",\"name\":\"KNN\",\"showlegend\":true,\"x\":[\"2021-02-01T00:00:00\",\"2021-02-02T00:00:00\",\"2021-02-03T00:00:00\",\"2021-02-04T00:00:00\",\"2021-02-05T00:00:00\",\"2021-02-08T00:00:00\",\"2021-02-09T00:00:00\",\"2021-02-10T00:00:00\",\"2021-02-11T00:00:00\",\"2021-02-12T00:00:00\",\"2021-02-16T00:00:00\",\"2021-02-17T00:00:00\",\"2021-02-18T00:00:00\",\"2021-02-19T00:00:00\",\"2021-02-22T00:00:00\",\"2021-02-23T00:00:00\",\"2021-02-24T00:00:00\",\"2021-02-25T00:00:00\",\"2021-02-26T00:00:00\",\"2021-03-01T00:00:00\",\"2021-03-02T00:00:00\",\"2021-03-03T00:00:00\",\"2021-03-04T00:00:00\",\"2021-03-05T00:00:00\",\"2021-03-08T00:00:00\",\"2021-03-09T00:00:00\",\"2021-03-10T00:00:00\",\"2021-03-11T00:00:00\",\"2021-03-12T00:00:00\",\"2021-03-15T00:00:00\",\"2021-03-16T00:00:00\",\"2021-03-17T00:00:00\",\"2021-03-18T00:00:00\",\"2021-03-19T00:00:00\",\"2021-03-22T00:00:00\",\"2021-03-23T00:00:00\",\"2021-03-24T00:00:00\",\"2021-03-25T00:00:00\",\"2021-03-26T00:00:00\",\"2021-03-29T00:00:00\",\"2021-03-30T00:00:00\",\"2021-03-31T00:00:00\",\"2021-04-01T00:00:00\",\"2021-04-05T00:00:00\",\"2021-04-06T00:00:00\",\"2021-04-07T00:00:00\",\"2021-04-08T00:00:00\",\"2021-04-09T00:00:00\",\"2021-04-12T00:00:00\",\"2021-04-13T00:00:00\",\"2021-04-14T00:00:00\",\"2021-04-15T00:00:00\",\"2021-04-16T00:00:00\",\"2021-04-19T00:00:00\",\"2021-04-20T00:00:00\",\"2021-04-21T00:00:00\",\"2021-04-22T00:00:00\",\"2021-04-23T00:00:00\",\"2021-04-26T00:00:00\",\"2021-04-27T00:00:00\",\"2021-04-28T00:00:00\",\"2021-04-29T00:00:00\",\"2021-04-30T00:00:00\",\"2021-05-03T00:00:00\",\"2021-05-04T00:00:00\",\"2021-05-05T00:00:00\",\"2021-05-06T00:00:00\",\"2021-05-07T00:00:00\",\"2021-05-10T00:00:00\",\"2021-05-11T00:00:00\",\"2021-05-12T00:00:00\",\"2021-05-13T00:00:00\",\"2021-05-14T00:00:00\",\"2021-05-17T00:00:00\",\"2021-05-18T00:00:00\",\"2021-05-19T00:00:00\",\"2021-05-20T00:00:00\",\"2021-05-21T00:00:00\",\"2021-05-24T00:00:00\",\"2021-05-25T00:00:00\",\"2021-05-26T00:00:00\",\"2021-05-27T00:00:00\",\"2021-05-28T00:00:00\",\"2021-06-01T00:00:00\",\"2021-06-02T00:00:00\",\"2021-06-03T00:00:00\",\"2021-06-04T00:00:00\",\"2021-06-07T00:00:00\",\"2021-06-08T00:00:00\",\"2021-06-09T00:00:00\",\"2021-06-10T00:00:00\",\"2021-06-11T00:00:00\",\"2021-06-14T00:00:00\",\"2021-06-15T00:00:00\",\"2021-06-16T00:00:00\",\"2021-06-17T00:00:00\",\"2021-06-18T00:00:00\",\"2021-06-21T00:00:00\",\"2021-06-22T00:00:00\",\"2021-06-23T00:00:00\",\"2021-06-24T00:00:00\",\"2021-06-25T00:00:00\",\"2021-06-28T00:00:00\",\"2021-06-29T00:00:00\",\"2021-06-30T00:00:00\",\"2021-07-01T00:00:00\",\"2021-07-02T00:00:00\",\"2021-07-06T00:00:00\",\"2021-07-07T00:00:00\",\"2021-07-08T00:00:00\",\"2021-07-09T00:00:00\",\"2021-07-12T00:00:00\",\"2021-07-13T00:00:00\",\"2021-07-14T00:00:00\",\"2021-07-15T00:00:00\",\"2021-07-16T00:00:00\",\"2021-07-19T00:00:00\",\"2021-07-20T00:00:00\",\"2021-07-21T00:00:00\",\"2021-07-22T00:00:00\",\"2021-07-23T00:00:00\",\"2021-07-26T00:00:00\",\"2021-07-27T00:00:00\",\"2021-07-28T00:00:00\",\"2021-07-29T00:00:00\",\"2021-07-30T00:00:00\",\"2021-08-02T00:00:00\",\"2021-08-03T00:00:00\",\"2021-08-04T00:00:00\",\"2021-08-05T00:00:00\",\"2021-08-06T00:00:00\",\"2021-08-09T00:00:00\",\"2021-08-10T00:00:00\",\"2021-08-11T00:00:00\",\"2021-08-12T00:00:00\",\"2021-08-13T00:00:00\",\"2021-08-16T00:00:00\",\"2021-08-17T00:00:00\",\"2021-08-18T00:00:00\",\"2021-08-19T00:00:00\",\"2021-08-20T00:00:00\",\"2021-08-23T00:00:00\",\"2021-08-24T00:00:00\",\"2021-08-25T00:00:00\",\"2021-08-26T00:00:00\",\"2021-08-27T00:00:00\",\"2021-08-30T00:00:00\",\"2021-08-31T00:00:00\",\"2021-09-01T00:00:00\",\"2021-09-02T00:00:00\",\"2021-09-03T00:00:00\",\"2021-09-07T00:00:00\",\"2021-09-08T00:00:00\",\"2021-09-09T00:00:00\",\"2021-09-10T00:00:00\",\"2021-09-13T00:00:00\",\"2021-09-14T00:00:00\",\"2021-09-15T00:00:00\",\"2021-09-16T00:00:00\",\"2021-09-17T00:00:00\",\"2021-09-20T00:00:00\",\"2021-09-21T00:00:00\",\"2021-09-22T00:00:00\",\"2021-09-23T00:00:00\",\"2021-09-24T00:00:00\",\"2021-09-27T00:00:00\",\"2021-09-28T00:00:00\",\"2021-09-29T00:00:00\",\"2021-09-30T00:00:00\",\"2021-10-01T00:00:00\",\"2021-10-04T00:00:00\",\"2021-10-05T00:00:00\",\"2021-10-06T00:00:00\",\"2021-10-07T00:00:00\",\"2021-10-08T00:00:00\",\"2021-10-11T00:00:00\",\"2021-10-12T00:00:00\",\"2021-10-13T00:00:00\",\"2021-10-14T00:00:00\",\"2021-10-15T00:00:00\",\"2021-10-18T00:00:00\",\"2021-10-19T00:00:00\",\"2021-10-20T00:00:00\",\"2021-10-21T00:00:00\",\"2021-10-22T00:00:00\",\"2021-10-25T00:00:00\",\"2021-10-26T00:00:00\",\"2021-10-27T00:00:00\",\"2021-10-28T00:00:00\",\"2021-10-29T00:00:00\",\"2021-11-01T00:00:00\",\"2021-11-02T00:00:00\",\"2021-11-03T00:00:00\",\"2021-11-04T00:00:00\",\"2021-11-05T00:00:00\",\"2021-11-08T00:00:00\",\"2021-11-09T00:00:00\",\"2021-11-10T00:00:00\",\"2021-11-11T00:00:00\",\"2021-11-12T00:00:00\",\"2021-11-15T00:00:00\",\"2021-11-16T00:00:00\",\"2021-11-17T00:00:00\",\"2021-11-18T00:00:00\",\"2021-11-19T00:00:00\",\"2021-11-22T00:00:00\",\"2021-11-23T00:00:00\",\"2021-11-24T00:00:00\",\"2021-11-26T00:00:00\",\"2021-11-29T00:00:00\",\"2021-11-30T00:00:00\",\"2021-12-01T00:00:00\",\"2021-12-02T00:00:00\",\"2021-12-03T00:00:00\",\"2021-12-06T00:00:00\",\"2021-12-07T00:00:00\",\"2021-12-08T00:00:00\",\"2021-12-09T00:00:00\",\"2021-12-10T00:00:00\",\"2021-12-13T00:00:00\",\"2021-12-14T00:00:00\",\"2021-12-15T00:00:00\",\"2021-12-16T00:00:00\",\"2021-12-17T00:00:00\",\"2021-12-20T00:00:00\",\"2021-12-21T00:00:00\",\"2021-12-22T00:00:00\",\"2021-12-23T00:00:00\",\"2021-12-27T00:00:00\",\"2021-12-28T00:00:00\",\"2021-12-29T00:00:00\",\"2021-12-30T00:00:00\",\"2021-12-31T00:00:00\",\"2022-01-03T00:00:00\",\"2022-01-04T00:00:00\",\"2022-01-05T00:00:00\",\"2022-01-06T00:00:00\",\"2022-01-07T00:00:00\",\"2022-01-10T00:00:00\",\"2022-01-11T00:00:00\",\"2022-01-12T00:00:00\",\"2022-01-13T00:00:00\",\"2022-01-14T00:00:00\",\"2022-01-18T00:00:00\",\"2022-01-19T00:00:00\",\"2022-01-20T00:00:00\",\"2022-01-21T00:00:00\",\"2022-01-24T00:00:00\",\"2022-01-25T00:00:00\",\"2022-01-26T00:00:00\",\"2022-01-27T00:00:00\",\"2022-01-28T00:00:00\",\"2022-01-31T00:00:00\",\"2022-02-01T00:00:00\",\"2022-02-02T00:00:00\",\"2022-02-03T00:00:00\",\"2022-02-04T00:00:00\",\"2022-02-07T00:00:00\",\"2022-02-08T00:00:00\",\"2022-02-09T00:00:00\",\"2022-02-10T00:00:00\",\"2022-02-11T00:00:00\",\"2022-02-14T00:00:00\",\"2022-02-15T00:00:00\",\"2022-02-16T00:00:00\",\"2022-02-17T00:00:00\",\"2022-02-18T00:00:00\",\"2022-02-22T00:00:00\",\"2022-02-23T00:00:00\",\"2022-02-24T00:00:00\",\"2022-02-25T00:00:00\",\"2022-02-28T00:00:00\",\"2022-03-01T00:00:00\",\"2022-03-02T00:00:00\",\"2022-03-03T00:00:00\",\"2022-03-04T00:00:00\",\"2022-03-07T00:00:00\",\"2022-03-08T00:00:00\",\"2022-03-09T00:00:00\",\"2022-03-10T00:00:00\",\"2022-03-11T00:00:00\",\"2022-03-14T00:00:00\",\"2022-03-15T00:00:00\",\"2022-03-16T00:00:00\",\"2022-03-17T00:00:00\",\"2022-03-18T00:00:00\",\"2022-03-21T00:00:00\",\"2022-03-22T00:00:00\",\"2022-03-23T00:00:00\",\"2022-03-24T00:00:00\",\"2022-03-25T00:00:00\",\"2022-03-28T00:00:00\",\"2022-03-29T00:00:00\",\"2022-03-30T00:00:00\",\"2022-03-31T00:00:00\",\"2022-04-01T00:00:00\",\"2022-04-04T00:00:00\",\"2022-04-05T00:00:00\",\"2022-04-06T00:00:00\",\"2022-04-07T00:00:00\",\"2022-04-08T00:00:00\",\"2022-04-11T00:00:00\",\"2022-04-12T00:00:00\",\"2022-04-13T00:00:00\",\"2022-04-14T00:00:00\",\"2022-04-18T00:00:00\",\"2022-04-19T00:00:00\",\"2022-04-20T00:00:00\",\"2022-04-21T00:00:00\",\"2022-04-22T00:00:00\",\"2022-04-25T00:00:00\",\"2022-04-26T00:00:00\",\"2022-04-27T00:00:00\",\"2022-04-28T00:00:00\",\"2022-04-29T00:00:00\",\"2022-05-02T00:00:00\",\"2022-05-03T00:00:00\",\"2022-05-04T00:00:00\",\"2022-05-05T00:00:00\",\"2022-05-06T00:00:00\",\"2022-05-09T00:00:00\",\"2022-05-10T00:00:00\",\"2022-05-11T00:00:00\",\"2022-05-12T00:00:00\",\"2022-05-13T00:00:00\",\"2022-05-16T00:00:00\",\"2022-05-17T00:00:00\",\"2022-05-18T00:00:00\",\"2022-05-19T00:00:00\",\"2022-05-20T00:00:00\",\"2022-05-23T00:00:00\",\"2022-05-24T00:00:00\",\"2022-05-25T00:00:00\",\"2022-05-26T00:00:00\",\"2022-05-27T00:00:00\",\"2022-05-31T00:00:00\",\"2022-06-01T00:00:00\",\"2022-06-02T00:00:00\",\"2022-06-03T00:00:00\",\"2022-06-06T00:00:00\",\"2022-06-07T00:00:00\",\"2022-06-08T00:00:00\",\"2022-06-09T00:00:00\",\"2022-06-10T00:00:00\",\"2022-06-13T00:00:00\",\"2022-06-14T00:00:00\",\"2022-06-15T00:00:00\",\"2022-06-16T00:00:00\",\"2022-06-17T00:00:00\",\"2022-06-21T00:00:00\",\"2022-06-22T00:00:00\",\"2022-06-23T00:00:00\",\"2022-06-24T00:00:00\",\"2022-06-27T00:00:00\",\"2022-06-28T00:00:00\",\"2022-06-29T00:00:00\",\"2022-06-30T00:00:00\",\"2022-07-01T00:00:00\",\"2022-07-05T00:00:00\",\"2022-07-06T00:00:00\",\"2022-07-07T00:00:00\",\"2022-07-08T00:00:00\",\"2022-07-11T00:00:00\",\"2022-07-12T00:00:00\",\"2022-07-13T00:00:00\",\"2022-07-14T00:00:00\",\"2022-07-15T00:00:00\",\"2022-07-18T00:00:00\",\"2022-07-19T00:00:00\",\"2022-07-20T00:00:00\",\"2022-07-21T00:00:00\",\"2022-07-22T00:00:00\",\"2022-07-25T00:00:00\",\"2022-07-26T00:00:00\",\"2022-07-27T00:00:00\",\"2022-07-28T00:00:00\",\"2022-07-29T00:00:00\",\"2022-08-01T00:00:00\",\"2022-08-02T00:00:00\",\"2022-08-03T00:00:00\",\"2022-08-04T00:00:00\",\"2022-08-05T00:00:00\"],\"xaxis\":\"x\",\"y\":[842.2066666666666,845.3966666666666,859.5099999999999,859.5100000000001,842.2066666666666,859.5099999999999,859.5100000000001,823.3800000000001,829.6566666666668,842.2066666666666,829.6566666666668,805.7266666666666,842.2066666666666,829.6566666666668,737.7333333333332,649.18,723.5166666666668,684.3066666666667,648.9333333333334,687.6233333333333,684.3066666666667,639.9033333333333,631.5600000000001,549.0433333333333,587.45,639.57,631.5600000000001,711.8533333333334,668.9166666666666,698.6266666666667,684.3066666666667,682.1433333333333,639.9033333333333,660.1966666666666,645.7600000000001,639.9033333333333,639.9033333333333,608.3733333333333,622.0033333333333,605.84,608.3733333333333,657.9133333333333,639.9033333333333,684.3066666666667,687.6233333333333,639.9033333333333,657.9133333333333,639.9033333333333,698.6266666666667,723.5166666666668,786.9,737.7333333333332,719.8866666666667,684.3066666666667,723.5166666666668,719.8866666666667,737.7333333333332,719.8866666666667,737.7333333333332,684.3066666666667,684.3066666666667,639.9033333333333,710.0733333333333,684.3066666666667,639.9033333333333,639.9033333333333,639.9033333333333,657.9133333333333,639.9033333333333,624.99,605.84,605.84,592.7266666666666,592.7266666666666,592.7266666666666,576.1933333333334,592.7266666666666,605.84,592.7266666666666,605.84,610.26,635.5966666666667,623.74,623.74,623.74,605.84,610.26,610.26,623.74,623.74,635.5966666666667,623.74,635.5966666666667,623.74,610.26,635.5966666666667,635.5966666666667,623.74,642.2666666666667,657.9133333333333,710.0733333333333,639.9033333333333,657.9133333333333,639.9033333333333,639.9033333333333,639.9033333333333,639.9033333333333,639.9033333333333,639.9033333333333,657.9133333333333,657.9133333333333,657.9133333333333,639.9033333333333,639.9033333333333,639.9033333333333,639.9033333333333,657.9133333333333,657.9133333333333,639.9033333333333,639.9033333333333,639.9033333333333,657.9133333333333,639.9033333333333,639.9033333333333,657.9133333333333,674.18,711.8533333333334,684.3066666666667,684.3066666666667,737.7333333333332,684.3066666666667,687.6233333333333,684.3066666666667,684.3066666666667,687.6233333333333,737.7333333333332,684.3066666666667,639.9033333333333,657.9133333333333,639.9033333333333,639.9033333333333,687.6233333333333,684.3066666666667,687.6233333333333,684.3066666666667,687.6233333333333,687.6233333333333,687.6233333333333,687.6233333333333,737.7333333333332,687.6233333333333,745.5099999999999,737.7333333333332,805.7266666666666,737.7333333333332,710.29,745.5099999999999,745.5099999999999,805.7266666666666,766.77,737.7333333333332,687.6233333333333,745.5099999999999,798.1666666666666,805.7266666666666,805.0300000000001,799.9866666666667,842.2066666666666,829.6566666666668,829.6566666666668,791.89,829.6566666666668,842.2066666666666,842.2066666666666,829.6566666666668,842.2066666666666,842.2066666666666,842.2066666666666,842.2066666666666,842.2066666666666,845.3966666666666,864.0799999999999,845.3966666666666,860.07,847.9866666666667,870.0866666666667,852.8133333333334,865.9,860.07,860.07,870.0866666666667,860.07,860.07,865.9,865.9,860.07,852.8133333333334,860.07,865.9,865.9,865.9,860.07,860.07,865.9,860.07,865.9,865.9,860.07,864.0799999999999,860.07,860.07,865.9,865.9,865.9,860.07,860.07,860.07,865.9,860.07,865.9,860.07,860.07,865.9,860.07,864.0799999999999,860.07,860.07,860.07,860.07,865.9,865.9,860.07,864.0799999999999,860.07,865.9,865.9,865.9,865.9,860.07,860.07,860.07,865.9,860.07,860.07,865.9,865.9,865.9,861.5500000000001,860.07,865.9,833.8366666666666,848.7599999999999,860.07,865.9,865.9,860.07,860.07,864.0799999999999,845.3966666666666,864.0799999999999,865.9,865.9,845.3966666666666,845.3966666666666,845.3966666666666,864.0799999999999,865.9,829.6566666666668,823.3800000000001,723.5166666666668,842.2066666666666,844.9466666666666,865.9,847.9866666666667,859.5100000000001,853.1999999999999,853.1999999999999,842.2066666666666,842.2066666666666,853.1999999999999,829.6566666666668,798.1666666666666,805.7266666666666,842.2066666666666,842.2066666666666,860.07,860.07,860.07,860.07,860.07,860.07,860.07,865.9,860.07,864.0799999999999,860.07,860.07,865.9,865.9,860.07,864.0799999999999,864.0799999999999,865.9,860.07,864.0799999999999,860.07,860.07,865.9,865.9,865.9,860.07,857.8033333333333,865.9,846.9233333333333,865.9,847.9866666666667,847.9866666666667,860.07,865.9,865.9,823.3800000000001,823.38,791.89,710.0733333333334,791.89,737.7333333333332,766.77,737.7333333333332,698.6266666666667,641.15,657.9133333333333,639.9033333333333,657.9133333333333,668.9166666666666,719.8866666666667,791.89,737.7333333333332,760.3066666666667,684.3066666666667,737.7333333333332,687.6233333333333,710.29,737.7333333333332,684.3066666666667,639.9033333333333,657.9133333333333,682.1433333333333,639.9033333333333,657.9133333333333,710.0733333333333,719.8866666666667,684.3066666666667,719.8866666666667,737.7333333333332,737.7333333333332,639.9033333333333,639.9033333333333,657.9133333333333,657.9133333333333,687.6233333333333,698.6266666666667,723.5166666666668,737.7333333333332,684.3066666666667,698.6266666666667,687.6233333333333,687.6233333333333,737.7333333333332,710.29,723.5166666666668,798.4166666666666,823.3800000000001,829.6566666666668,829.6566666666668,842.2066666666666,841.66,860.07,857.8033333333333,860.07,860.07,865.9,857.8033333333333],\"yaxis\":\"y\",\"type\":\"scattergl\"},{\"hovertemplate\":\"variable=wide_variable_3<br>x=%{x}<br>Stock value=%{y}<extra></extra>\",\"legendgroup\":\"wide_variable_3\",\"line\":{\"color\":\"#ab63fa\",\"dash\":\"solid\"},\"marker\":{\"symbol\":\"circle\"},\"mode\":\"lines\",\"name\":\"Decision tree\",\"showlegend\":true,\"x\":[\"2021-02-01T00:00:00\",\"2021-02-02T00:00:00\",\"2021-02-03T00:00:00\",\"2021-02-04T00:00:00\",\"2021-02-05T00:00:00\",\"2021-02-08T00:00:00\",\"2021-02-09T00:00:00\",\"2021-02-10T00:00:00\",\"2021-02-11T00:00:00\",\"2021-02-12T00:00:00\",\"2021-02-16T00:00:00\",\"2021-02-17T00:00:00\",\"2021-02-18T00:00:00\",\"2021-02-19T00:00:00\",\"2021-02-22T00:00:00\",\"2021-02-23T00:00:00\",\"2021-02-24T00:00:00\",\"2021-02-25T00:00:00\",\"2021-02-26T00:00:00\",\"2021-03-01T00:00:00\",\"2021-03-02T00:00:00\",\"2021-03-03T00:00:00\",\"2021-03-04T00:00:00\",\"2021-03-05T00:00:00\",\"2021-03-08T00:00:00\",\"2021-03-09T00:00:00\",\"2021-03-10T00:00:00\",\"2021-03-11T00:00:00\",\"2021-03-12T00:00:00\",\"2021-03-15T00:00:00\",\"2021-03-16T00:00:00\",\"2021-03-17T00:00:00\",\"2021-03-18T00:00:00\",\"2021-03-19T00:00:00\",\"2021-03-22T00:00:00\",\"2021-03-23T00:00:00\",\"2021-03-24T00:00:00\",\"2021-03-25T00:00:00\",\"2021-03-26T00:00:00\",\"2021-03-29T00:00:00\",\"2021-03-30T00:00:00\",\"2021-03-31T00:00:00\",\"2021-04-01T00:00:00\",\"2021-04-05T00:00:00\",\"2021-04-06T00:00:00\",\"2021-04-07T00:00:00\",\"2021-04-08T00:00:00\",\"2021-04-09T00:00:00\",\"2021-04-12T00:00:00\",\"2021-04-13T00:00:00\",\"2021-04-14T00:00:00\",\"2021-04-15T00:00:00\",\"2021-04-16T00:00:00\",\"2021-04-19T00:00:00\",\"2021-04-20T00:00:00\",\"2021-04-21T00:00:00\",\"2021-04-22T00:00:00\",\"2021-04-23T00:00:00\",\"2021-04-26T00:00:00\",\"2021-04-27T00:00:00\",\"2021-04-28T00:00:00\",\"2021-04-29T00:00:00\",\"2021-04-30T00:00:00\",\"2021-05-03T00:00:00\",\"2021-05-04T00:00:00\",\"2021-05-05T00:00:00\",\"2021-05-06T00:00:00\",\"2021-05-07T00:00:00\",\"2021-05-10T00:00:00\",\"2021-05-11T00:00:00\",\"2021-05-12T00:00:00\",\"2021-05-13T00:00:00\",\"2021-05-14T00:00:00\",\"2021-05-17T00:00:00\",\"2021-05-18T00:00:00\",\"2021-05-19T00:00:00\",\"2021-05-20T00:00:00\",\"2021-05-21T00:00:00\",\"2021-05-24T00:00:00\",\"2021-05-25T00:00:00\",\"2021-05-26T00:00:00\",\"2021-05-27T00:00:00\",\"2021-05-28T00:00:00\",\"2021-06-01T00:00:00\",\"2021-06-02T00:00:00\",\"2021-06-03T00:00:00\",\"2021-06-04T00:00:00\",\"2021-06-07T00:00:00\",\"2021-06-08T00:00:00\",\"2021-06-09T00:00:00\",\"2021-06-10T00:00:00\",\"2021-06-11T00:00:00\",\"2021-06-14T00:00:00\",\"2021-06-15T00:00:00\",\"2021-06-16T00:00:00\",\"2021-06-17T00:00:00\",\"2021-06-18T00:00:00\",\"2021-06-21T00:00:00\",\"2021-06-22T00:00:00\",\"2021-06-23T00:00:00\",\"2021-06-24T00:00:00\",\"2021-06-25T00:00:00\",\"2021-06-28T00:00:00\",\"2021-06-29T00:00:00\",\"2021-06-30T00:00:00\",\"2021-07-01T00:00:00\",\"2021-07-02T00:00:00\",\"2021-07-06T00:00:00\",\"2021-07-07T00:00:00\",\"2021-07-08T00:00:00\",\"2021-07-09T00:00:00\",\"2021-07-12T00:00:00\",\"2021-07-13T00:00:00\",\"2021-07-14T00:00:00\",\"2021-07-15T00:00:00\",\"2021-07-16T00:00:00\",\"2021-07-19T00:00:00\",\"2021-07-20T00:00:00\",\"2021-07-21T00:00:00\",\"2021-07-22T00:00:00\",\"2021-07-23T00:00:00\",\"2021-07-26T00:00:00\",\"2021-07-27T00:00:00\",\"2021-07-28T00:00:00\",\"2021-07-29T00:00:00\",\"2021-07-30T00:00:00\",\"2021-08-02T00:00:00\",\"2021-08-03T00:00:00\",\"2021-08-04T00:00:00\",\"2021-08-05T00:00:00\",\"2021-08-06T00:00:00\",\"2021-08-09T00:00:00\",\"2021-08-10T00:00:00\",\"2021-08-11T00:00:00\",\"2021-08-12T00:00:00\",\"2021-08-13T00:00:00\",\"2021-08-16T00:00:00\",\"2021-08-17T00:00:00\",\"2021-08-18T00:00:00\",\"2021-08-19T00:00:00\",\"2021-08-20T00:00:00\",\"2021-08-23T00:00:00\",\"2021-08-24T00:00:00\",\"2021-08-25T00:00:00\",\"2021-08-26T00:00:00\",\"2021-08-27T00:00:00\",\"2021-08-30T00:00:00\",\"2021-08-31T00:00:00\",\"2021-09-01T00:00:00\",\"2021-09-02T00:00:00\",\"2021-09-03T00:00:00\",\"2021-09-07T00:00:00\",\"2021-09-08T00:00:00\",\"2021-09-09T00:00:00\",\"2021-09-10T00:00:00\",\"2021-09-13T00:00:00\",\"2021-09-14T00:00:00\",\"2021-09-15T00:00:00\",\"2021-09-16T00:00:00\",\"2021-09-17T00:00:00\",\"2021-09-20T00:00:00\",\"2021-09-21T00:00:00\",\"2021-09-22T00:00:00\",\"2021-09-23T00:00:00\",\"2021-09-24T00:00:00\",\"2021-09-27T00:00:00\",\"2021-09-28T00:00:00\",\"2021-09-29T00:00:00\",\"2021-09-30T00:00:00\",\"2021-10-01T00:00:00\",\"2021-10-04T00:00:00\",\"2021-10-05T00:00:00\",\"2021-10-06T00:00:00\",\"2021-10-07T00:00:00\",\"2021-10-08T00:00:00\",\"2021-10-11T00:00:00\",\"2021-10-12T00:00:00\",\"2021-10-13T00:00:00\",\"2021-10-14T00:00:00\",\"2021-10-15T00:00:00\",\"2021-10-18T00:00:00\",\"2021-10-19T00:00:00\",\"2021-10-20T00:00:00\",\"2021-10-21T00:00:00\",\"2021-10-22T00:00:00\",\"2021-10-25T00:00:00\",\"2021-10-26T00:00:00\",\"2021-10-27T00:00:00\",\"2021-10-28T00:00:00\",\"2021-10-29T00:00:00\",\"2021-11-01T00:00:00\",\"2021-11-02T00:00:00\",\"2021-11-03T00:00:00\",\"2021-11-04T00:00:00\",\"2021-11-05T00:00:00\",\"2021-11-08T00:00:00\",\"2021-11-09T00:00:00\",\"2021-11-10T00:00:00\",\"2021-11-11T00:00:00\",\"2021-11-12T00:00:00\",\"2021-11-15T00:00:00\",\"2021-11-16T00:00:00\",\"2021-11-17T00:00:00\",\"2021-11-18T00:00:00\",\"2021-11-19T00:00:00\",\"2021-11-22T00:00:00\",\"2021-11-23T00:00:00\",\"2021-11-24T00:00:00\",\"2021-11-26T00:00:00\",\"2021-11-29T00:00:00\",\"2021-11-30T00:00:00\",\"2021-12-01T00:00:00\",\"2021-12-02T00:00:00\",\"2021-12-03T00:00:00\",\"2021-12-06T00:00:00\",\"2021-12-07T00:00:00\",\"2021-12-08T00:00:00\",\"2021-12-09T00:00:00\",\"2021-12-10T00:00:00\",\"2021-12-13T00:00:00\",\"2021-12-14T00:00:00\",\"2021-12-15T00:00:00\",\"2021-12-16T00:00:00\",\"2021-12-17T00:00:00\",\"2021-12-20T00:00:00\",\"2021-12-21T00:00:00\",\"2021-12-22T00:00:00\",\"2021-12-23T00:00:00\",\"2021-12-27T00:00:00\",\"2021-12-28T00:00:00\",\"2021-12-29T00:00:00\",\"2021-12-30T00:00:00\",\"2021-12-31T00:00:00\",\"2022-01-03T00:00:00\",\"2022-01-04T00:00:00\",\"2022-01-05T00:00:00\",\"2022-01-06T00:00:00\",\"2022-01-07T00:00:00\",\"2022-01-10T00:00:00\",\"2022-01-11T00:00:00\",\"2022-01-12T00:00:00\",\"2022-01-13T00:00:00\",\"2022-01-14T00:00:00\",\"2022-01-18T00:00:00\",\"2022-01-19T00:00:00\",\"2022-01-20T00:00:00\",\"2022-01-21T00:00:00\",\"2022-01-24T00:00:00\",\"2022-01-25T00:00:00\",\"2022-01-26T00:00:00\",\"2022-01-27T00:00:00\",\"2022-01-28T00:00:00\",\"2022-01-31T00:00:00\",\"2022-02-01T00:00:00\",\"2022-02-02T00:00:00\",\"2022-02-03T00:00:00\",\"2022-02-04T00:00:00\",\"2022-02-07T00:00:00\",\"2022-02-08T00:00:00\",\"2022-02-09T00:00:00\",\"2022-02-10T00:00:00\",\"2022-02-11T00:00:00\",\"2022-02-14T00:00:00\",\"2022-02-15T00:00:00\",\"2022-02-16T00:00:00\",\"2022-02-17T00:00:00\",\"2022-02-18T00:00:00\",\"2022-02-22T00:00:00\",\"2022-02-23T00:00:00\",\"2022-02-24T00:00:00\",\"2022-02-25T00:00:00\",\"2022-02-28T00:00:00\",\"2022-03-01T00:00:00\",\"2022-03-02T00:00:00\",\"2022-03-03T00:00:00\",\"2022-03-04T00:00:00\",\"2022-03-07T00:00:00\",\"2022-03-08T00:00:00\",\"2022-03-09T00:00:00\",\"2022-03-10T00:00:00\",\"2022-03-11T00:00:00\",\"2022-03-14T00:00:00\",\"2022-03-15T00:00:00\",\"2022-03-16T00:00:00\",\"2022-03-17T00:00:00\",\"2022-03-18T00:00:00\",\"2022-03-21T00:00:00\",\"2022-03-22T00:00:00\",\"2022-03-23T00:00:00\",\"2022-03-24T00:00:00\",\"2022-03-25T00:00:00\",\"2022-03-28T00:00:00\",\"2022-03-29T00:00:00\",\"2022-03-30T00:00:00\",\"2022-03-31T00:00:00\",\"2022-04-01T00:00:00\",\"2022-04-04T00:00:00\",\"2022-04-05T00:00:00\",\"2022-04-06T00:00:00\",\"2022-04-07T00:00:00\",\"2022-04-08T00:00:00\",\"2022-04-11T00:00:00\",\"2022-04-12T00:00:00\",\"2022-04-13T00:00:00\",\"2022-04-14T00:00:00\",\"2022-04-18T00:00:00\",\"2022-04-19T00:00:00\",\"2022-04-20T00:00:00\",\"2022-04-21T00:00:00\",\"2022-04-22T00:00:00\",\"2022-04-25T00:00:00\",\"2022-04-26T00:00:00\",\"2022-04-27T00:00:00\",\"2022-04-28T00:00:00\",\"2022-04-29T00:00:00\",\"2022-05-02T00:00:00\",\"2022-05-03T00:00:00\",\"2022-05-04T00:00:00\",\"2022-05-05T00:00:00\",\"2022-05-06T00:00:00\",\"2022-05-09T00:00:00\",\"2022-05-10T00:00:00\",\"2022-05-11T00:00:00\",\"2022-05-12T00:00:00\",\"2022-05-13T00:00:00\",\"2022-05-16T00:00:00\",\"2022-05-17T00:00:00\",\"2022-05-18T00:00:00\",\"2022-05-19T00:00:00\",\"2022-05-20T00:00:00\",\"2022-05-23T00:00:00\",\"2022-05-24T00:00:00\",\"2022-05-25T00:00:00\",\"2022-05-26T00:00:00\",\"2022-05-27T00:00:00\",\"2022-05-31T00:00:00\",\"2022-06-01T00:00:00\",\"2022-06-02T00:00:00\",\"2022-06-03T00:00:00\",\"2022-06-06T00:00:00\",\"2022-06-07T00:00:00\",\"2022-06-08T00:00:00\",\"2022-06-09T00:00:00\",\"2022-06-10T00:00:00\",\"2022-06-13T00:00:00\",\"2022-06-14T00:00:00\",\"2022-06-15T00:00:00\",\"2022-06-16T00:00:00\",\"2022-06-17T00:00:00\",\"2022-06-21T00:00:00\",\"2022-06-22T00:00:00\",\"2022-06-23T00:00:00\",\"2022-06-24T00:00:00\",\"2022-06-27T00:00:00\",\"2022-06-28T00:00:00\",\"2022-06-29T00:00:00\",\"2022-06-30T00:00:00\",\"2022-07-01T00:00:00\",\"2022-07-05T00:00:00\",\"2022-07-06T00:00:00\",\"2022-07-07T00:00:00\",\"2022-07-08T00:00:00\",\"2022-07-11T00:00:00\",\"2022-07-12T00:00:00\",\"2022-07-13T00:00:00\",\"2022-07-14T00:00:00\",\"2022-07-15T00:00:00\",\"2022-07-18T00:00:00\",\"2022-07-19T00:00:00\",\"2022-07-20T00:00:00\",\"2022-07-21T00:00:00\",\"2022-07-22T00:00:00\",\"2022-07-25T00:00:00\",\"2022-07-26T00:00:00\",\"2022-07-27T00:00:00\",\"2022-07-28T00:00:00\",\"2022-07-29T00:00:00\",\"2022-08-01T00:00:00\",\"2022-08-02T00:00:00\",\"2022-08-03T00:00:00\",\"2022-08-04T00:00:00\",\"2022-08-05T00:00:00\"],\"xaxis\":\"x\",\"y\":[835.43,883.09,883.09,846.64,845.0,883.09,845.0,793.53,835.43,835.43,835.43,835.43,755.98,835.43,729.77,705.67,729.77,729.77,694.78,705.67,705.67,694.78,649.86,567.6,567.6,609.99,705.67,694.78,695.0,705.67,705.67,694.78,695.0,661.77,694.78,664.84,664.84,640.085,609.99,609.99,601.76,664.84,695.0,705.67,694.78,695.0,695.0,664.84,694.78,729.77,735.11,735.11,735.11,705.67,729.77,729.77,729.77,729.77,735.11,705.67,705.67,694.78,705.67,694.78,664.84,664.84,664.84,695.0,661.77,609.99,601.76,567.6,584.76,584.76,584.76,574.0,584.76,585.76,627.07,609.99,622.77,622.77,622.77,622.77,609.99,627.07,601.76,601.76,609.99,609.99,622.77,622.77,622.77,609.99,609.99,622.77,622.77,622.77,622.77,661.77,694.78,695.0,695.0,664.84,695.0,664.84,694.78,664.84,661.77,647.9300000000001,661.77,664.84,695.0,664.84,661.77,661.77,640.085,661.77,661.77,661.77,640.085,664.84,661.77,647.9300000000001,664.84,694.78,705.67,705.67,705.67,705.67,705.67,705.67,705.67,705.67,705.67,729.77,705.67,664.84,695.0,664.84,695.0,705.67,705.67,705.67,705.67,705.67,729.77,735.11,735.11,735.11,735.11,755.98,755.98,755.98,755.98,729.77,755.98,755.98,755.98,755.98,735.11,735.11,755.98,755.98,755.98,835.43,835.43,755.98,755.98,755.98,835.43,835.43,755.98,835.43,835.43,835.43,835.43,835.43,835.43,835.43,845.0,883.09,845.0,864.16,883.09,880.02,880.02,880.8,864.16,864.16,880.8,880.8,880.8,864.16,883.09,864.16,880.02,880.8,883.09,864.16,880.8,864.16,864.16,883.09,883.09,864.16,880.8,883.09,883.09,883.09,864.16,883.09,883.09,864.16,864.16,883.09,883.09,883.09,883.09,864.16,883.09,883.09,864.16,864.16,883.09,883.09,864.16,864.16,883.09,883.09,883.09,883.09,883.09,880.8,864.16,864.16,864.16,864.16,864.16,883.09,864.16,864.16,883.09,883.09,883.09,883.09,880.8,880.8,864.16,880.8,880.8,813.615,880.8,883.09,883.09,864.16,883.09,883.09,883.09,883.09,883.09,864.16,883.09,883.09,883.09,883.09,883.09,835.43,793.53,729.77,835.43,793.53,883.09,883.09,883.09,844.99,835.43,835.43,852.4300000000001,835.43,835.43,835.43,835.43,835.43,849.44,864.16,864.16,880.8,880.8,883.09,883.09,864.16,883.09,883.09,883.09,883.09,864.16,864.16,864.16,864.16,883.09,883.09,883.09,883.09,883.09,883.09,883.09,883.09,880.8,883.09,883.09,880.8,864.16,826.16,864.16,864.16,883.09,864.16,864.16,883.09,835.43,835.43,735.11,729.77,755.98,735.11,735.11,729.77,729.77,705.67,664.84,647.9300000000001,664.84,705.67,735.11,755.98,735.11,735.11,729.77,729.77,705.67,729.77,729.77,705.67,664.84,664.84,694.78,664.84,661.77,729.77,729.77,705.67,729.77,735.11,729.77,695.0,695.0,695.0,694.78,694.78,729.77,735.11,729.77,705.67,705.67,705.67,729.77,735.11,729.77,735.11,813.615,793.53,835.43,835.43,835.43,835.43,864.16,880.8,864.16,864.16,883.09,880.8],\"yaxis\":\"y\",\"type\":\"scattergl\"},{\"hovertemplate\":\"variable=wide_variable_4<br>x=%{x}<br>Stock value=%{y}<extra></extra>\",\"legendgroup\":\"wide_variable_4\",\"line\":{\"color\":\"#FFA15A\",\"dash\":\"solid\"},\"marker\":{\"symbol\":\"circle\"},\"mode\":\"lines\",\"name\":\"Actual\",\"showlegend\":true,\"x\":[\"2021-02-01T00:00:00\",\"2021-02-02T00:00:00\",\"2021-02-03T00:00:00\",\"2021-02-04T00:00:00\",\"2021-02-05T00:00:00\",\"2021-02-08T00:00:00\",\"2021-02-09T00:00:00\",\"2021-02-10T00:00:00\",\"2021-02-11T00:00:00\",\"2021-02-12T00:00:00\",\"2021-02-16T00:00:00\",\"2021-02-17T00:00:00\",\"2021-02-18T00:00:00\",\"2021-02-19T00:00:00\",\"2021-02-22T00:00:00\",\"2021-02-23T00:00:00\",\"2021-02-24T00:00:00\",\"2021-02-25T00:00:00\",\"2021-02-26T00:00:00\",\"2021-03-01T00:00:00\",\"2021-03-02T00:00:00\",\"2021-03-03T00:00:00\",\"2021-03-04T00:00:00\",\"2021-03-05T00:00:00\",\"2021-03-08T00:00:00\",\"2021-03-09T00:00:00\",\"2021-03-10T00:00:00\",\"2021-03-11T00:00:00\",\"2021-03-12T00:00:00\",\"2021-03-15T00:00:00\",\"2021-03-16T00:00:00\",\"2021-03-17T00:00:00\",\"2021-03-18T00:00:00\",\"2021-03-19T00:00:00\",\"2021-03-22T00:00:00\",\"2021-03-23T00:00:00\",\"2021-03-24T00:00:00\",\"2021-03-25T00:00:00\",\"2021-03-26T00:00:00\",\"2021-03-29T00:00:00\",\"2021-03-30T00:00:00\",\"2021-03-31T00:00:00\",\"2021-04-01T00:00:00\",\"2021-04-05T00:00:00\",\"2021-04-06T00:00:00\",\"2021-04-07T00:00:00\",\"2021-04-08T00:00:00\",\"2021-04-09T00:00:00\",\"2021-04-12T00:00:00\",\"2021-04-13T00:00:00\",\"2021-04-14T00:00:00\",\"2021-04-15T00:00:00\",\"2021-04-16T00:00:00\",\"2021-04-19T00:00:00\",\"2021-04-20T00:00:00\",\"2021-04-21T00:00:00\",\"2021-04-22T00:00:00\",\"2021-04-23T00:00:00\",\"2021-04-26T00:00:00\",\"2021-04-27T00:00:00\",\"2021-04-28T00:00:00\",\"2021-04-29T00:00:00\",\"2021-04-30T00:00:00\",\"2021-05-03T00:00:00\",\"2021-05-04T00:00:00\",\"2021-05-05T00:00:00\",\"2021-05-06T00:00:00\",\"2021-05-07T00:00:00\",\"2021-05-10T00:00:00\",\"2021-05-11T00:00:00\",\"2021-05-12T00:00:00\",\"2021-05-13T00:00:00\",\"2021-05-14T00:00:00\",\"2021-05-17T00:00:00\",\"2021-05-18T00:00:00\",\"2021-05-19T00:00:00\",\"2021-05-20T00:00:00\",\"2021-05-21T00:00:00\",\"2021-05-24T00:00:00\",\"2021-05-25T00:00:00\",\"2021-05-26T00:00:00\",\"2021-05-27T00:00:00\",\"2021-05-28T00:00:00\",\"2021-06-01T00:00:00\",\"2021-06-02T00:00:00\",\"2021-06-03T00:00:00\",\"2021-06-04T00:00:00\",\"2021-06-07T00:00:00\",\"2021-06-08T00:00:00\",\"2021-06-09T00:00:00\",\"2021-06-10T00:00:00\",\"2021-06-11T00:00:00\",\"2021-06-14T00:00:00\",\"2021-06-15T00:00:00\",\"2021-06-16T00:00:00\",\"2021-06-17T00:00:00\",\"2021-06-18T00:00:00\",\"2021-06-21T00:00:00\",\"2021-06-22T00:00:00\",\"2021-06-23T00:00:00\",\"2021-06-24T00:00:00\",\"2021-06-25T00:00:00\",\"2021-06-28T00:00:00\",\"2021-06-29T00:00:00\",\"2021-06-30T00:00:00\",\"2021-07-01T00:00:00\",\"2021-07-02T00:00:00\",\"2021-07-06T00:00:00\",\"2021-07-07T00:00:00\",\"2021-07-08T00:00:00\",\"2021-07-09T00:00:00\",\"2021-07-12T00:00:00\",\"2021-07-13T00:00:00\",\"2021-07-14T00:00:00\",\"2021-07-15T00:00:00\",\"2021-07-16T00:00:00\",\"2021-07-19T00:00:00\",\"2021-07-20T00:00:00\",\"2021-07-21T00:00:00\",\"2021-07-22T00:00:00\",\"2021-07-23T00:00:00\",\"2021-07-26T00:00:00\",\"2021-07-27T00:00:00\",\"2021-07-28T00:00:00\",\"2021-07-29T00:00:00\",\"2021-07-30T00:00:00\",\"2021-08-02T00:00:00\",\"2021-08-03T00:00:00\",\"2021-08-04T00:00:00\",\"2021-08-05T00:00:00\",\"2021-08-06T00:00:00\",\"2021-08-09T00:00:00\",\"2021-08-10T00:00:00\",\"2021-08-11T00:00:00\",\"2021-08-12T00:00:00\",\"2021-08-13T00:00:00\",\"2021-08-16T00:00:00\",\"2021-08-17T00:00:00\",\"2021-08-18T00:00:00\",\"2021-08-19T00:00:00\",\"2021-08-20T00:00:00\",\"2021-08-23T00:00:00\",\"2021-08-24T00:00:00\",\"2021-08-25T00:00:00\",\"2021-08-26T00:00:00\",\"2021-08-27T00:00:00\",\"2021-08-30T00:00:00\",\"2021-08-31T00:00:00\",\"2021-09-01T00:00:00\",\"2021-09-02T00:00:00\",\"2021-09-03T00:00:00\",\"2021-09-07T00:00:00\",\"2021-09-08T00:00:00\",\"2021-09-09T00:00:00\",\"2021-09-10T00:00:00\",\"2021-09-13T00:00:00\",\"2021-09-14T00:00:00\",\"2021-09-15T00:00:00\",\"2021-09-16T00:00:00\",\"2021-09-17T00:00:00\",\"2021-09-20T00:00:00\",\"2021-09-21T00:00:00\",\"2021-09-22T00:00:00\",\"2021-09-23T00:00:00\",\"2021-09-24T00:00:00\",\"2021-09-27T00:00:00\",\"2021-09-28T00:00:00\",\"2021-09-29T00:00:00\",\"2021-09-30T00:00:00\",\"2021-10-01T00:00:00\",\"2021-10-04T00:00:00\",\"2021-10-05T00:00:00\",\"2021-10-06T00:00:00\",\"2021-10-07T00:00:00\",\"2021-10-08T00:00:00\",\"2021-10-11T00:00:00\",\"2021-10-12T00:00:00\",\"2021-10-13T00:00:00\",\"2021-10-14T00:00:00\",\"2021-10-15T00:00:00\",\"2021-10-18T00:00:00\",\"2021-10-19T00:00:00\",\"2021-10-20T00:00:00\",\"2021-10-21T00:00:00\",\"2021-10-22T00:00:00\",\"2021-10-25T00:00:00\",\"2021-10-26T00:00:00\",\"2021-10-27T00:00:00\",\"2021-10-28T00:00:00\",\"2021-10-29T00:00:00\",\"2021-11-01T00:00:00\",\"2021-11-02T00:00:00\",\"2021-11-03T00:00:00\",\"2021-11-04T00:00:00\",\"2021-11-05T00:00:00\",\"2021-11-08T00:00:00\",\"2021-11-09T00:00:00\",\"2021-11-10T00:00:00\",\"2021-11-11T00:00:00\",\"2021-11-12T00:00:00\",\"2021-11-15T00:00:00\",\"2021-11-16T00:00:00\",\"2021-11-17T00:00:00\",\"2021-11-18T00:00:00\",\"2021-11-19T00:00:00\",\"2021-11-22T00:00:00\",\"2021-11-23T00:00:00\",\"2021-11-24T00:00:00\",\"2021-11-26T00:00:00\",\"2021-11-29T00:00:00\",\"2021-11-30T00:00:00\",\"2021-12-01T00:00:00\",\"2021-12-02T00:00:00\",\"2021-12-03T00:00:00\",\"2021-12-06T00:00:00\",\"2021-12-07T00:00:00\",\"2021-12-08T00:00:00\",\"2021-12-09T00:00:00\",\"2021-12-10T00:00:00\",\"2021-12-13T00:00:00\",\"2021-12-14T00:00:00\",\"2021-12-15T00:00:00\",\"2021-12-16T00:00:00\",\"2021-12-17T00:00:00\",\"2021-12-20T00:00:00\",\"2021-12-21T00:00:00\",\"2021-12-22T00:00:00\",\"2021-12-23T00:00:00\",\"2021-12-27T00:00:00\",\"2021-12-28T00:00:00\",\"2021-12-29T00:00:00\",\"2021-12-30T00:00:00\",\"2021-12-31T00:00:00\",\"2022-01-03T00:00:00\",\"2022-01-04T00:00:00\",\"2022-01-05T00:00:00\",\"2022-01-06T00:00:00\",\"2022-01-07T00:00:00\",\"2022-01-10T00:00:00\",\"2022-01-11T00:00:00\",\"2022-01-12T00:00:00\",\"2022-01-13T00:00:00\",\"2022-01-14T00:00:00\",\"2022-01-18T00:00:00\",\"2022-01-19T00:00:00\",\"2022-01-20T00:00:00\",\"2022-01-21T00:00:00\",\"2022-01-24T00:00:00\",\"2022-01-25T00:00:00\",\"2022-01-26T00:00:00\",\"2022-01-27T00:00:00\",\"2022-01-28T00:00:00\",\"2022-01-31T00:00:00\",\"2022-02-01T00:00:00\",\"2022-02-02T00:00:00\",\"2022-02-03T00:00:00\",\"2022-02-04T00:00:00\",\"2022-02-07T00:00:00\",\"2022-02-08T00:00:00\",\"2022-02-09T00:00:00\",\"2022-02-10T00:00:00\",\"2022-02-11T00:00:00\",\"2022-02-14T00:00:00\",\"2022-02-15T00:00:00\",\"2022-02-16T00:00:00\",\"2022-02-17T00:00:00\",\"2022-02-18T00:00:00\",\"2022-02-22T00:00:00\",\"2022-02-23T00:00:00\",\"2022-02-24T00:00:00\",\"2022-02-25T00:00:00\",\"2022-02-28T00:00:00\",\"2022-03-01T00:00:00\",\"2022-03-02T00:00:00\",\"2022-03-03T00:00:00\",\"2022-03-04T00:00:00\",\"2022-03-07T00:00:00\",\"2022-03-08T00:00:00\",\"2022-03-09T00:00:00\",\"2022-03-10T00:00:00\",\"2022-03-11T00:00:00\",\"2022-03-14T00:00:00\",\"2022-03-15T00:00:00\",\"2022-03-16T00:00:00\",\"2022-03-17T00:00:00\",\"2022-03-18T00:00:00\",\"2022-03-21T00:00:00\",\"2022-03-22T00:00:00\",\"2022-03-23T00:00:00\",\"2022-03-24T00:00:00\",\"2022-03-25T00:00:00\",\"2022-03-28T00:00:00\",\"2022-03-29T00:00:00\",\"2022-03-30T00:00:00\",\"2022-03-31T00:00:00\",\"2022-04-01T00:00:00\",\"2022-04-04T00:00:00\",\"2022-04-05T00:00:00\",\"2022-04-06T00:00:00\",\"2022-04-07T00:00:00\",\"2022-04-08T00:00:00\",\"2022-04-11T00:00:00\",\"2022-04-12T00:00:00\",\"2022-04-13T00:00:00\",\"2022-04-14T00:00:00\",\"2022-04-18T00:00:00\",\"2022-04-19T00:00:00\",\"2022-04-20T00:00:00\",\"2022-04-21T00:00:00\",\"2022-04-22T00:00:00\",\"2022-04-25T00:00:00\",\"2022-04-26T00:00:00\",\"2022-04-27T00:00:00\",\"2022-04-28T00:00:00\",\"2022-04-29T00:00:00\",\"2022-05-02T00:00:00\",\"2022-05-03T00:00:00\",\"2022-05-04T00:00:00\",\"2022-05-05T00:00:00\",\"2022-05-06T00:00:00\",\"2022-05-09T00:00:00\",\"2022-05-10T00:00:00\",\"2022-05-11T00:00:00\",\"2022-05-12T00:00:00\",\"2022-05-13T00:00:00\",\"2022-05-16T00:00:00\",\"2022-05-17T00:00:00\",\"2022-05-18T00:00:00\",\"2022-05-19T00:00:00\",\"2022-05-20T00:00:00\",\"2022-05-23T00:00:00\",\"2022-05-24T00:00:00\",\"2022-05-25T00:00:00\",\"2022-05-26T00:00:00\",\"2022-05-27T00:00:00\",\"2022-05-31T00:00:00\",\"2022-06-01T00:00:00\",\"2022-06-02T00:00:00\",\"2022-06-03T00:00:00\",\"2022-06-06T00:00:00\",\"2022-06-07T00:00:00\",\"2022-06-08T00:00:00\",\"2022-06-09T00:00:00\",\"2022-06-10T00:00:00\",\"2022-06-13T00:00:00\",\"2022-06-14T00:00:00\",\"2022-06-15T00:00:00\",\"2022-06-16T00:00:00\",\"2022-06-17T00:00:00\",\"2022-06-21T00:00:00\",\"2022-06-22T00:00:00\",\"2022-06-23T00:00:00\",\"2022-06-24T00:00:00\",\"2022-06-27T00:00:00\",\"2022-06-28T00:00:00\",\"2022-06-29T00:00:00\",\"2022-06-30T00:00:00\",\"2022-07-01T00:00:00\",\"2022-07-05T00:00:00\",\"2022-07-06T00:00:00\",\"2022-07-07T00:00:00\",\"2022-07-08T00:00:00\",\"2022-07-11T00:00:00\",\"2022-07-12T00:00:00\",\"2022-07-13T00:00:00\",\"2022-07-14T00:00:00\",\"2022-07-15T00:00:00\",\"2022-07-18T00:00:00\",\"2022-07-19T00:00:00\",\"2022-07-20T00:00:00\",\"2022-07-21T00:00:00\",\"2022-07-22T00:00:00\",\"2022-07-25T00:00:00\",\"2022-07-26T00:00:00\",\"2022-07-27T00:00:00\",\"2022-07-28T00:00:00\",\"2022-07-29T00:00:00\",\"2022-08-01T00:00:00\",\"2022-08-02T00:00:00\",\"2022-08-03T00:00:00\",\"2022-08-04T00:00:00\",\"2022-08-05T00:00:00\"],\"xaxis\":\"x\",\"y\":[839.81,872.79,854.69,849.99,852.23,863.42,849.46,804.82,811.66,816.12,796.22,798.15,787.38,781.3,714.5,698.84,742.02,682.22,675.5,718.43,686.44,653.2,621.44,597.95,563.0,673.58,668.06,699.6,693.73,707.94,676.88,701.81,653.16,654.87,670.0,662.16,630.27,640.39,618.71,611.29,635.62,667.93,661.75,691.05,691.62,670.97,683.8,677.02,701.98,762.32,732.23,738.85,739.78,714.63,718.99,744.12,719.69,729.4,738.2,704.74,694.4,677.0,709.44,684.9,673.6,670.94,663.54,672.37,629.04,617.2,589.89,571.69,589.74,576.83,577.87,563.46,586.78,580.88,606.44,604.69,619.13,630.85,625.22,623.9,605.12,572.84,599.05,605.13,603.59,598.78,610.12,609.89,617.69,599.36,604.87,616.6,623.31,620.83,623.71,656.57,679.82,671.87,688.72,680.76,679.7,677.92,678.9,659.58,644.65,652.81,656.95,685.7,668.54,653.38,650.6,644.22,646.22,660.5,655.29,649.26,643.38,657.62,644.78,646.98,677.35,687.2,709.67,709.74,710.92,714.63,699.1,713.76,709.99,707.82,722.25,717.17,686.17,665.71,688.99,673.47,680.26,706.3,708.49,711.2,701.16,711.92,730.91,735.72,734.09,732.39,733.57,752.92,753.87,754.86,736.27,743.0,744.49,755.83,756.99,759.49,730.17,739.38,751.94,753.64,774.39,791.36,777.56,781.31,775.48,775.22,781.53,780.59,782.75,793.61,785.49,791.94,805.72,811.08,818.32,843.03,870.11,864.27,865.8,894.0,909.68,1024.86,1018.43,1037.86,1077.04,1114.0,1208.59,1172.0,1213.86,1229.91,1222.09,1162.94,1023.5,1067.95,1063.51,1033.42,1013.39,1054.73,1089.01,1096.38,1137.06,1156.87,1109.03,1116.0,1081.92,1136.99,1144.76,1095.0,1084.6,1014.97,1009.01,1051.75,1068.96,1003.8,1017.03,966.41,958.51,975.99,926.92,932.57,899.94,938.53,1008.87,1067.0,1093.94,1088.47,1086.19,1070.34,1056.78,1199.78,1149.59,1088.12,1064.7,1026.96,1058.12,1064.4,1106.22,1031.56,1049.61,1030.51,995.65,996.27,943.9,930.0,918.4,937.41,829.1,846.35,936.72,931.25,905.66,891.14,923.32,907.34,922.0,932.0,904.55,860.0,875.76,922.43,923.39,876.35,856.98,821.53,764.04,800.77,809.87,870.43,864.37,879.89,839.29,838.29,804.58,824.4,858.97,838.3,795.35,766.37,801.89,840.23,871.6,905.39,921.16,993.98,999.11,1013.92,1010.64,1091.84,1099.57,1093.99,1077.6,1084.59,1145.45,1091.26,1045.76,1057.26,1025.49,975.93,986.95,1022.37,985.0,1004.29,1028.15,977.2,1008.78,1005.05,998.02,876.42,881.51,877.51,870.76,902.94,909.25,952.62,873.28,865.65,787.11,800.04,734.0,728.0,769.59,724.37,761.61,709.81,709.42,663.9,674.9,628.16,658.8,707.73,759.63,758.26,740.37,775.0,703.55,714.84,716.66,725.6,719.12,696.69,647.21,662.67,699.0,639.3,650.28,711.11,708.26,705.21,737.12,734.76,697.99,685.47,673.42,681.79,699.2,695.2,733.63,752.29,703.03,699.21,711.12,714.94,720.2,721.64,736.59,742.5,815.12,816.73,805.3,776.58,824.46,842.7,891.45,891.83,901.76,922.19,925.9,864.51],\"yaxis\":\"y\",\"type\":\"scattergl\"}],                        {\"template\":{\"data\":{\"bar\":[{\"error_x\":{\"color\":\"#2a3f5f\"},\"error_y\":{\"color\":\"#2a3f5f\"},\"marker\":{\"line\":{\"color\":\"#E5ECF6\",\"width\":0.5},\"pattern\":{\"fillmode\":\"overlay\",\"size\":10,\"solidity\":0.2}},\"type\":\"bar\"}],\"barpolar\":[{\"marker\":{\"line\":{\"color\":\"#E5ECF6\",\"width\":0.5},\"pattern\":{\"fillmode\":\"overlay\",\"size\":10,\"solidity\":0.2}},\"type\":\"barpolar\"}],\"carpet\":[{\"aaxis\":{\"endlinecolor\":\"#2a3f5f\",\"gridcolor\":\"white\",\"linecolor\":\"white\",\"minorgridcolor\":\"white\",\"startlinecolor\":\"#2a3f5f\"},\"baxis\":{\"endlinecolor\":\"#2a3f5f\",\"gridcolor\":\"white\",\"linecolor\":\"white\",\"minorgridcolor\":\"white\",\"startlinecolor\":\"#2a3f5f\"},\"type\":\"carpet\"}],\"choropleth\":[{\"colorbar\":{\"outlinewidth\":0,\"ticks\":\"\"},\"type\":\"choropleth\"}],\"contour\":[{\"colorbar\":{\"outlinewidth\":0,\"ticks\":\"\"},\"colorscale\":[[0.0,\"#0d0887\"],[0.1111111111111111,\"#46039f\"],[0.2222222222222222,\"#7201a8\"],[0.3333333333333333,\"#9c179e\"],[0.4444444444444444,\"#bd3786\"],[0.5555555555555556,\"#d8576b\"],[0.6666666666666666,\"#ed7953\"],[0.7777777777777778,\"#fb9f3a\"],[0.8888888888888888,\"#fdca26\"],[1.0,\"#f0f921\"]],\"type\":\"contour\"}],\"contourcarpet\":[{\"colorbar\":{\"outlinewidth\":0,\"ticks\":\"\"},\"type\":\"contourcarpet\"}],\"heatmap\":[{\"colorbar\":{\"outlinewidth\":0,\"ticks\":\"\"},\"colorscale\":[[0.0,\"#0d0887\"],[0.1111111111111111,\"#46039f\"],[0.2222222222222222,\"#7201a8\"],[0.3333333333333333,\"#9c179e\"],[0.4444444444444444,\"#bd3786\"],[0.5555555555555556,\"#d8576b\"],[0.6666666666666666,\"#ed7953\"],[0.7777777777777778,\"#fb9f3a\"],[0.8888888888888888,\"#fdca26\"],[1.0,\"#f0f921\"]],\"type\":\"heatmap\"}],\"heatmapgl\":[{\"colorbar\":{\"outlinewidth\":0,\"ticks\":\"\"},\"colorscale\":[[0.0,\"#0d0887\"],[0.1111111111111111,\"#46039f\"],[0.2222222222222222,\"#7201a8\"],[0.3333333333333333,\"#9c179e\"],[0.4444444444444444,\"#bd3786\"],[0.5555555555555556,\"#d8576b\"],[0.6666666666666666,\"#ed7953\"],[0.7777777777777778,\"#fb9f3a\"],[0.8888888888888888,\"#fdca26\"],[1.0,\"#f0f921\"]],\"type\":\"heatmapgl\"}],\"histogram\":[{\"marker\":{\"pattern\":{\"fillmode\":\"overlay\",\"size\":10,\"solidity\":0.2}},\"type\":\"histogram\"}],\"histogram2d\":[{\"colorbar\":{\"outlinewidth\":0,\"ticks\":\"\"},\"colorscale\":[[0.0,\"#0d0887\"],[0.1111111111111111,\"#46039f\"],[0.2222222222222222,\"#7201a8\"],[0.3333333333333333,\"#9c179e\"],[0.4444444444444444,\"#bd3786\"],[0.5555555555555556,\"#d8576b\"],[0.6666666666666666,\"#ed7953\"],[0.7777777777777778,\"#fb9f3a\"],[0.8888888888888888,\"#fdca26\"],[1.0,\"#f0f921\"]],\"type\":\"histogram2d\"}],\"histogram2dcontour\":[{\"colorbar\":{\"outlinewidth\":0,\"ticks\":\"\"},\"colorscale\":[[0.0,\"#0d0887\"],[0.1111111111111111,\"#46039f\"],[0.2222222222222222,\"#7201a8\"],[0.3333333333333333,\"#9c179e\"],[0.4444444444444444,\"#bd3786\"],[0.5555555555555556,\"#d8576b\"],[0.6666666666666666,\"#ed7953\"],[0.7777777777777778,\"#fb9f3a\"],[0.8888888888888888,\"#fdca26\"],[1.0,\"#f0f921\"]],\"type\":\"histogram2dcontour\"}],\"mesh3d\":[{\"colorbar\":{\"outlinewidth\":0,\"ticks\":\"\"},\"type\":\"mesh3d\"}],\"parcoords\":[{\"line\":{\"colorbar\":{\"outlinewidth\":0,\"ticks\":\"\"}},\"type\":\"parcoords\"}],\"pie\":[{\"automargin\":true,\"type\":\"pie\"}],\"scatter\":[{\"marker\":{\"colorbar\":{\"outlinewidth\":0,\"ticks\":\"\"}},\"type\":\"scatter\"}],\"scatter3d\":[{\"line\":{\"colorbar\":{\"outlinewidth\":0,\"ticks\":\"\"}},\"marker\":{\"colorbar\":{\"outlinewidth\":0,\"ticks\":\"\"}},\"type\":\"scatter3d\"}],\"scattercarpet\":[{\"marker\":{\"colorbar\":{\"outlinewidth\":0,\"ticks\":\"\"}},\"type\":\"scattercarpet\"}],\"scattergeo\":[{\"marker\":{\"colorbar\":{\"outlinewidth\":0,\"ticks\":\"\"}},\"type\":\"scattergeo\"}],\"scattergl\":[{\"marker\":{\"colorbar\":{\"outlinewidth\":0,\"ticks\":\"\"}},\"type\":\"scattergl\"}],\"scattermapbox\":[{\"marker\":{\"colorbar\":{\"outlinewidth\":0,\"ticks\":\"\"}},\"type\":\"scattermapbox\"}],\"scatterpolar\":[{\"marker\":{\"colorbar\":{\"outlinewidth\":0,\"ticks\":\"\"}},\"type\":\"scatterpolar\"}],\"scatterpolargl\":[{\"marker\":{\"colorbar\":{\"outlinewidth\":0,\"ticks\":\"\"}},\"type\":\"scatterpolargl\"}],\"scatterternary\":[{\"marker\":{\"colorbar\":{\"outlinewidth\":0,\"ticks\":\"\"}},\"type\":\"scatterternary\"}],\"surface\":[{\"colorbar\":{\"outlinewidth\":0,\"ticks\":\"\"},\"colorscale\":[[0.0,\"#0d0887\"],[0.1111111111111111,\"#46039f\"],[0.2222222222222222,\"#7201a8\"],[0.3333333333333333,\"#9c179e\"],[0.4444444444444444,\"#bd3786\"],[0.5555555555555556,\"#d8576b\"],[0.6666666666666666,\"#ed7953\"],[0.7777777777777778,\"#fb9f3a\"],[0.8888888888888888,\"#fdca26\"],[1.0,\"#f0f921\"]],\"type\":\"surface\"}],\"table\":[{\"cells\":{\"fill\":{\"color\":\"#EBF0F8\"},\"line\":{\"color\":\"white\"}},\"header\":{\"fill\":{\"color\":\"#C8D4E3\"},\"line\":{\"color\":\"white\"}},\"type\":\"table\"}]},\"layout\":{\"annotationdefaults\":{\"arrowcolor\":\"#2a3f5f\",\"arrowhead\":0,\"arrowwidth\":1},\"autotypenumbers\":\"strict\",\"coloraxis\":{\"colorbar\":{\"outlinewidth\":0,\"ticks\":\"\"}},\"colorscale\":{\"diverging\":[[0,\"#8e0152\"],[0.1,\"#c51b7d\"],[0.2,\"#de77ae\"],[0.3,\"#f1b6da\"],[0.4,\"#fde0ef\"],[0.5,\"#f7f7f7\"],[0.6,\"#e6f5d0\"],[0.7,\"#b8e186\"],[0.8,\"#7fbc41\"],[0.9,\"#4d9221\"],[1,\"#276419\"]],\"sequential\":[[0.0,\"#0d0887\"],[0.1111111111111111,\"#46039f\"],[0.2222222222222222,\"#7201a8\"],[0.3333333333333333,\"#9c179e\"],[0.4444444444444444,\"#bd3786\"],[0.5555555555555556,\"#d8576b\"],[0.6666666666666666,\"#ed7953\"],[0.7777777777777778,\"#fb9f3a\"],[0.8888888888888888,\"#fdca26\"],[1.0,\"#f0f921\"]],\"sequentialminus\":[[0.0,\"#0d0887\"],[0.1111111111111111,\"#46039f\"],[0.2222222222222222,\"#7201a8\"],[0.3333333333333333,\"#9c179e\"],[0.4444444444444444,\"#bd3786\"],[0.5555555555555556,\"#d8576b\"],[0.6666666666666666,\"#ed7953\"],[0.7777777777777778,\"#fb9f3a\"],[0.8888888888888888,\"#fdca26\"],[1.0,\"#f0f921\"]]},\"colorway\":[\"#636efa\",\"#EF553B\",\"#00cc96\",\"#ab63fa\",\"#FFA15A\",\"#19d3f3\",\"#FF6692\",\"#B6E880\",\"#FF97FF\",\"#FECB52\"],\"font\":{\"color\":\"#2a3f5f\"},\"geo\":{\"bgcolor\":\"white\",\"lakecolor\":\"white\",\"landcolor\":\"#E5ECF6\",\"showlakes\":true,\"showland\":true,\"subunitcolor\":\"white\"},\"hoverlabel\":{\"align\":\"left\"},\"hovermode\":\"closest\",\"mapbox\":{\"style\":\"light\"},\"paper_bgcolor\":\"white\",\"plot_bgcolor\":\"#E5ECF6\",\"polar\":{\"angularaxis\":{\"gridcolor\":\"white\",\"linecolor\":\"white\",\"ticks\":\"\"},\"bgcolor\":\"#E5ECF6\",\"radialaxis\":{\"gridcolor\":\"white\",\"linecolor\":\"white\",\"ticks\":\"\"}},\"scene\":{\"xaxis\":{\"backgroundcolor\":\"#E5ECF6\",\"gridcolor\":\"white\",\"gridwidth\":2,\"linecolor\":\"white\",\"showbackground\":true,\"ticks\":\"\",\"zerolinecolor\":\"white\"},\"yaxis\":{\"backgroundcolor\":\"#E5ECF6\",\"gridcolor\":\"white\",\"gridwidth\":2,\"linecolor\":\"white\",\"showbackground\":true,\"ticks\":\"\",\"zerolinecolor\":\"white\"},\"zaxis\":{\"backgroundcolor\":\"#E5ECF6\",\"gridcolor\":\"white\",\"gridwidth\":2,\"linecolor\":\"white\",\"showbackground\":true,\"ticks\":\"\",\"zerolinecolor\":\"white\"}},\"shapedefaults\":{\"line\":{\"color\":\"#2a3f5f\"}},\"ternary\":{\"aaxis\":{\"gridcolor\":\"white\",\"linecolor\":\"white\",\"ticks\":\"\"},\"baxis\":{\"gridcolor\":\"white\",\"linecolor\":\"white\",\"ticks\":\"\"},\"bgcolor\":\"#E5ECF6\",\"caxis\":{\"gridcolor\":\"white\",\"linecolor\":\"white\",\"ticks\":\"\"}},\"title\":{\"x\":0.05},\"xaxis\":{\"automargin\":true,\"gridcolor\":\"white\",\"linecolor\":\"white\",\"ticks\":\"\",\"title\":{\"standoff\":15},\"zerolinecolor\":\"white\",\"zerolinewidth\":2},\"yaxis\":{\"automargin\":true,\"gridcolor\":\"white\",\"linecolor\":\"white\",\"ticks\":\"\",\"title\":{\"standoff\":15},\"zerolinecolor\":\"white\",\"zerolinewidth\":2}}},\"xaxis\":{\"anchor\":\"y\",\"domain\":[0.0,1.0],\"title\":{\"text\":\"x\"},\"showgrid\":false},\"yaxis\":{\"anchor\":\"x\",\"domain\":[0.0,1.0],\"title\":{\"text\":\"Stock value\"},\"showgrid\":false},\"legend\":{\"title\":{\"text\":\"Stock Parameters\"},\"tracegroupgap\":0},\"margin\":{\"t\":60},\"title\":{\"text\":\"Stock analysis chart\"},\"font\":{\"size\":15,\"color\":\"black\"}},                        {\"responsive\": true}                    ).then(function(){\n",
              "                            \n",
              "var gd = document.getElementById('05a22e6c-44a6-4042-b736-b38001da37ad');\n",
              "var x = new MutationObserver(function (mutations, observer) {{\n",
              "        var display = window.getComputedStyle(gd).display;\n",
              "        if (!display || display === 'none') {{\n",
              "            console.log([gd, 'removed!']);\n",
              "            Plotly.purge(gd);\n",
              "            observer.disconnect();\n",
              "        }}\n",
              "}});\n",
              "\n",
              "// Listen for the removal of the full notebook cells\n",
              "var notebookContainer = gd.closest('#notebook-container');\n",
              "if (notebookContainer) {{\n",
              "    x.observe(notebookContainer, {childList: true});\n",
              "}}\n",
              "\n",
              "// Listen for the clearing of the current output cell\n",
              "var outputEl = gd.closest('.output');\n",
              "if (outputEl) {{\n",
              "    x.observe(outputEl, {childList: true});\n",
              "}}\n",
              "\n",
              "                        })                };                            </script>        </div>\n",
              "</body>\n",
              "</html>"
            ]
          },
          "metadata": {}
        }
      ]
    },
    {
      "cell_type": "markdown",
      "source": [
        "## Classification \n"
      ],
      "metadata": {
        "id": "cpz8QTirHhQI"
      }
    },
    {
      "cell_type": "code",
      "execution_count": 23,
      "metadata": {
        "id": "XiiMFqBrHzNo"
      },
      "outputs": [],
      "source": [
        "# Normalize feature vector\n",
        "#y = StandardScaler().fit(y.array.reshape(-1, 1) )\n",
        "df_1 = df_1.fillna(df_1.mean())\n",
        "\n",
        "y = df_1['Target']\n",
        "X = df_1.drop(['Date','Target'], axis = 1)\n",
        "\n",
        "X = StandardScaler().fit_transform(X)\n"
      ]
    },
    {
      "cell_type": "code",
      "source": [
        "df_1.isna().values.any()"
      ],
      "metadata": {
        "colab": {
          "base_uri": "https://localhost:8080/"
        },
        "id": "unWZocPDTt4a",
        "outputId": "ac676b1e-4aee-4d41-b79b-211070678427"
      },
      "execution_count": 24,
      "outputs": [
        {
          "output_type": "execute_result",
          "data": {
            "text/plain": [
              "False"
            ]
          },
          "metadata": {},
          "execution_count": 24
        }
      ]
    },
    {
      "cell_type": "code",
      "source": [
        "df_1.describe()"
      ],
      "metadata": {
        "colab": {
          "base_uri": "https://localhost:8080/",
          "height": 382
        },
        "id": "yHm1bMIvU8ye",
        "outputId": "275681e9-da75-44db-ed64-7f663f5dad82"
      },
      "execution_count": 25,
      "outputs": [
        {
          "output_type": "execute_result",
          "data": {
            "text/plain": [
              "              Open         High          Low        Close        Volume  \\\n",
              "count  1157.000000  1157.000000  1157.000000  1157.000000  1.157000e+03   \n",
              "mean    369.928202   378.641253   360.547381   369.866897  4.541969e+07   \n",
              "std     354.542302   362.800245   345.272469   354.135619  3.080277e+07   \n",
              "min      36.220000    37.340000    35.400000    35.790000  9.800600e+06   \n",
              "25%      61.760000    63.030000    60.380000    61.830000  2.573650e+07   \n",
              "50%     157.960000   161.010000   152.660000   156.380000  3.483300e+07   \n",
              "75%     699.510000   713.610000   680.000000   699.000000  5.364850e+07   \n",
              "max    1234.410000  1243.490000  1217.000000  1229.910000  3.046940e+08   \n",
              "\n",
              "       Dividends  Stock Splits      Target  \n",
              "count     1157.0   1157.000000  1157.00000  \n",
              "mean         0.0      0.004322     0.51599  \n",
              "std          0.0      0.146995     0.49996  \n",
              "min          0.0      0.000000     0.00000  \n",
              "25%          0.0      0.000000     0.00000  \n",
              "50%          0.0      0.000000     1.00000  \n",
              "75%          0.0      0.000000     1.00000  \n",
              "max          0.0      5.000000     1.00000  "
            ],
            "text/html": [
              "\n",
              "  <div id=\"df-e3e516b6-16be-4c1b-96cc-a349ee592ca1\">\n",
              "    <div class=\"colab-df-container\">\n",
              "      <div>\n",
              "<style scoped>\n",
              "    .dataframe tbody tr th:only-of-type {\n",
              "        vertical-align: middle;\n",
              "    }\n",
              "\n",
              "    .dataframe tbody tr th {\n",
              "        vertical-align: top;\n",
              "    }\n",
              "\n",
              "    .dataframe thead th {\n",
              "        text-align: right;\n",
              "    }\n",
              "</style>\n",
              "<table border=\"1\" class=\"dataframe\">\n",
              "  <thead>\n",
              "    <tr style=\"text-align: right;\">\n",
              "      <th></th>\n",
              "      <th>Open</th>\n",
              "      <th>High</th>\n",
              "      <th>Low</th>\n",
              "      <th>Close</th>\n",
              "      <th>Volume</th>\n",
              "      <th>Dividends</th>\n",
              "      <th>Stock Splits</th>\n",
              "      <th>Target</th>\n",
              "    </tr>\n",
              "  </thead>\n",
              "  <tbody>\n",
              "    <tr>\n",
              "      <th>count</th>\n",
              "      <td>1157.000000</td>\n",
              "      <td>1157.000000</td>\n",
              "      <td>1157.000000</td>\n",
              "      <td>1157.000000</td>\n",
              "      <td>1.157000e+03</td>\n",
              "      <td>1157.0</td>\n",
              "      <td>1157.000000</td>\n",
              "      <td>1157.00000</td>\n",
              "    </tr>\n",
              "    <tr>\n",
              "      <th>mean</th>\n",
              "      <td>369.928202</td>\n",
              "      <td>378.641253</td>\n",
              "      <td>360.547381</td>\n",
              "      <td>369.866897</td>\n",
              "      <td>4.541969e+07</td>\n",
              "      <td>0.0</td>\n",
              "      <td>0.004322</td>\n",
              "      <td>0.51599</td>\n",
              "    </tr>\n",
              "    <tr>\n",
              "      <th>std</th>\n",
              "      <td>354.542302</td>\n",
              "      <td>362.800245</td>\n",
              "      <td>345.272469</td>\n",
              "      <td>354.135619</td>\n",
              "      <td>3.080277e+07</td>\n",
              "      <td>0.0</td>\n",
              "      <td>0.146995</td>\n",
              "      <td>0.49996</td>\n",
              "    </tr>\n",
              "    <tr>\n",
              "      <th>min</th>\n",
              "      <td>36.220000</td>\n",
              "      <td>37.340000</td>\n",
              "      <td>35.400000</td>\n",
              "      <td>35.790000</td>\n",
              "      <td>9.800600e+06</td>\n",
              "      <td>0.0</td>\n",
              "      <td>0.000000</td>\n",
              "      <td>0.00000</td>\n",
              "    </tr>\n",
              "    <tr>\n",
              "      <th>25%</th>\n",
              "      <td>61.760000</td>\n",
              "      <td>63.030000</td>\n",
              "      <td>60.380000</td>\n",
              "      <td>61.830000</td>\n",
              "      <td>2.573650e+07</td>\n",
              "      <td>0.0</td>\n",
              "      <td>0.000000</td>\n",
              "      <td>0.00000</td>\n",
              "    </tr>\n",
              "    <tr>\n",
              "      <th>50%</th>\n",
              "      <td>157.960000</td>\n",
              "      <td>161.010000</td>\n",
              "      <td>152.660000</td>\n",
              "      <td>156.380000</td>\n",
              "      <td>3.483300e+07</td>\n",
              "      <td>0.0</td>\n",
              "      <td>0.000000</td>\n",
              "      <td>1.00000</td>\n",
              "    </tr>\n",
              "    <tr>\n",
              "      <th>75%</th>\n",
              "      <td>699.510000</td>\n",
              "      <td>713.610000</td>\n",
              "      <td>680.000000</td>\n",
              "      <td>699.000000</td>\n",
              "      <td>5.364850e+07</td>\n",
              "      <td>0.0</td>\n",
              "      <td>0.000000</td>\n",
              "      <td>1.00000</td>\n",
              "    </tr>\n",
              "    <tr>\n",
              "      <th>max</th>\n",
              "      <td>1234.410000</td>\n",
              "      <td>1243.490000</td>\n",
              "      <td>1217.000000</td>\n",
              "      <td>1229.910000</td>\n",
              "      <td>3.046940e+08</td>\n",
              "      <td>0.0</td>\n",
              "      <td>5.000000</td>\n",
              "      <td>1.00000</td>\n",
              "    </tr>\n",
              "  </tbody>\n",
              "</table>\n",
              "</div>\n",
              "      <button class=\"colab-df-convert\" onclick=\"convertToInteractive('df-e3e516b6-16be-4c1b-96cc-a349ee592ca1')\"\n",
              "              title=\"Convert this dataframe to an interactive table.\"\n",
              "              style=\"display:none;\">\n",
              "        \n",
              "  <svg xmlns=\"http://www.w3.org/2000/svg\" height=\"24px\"viewBox=\"0 0 24 24\"\n",
              "       width=\"24px\">\n",
              "    <path d=\"M0 0h24v24H0V0z\" fill=\"none\"/>\n",
              "    <path d=\"M18.56 5.44l.94 2.06.94-2.06 2.06-.94-2.06-.94-.94-2.06-.94 2.06-2.06.94zm-11 1L8.5 8.5l.94-2.06 2.06-.94-2.06-.94L8.5 2.5l-.94 2.06-2.06.94zm10 10l.94 2.06.94-2.06 2.06-.94-2.06-.94-.94-2.06-.94 2.06-2.06.94z\"/><path d=\"M17.41 7.96l-1.37-1.37c-.4-.4-.92-.59-1.43-.59-.52 0-1.04.2-1.43.59L10.3 9.45l-7.72 7.72c-.78.78-.78 2.05 0 2.83L4 21.41c.39.39.9.59 1.41.59.51 0 1.02-.2 1.41-.59l7.78-7.78 2.81-2.81c.8-.78.8-2.07 0-2.86zM5.41 20L4 18.59l7.72-7.72 1.47 1.35L5.41 20z\"/>\n",
              "  </svg>\n",
              "      </button>\n",
              "      \n",
              "  <style>\n",
              "    .colab-df-container {\n",
              "      display:flex;\n",
              "      flex-wrap:wrap;\n",
              "      gap: 12px;\n",
              "    }\n",
              "\n",
              "    .colab-df-convert {\n",
              "      background-color: #E8F0FE;\n",
              "      border: none;\n",
              "      border-radius: 50%;\n",
              "      cursor: pointer;\n",
              "      display: none;\n",
              "      fill: #1967D2;\n",
              "      height: 32px;\n",
              "      padding: 0 0 0 0;\n",
              "      width: 32px;\n",
              "    }\n",
              "\n",
              "    .colab-df-convert:hover {\n",
              "      background-color: #E2EBFA;\n",
              "      box-shadow: 0px 1px 2px rgba(60, 64, 67, 0.3), 0px 1px 3px 1px rgba(60, 64, 67, 0.15);\n",
              "      fill: #174EA6;\n",
              "    }\n",
              "\n",
              "    [theme=dark] .colab-df-convert {\n",
              "      background-color: #3B4455;\n",
              "      fill: #D2E3FC;\n",
              "    }\n",
              "\n",
              "    [theme=dark] .colab-df-convert:hover {\n",
              "      background-color: #434B5C;\n",
              "      box-shadow: 0px 1px 3px 1px rgba(0, 0, 0, 0.15);\n",
              "      filter: drop-shadow(0px 1px 2px rgba(0, 0, 0, 0.3));\n",
              "      fill: #FFFFFF;\n",
              "    }\n",
              "  </style>\n",
              "\n",
              "      <script>\n",
              "        const buttonEl =\n",
              "          document.querySelector('#df-e3e516b6-16be-4c1b-96cc-a349ee592ca1 button.colab-df-convert');\n",
              "        buttonEl.style.display =\n",
              "          google.colab.kernel.accessAllowed ? 'block' : 'none';\n",
              "\n",
              "        async function convertToInteractive(key) {\n",
              "          const element = document.querySelector('#df-e3e516b6-16be-4c1b-96cc-a349ee592ca1');\n",
              "          const dataTable =\n",
              "            await google.colab.kernel.invokeFunction('convertToInteractive',\n",
              "                                                     [key], {});\n",
              "          if (!dataTable) return;\n",
              "\n",
              "          const docLinkHtml = 'Like what you see? Visit the ' +\n",
              "            '<a target=\"_blank\" href=https://colab.research.google.com/notebooks/data_table.ipynb>data table notebook</a>'\n",
              "            + ' to learn more about interactive tables.';\n",
              "          element.innerHTML = '';\n",
              "          dataTable['output_type'] = 'display_data';\n",
              "          await google.colab.output.renderOutput(dataTable, element);\n",
              "          const docLink = document.createElement('div');\n",
              "          docLink.innerHTML = docLinkHtml;\n",
              "          element.appendChild(docLink);\n",
              "        }\n",
              "      </script>\n",
              "    </div>\n",
              "  </div>\n",
              "  "
            ]
          },
          "metadata": {},
          "execution_count": 25
        }
      ]
    },
    {
      "cell_type": "code",
      "execution_count": 26,
      "metadata": {
        "id": "4oIF0VPnIvvd"
      },
      "outputs": [],
      "source": [
        "# Split the dataset\n",
        "X_train, X_test, y_train, y_test = train_test_split(X, y, test_size = 0.20, random_state = 0)\n",
        "\n"
      ]
    },
    {
      "cell_type": "code",
      "execution_count": 27,
      "metadata": {
        "colab": {
          "base_uri": "https://localhost:8080/"
        },
        "outputId": "491eadda-3fdf-422b-9cdb-e704ba47c99e",
        "id": "S9U7GxMOIvve"
      },
      "outputs": [
        {
          "output_type": "stream",
          "name": "stdout",
          "text": [
            "Best CV score = 0.941:\n",
            "Best parameters:  {'svm__C': 100, 'svm__gamma': 1, 'svm__kernel': 'poly'}\n"
          ]
        }
      ],
      "source": [
        "# create the pipeline\n",
        "pipe = Pipeline(steps=[('preprocess', preprocess_pipeline), ('svm', svm.SVC(probability=True))])\n",
        "\n",
        "# prepare a prameter grid\n",
        "# note that __ can be used to specify the name of a parameter for a specific element in a pipeline\n",
        "# note also that this is not an exhaustive list of the parameters of svn.SVC and their possible values\n",
        "\n",
        "param_grid = {\n",
        "    'svm__C': [0.1, 1, 10, 100],  \n",
        "    'svm__gamma': [1, 0.1, 0.01, 0.001], \n",
        "    'svm__kernel': ['rbf', 'linear', 'poly']}\n",
        "\n",
        "search = GridSearchCV(pipe, param_grid, n_jobs=-1, cv=5, refit=True)\n",
        "search.fit(X_train, y_train) \n",
        "print(\"Best CV score = %0.3f:\" % search.best_score_)\n",
        "print(\"Best parameters: \", search.best_params_)\n",
        "\n",
        "# store the best params and best model for later use\n",
        "SVM_best_params = search.best_params_\n",
        "SVM_best_model = search.best_estimator_"
      ]
    },
    {
      "cell_type": "code",
      "execution_count": 28,
      "metadata": {
        "id": "WPhpqeUeIvve",
        "colab": {
          "base_uri": "https://localhost:8080/"
        },
        "outputId": "1da86b36-e084-418a-ba29-adbdf430873f"
      },
      "outputs": [
        {
          "output_type": "stream",
          "name": "stdout",
          "text": [
            "Best CV score = 0.659:\n",
            "Best parameters:  {'rf__max_depth': 8, 'rf__n_estimators': 20}\n"
          ]
        }
      ],
      "source": [
        "# create the pipeline\n",
        "pipe = Pipeline(steps=[('preprocess', preprocess_pipeline), ('rf', RandomForestClassifier())])\n",
        "\n",
        "# prepare a prameter grid\n",
        "# note that __ can be used to specify the name of a parameter for a specific element in a pipeline\n",
        "# note also that this is not an exhaustive list of the parameters of RandomForestClassifier and their possible values\n",
        "param_grid = {\n",
        "    'rf__n_estimators' : [10,20,30],\n",
        "    'rf__max_depth': [2, 4, 6, 8]\n",
        "}\n",
        "\n",
        "search = GridSearchCV(pipe, param_grid, n_jobs=-1, cv=5, refit=True)\n",
        "search.fit(X_train, y_train)\n",
        "print(\"Best CV score = %0.3f:\" % search.best_score_)\n",
        "print(\"Best parameters: \", search.best_params_)\n",
        "\n",
        "# store the best params and best model for later use\n",
        "RF_best_params = search.best_params_\n",
        "RF_best_model = search.best_estimator_"
      ]
    },
    {
      "cell_type": "code",
      "execution_count": 29,
      "metadata": {
        "id": "Tzoifw9rIvve",
        "colab": {
          "base_uri": "https://localhost:8080/"
        },
        "outputId": "d7032cb5-9228-4172-c5dc-ec98569c3218"
      },
      "outputs": [
        {
          "output_type": "stream",
          "name": "stdout",
          "text": [
            "Best CV score = 0.565:\n",
            "Best parameters:  {'knn__n_neighbors': 3}\n"
          ]
        }
      ],
      "source": [
        "# create the pipeline\n",
        "pipe = Pipeline(steps=[('preprocess', preprocess_pipeline), ('knn', KNeighborsClassifier())])\n",
        "\n",
        "param_grid = {\n",
        "'knn__n_neighbors': list(range(1, 31))\n",
        "}\n",
        "\n",
        "search = GridSearchCV(pipe, param_grid, n_jobs=-1, cv=5, refit=True)\n",
        "search.fit(X_train, y_train) #trainign happens here!\n",
        "\n",
        "print(\"Best CV score = %0.3f:\" % search.best_score_)\n",
        "print(\"Best parameters: \", search.best_params_)\n",
        "\n",
        "# store the best params and best model for later use\n",
        "KNN_best_params = search.best_params_\n",
        "KNN_best_model = search.best_estimator_"
      ]
    },
    {
      "cell_type": "code",
      "execution_count": 30,
      "metadata": {
        "id": "sF6tWOmqIvve",
        "colab": {
          "base_uri": "https://localhost:8080/"
        },
        "outputId": "91228090-3cdf-4442-8092-2f5af22d1ebe"
      },
      "outputs": [
        {
          "output_type": "stream",
          "name": "stdout",
          "text": [
            "Best CV score = 0.614:\n",
            "Best parameters:  {'dec__criterion': 'gini', 'dec__max_depth': 10}\n"
          ]
        }
      ],
      "source": [
        "# create the pipeline\n",
        "pipe = Pipeline(steps=[('preprocess', preprocess_pipeline), ('dec', DecisionTreeClassifier())])\n",
        "\n",
        "\n",
        "param_grid = {\n",
        "'dec__criterion': [\"gini\", \"entropy\"],\n",
        "'dec__max_depth': [2,4,6,8,10]  \n",
        "}\n",
        "\n",
        "search = GridSearchCV(pipe, param_grid, n_jobs=-1, cv=5, refit=True)\n",
        "search.fit(X_train, y_train) #trainig happens here!\n",
        "\n",
        "print(\"Best CV score = %0.3f:\" % search.best_score_)\n",
        "print(\"Best parameters: \", search.best_params_)\n",
        "\n",
        "# store the best params and best model for later use\n",
        "DEC_best_params = search.best_params_\n",
        "DEC_best_model = search.best_estimator_"
      ]
    },
    {
      "cell_type": "markdown",
      "metadata": {
        "id": "WvM_cVGPIvve"
      },
      "source": [
        "#### Compare Classifiers on Test Set"
      ]
    },
    {
      "cell_type": "code",
      "execution_count": 31,
      "metadata": {
        "id": "Qo9KlfiqIvve"
      },
      "outputs": [],
      "source": [
        "mean_fpr = np.linspace(start=0, stop=1, num=100)"
      ]
    },
    {
      "cell_type": "code",
      "execution_count": 32,
      "metadata": {
        "id": "fM7o8DjMIvvf"
      },
      "outputs": [],
      "source": [
        "# model - a trained binary probabilistic classification model;\n",
        "#         it is assumed that there are two classes: 0 and 1\n",
        "#         and the classifier learns to predict probabilities for the examples to belong to class 1\n",
        "\n",
        "def evaluate_model(X_test, y_test, model):\n",
        "    # compute probabilistic predictiond for the evaluation set\n",
        "    _probabilities = model.predict_proba(X_test)[:, 1]\n",
        "    \n",
        "    # compute exact predictiond for the evaluation set\n",
        "    _predicted_values = model.predict(X_test)\n",
        "        \n",
        "    # compute accuracy\n",
        "    _accuracy = accuracy_score(y_test, _predicted_values)\n",
        "        \n",
        "    # compute precision, recall and f1 score for class 1\n",
        "    _precision, _recall, _f1_score, _ = precision_recall_fscore_support(y_test, _predicted_values, labels=[1])\n",
        "    \n",
        "    # compute fpr and tpr values for various thresholds \n",
        "    # by comparing the true target values to the predicted probabilities for class 1\n",
        "    _fpr, _tpr, _ = roc_curve(y_test, _probabilities)\n",
        "        \n",
        "    # compute true positive rates for the values in the array mean_fpr\n",
        "    _tpr_transformed = np.array([np.interp(mean_fpr, _fpr, _tpr)])\n",
        "    \n",
        "    # compute the area under the curve\n",
        "    _auc = auc(_fpr, _tpr)\n",
        "            \n",
        "    return _accuracy, _precision[0], _recall[0], _f1_score[0], _tpr_transformed, _auc"
      ]
    },
    {
      "cell_type": "code",
      "execution_count": 33,
      "metadata": {
        "id": "QA_OxSARIvvf"
      },
      "outputs": [],
      "source": [
        "SVM_accuracy, SVM_precision, SVM_recall, SVM_f1_score, SVM_tpr, SVM_auc = evaluate_model(X_test, y_test, SVM_best_model)\n",
        "RF_accuracy, RF_precision, RF_recall, RF_f1_score, RF_tpr, RF_auc = evaluate_model(X_test, y_test, RF_best_model)\n",
        "KNN_accuracy, KNN_precision, KNN_recall, KNN_f1_score, KNN_tpr, KNN_auc = evaluate_model(X_test, y_test, KNN_best_model)\n",
        "DEC_accuracy, DEC_precision, DEC_recall, DEC_f1_score, DEC_tpr, DEC_auc = evaluate_model(X_test, y_test, DEC_best_model)\n"
      ]
    },
    {
      "cell_type": "code",
      "execution_count": 44,
      "metadata": {
        "id": "dGAwom-hIvvf",
        "colab": {
          "base_uri": "https://localhost:8080/",
          "height": 267
        },
        "outputId": "8b361525-cc23-4571-a84f-4b5660018886"
      },
      "outputs": [
        {
          "output_type": "display_data",
          "data": {
            "text/plain": [
              "<Figure size 432x288 with 1 Axes>"
            ],
            "image/png": "[encoded data removed]"
          },
          "metadata": {
            "needs_background": "light"
          }
        }
      ],
      "source": [
        "SVM_metrics = np.array([SVM_accuracy, SVM_precision, SVM_recall, SVM_f1_score])\n",
        "RF_metrics = np.array([RF_accuracy, RF_precision, RF_recall, RF_f1_score])\n",
        "KNN_metrics = np.array([KNN_accuracy, KNN_precision, KNN_recall, KNN_f1_score])\n",
        "DEC_metrics = np.array([DEC_accuracy, DEC_precision, DEC_recall, DEC_f1_score])\n",
        "index = ['accuracy', 'precision', 'recall', 'F1-score']\n",
        "df_metrics = pd.DataFrame({'SVM': SVM_metrics, 'Random Forest': RF_metrics, 'KNeighborsClassifier' : KNN_metrics, \n",
        "                          'DecisionTreeClassifier' : DEC_metrics}, index =index)\n",
        "df_metrics.plot.bar(rot=0)\n",
        "#fig = px.bar(df_metrics)\n",
        "#fig.legend(loc=\"lower right\")\n",
        "plt.show()\n"
      ]
    },
    {
      "cell_type": "code",
      "execution_count": 35,
      "metadata": {
        "id": "Vox7R1FmIvvf",
        "colab": {
          "base_uri": "https://localhost:8080/",
          "height": 295
        },
        "outputId": "3a343650-051a-4be9-ea1a-a7698e6d8553"
      },
      "outputs": [
        {
          "output_type": "display_data",
          "data": {
            "text/plain": [
              "<Figure size 432x288 with 1 Axes>"
            ],
            "image/png": "[encoded data removed]"
          },
          "metadata": {
            "needs_background": "light"
          }
        }
      ],
      "source": [
        "plt.plot([0, 1], [0, 1], linestyle='--', lw=2, color='r', label='Chance', alpha=0.8)\n",
        "plt.plot(mean_fpr, SVM_tpr[0,:], lw=2, color='blue', label='SVM (AUC = %0.2f)' % (SVM_auc), alpha=0.8)\n",
        "plt.plot(mean_fpr, RF_tpr[0,:], lw=2, color='orange', label='Random Forest (AUC = %0.2f)' % (RF_auc), alpha=0.8)\n",
        "plt.plot(mean_fpr, RF_tpr[0,:], lw=2, color='red', label='KNeighborsClassifier (AUC = %0.2f)' % (KNN_auc), alpha=0.8)\n",
        "plt.plot(mean_fpr, RF_tpr[0,:], lw=2, color='pink', label='DecisionTreeClassifier (AUC = %0.2f)' % (DEC_auc), alpha=0.8)\n",
        "plt.xlabel('False Positive Rate')\n",
        "plt.ylabel('True Positive Rate')\n",
        "plt.title('ROC curves for multiple classifiers')\n",
        "plt.legend(loc=\"lower right\")\n",
        "plt.show()"
      ]
    },
    {
      "cell_type": "markdown",
      "metadata": {
        "id": "ada89b34"
      },
      "source": [
        "# Experiment 2\n"
      ]
    },
    {
      "cell_type": "markdown",
      "source": [
        "Question 2 – How does the performance change when additional information is added to the historical time series dataset, such as financial information about the company and sentiment value predicted by fin-BERT?"
      ],
      "metadata": {
        "id": "r-nauOnJZSF4"
      }
    },
    {
      "cell_type": "markdown",
      "source": [
        "Normalizing / scaling close value between 0 to 1"
      ],
      "metadata": {
        "id": "zHFuoXXQvwJN"
      }
    },
    {
      "cell_type": "code",
      "source": [
        " #df_backup = df \n",
        "df_backup= df \n",
        " df"
      ],
      "metadata": {
        "id": "HwFzjDb8lzgm",
        "colab": {
          "base_uri": "https://localhost:8080/",
          "height": 696
        },
        "outputId": "ccf60bdf-4335-4fb0-f7bc-12bcb5a5ef78"
      },
      "execution_count": null,
      "outputs": [
        {
          "output_type": "execute_result",
          "data": {
            "text/plain": [
              "          Date    Open    High     Low   Close      Volume  Dividends  \\\n",
              "0   2018-01-09   67.03   67.76   65.48   66.74  35733000.0        0.0   \n",
              "1   2018-01-29   67.97   70.17   67.66   69.91  23735500.0        0.0   \n",
              "2   2018-01-31   69.50   71.24   69.04   70.86  31070500.0        0.0   \n",
              "3   2018-03-07   65.09   66.50   64.35   66.46  25036500.0        0.0   \n",
              "4   2018-03-20   62.97   63.25   61.75   62.11  23821500.0        0.0   \n",
              "..         ...     ...     ...     ...     ...         ...        ...   \n",
              "748 2022-05-19  707.00  734.00  694.11  709.42  30098900.0        0.0   \n",
              "749 2022-05-20  713.99  721.58  633.00  663.90  48324400.0        0.0   \n",
              "750 2022-05-23  655.02  679.96  638.06  674.90  29634500.0        0.0   \n",
              "751 2022-05-24  653.53  653.92  620.57  628.16  29697500.0        0.0   \n",
              "752 2022-05-25  623.85  669.32  623.01  658.80  30713100.0        0.0   \n",
              "\n",
              "     Stock Splits  Research Development  Income Before Tax  ...  \\\n",
              "0             0.0          1.460000e+09      -1.005000e+09  ...   \n",
              "1             0.0          1.460000e+09      -1.005000e+09  ...   \n",
              "2             0.0          1.460000e+09      -1.005000e+09  ...   \n",
              "3             0.0          1.460000e+09      -1.005000e+09  ...   \n",
              "4             0.0          1.460000e+09      -1.005000e+09  ...   \n",
              "..            ...                   ...                ...  ...   \n",
              "748           0.0          2.593000e+09       6.343000e+09  ...   \n",
              "749           0.0          2.593000e+09       6.343000e+09  ...   \n",
              "750           0.0          2.593000e+09       6.343000e+09  ...   \n",
              "751           0.0          2.593000e+09       6.343000e+09  ...   \n",
              "752           0.0          2.593000e+09       6.343000e+09  ...   \n",
              "\n",
              "     Net Tangible Assets  Net Receivables  Long Term Debt     Inventory  \\\n",
              "0           4.573000e+09     9.490000e+08    8.461000e+09  3.113000e+09   \n",
              "1           4.573000e+09     9.490000e+08    8.461000e+09  3.113000e+09   \n",
              "2           4.573000e+09     9.490000e+08    8.461000e+09  3.113000e+09   \n",
              "3           4.573000e+09     9.490000e+08    8.461000e+09  3.113000e+09   \n",
              "4           4.573000e+09     9.490000e+08    8.461000e+09  3.113000e+09   \n",
              "..                   ...              ...             ...           ...   \n",
              "748         2.973200e+10     1.986000e+09    4.285000e+09  5.757000e+09   \n",
              "749         2.973200e+10     1.986000e+09    4.285000e+09  5.757000e+09   \n",
              "750         2.973200e+10     1.986000e+09    4.285000e+09  5.757000e+09   \n",
              "751         2.973200e+10     1.986000e+09    4.285000e+09  5.757000e+09   \n",
              "752         2.973200e+10     1.986000e+09    4.285000e+09  5.757000e+09   \n",
              "\n",
              "     Accounts Payable  Target  Positive  Negative   Neutral  Label  \n",
              "0        3.405000e+09       0  0.051453  0.051624  0.896924      0  \n",
              "1        3.405000e+09       1  0.073506  0.036434  0.890060      1  \n",
              "2        3.405000e+09       1  0.057328  0.025493  0.917179      1  \n",
              "3        3.405000e+09       1  0.105883  0.032860  0.861258      1  \n",
              "4        3.405000e+09       0  0.041082  0.027480  0.931438      1  \n",
              "..                ...     ...       ...       ...       ...    ...  \n",
              "748      1.002500e+10       1  0.079623  0.071458  0.848919      1  \n",
              "749      1.002500e+10       0  0.073798  0.096653  0.829548      0  \n",
              "750      1.002500e+10       1  0.075230  0.078415  0.846355      0  \n",
              "751      1.002500e+10       0  0.085092  0.116204  0.798704      0  \n",
              "752      1.002500e+10       1  0.091825  0.080255  0.827920      1  \n",
              "\n",
              "[753 rows x 54 columns]"
            ],
            "text/html": [
              "\n",
              "  <div id=\"df-82f79d99-bf81-4fc2-8216-60d8b469fff2\">\n",
              "    <div class=\"colab-df-container\">\n",
              "      <div>\n",
              "<style scoped>\n",
              "    .dataframe tbody tr th:only-of-type {\n",
              "        vertical-align: middle;\n",
              "    }\n",
              "\n",
              "    .dataframe tbody tr th {\n",
              "        vertical-align: top;\n",
              "    }\n",
              "\n",
              "    .dataframe thead th {\n",
              "        text-align: right;\n",
              "    }\n",
              "</style>\n",
              "<table border=\"1\" class=\"dataframe\">\n",
              "  <thead>\n",
              "    <tr style=\"text-align: right;\">\n",
              "      <th></th>\n",
              "      <th>Date</th>\n",
              "      <th>Open</th>\n",
              "      <th>High</th>\n",
              "      <th>Low</th>\n",
              "      <th>Close</th>\n",
              "      <th>Volume</th>\n",
              "      <th>Dividends</th>\n",
              "      <th>Stock Splits</th>\n",
              "      <th>Research Development</th>\n",
              "      <th>Income Before Tax</th>\n",
              "      <th>...</th>\n",
              "      <th>Net Tangible Assets</th>\n",
              "      <th>Net Receivables</th>\n",
              "      <th>Long Term Debt</th>\n",
              "      <th>Inventory</th>\n",
              "      <th>Accounts Payable</th>\n",
              "      <th>Target</th>\n",
              "      <th>Positive</th>\n",
              "      <th>Negative</th>\n",
              "      <th>Neutral</th>\n",
              "      <th>Label</th>\n",
              "    </tr>\n",
              "  </thead>\n",
              "  <tbody>\n",
              "    <tr>\n",
              "      <th>0</th>\n",
              "      <td>2018-01-09</td>\n",
              "      <td>67.03</td>\n",
              "      <td>67.76</td>\n",
              "      <td>65.48</td>\n",
              "      <td>66.74</td>\n",
              "      <td>35733000.0</td>\n",
              "      <td>0.0</td>\n",
              "      <td>0.0</td>\n",
              "      <td>1.460000e+09</td>\n",
              "      <td>-1.005000e+09</td>\n",
              "      <td>...</td>\n",
              "      <td>4.573000e+09</td>\n",
              "      <td>9.490000e+08</td>\n",
              "      <td>8.461000e+09</td>\n",
              "      <td>3.113000e+09</td>\n",
              "      <td>3.405000e+09</td>\n",
              "      <td>0</td>\n",
              "      <td>0.051453</td>\n",
              "      <td>0.051624</td>\n",
              "      <td>0.896924</td>\n",
              "      <td>0</td>\n",
              "    </tr>\n",
              "    <tr>\n",
              "      <th>1</th>\n",
              "      <td>2018-01-29</td>\n",
              "      <td>67.97</td>\n",
              "      <td>70.17</td>\n",
              "      <td>67.66</td>\n",
              "      <td>69.91</td>\n",
              "      <td>23735500.0</td>\n",
              "      <td>0.0</td>\n",
              "      <td>0.0</td>\n",
              "      <td>1.460000e+09</td>\n",
              "      <td>-1.005000e+09</td>\n",
              "      <td>...</td>\n",
              "      <td>4.573000e+09</td>\n",
              "      <td>9.490000e+08</td>\n",
              "      <td>8.461000e+09</td>\n",
              "      <td>3.113000e+09</td>\n",
              "      <td>3.405000e+09</td>\n",
              "      <td>1</td>\n",
              "      <td>0.073506</td>\n",
              "      <td>0.036434</td>\n",
              "      <td>0.890060</td>\n",
              "      <td>1</td>\n",
              "    </tr>\n",
              "    <tr>\n",
              "      <th>2</th>\n",
              "      <td>2018-01-31</td>\n",
              "      <td>69.50</td>\n",
              "      <td>71.24</td>\n",
              "      <td>69.04</td>\n",
              "      <td>70.86</td>\n",
              "      <td>31070500.0</td>\n",
              "      <td>0.0</td>\n",
              "      <td>0.0</td>\n",
              "      <td>1.460000e+09</td>\n",
              "      <td>-1.005000e+09</td>\n",
              "      <td>...</td>\n",
              "      <td>4.573000e+09</td>\n",
              "      <td>9.490000e+08</td>\n",
              "      <td>8.461000e+09</td>\n",
              "      <td>3.113000e+09</td>\n",
              "      <td>3.405000e+09</td>\n",
              "      <td>1</td>\n",
              "      <td>0.057328</td>\n",
              "      <td>0.025493</td>\n",
              "      <td>0.917179</td>\n",
              "      <td>1</td>\n",
              "    </tr>\n",
              "    <tr>\n",
              "      <th>3</th>\n",
              "      <td>2018-03-07</td>\n",
              "      <td>65.09</td>\n",
              "      <td>66.50</td>\n",
              "      <td>64.35</td>\n",
              "      <td>66.46</td>\n",
              "      <td>25036500.0</td>\n",
              "      <td>0.0</td>\n",
              "      <td>0.0</td>\n",
              "      <td>1.460000e+09</td>\n",
              "      <td>-1.005000e+09</td>\n",
              "      <td>...</td>\n",
              "      <td>4.573000e+09</td>\n",
              "      <td>9.490000e+08</td>\n",
              "      <td>8.461000e+09</td>\n",
              "      <td>3.113000e+09</td>\n",
              "      <td>3.405000e+09</td>\n",
              "      <td>1</td>\n",
              "      <td>0.105883</td>\n",
              "      <td>0.032860</td>\n",
              "      <td>0.861258</td>\n",
              "      <td>1</td>\n",
              "    </tr>\n",
              "    <tr>\n",
              "      <th>4</th>\n",
              "      <td>2018-03-20</td>\n",
              "      <td>62.97</td>\n",
              "      <td>63.25</td>\n",
              "      <td>61.75</td>\n",
              "      <td>62.11</td>\n",
              "      <td>23821500.0</td>\n",
              "      <td>0.0</td>\n",
              "      <td>0.0</td>\n",
              "      <td>1.460000e+09</td>\n",
              "      <td>-1.005000e+09</td>\n",
              "      <td>...</td>\n",
              "      <td>4.573000e+09</td>\n",
              "      <td>9.490000e+08</td>\n",
              "      <td>8.461000e+09</td>\n",
              "      <td>3.113000e+09</td>\n",
              "      <td>3.405000e+09</td>\n",
              "      <td>0</td>\n",
              "      <td>0.041082</td>\n",
              "      <td>0.027480</td>\n",
              "      <td>0.931438</td>\n",
              "      <td>1</td>\n",
              "    </tr>\n",
              "    <tr>\n",
              "      <th>...</th>\n",
              "      <td>...</td>\n",
              "      <td>...</td>\n",
              "      <td>...</td>\n",
              "      <td>...</td>\n",
              "      <td>...</td>\n",
              "      <td>...</td>\n",
              "      <td>...</td>\n",
              "      <td>...</td>\n",
              "      <td>...</td>\n",
              "      <td>...</td>\n",
              "      <td>...</td>\n",
              "      <td>...</td>\n",
              "      <td>...</td>\n",
              "      <td>...</td>\n",
              "      <td>...</td>\n",
              "      <td>...</td>\n",
              "      <td>...</td>\n",
              "      <td>...</td>\n",
              "      <td>...</td>\n",
              "      <td>...</td>\n",
              "      <td>...</td>\n",
              "    </tr>\n",
              "    <tr>\n",
              "      <th>748</th>\n",
              "      <td>2022-05-19</td>\n",
              "      <td>707.00</td>\n",
              "      <td>734.00</td>\n",
              "      <td>694.11</td>\n",
              "      <td>709.42</td>\n",
              "      <td>30098900.0</td>\n",
              "      <td>0.0</td>\n",
              "      <td>0.0</td>\n",
              "      <td>2.593000e+09</td>\n",
              "      <td>6.343000e+09</td>\n",
              "      <td>...</td>\n",
              "      <td>2.973200e+10</td>\n",
              "      <td>1.986000e+09</td>\n",
              "      <td>4.285000e+09</td>\n",
              "      <td>5.757000e+09</td>\n",
              "      <td>1.002500e+10</td>\n",
              "      <td>1</td>\n",
              "      <td>0.079623</td>\n",
              "      <td>0.071458</td>\n",
              "      <td>0.848919</td>\n",
              "      <td>1</td>\n",
              "    </tr>\n",
              "    <tr>\n",
              "      <th>749</th>\n",
              "      <td>2022-05-20</td>\n",
              "      <td>713.99</td>\n",
              "      <td>721.58</td>\n",
              "      <td>633.00</td>\n",
              "      <td>663.90</td>\n",
              "      <td>48324400.0</td>\n",
              "      <td>0.0</td>\n",
              "      <td>0.0</td>\n",
              "      <td>2.593000e+09</td>\n",
              "      <td>6.343000e+09</td>\n",
              "      <td>...</td>\n",
              "      <td>2.973200e+10</td>\n",
              "      <td>1.986000e+09</td>\n",
              "      <td>4.285000e+09</td>\n",
              "      <td>5.757000e+09</td>\n",
              "      <td>1.002500e+10</td>\n",
              "      <td>0</td>\n",
              "      <td>0.073798</td>\n",
              "      <td>0.096653</td>\n",
              "      <td>0.829548</td>\n",
              "      <td>0</td>\n",
              "    </tr>\n",
              "    <tr>\n",
              "      <th>750</th>\n",
              "      <td>2022-05-23</td>\n",
              "      <td>655.02</td>\n",
              "      <td>679.96</td>\n",
              "      <td>638.06</td>\n",
              "      <td>674.90</td>\n",
              "      <td>29634500.0</td>\n",
              "      <td>0.0</td>\n",
              "      <td>0.0</td>\n",
              "      <td>2.593000e+09</td>\n",
              "      <td>6.343000e+09</td>\n",
              "      <td>...</td>\n",
              "      <td>2.973200e+10</td>\n",
              "      <td>1.986000e+09</td>\n",
              "      <td>4.285000e+09</td>\n",
              "      <td>5.757000e+09</td>\n",
              "      <td>1.002500e+10</td>\n",
              "      <td>1</td>\n",
              "      <td>0.075230</td>\n",
              "      <td>0.078415</td>\n",
              "      <td>0.846355</td>\n",
              "      <td>0</td>\n",
              "    </tr>\n",
              "    <tr>\n",
              "      <th>751</th>\n",
              "      <td>2022-05-24</td>\n",
              "      <td>653.53</td>\n",
              "      <td>653.92</td>\n",
              "      <td>620.57</td>\n",
              "      <td>628.16</td>\n",
              "      <td>29697500.0</td>\n",
              "      <td>0.0</td>\n",
              "      <td>0.0</td>\n",
              "      <td>2.593000e+09</td>\n",
              "      <td>6.343000e+09</td>\n",
              "      <td>...</td>\n",
              "      <td>2.973200e+10</td>\n",
              "      <td>1.986000e+09</td>\n",
              "      <td>4.285000e+09</td>\n",
              "      <td>5.757000e+09</td>\n",
              "      <td>1.002500e+10</td>\n",
              "      <td>0</td>\n",
              "      <td>0.085092</td>\n",
              "      <td>0.116204</td>\n",
              "      <td>0.798704</td>\n",
              "      <td>0</td>\n",
              "    </tr>\n",
              "    <tr>\n",
              "      <th>752</th>\n",
              "      <td>2022-05-25</td>\n",
              "      <td>623.85</td>\n",
              "      <td>669.32</td>\n",
              "      <td>623.01</td>\n",
              "      <td>658.80</td>\n",
              "      <td>30713100.0</td>\n",
              "      <td>0.0</td>\n",
              "      <td>0.0</td>\n",
              "      <td>2.593000e+09</td>\n",
              "      <td>6.343000e+09</td>\n",
              "      <td>...</td>\n",
              "      <td>2.973200e+10</td>\n",
              "      <td>1.986000e+09</td>\n",
              "      <td>4.285000e+09</td>\n",
              "      <td>5.757000e+09</td>\n",
              "      <td>1.002500e+10</td>\n",
              "      <td>1</td>\n",
              "      <td>0.091825</td>\n",
              "      <td>0.080255</td>\n",
              "      <td>0.827920</td>\n",
              "      <td>1</td>\n",
              "    </tr>\n",
              "  </tbody>\n",
              "</table>\n",
              "<p>753 rows × 54 columns</p>\n",
              "</div>\n",
              "      <button class=\"colab-df-convert\" onclick=\"convertToInteractive('df-82f79d99-bf81-4fc2-8216-60d8b469fff2')\"\n",
              "              title=\"Convert this dataframe to an interactive table.\"\n",
              "              style=\"display:none;\">\n",
              "        \n",
              "  <svg xmlns=\"http://www.w3.org/2000/svg\" height=\"24px\"viewBox=\"0 0 24 24\"\n",
              "       width=\"24px\">\n",
              "    <path d=\"M0 0h24v24H0V0z\" fill=\"none\"/>\n",
              "    <path d=\"M18.56 5.44l.94 2.06.94-2.06 2.06-.94-2.06-.94-.94-2.06-.94 2.06-2.06.94zm-11 1L8.5 8.5l.94-2.06 2.06-.94-2.06-.94L8.5 2.5l-.94 2.06-2.06.94zm10 10l.94 2.06.94-2.06 2.06-.94-2.06-.94-.94-2.06-.94 2.06-2.06.94z\"/><path d=\"M17.41 7.96l-1.37-1.37c-.4-.4-.92-.59-1.43-.59-.52 0-1.04.2-1.43.59L10.3 9.45l-7.72 7.72c-.78.78-.78 2.05 0 2.83L4 21.41c.39.39.9.59 1.41.59.51 0 1.02-.2 1.41-.59l7.78-7.78 2.81-2.81c.8-.78.8-2.07 0-2.86zM5.41 20L4 18.59l7.72-7.72 1.47 1.35L5.41 20z\"/>\n",
              "  </svg>\n",
              "      </button>\n",
              "      \n",
              "  <style>\n",
              "    .colab-df-container {\n",
              "      display:flex;\n",
              "      flex-wrap:wrap;\n",
              "      gap: 12px;\n",
              "    }\n",
              "\n",
              "    .colab-df-convert {\n",
              "      background-color: #E8F0FE;\n",
              "      border: none;\n",
              "      border-radius: 50%;\n",
              "      cursor: pointer;\n",
              "      display: none;\n",
              "      fill: #1967D2;\n",
              "      height: 32px;\n",
              "      padding: 0 0 0 0;\n",
              "      width: 32px;\n",
              "    }\n",
              "\n",
              "    .colab-df-convert:hover {\n",
              "      background-color: #E2EBFA;\n",
              "      box-shadow: 0px 1px 2px rgba(60, 64, 67, 0.3), 0px 1px 3px 1px rgba(60, 64, 67, 0.15);\n",
              "      fill: #174EA6;\n",
              "    }\n",
              "\n",
              "    [theme=dark] .colab-df-convert {\n",
              "      background-color: #3B4455;\n",
              "      fill: #D2E3FC;\n",
              "    }\n",
              "\n",
              "    [theme=dark] .colab-df-convert:hover {\n",
              "      background-color: #434B5C;\n",
              "      box-shadow: 0px 1px 3px 1px rgba(0, 0, 0, 0.15);\n",
              "      filter: drop-shadow(0px 1px 2px rgba(0, 0, 0, 0.3));\n",
              "      fill: #FFFFFF;\n",
              "    }\n",
              "  </style>\n",
              "\n",
              "      <script>\n",
              "        const buttonEl =\n",
              "          document.querySelector('#df-82f79d99-bf81-4fc2-8216-60d8b469fff2 button.colab-df-convert');\n",
              "        buttonEl.style.display =\n",
              "          google.colab.kernel.accessAllowed ? 'block' : 'none';\n",
              "\n",
              "        async function convertToInteractive(key) {\n",
              "          const element = document.querySelector('#df-82f79d99-bf81-4fc2-8216-60d8b469fff2');\n",
              "          const dataTable =\n",
              "            await google.colab.kernel.invokeFunction('convertToInteractive',\n",
              "                                                     [key], {});\n",
              "          if (!dataTable) return;\n",
              "\n",
              "          const docLinkHtml = 'Like what you see? Visit the ' +\n",
              "            '<a target=\"_blank\" href=https://colab.research.google.com/notebooks/data_table.ipynb>data table notebook</a>'\n",
              "            + ' to learn more about interactive tables.';\n",
              "          element.innerHTML = '';\n",
              "          dataTable['output_type'] = 'display_data';\n",
              "          await google.colab.output.renderOutput(dataTable, element);\n",
              "          const docLink = document.createElement('div');\n",
              "          docLink.innerHTML = docLinkHtml;\n",
              "          element.appendChild(docLink);\n",
              "        }\n",
              "      </script>\n",
              "    </div>\n",
              "  </div>\n",
              "  "
            ]
          },
          "metadata": {},
          "execution_count": 191
        }
      ]
    },
    {
      "cell_type": "markdown",
      "source": [
        "Splitting data"
      ],
      "metadata": {
        "id": "l8ftM7WaU5EG"
      }
    },
    {
      "cell_type": "code",
      "execution_count": null,
      "metadata": {
        "id": "uzUgoDSs63WR"
      },
      "outputs": [],
      "source": [
        "# Normalize feature vector\n",
        "#y = StandardScaler().fit(y.array.reshape(-1, 1) )\n",
        "y = df['Close']\n",
        "X = df.drop(['Date','Close'], axis = 1)\n",
        "train_set, test_set= np.split(df, [int(.67 *len(df))])\n"
      ]
    },
    {
      "cell_type": "code",
      "execution_count": null,
      "metadata": {
        "id": "ZmKZwLtX_CQM"
      },
      "outputs": [],
      "source": [
        "# Split the dataset\n",
        "#X_train, X_test, y_train, y_test = train_test_split(X, y, test_size = 0.20, random_state = 0)\n",
        "\n",
        "X_train_bkup = train_set\n",
        "X_test_bkup = test_set\n",
        "y_train = train_set['Close']\n",
        "X_train = train_set.drop(columns=['Date','Close'])\n",
        "\n",
        "y_test =  test_set['Close']\n",
        "X_test = test_set.drop(columns=['Date','Close'])\n",
        "scalar = StandardScaler()\n",
        "#X_train = scalar.fit_transform(X_train)\n",
        "#X_test = scalar.fit_transform(X_test)\n",
        "#X_train = scalar.fit_transform(X_train)\n",
        "#X_train = scalar.fit_transform(X_train)\n",
        "\n",
        "\n"
      ]
    },
    {
      "cell_type": "markdown",
      "metadata": {
        "id": "MvnAf23Cf_nO"
      },
      "source": [
        "## Regression"
      ]
    },
    {
      "cell_type": "markdown",
      "metadata": {
        "id": "w6nc0kKZQ_vm"
      },
      "source": [
        "Preprocessing Pipeline"
      ]
    },
    {
      "cell_type": "code",
      "execution_count": null,
      "metadata": {
        "id": "92ac394a-e2f6-424d-b63c-4ac7ed116548"
      },
      "outputs": [],
      "source": [
        "# store a list with the names of all predictors\n",
        "\n",
        "names_all = [c for c in  df if c not in ['Close','Date']]\n",
        "names_no_outliers = list(set(names_all))\n"
      ]
    },
    {
      "cell_type": "code",
      "execution_count": null,
      "metadata": {
        "id": "d1e162d0-de28-4e4a-82d3-aff32616d90f"
      },
      "outputs": [],
      "source": [
        "class AddColumnNames(BaseEstimator, TransformerMixin):\n",
        "    def __init__(self, columns):\n",
        "        self.columns = columns\n",
        "\n",
        "    def fit(self, X, y=None):\n",
        "        return self\n",
        "\n",
        "    def transform(self, X):\n",
        "        return pd.DataFrame(data=X, columns=self.columns)"
      ]
    },
    {
      "cell_type": "code",
      "execution_count": null,
      "metadata": {
        "id": "ea939a86-0ab3-44eb-9481-e4e01d3ab1a1"
      },
      "outputs": [],
      "source": [
        "class ColumnSelector(BaseEstimator, TransformerMixin):\n",
        "    def __init__(self, columns):\n",
        "        self.columns = columns\n",
        "\n",
        "    def fit(self, X, y=None):\n",
        "        return self\n",
        "\n",
        "    def transform(self, X):\n",
        "        assert isinstance(X, pd.DataFrame)\n",
        "        return X[self.columns]"
      ]
    },
    {
      "cell_type": "code",
      "execution_count": null,
      "metadata": {
        "id": "8b4a9910-6574-43e1-82ed-cf4f67f2c8e4"
      },
      "outputs": [],
      "source": [
        "preprocess_pipeline = make_pipeline(\n",
        "    AddColumnNames(columns=names_all),\n",
        "    FeatureUnion(transformer_list=[\n",
        "        (\"no_outlier_columns\", make_pipeline(\n",
        "            ColumnSelector(columns=names_no_outliers),\n",
        "            StandardScaler()\n",
        "        ))\n",
        "    ])\n",
        ")"
      ]
    },
    {
      "cell_type": "code",
      "execution_count": null,
      "metadata": {
        "colab": {
          "base_uri": "https://localhost:8080/"
        },
        "id": "eq-uKXU3hbEi",
        "outputId": "60bfc62b-9c01-45be-f666-cb09c33c6675"
      },
      "outputs": [
        {
          "output_type": "stream",
          "name": "stdout",
          "text": [
            "(504, 52)\n",
            "(504,)\n"
          ]
        }
      ],
      "source": [
        "print(X_train.shape)\n",
        "print(y_train.shape)"
      ]
    },
    {
      "cell_type": "code",
      "source": [
        ""
      ],
      "metadata": {
        "id": "4kKUtLOGytkR"
      },
      "execution_count": null,
      "outputs": []
    },
    {
      "cell_type": "code",
      "execution_count": null,
      "metadata": {
        "id": "b3b0572c-13d7-4eda-8cd6-2290d3241944",
        "colab": {
          "base_uri": "https://localhost:8080/"
        },
        "outputId": "59b159ac-98b9-4567-b50d-d95d550492cc"
      },
      "outputs": [
        {
          "output_type": "stream",
          "name": "stdout",
          "text": [
            "Best CV score = 0.132:\n",
            "Best parameters:  {'reduce_dim': RFE(estimator=SVR(gamma='auto', kernel='linear'), n_features_to_select=2), 'reduce_dim__n_features_to_select': 2, 'regresson__max_depth': 8}\n"
          ]
        }
      ],
      "source": [
        "# create the pipeline\n",
        "pipe = Pipeline(steps=[('preprocess', preprocess_pipeline), \n",
        "                       ('reduce_dim', 'passthrough'),\n",
        "                       ('regresson', RandomForestRegressor(n_estimators=10))])\n",
        "# prepare a prameter grid\n",
        "# note that __ can be used to specify the name of a parameter for a specific element in a pipeline\n",
        "# note also that this is not an exhaustive list of the parameters of RandomForestClassifier and their possible values\n",
        "N_FEATURES_OPTIONS = [2, 6, 11]\n",
        "MAX_DEPTH_OPTIONS = [2, 4, 6, 8]\n",
        "\n",
        "param_grid = [\n",
        "    {\n",
        "        'reduce_dim': [PCA(iterated_power=7)],\n",
        "        'reduce_dim__n_components': N_FEATURES_OPTIONS,\n",
        "        'regresson__max_depth': MAX_DEPTH_OPTIONS\n",
        "    },\n",
        "    {\n",
        "        'reduce_dim': [RFE(svm.SVR(kernel='linear', gamma='auto')),RFE(LinearRegression())],\n",
        "        'reduce_dim__n_features_to_select': N_FEATURES_OPTIONS,\n",
        "        'regresson__max_depth': MAX_DEPTH_OPTIONS\n",
        "    }  \n",
        "]\n",
        "\n",
        "search = GridSearchCV(pipe, param_grid, n_jobs=-1, cv=5, refit=True)\n",
        "search.fit(X_train, y_train)\n",
        "\n",
        "print(\"Best CV score = %0.3f:\" % search.best_score_)\n",
        "print(\"Best parameters: \", search.best_params_)\n",
        "\n",
        "# store the best params and best model for later use\n",
        "RF_best_params = search.best_params_\n",
        "RF_best_model = search.best_estimator_"
      ]
    },
    {
      "cell_type": "code",
      "source": [
        "pipe = Pipeline(steps=[('preprocess', preprocess_pipeline), \n",
        "                       ('reduce_dim', 'passthrough'),\n",
        "                       ('regresson', LinearRegression())])\n",
        "\n",
        "N_FEATURES_OPTIONS = [2, 6, 11]\n",
        "NORMALIZE_OPTIONS = [False, True]\n",
        "\n",
        "param_grid = [\n",
        "    {\n",
        "        'reduce_dim': [PCA(iterated_power=7)],\n",
        "        'reduce_dim__n_components': N_FEATURES_OPTIONS,\n",
        "        'regresson__normalize': NORMALIZE_OPTIONS\n",
        "    },\n",
        "    {\n",
        "        'reduce_dim': [RFE(svm.SVR(kernel='linear', gamma='auto')),RFE(LinearRegression())],\n",
        "        'reduce_dim__n_features_to_select': N_FEATURES_OPTIONS,\n",
        "        'regresson__normalize': NORMALIZE_OPTIONS\n",
        "    }  \n",
        "]\n",
        "\n",
        "search = GridSearchCV(pipe, param_grid, n_jobs=-1, cv=5, refit=True)\n",
        "search.fit(X_train, y_train)\n",
        "print(\"Best CV score = %0.3f:\" % search.best_score_)\n",
        "print(\"Best parameters: \", search.best_params_)\n",
        "\n",
        "# store the best params and best model for later use\n",
        "LR_best_params = search.best_params_\n",
        "LR_best_model = search.best_estimator_"
      ],
      "metadata": {
        "colab": {
          "base_uri": "https://localhost:8080/"
        },
        "id": "ZH5N8jx5_JGy",
        "outputId": "f660f11b-e8f4-4c31-bca6-f551016d6cd5"
      },
      "execution_count": null,
      "outputs": [
        {
          "output_type": "stream",
          "name": "stdout",
          "text": [
            "Best CV score = 0.994:\n",
            "Best parameters:  {'reduce_dim': RFE(estimator=SVR(gamma='auto', kernel='linear'), n_features_to_select=6), 'reduce_dim__n_features_to_select': 6, 'regresson__normalize': False}\n"
          ]
        }
      ]
    },
    {
      "cell_type": "code",
      "execution_count": null,
      "metadata": {
        "id": "8dadda7a-b1f2-44f9-a9df-59f30bdd3ad5",
        "colab": {
          "base_uri": "https://localhost:8080/"
        },
        "outputId": "21483565-05eb-44d7-f8c0-0ef0cc24ce47"
      },
      "outputs": [
        {
          "output_type": "stream",
          "name": "stdout",
          "text": [
            "Best CV score = -2.874:\n",
            "Best parameters:  {'knn__n_neighbors': 1}\n"
          ]
        }
      ],
      "source": [
        "# create the pipeline\n",
        "pipe = Pipeline(steps=[('preprocess', preprocess_pipeline), ('knn', KNeighborsRegressor())])\n",
        "\n",
        "param_grid = {\n",
        "'knn__n_neighbors': list(range(1, 31))\n",
        "}\n",
        "\n",
        "search = GridSearchCV(pipe, param_grid, n_jobs=-1, cv=5, refit=True)\n",
        "search.fit(X_train, y_train) #trainign happens here!\n",
        "\n",
        "print(\"Best CV score = %0.3f:\" % search.best_score_)\n",
        "print(\"Best parameters: \", search.best_params_)\n",
        "\n",
        "# store the best params and best model for later use\n",
        "KNN_best_params = search.best_params_\n",
        "KNN_best_model = search.best_estimator_"
      ]
    },
    {
      "cell_type": "code",
      "execution_count": null,
      "metadata": {
        "id": "30b2d4ed-a543-4708-96f2-b3d0b6eb4bf0",
        "colab": {
          "base_uri": "https://localhost:8080/"
        },
        "outputId": "4cd3bff9-6570-4b75-9172-cc66ba145d3d"
      },
      "outputs": [
        {
          "output_type": "stream",
          "name": "stdout",
          "text": [
            "Best CV score = 0.094:\n",
            "Best parameters:  {'dec__criterion': 'squared_error', 'dec__max_depth': 10}\n"
          ]
        }
      ],
      "source": [
        "# create the pipeline\n",
        "pipe = Pipeline(steps=[('preprocess', preprocess_pipeline), ('dec', DecisionTreeRegressor())])\n",
        "\n",
        "\n",
        "param_grid = {\n",
        "'dec__criterion': [\"squared_error\", \"friedman_mse\", \"absolute_error\", \"poisson\"],\n",
        "'dec__max_depth': [2,4,6,8,10]  \n",
        "}\n",
        "\n",
        "search = GridSearchCV(pipe, param_grid, n_jobs=-1, cv=5, refit=True)\n",
        "search.fit(X_train, y_train) #trainig happens here!\n",
        "\n",
        "print(\"Best CV score = %0.3f:\" % search.best_score_)\n",
        "print(\"Best parameters: \", search.best_params_)\n",
        "\n",
        "# store the best params and best model for later use\n",
        "DEC_best_params = search.best_params_\n",
        "DEC_best_model = search.best_estimator_"
      ]
    },
    {
      "cell_type": "markdown",
      "metadata": {
        "id": "Of0d5AyPQ_vt"
      },
      "source": [
        "Compare Regressors on Test Set"
      ]
    },
    {
      "cell_type": "code",
      "execution_count": null,
      "metadata": {
        "id": "975ea6b2-37bb-465b-8297-d62771bf53b9"
      },
      "outputs": [],
      "source": [
        "mean_fpr = np.linspace(start=0, stop=1, num=100)"
      ]
    },
    {
      "cell_type": "code",
      "execution_count": null,
      "metadata": {
        "id": "49d0e66c-2f44-45b9-8266-0e4180ffe903"
      },
      "outputs": [],
      "source": [
        "# model - a trained regression model\n",
        "\n",
        "def evaluate_model(X_test, y_test, model):\n",
        "    \n",
        "    # compute predictiond for the test set\n",
        "    _predicted_values = model.predict(X_test)\n",
        "        \n",
        "    # compute metrics\n",
        "    _mse = mean_squared_error(y_test, _predicted_values)\n",
        "    _mae = mean_absolute_error(y_test, _predicted_values)\n",
        "    _r2 = r2_score(y_test, _predicted_values)\n",
        "            \n",
        "    return _mse, _mae, _r2, _predicted_values"
      ]
    },
    {
      "cell_type": "code",
      "execution_count": null,
      "metadata": {
        "id": "7af20561-c42a-4ab2-aebd-f5ca08b71758"
      },
      "outputs": [],
      "source": [
        "RF_mse, RF_mae, RF_r2, RF_predicted_values = evaluate_model(X_test, y_test, RF_best_model)\n",
        "LR_mse, LR_mae, LR_r2, LR_predicted_values = evaluate_model(X_test, y_test, LR_best_model)\n",
        "KNN_mse, KNN_mae, KNN_r2, KNN_predicted =  evaluate_model(X_test, y_test, KNN_best_model)\n",
        "DEC_mse, DEC_mae, DEC_r2, DEC_predicted =  evaluate_model(X_test, y_test, DEC_best_model)\n",
        "\n"
      ]
    },
    {
      "cell_type": "code",
      "source": [
        "df_mse = pd.DataFrame({'Random Forest': RF_mse, 'Linear Regression': LR_mse, 'KNN Regression' : KNN_mse, 'Decision Tree Regression' : DEC_mse}, index=['MSE'])\n",
        "df_mae = pd.DataFrame({'Random Forest': RF_mae, 'Linear Regression': LR_mae, 'KNN Regression' : KNN_mae, 'Decision Tree Regression' : DEC_mae}, index=['MAE'])\n",
        "df_r2 = pd.DataFrame({'Random Forest': RF_r2, 'Linear Regression': LR_r2, 'KNN Regression': KNN_r2, 'Decision Tree Regression' : DEC_r2}, index=['R2'])\n",
        "\n",
        "fig, axes = plt.subplots(nrows=1, ncols=3, figsize=(20, 5))\n",
        "\n",
        "df_mse.plot.bar(rot=0, ax=axes[0])\n",
        "df_mae.plot.bar(rot=0, ax=axes[1])\n",
        "df_r2.plot.bar(rot=0, ax=axes[2])\n",
        "\n",
        "plt.show()"
      ],
      "metadata": {
        "colab": {
          "base_uri": "https://localhost:8080/",
          "height": 320
        },
        "id": "f6WxBMSm9KeT",
        "outputId": "5e2fff8b-c00b-41fb-e9f9-21bc47328a05"
      },
      "execution_count": null,
      "outputs": [
        {
          "output_type": "display_data",
          "data": {
            "text/plain": [
              "<Figure size 1440x360 with 3 Axes>"
            ],
            "image/png": "[encoded data removed]"
          },
          "metadata": {
            "needs_background": "light"
          }
        }
      ]
    },
    {
      "cell_type": "code",
      "source": [
        "# function to remove the string 'regresson__' from the names of the best parameters\n",
        "def transform(dict, prefix):\n",
        "    dict_prefix = {key:value for key,value in dict.items() if prefix in key}\n",
        "    return {key.replace(prefix,''):value for key,value in dict_prefix.items()}\n",
        "\n",
        "pipe = make_pipeline(preprocess_pipeline, \n",
        "                     RF_best_params.get('reduce_dim'),\n",
        "                     LinearRegression( **transform(LR_best_params, 'regresson__')))\n",
        "\n",
        "final_model =pipe.fit(X, y)\n",
        "filename = 'Experiment2_Regression.sav'\n",
        "pickle.dump(final_model, open(filename, 'wb'))"
      ],
      "metadata": {
        "id": "2MxuZM9Y_mkE"
      },
      "execution_count": null,
      "outputs": []
    },
    {
      "cell_type": "code",
      "source": [
        "from itertools import cycle\n",
        "import plotly.express as px\n",
        "#LR_inverse =  scalar.inverse_transform(pd.DataFrame(LR_predicted_values))\n",
        "#RF_inverse =  scalar.inverse_transform(pd.DataFrame(RF_predicted_values))\n",
        "names = cycle(['LR','RF', 'KNN','DEC','Actual'])\n",
        "\n",
        "fig =px.line(df, x=X_test_bkup.Date, y=[LR_predicted_values, RF_predicted_values,KNN_predicted, DEC_predicted, y_test],\n",
        "            labels={'Date': 'Date','value':'Stock value'})\n",
        "fig.update_layout(title_text='Stock analysis chart', font_size=15, font_color='black',legend_title_text='Stock Parameters')\n",
        "fig.for_each_trace(lambda t:  t.update(name = next(names)))\n",
        "fig.update_xaxes(showgrid=False)\n",
        "fig.update_yaxes(showgrid=False)\n",
        "\n",
        "fig.show()"
      ],
      "metadata": {
        "colab": {
          "base_uri": "https://localhost:8080/",
          "height": 542
        },
        "id": "MFvV-bz0_0U2",
        "outputId": "9c401c09-e087-4058-ad1e-daf0476c2e39"
      },
      "execution_count": null,
      "outputs": [
        {
          "output_type": "display_data",
          "data": {
            "text/html": [
              "<html>\n",
              "<head><meta charset=\"utf-8\" /></head>\n",
              "<body>\n",
              "    <div>            <script src=\"https://cdnjs.cloudflare.com/ajax/libs/mathjax/2.7.5/MathJax.js?config=TeX-AMS-MML_SVG\"></script><script type=\"text/javascript\">if (window.MathJax) {MathJax.Hub.Config({SVG: {font: \"STIX-Web\"}});}</script>                <script type=\"text/javascript\">window.PlotlyConfig = {MathJaxConfig: 'local'};</script>\n",
              "        <script src=\"https://cdn.plot.ly/plotly-2.8.3.min.js\"></script>                <div id=\"f7ad80bf-745c-4601-a8a6-a466bf9b4194\" class=\"plotly-graph-div\" style=\"height:525px; width:100%;\"></div>            <script type=\"text/javascript\">                                    window.PLOTLYENV=window.PLOTLYENV || {};                                    if (document.getElementById(\"f7ad80bf-745c-4601-a8a6-a466bf9b4194\")) {                    Plotly.newPlot(                        \"f7ad80bf-745c-4601-a8a6-a466bf9b4194\",                        [{\"hovertemplate\":\"variable=wide_variable_0<br>x=%{x}<br>Stock value=%{y}<extra></extra>\",\"legendgroup\":\"wide_variable_0\",\"line\":{\"color\":\"#636efa\",\"dash\":\"solid\"},\"marker\":{\"symbol\":\"circle\"},\"mode\":\"lines\",\"name\":\"LR\",\"showlegend\":true,\"x\":[\"2021-05-03T00:00:00\",\"2021-05-11T00:00:00\",\"2021-05-13T00:00:00\",\"2021-05-17T00:00:00\",\"2021-05-19T00:00:00\",\"2021-05-20T00:00:00\",\"2021-05-21T00:00:00\",\"2021-05-28T00:00:00\",\"2021-06-01T00:00:00\",\"2021-06-02T00:00:00\",\"2021-06-08T00:00:00\",\"2021-06-09T00:00:00\",\"2021-06-11T00:00:00\",\"2021-06-15T00:00:00\",\"2021-06-16T00:00:00\",\"2021-06-17T00:00:00\",\"2021-06-21T00:00:00\",\"2021-06-22T00:00:00\",\"2021-06-24T00:00:00\",\"2021-06-25T00:00:00\",\"2021-06-29T00:00:00\",\"2021-06-30T00:00:00\",\"2021-07-02T00:00:00\",\"2021-07-06T00:00:00\",\"2021-07-07T00:00:00\",\"2021-07-08T00:00:00\",\"2021-07-09T00:00:00\",\"2021-07-12T00:00:00\",\"2021-07-13T00:00:00\",\"2021-07-14T00:00:00\",\"2021-07-15T00:00:00\",\"2021-07-16T00:00:00\",\"2021-07-19T00:00:00\",\"2021-07-20T00:00:00\",\"2021-07-21T00:00:00\",\"2021-07-22T00:00:00\",\"2021-07-23T00:00:00\",\"2021-07-26T00:00:00\",\"2021-07-27T00:00:00\",\"2021-07-28T00:00:00\",\"2021-07-29T00:00:00\",\"2021-07-30T00:00:00\",\"2021-08-02T00:00:00\",\"2021-08-03T00:00:00\",\"2021-08-04T00:00:00\",\"2021-08-05T00:00:00\",\"2021-08-06T00:00:00\",\"2021-08-09T00:00:00\",\"2021-08-10T00:00:00\",\"2021-08-11T00:00:00\",\"2021-08-12T00:00:00\",\"2021-08-13T00:00:00\",\"2021-08-16T00:00:00\",\"2021-08-17T00:00:00\",\"2021-08-18T00:00:00\",\"2021-08-19T00:00:00\",\"2021-08-20T00:00:00\",\"2021-08-23T00:00:00\",\"2021-08-24T00:00:00\",\"2021-08-25T00:00:00\",\"2021-08-26T00:00:00\",\"2021-08-27T00:00:00\",\"2021-08-30T00:00:00\",\"2021-08-31T00:00:00\",\"2021-09-01T00:00:00\",\"2021-09-02T00:00:00\",\"2021-09-03T00:00:00\",\"2021-09-07T00:00:00\",\"2021-09-08T00:00:00\",\"2021-09-09T00:00:00\",\"2021-09-10T00:00:00\",\"2021-09-13T00:00:00\",\"2021-09-14T00:00:00\",\"2021-09-15T00:00:00\",\"2021-09-16T00:00:00\",\"2021-09-17T00:00:00\",\"2021-09-20T00:00:00\",\"2021-09-21T00:00:00\",\"2021-09-22T00:00:00\",\"2021-09-23T00:00:00\",\"2021-09-24T00:00:00\",\"2021-09-27T00:00:00\",\"2021-09-28T00:00:00\",\"2021-09-29T00:00:00\",\"2021-09-30T00:00:00\",\"2021-10-01T00:00:00\",\"2021-10-04T00:00:00\",\"2021-10-05T00:00:00\",\"2021-10-06T00:00:00\",\"2021-10-07T00:00:00\",\"2021-10-08T00:00:00\",\"2021-10-11T00:00:00\",\"2021-10-12T00:00:00\",\"2021-10-13T00:00:00\",\"2021-10-14T00:00:00\",\"2021-10-15T00:00:00\",\"2021-10-18T00:00:00\",\"2021-10-19T00:00:00\",\"2021-10-20T00:00:00\",\"2021-10-21T00:00:00\",\"2021-10-22T00:00:00\",\"2021-10-25T00:00:00\",\"2021-10-26T00:00:00\",\"2021-10-27T00:00:00\",\"2021-10-28T00:00:00\",\"2021-10-29T00:00:00\",\"2021-11-01T00:00:00\",\"2021-11-02T00:00:00\",\"2021-11-03T00:00:00\",\"2021-11-04T00:00:00\",\"2021-11-05T00:00:00\",\"2021-11-08T00:00:00\",\"2021-11-09T00:00:00\",\"2021-11-10T00:00:00\",\"2021-11-11T00:00:00\",\"2021-11-12T00:00:00\",\"2021-11-15T00:00:00\",\"2021-11-16T00:00:00\",\"2021-11-17T00:00:00\",\"2021-11-18T00:00:00\",\"2021-11-19T00:00:00\",\"2021-11-22T00:00:00\",\"2021-11-23T00:00:00\",\"2021-11-24T00:00:00\",\"2021-11-26T00:00:00\",\"2021-11-29T00:00:00\",\"2021-11-30T00:00:00\",\"2021-12-01T00:00:00\",\"2021-12-02T00:00:00\",\"2021-12-03T00:00:00\",\"2021-12-06T00:00:00\",\"2021-12-07T00:00:00\",\"2021-12-08T00:00:00\",\"2021-12-09T00:00:00\",\"2021-12-10T00:00:00\",\"2021-12-13T00:00:00\",\"2021-12-14T00:00:00\",\"2021-12-15T00:00:00\",\"2021-12-16T00:00:00\",\"2021-12-17T00:00:00\",\"2021-12-20T00:00:00\",\"2021-12-21T00:00:00\",\"2021-12-22T00:00:00\",\"2021-12-23T00:00:00\",\"2021-12-27T00:00:00\",\"2021-12-28T00:00:00\",\"2021-12-29T00:00:00\",\"2021-12-30T00:00:00\",\"2021-12-31T00:00:00\",\"2022-01-03T00:00:00\",\"2022-01-04T00:00:00\",\"2022-01-05T00:00:00\",\"2022-01-06T00:00:00\",\"2022-01-07T00:00:00\",\"2022-01-10T00:00:00\",\"2022-01-11T00:00:00\",\"2022-01-12T00:00:00\",\"2022-01-13T00:00:00\",\"2022-01-14T00:00:00\",\"2022-01-18T00:00:00\",\"2022-01-19T00:00:00\",\"2022-01-20T00:00:00\",\"2022-01-21T00:00:00\",\"2022-01-24T00:00:00\",\"2022-01-25T00:00:00\",\"2022-01-26T00:00:00\",\"2022-01-27T00:00:00\",\"2022-01-28T00:00:00\",\"2022-01-31T00:00:00\",\"2022-02-01T00:00:00\",\"2022-02-02T00:00:00\",\"2022-02-03T00:00:00\",\"2022-02-04T00:00:00\",\"2022-02-07T00:00:00\",\"2022-02-08T00:00:00\",\"2022-02-09T00:00:00\",\"2022-02-10T00:00:00\",\"2022-02-11T00:00:00\",\"2022-02-14T00:00:00\",\"2022-02-15T00:00:00\",\"2022-02-16T00:00:00\",\"2022-02-17T00:00:00\",\"2022-02-18T00:00:00\",\"2022-02-22T00:00:00\",\"2022-02-23T00:00:00\",\"2022-02-24T00:00:00\",\"2022-02-25T00:00:00\",\"2022-02-28T00:00:00\",\"2022-03-01T00:00:00\",\"2022-03-02T00:00:00\",\"2022-03-03T00:00:00\",\"2022-03-04T00:00:00\",\"2022-03-07T00:00:00\",\"2022-03-08T00:00:00\",\"2022-03-09T00:00:00\",\"2022-03-10T00:00:00\",\"2022-03-11T00:00:00\",\"2022-03-14T00:00:00\",\"2022-03-15T00:00:00\",\"2022-03-16T00:00:00\",\"2022-03-17T00:00:00\",\"2022-03-18T00:00:00\",\"2022-03-21T00:00:00\",\"2022-03-22T00:00:00\",\"2022-03-23T00:00:00\",\"2022-03-24T00:00:00\",\"2022-03-25T00:00:00\",\"2022-03-28T00:00:00\",\"2022-03-29T00:00:00\",\"2022-03-30T00:00:00\",\"2022-03-31T00:00:00\",\"2022-04-01T00:00:00\",\"2022-04-04T00:00:00\",\"2022-04-05T00:00:00\",\"2022-04-06T00:00:00\",\"2022-04-07T00:00:00\",\"2022-04-08T00:00:00\",\"2022-04-11T00:00:00\",\"2022-04-12T00:00:00\",\"2022-04-13T00:00:00\",\"2022-04-14T00:00:00\",\"2022-04-18T00:00:00\",\"2022-04-19T00:00:00\",\"2022-04-20T00:00:00\",\"2022-04-21T00:00:00\",\"2022-04-22T00:00:00\",\"2022-04-25T00:00:00\",\"2022-04-26T00:00:00\",\"2022-04-27T00:00:00\",\"2022-04-28T00:00:00\",\"2022-04-29T00:00:00\",\"2022-05-02T00:00:00\",\"2022-05-03T00:00:00\",\"2022-05-04T00:00:00\",\"2022-05-05T00:00:00\",\"2022-05-06T00:00:00\",\"2022-05-09T00:00:00\",\"2022-05-10T00:00:00\",\"2022-05-11T00:00:00\",\"2022-05-12T00:00:00\",\"2022-05-13T00:00:00\",\"2022-05-16T00:00:00\",\"2022-05-17T00:00:00\",\"2022-05-18T00:00:00\",\"2022-05-19T00:00:00\",\"2022-05-20T00:00:00\",\"2022-05-23T00:00:00\",\"2022-05-24T00:00:00\",\"2022-05-25T00:00:00\"],\"xaxis\":\"x\",\"y\":[687.330438855206,619.9601261349608,577.4915682671043,576.8584760007338,558.6735474116783,582.1166393717876,583.0293027690298,627.396713708219,624.9792011102537,606.5970212920992,602.5667563372119,604.633676616993,603.1098052469065,601.6293511536809,601.6304584264315,616.3699229052005,617.6575847354121,622.334110274496,687.9104983047527,676.601961586087,677.500043695759,686.7273337732937,691.2856469982606,661.3602721533567,645.7687986689208,644.6313247914603,649.1926384785958,681.8629281341221,676.5202625020883,663.1719218494856,649.2624097537251,644.7353757680339,637.2408426650468,650.7810967067697,654.6243116010193,650.461004272781,638.890894470999,660.8834335364635,640.5247504645403,645.7530894809086,677.5815744615755,690.4666857198953,720.3289538073446,706.9540545559807,718.3175149347891,713.113151872666,702.8469515398555,710.8547654340908,704.4155648537136,705.1401216595033,713.3124609258682,719.1639741080079,687.6001045049269,655.8284185424461,690.1004615251865,675.3312380419079,681.7157196110232,703.8107379779238,705.4040786160125,709.9663886378218,703.9683552550488,708.0850929096079,724.3692753561282,731.2063202550174,734.987850936628,733.331057927926,724.1104660877334,754.0145901754628,746.8246883411058,755.5467453580133,742.4844563888495,721.0517503433877,745.317597798412,747.4156949558397,750.4150219090355,751.4446828504334,727.2906446202752,736.7681573176403,745.5968704619147,748.6808593483929,767.9726085919732,790.6150185374592,777.5512849670332,782.3034674066273,779.9217650599343,766.5793387537138,789.1338227715506,785.2437147136733,779.1920208843986,797.7317142152136,781.8326608077153,794.0892292911963,803.8426110154309,806.8610556108164,813.1704332543607,836.084482644217,868.4524944155196,862.9973085901419,858.6567925585833,892.4578410573052,900.6716583538999,1031.9221116240817,1072.091802223787,1057.51484560281,1064.9038101627475,1101.6258450732175,1184.4138243915356,1191.2372908506488,1191.5679028740806,1224.4103792272451,1219.230863615041,1177.7564092555053,1071.0452268948002,1055.5135520009355,1068.96889748493,1030.3733382473922,1001.5383596089279,1047.9794347889494,1105.893534016769,1085.6115225173178,1126.285985719372,1175.1355092030767,1110.39662566272,1112.9150849696143,1090.0042183282696,1133.3242645529613,1143.8517510454367,1123.3046298842642,1080.0202337825008,1033.1501553225262,984.0993807351259,1039.7899003693037,1052.8962463628636,1020.8010791098562,998.1912512125958,968.7237384921947,950.3890974675099,956.6973118909584,945.3422344839249,949.5819032600789,904.85301604378,914.3804705126207,1002.4169283774067,1058.609336747367,1106.5313461485557,1092.7429614461298,1075.923157557142,1082.3587304047805,1063.2028630056302,1184.6479845155889,1160.102676833919,1123.0919127849693,1046.9768554648901,1032.035937914325,1038.65864063436,1059.1429163951811,1102.604356216046,1059.1855111892044,1040.1443345993312,1056.1549452149834,1019.5881744334266,1024.4548556099867,964.5543578188862,895.0468075550715,937.3520414463279,952.7390262621232,867.491307794582,827.7015064065253,923.7387020754205,919.1840443585769,902.1522711032018,928.3805925597202,919.6704788539281,928.2470362134841,913.0710078397676,930.6144951607596,929.5900073879769,874.8029421482637,886.8394768289224,912.1696288881527,912.1566318337474,888.9701748405538,852.2311814284145,830.8436509361401,788.3031868965865,794.382186109549,797.7903778433614,869.1975597475736,873.8865544739293,863.6105876618475,852.957443753023,835.4718963476779,829.4814330235721,835.0017433969078,849.7048189170658,824.2788302342612,810.5503673119547,780.2299220927912,788.288909505331,831.436575737576,864.8268519911508,896.6113509609279,931.0272370481414,984.5535238335749,1030.0238763019656,1004.7299461125718,1008.1047537506366,1082.753266624913,1086.363628262853,1101.4801253794935,1084.7371407425524,1078.3032770664358,1130.6599959014993,1115.682251325024,1044.4680000508965,1050.4282063686126,1028.8207447838195,997.4407547820223,1001.1921625721466,1013.4019329737466,995.3125375434075,998.0991701648302,1021.3537598267899,994.5351426756273,1038.203386928723,1014.9145442656352,998.782963742464,922.1519626861563,898.7023740055498,847.720399200443,908.2218455253452,891.5439050973982,908.6043275944654,936.7311421731682,891.071795739338,855.9954969582847,807.0296573681709,792.9885946250571,763.945831426887,740.7124013899615,768.674459378191,736.0809543487754,747.8887050688552,729.1494778643861,720.7026792505136,668.7731763183889,664.6902060438086,629.9731143541859,663.141229392554],\"yaxis\":\"y\",\"type\":\"scattergl\"},{\"hovertemplate\":\"variable=wide_variable_1<br>x=%{x}<br>Stock value=%{y}<extra></extra>\",\"legendgroup\":\"wide_variable_1\",\"line\":{\"color\":\"#EF553B\",\"dash\":\"solid\"},\"marker\":{\"symbol\":\"circle\"},\"mode\":\"lines\",\"name\":\"RF\",\"showlegend\":true,\"x\":[\"2021-05-03T00:00:00\",\"2021-05-11T00:00:00\",\"2021-05-13T00:00:00\",\"2021-05-17T00:00:00\",\"2021-05-19T00:00:00\",\"2021-05-20T00:00:00\",\"2021-05-21T00:00:00\",\"2021-05-28T00:00:00\",\"2021-06-01T00:00:00\",\"2021-06-02T00:00:00\",\"2021-06-08T00:00:00\",\"2021-06-09T00:00:00\",\"2021-06-11T00:00:00\",\"2021-06-15T00:00:00\",\"2021-06-16T00:00:00\",\"2021-06-17T00:00:00\",\"2021-06-21T00:00:00\",\"2021-06-22T00:00:00\",\"2021-06-24T00:00:00\",\"2021-06-25T00:00:00\",\"2021-06-29T00:00:00\",\"2021-06-30T00:00:00\",\"2021-07-02T00:00:00\",\"2021-07-06T00:00:00\",\"2021-07-07T00:00:00\",\"2021-07-08T00:00:00\",\"2021-07-09T00:00:00\",\"2021-07-12T00:00:00\",\"2021-07-13T00:00:00\",\"2021-07-14T00:00:00\",\"2021-07-15T00:00:00\",\"2021-07-16T00:00:00\",\"2021-07-19T00:00:00\",\"2021-07-20T00:00:00\",\"2021-07-21T00:00:00\",\"2021-07-22T00:00:00\",\"2021-07-23T00:00:00\",\"2021-07-26T00:00:00\",\"2021-07-27T00:00:00\",\"2021-07-28T00:00:00\",\"2021-07-29T00:00:00\",\"2021-07-30T00:00:00\",\"2021-08-02T00:00:00\",\"2021-08-03T00:00:00\",\"2021-08-04T00:00:00\",\"2021-08-05T00:00:00\",\"2021-08-06T00:00:00\",\"2021-08-09T00:00:00\",\"2021-08-10T00:00:00\",\"2021-08-11T00:00:00\",\"2021-08-12T00:00:00\",\"2021-08-13T00:00:00\",\"2021-08-16T00:00:00\",\"2021-08-17T00:00:00\",\"2021-08-18T00:00:00\",\"2021-08-19T00:00:00\",\"2021-08-20T00:00:00\",\"2021-08-23T00:00:00\",\"2021-08-24T00:00:00\",\"2021-08-25T00:00:00\",\"2021-08-26T00:00:00\",\"2021-08-27T00:00:00\",\"2021-08-30T00:00:00\",\"2021-08-31T00:00:00\",\"2021-09-01T00:00:00\",\"2021-09-02T00:00:00\",\"2021-09-03T00:00:00\",\"2021-09-07T00:00:00\",\"2021-09-08T00:00:00\",\"2021-09-09T00:00:00\",\"2021-09-10T00:00:00\",\"2021-09-13T00:00:00\",\"2021-09-14T00:00:00\",\"2021-09-15T00:00:00\",\"2021-09-16T00:00:00\",\"2021-09-17T00:00:00\",\"2021-09-20T00:00:00\",\"2021-09-21T00:00:00\",\"2021-09-22T00:00:00\",\"2021-09-23T00:00:00\",\"2021-09-24T00:00:00\",\"2021-09-27T00:00:00\",\"2021-09-28T00:00:00\",\"2021-09-29T00:00:00\",\"2021-09-30T00:00:00\",\"2021-10-01T00:00:00\",\"2021-10-04T00:00:00\",\"2021-10-05T00:00:00\",\"2021-10-06T00:00:00\",\"2021-10-07T00:00:00\",\"2021-10-08T00:00:00\",\"2021-10-11T00:00:00\",\"2021-10-12T00:00:00\",\"2021-10-13T00:00:00\",\"2021-10-14T00:00:00\",\"2021-10-15T00:00:00\",\"2021-10-18T00:00:00\",\"2021-10-19T00:00:00\",\"2021-10-20T00:00:00\",\"2021-10-21T00:00:00\",\"2021-10-22T00:00:00\",\"2021-10-25T00:00:00\",\"2021-10-26T00:00:00\",\"2021-10-27T00:00:00\",\"2021-10-28T00:00:00\",\"2021-10-29T00:00:00\",\"2021-11-01T00:00:00\",\"2021-11-02T00:00:00\",\"2021-11-03T00:00:00\",\"2021-11-04T00:00:00\",\"2021-11-05T00:00:00\",\"2021-11-08T00:00:00\",\"2021-11-09T00:00:00\",\"2021-11-10T00:00:00\",\"2021-11-11T00:00:00\",\"2021-11-12T00:00:00\",\"2021-11-15T00:00:00\",\"2021-11-16T00:00:00\",\"2021-11-17T00:00:00\",\"2021-11-18T00:00:00\",\"2021-11-19T00:00:00\",\"2021-11-22T00:00:00\",\"2021-11-23T00:00:00\",\"2021-11-24T00:00:00\",\"2021-11-26T00:00:00\",\"2021-11-29T00:00:00\",\"2021-11-30T00:00:00\",\"2021-12-01T00:00:00\",\"2021-12-02T00:00:00\",\"2021-12-03T00:00:00\",\"2021-12-06T00:00:00\",\"2021-12-07T00:00:00\",\"2021-12-08T00:00:00\",\"2021-12-09T00:00:00\",\"2021-12-10T00:00:00\",\"2021-12-13T00:00:00\",\"2021-12-14T00:00:00\",\"2021-12-15T00:00:00\",\"2021-12-16T00:00:00\",\"2021-12-17T00:00:00\",\"2021-12-20T00:00:00\",\"2021-12-21T00:00:00\",\"2021-12-22T00:00:00\",\"2021-12-23T00:00:00\",\"2021-12-27T00:00:00\",\"2021-12-28T00:00:00\",\"2021-12-29T00:00:00\",\"2021-12-30T00:00:00\",\"2021-12-31T00:00:00\",\"2022-01-03T00:00:00\",\"2022-01-04T00:00:00\",\"2022-01-05T00:00:00\",\"2022-01-06T00:00:00\",\"2022-01-07T00:00:00\",\"2022-01-10T00:00:00\",\"2022-01-11T00:00:00\",\"2022-01-12T00:00:00\",\"2022-01-13T00:00:00\",\"2022-01-14T00:00:00\",\"2022-01-18T00:00:00\",\"2022-01-19T00:00:00\",\"2022-01-20T00:00:00\",\"2022-01-21T00:00:00\",\"2022-01-24T00:00:00\",\"2022-01-25T00:00:00\",\"2022-01-26T00:00:00\",\"2022-01-27T00:00:00\",\"2022-01-28T00:00:00\",\"2022-01-31T00:00:00\",\"2022-02-01T00:00:00\",\"2022-02-02T00:00:00\",\"2022-02-03T00:00:00\",\"2022-02-04T00:00:00\",\"2022-02-07T00:00:00\",\"2022-02-08T00:00:00\",\"2022-02-09T00:00:00\",\"2022-02-10T00:00:00\",\"2022-02-11T00:00:00\",\"2022-02-14T00:00:00\",\"2022-02-15T00:00:00\",\"2022-02-16T00:00:00\",\"2022-02-17T00:00:00\",\"2022-02-18T00:00:00\",\"2022-02-22T00:00:00\",\"2022-02-23T00:00:00\",\"2022-02-24T00:00:00\",\"2022-02-25T00:00:00\",\"2022-02-28T00:00:00\",\"2022-03-01T00:00:00\",\"2022-03-02T00:00:00\",\"2022-03-03T00:00:00\",\"2022-03-04T00:00:00\",\"2022-03-07T00:00:00\",\"2022-03-08T00:00:00\",\"2022-03-09T00:00:00\",\"2022-03-10T00:00:00\",\"2022-03-11T00:00:00\",\"2022-03-14T00:00:00\",\"2022-03-15T00:00:00\",\"2022-03-16T00:00:00\",\"2022-03-17T00:00:00\",\"2022-03-18T00:00:00\",\"2022-03-21T00:00:00\",\"2022-03-22T00:00:00\",\"2022-03-23T00:00:00\",\"2022-03-24T00:00:00\",\"2022-03-25T00:00:00\",\"2022-03-28T00:00:00\",\"2022-03-29T00:00:00\",\"2022-03-30T00:00:00\",\"2022-03-31T00:00:00\",\"2022-04-01T00:00:00\",\"2022-04-04T00:00:00\",\"2022-04-05T00:00:00\",\"2022-04-06T00:00:00\",\"2022-04-07T00:00:00\",\"2022-04-08T00:00:00\",\"2022-04-11T00:00:00\",\"2022-04-12T00:00:00\",\"2022-04-13T00:00:00\",\"2022-04-14T00:00:00\",\"2022-04-18T00:00:00\",\"2022-04-19T00:00:00\",\"2022-04-20T00:00:00\",\"2022-04-21T00:00:00\",\"2022-04-22T00:00:00\",\"2022-04-25T00:00:00\",\"2022-04-26T00:00:00\",\"2022-04-27T00:00:00\",\"2022-04-28T00:00:00\",\"2022-04-29T00:00:00\",\"2022-05-02T00:00:00\",\"2022-05-03T00:00:00\",\"2022-05-04T00:00:00\",\"2022-05-05T00:00:00\",\"2022-05-06T00:00:00\",\"2022-05-09T00:00:00\",\"2022-05-10T00:00:00\",\"2022-05-11T00:00:00\",\"2022-05-12T00:00:00\",\"2022-05-13T00:00:00\",\"2022-05-16T00:00:00\",\"2022-05-17T00:00:00\",\"2022-05-18T00:00:00\",\"2022-05-19T00:00:00\",\"2022-05-20T00:00:00\",\"2022-05-23T00:00:00\",\"2022-05-24T00:00:00\",\"2022-05-25T00:00:00\"],\"xaxis\":\"x\",\"y\":[689.8291,611.624,606.275,606.275,573.7590000000001,613.809,616.2909999999999,633.0966666666668,628.1840000000001,611.624,611.624,611.624,611.624,611.624,616.2909999999999,611.624,619.6790000000001,618.231,672.0754999999999,681.2555,680.7315000000001,680.7315000000001,671.5515,666.2420000000002,655.47,652.559,656.8420000000002,675.6310000000001,684.199,666.5800000000002,655.47,658.0330000000001,640.7016666666666,658.0330000000001,653.4220000000001,656.8420000000002,654.1766666666668,649.0810000000001,637.9590000000001,658.0330000000001,663.8140000000001,669.5135,705.814,700.1379999999999,700.1379999999999,696.4779999999998,695.0805999999999,696.4779999999998,696.1145999999999,696.1145999999999,700.1379999999999,705.3759999999999,689.6471,664.8130000000001,669.5135,681.2595000000001,680.7315000000001,692.4961000000001,696.1145999999999,696.1145999999999,695.0805999999999,696.1145999999999,708.316,722.921,733.8679999999998,728.8669999999998,705.9920000000001,741.3269999999999,740.0029999999999,743.2249999999999,740.0029999999999,740.0519999999999,732.8009999999998,732.8009999999998,743.2249999999999,743.2249999999999,732.266,733.8679999999998,729.5089999999998,734.6989999999998,735.8829999999999,788.264,788.264,788.264,778.621,773.714,788.264,788.264,773.714,799.9330000000001,790.71,799.9330000000001,807.1659999999999,813.7,825.141,836.1229999999999,848.1200000000001,848.1200000000001,848.1200000000001,864.2370000000001,864.2370000000001,864.2370000000001,864.2370000000001,864.2370000000001,864.2370000000001,864.2370000000001,864.2370000000001,864.2370000000001,864.2370000000001,864.2370000000001,864.2370000000001,864.2370000000001,864.2370000000001,864.2370000000001,864.2370000000001,864.2370000000001,864.2370000000001,864.2370000000001,864.2370000000001,864.2370000000001,864.2370000000001,864.2370000000001,864.2370000000001,864.2370000000001,864.2370000000001,864.2370000000001,864.2370000000001,864.2370000000001,864.2370000000001,864.2370000000001,864.2370000000001,864.2370000000001,864.2370000000001,864.2370000000001,864.2370000000001,864.2370000000001,864.2370000000001,864.2370000000001,864.2370000000001,864.2370000000001,864.2370000000001,864.2370000000001,864.2370000000001,864.2370000000001,864.2370000000001,864.2370000000001,864.2370000000001,864.2370000000001,864.2370000000001,864.2370000000001,864.2370000000001,864.2370000000001,864.2370000000001,864.2370000000001,864.2370000000001,864.2370000000001,864.2370000000001,864.2370000000001,864.2370000000001,864.2370000000001,864.2370000000001,864.2370000000001,864.2370000000001,864.2370000000001,864.2370000000001,864.2370000000001,863.226,818.546,864.2370000000001,864.2370000000001,864.2370000000001,864.2370000000001,864.2370000000001,864.2370000000001,864.2370000000001,864.2370000000001,864.2370000000001,864.2370000000001,864.2370000000001,864.2370000000001,864.2370000000001,864.2370000000001,862.8979999999999,818.546,797.9689999999999,759.6569999999999,794.917,841.104,864.2370000000001,864.2370000000001,863.226,845.981,825.0810000000001,811.037,845.982,831.184,808.523,779.875,779.875,808.523,845.982,864.2370000000001,864.2370000000001,864.2370000000001,864.2370000000001,864.2370000000001,864.2370000000001,864.2370000000001,864.2370000000001,864.2370000000001,864.2370000000001,864.2370000000001,864.2370000000001,864.2370000000001,864.2370000000001,864.2370000000001,864.2370000000001,864.2370000000001,864.2370000000001,864.2370000000001,864.2370000000001,864.2370000000001,864.2370000000001,864.2370000000001,864.2370000000001,864.2370000000001,864.2370000000001,864.2370000000001,864.2370000000001,863.226,864.2370000000001,864.2370000000001,864.2370000000001,864.2370000000001,864.2370000000001,864.2370000000001,811.037,791.435,753.9149999999998,753.568,735.8829999999999,739.912,740.0029999999999,753.568,710.8720000000001,694.363,670.5680000000002,647.7336666666666,639.7439999999999],\"yaxis\":\"y\",\"type\":\"scattergl\"},{\"hovertemplate\":\"variable=wide_variable_2<br>x=%{x}<br>Stock value=%{y}<extra></extra>\",\"legendgroup\":\"wide_variable_2\",\"line\":{\"color\":\"#00cc96\",\"dash\":\"solid\"},\"marker\":{\"symbol\":\"circle\"},\"mode\":\"lines\",\"name\":\"KNN\",\"showlegend\":true,\"x\":[\"2021-05-03T00:00:00\",\"2021-05-11T00:00:00\",\"2021-05-13T00:00:00\",\"2021-05-17T00:00:00\",\"2021-05-19T00:00:00\",\"2021-05-20T00:00:00\",\"2021-05-21T00:00:00\",\"2021-05-28T00:00:00\",\"2021-06-01T00:00:00\",\"2021-06-02T00:00:00\",\"2021-06-08T00:00:00\",\"2021-06-09T00:00:00\",\"2021-06-11T00:00:00\",\"2021-06-15T00:00:00\",\"2021-06-16T00:00:00\",\"2021-06-17T00:00:00\",\"2021-06-21T00:00:00\",\"2021-06-22T00:00:00\",\"2021-06-24T00:00:00\",\"2021-06-25T00:00:00\",\"2021-06-29T00:00:00\",\"2021-06-30T00:00:00\",\"2021-07-02T00:00:00\",\"2021-07-06T00:00:00\",\"2021-07-07T00:00:00\",\"2021-07-08T00:00:00\",\"2021-07-09T00:00:00\",\"2021-07-12T00:00:00\",\"2021-07-13T00:00:00\",\"2021-07-14T00:00:00\",\"2021-07-15T00:00:00\",\"2021-07-16T00:00:00\",\"2021-07-19T00:00:00\",\"2021-07-20T00:00:00\",\"2021-07-21T00:00:00\",\"2021-07-22T00:00:00\",\"2021-07-23T00:00:00\",\"2021-07-26T00:00:00\",\"2021-07-27T00:00:00\",\"2021-07-28T00:00:00\",\"2021-07-29T00:00:00\",\"2021-07-30T00:00:00\",\"2021-08-02T00:00:00\",\"2021-08-03T00:00:00\",\"2021-08-04T00:00:00\",\"2021-08-05T00:00:00\",\"2021-08-06T00:00:00\",\"2021-08-09T00:00:00\",\"2021-08-10T00:00:00\",\"2021-08-11T00:00:00\",\"2021-08-12T00:00:00\",\"2021-08-13T00:00:00\",\"2021-08-16T00:00:00\",\"2021-08-17T00:00:00\",\"2021-08-18T00:00:00\",\"2021-08-19T00:00:00\",\"2021-08-20T00:00:00\",\"2021-08-23T00:00:00\",\"2021-08-24T00:00:00\",\"2021-08-25T00:00:00\",\"2021-08-26T00:00:00\",\"2021-08-27T00:00:00\",\"2021-08-30T00:00:00\",\"2021-08-31T00:00:00\",\"2021-09-01T00:00:00\",\"2021-09-02T00:00:00\",\"2021-09-03T00:00:00\",\"2021-09-07T00:00:00\",\"2021-09-08T00:00:00\",\"2021-09-09T00:00:00\",\"2021-09-10T00:00:00\",\"2021-09-13T00:00:00\",\"2021-09-14T00:00:00\",\"2021-09-15T00:00:00\",\"2021-09-16T00:00:00\",\"2021-09-17T00:00:00\",\"2021-09-20T00:00:00\",\"2021-09-21T00:00:00\",\"2021-09-22T00:00:00\",\"2021-09-23T00:00:00\",\"2021-09-24T00:00:00\",\"2021-09-27T00:00:00\",\"2021-09-28T00:00:00\",\"2021-09-29T00:00:00\",\"2021-09-30T00:00:00\",\"2021-10-01T00:00:00\",\"2021-10-04T00:00:00\",\"2021-10-05T00:00:00\",\"2021-10-06T00:00:00\",\"2021-10-07T00:00:00\",\"2021-10-08T00:00:00\",\"2021-10-11T00:00:00\",\"2021-10-12T00:00:00\",\"2021-10-13T00:00:00\",\"2021-10-14T00:00:00\",\"2021-10-15T00:00:00\",\"2021-10-18T00:00:00\",\"2021-10-19T00:00:00\",\"2021-10-20T00:00:00\",\"2021-10-21T00:00:00\",\"2021-10-22T00:00:00\",\"2021-10-25T00:00:00\",\"2021-10-26T00:00:00\",\"2021-10-27T00:00:00\",\"2021-10-28T00:00:00\",\"2021-10-29T00:00:00\",\"2021-11-01T00:00:00\",\"2021-11-02T00:00:00\",\"2021-11-03T00:00:00\",\"2021-11-04T00:00:00\",\"2021-11-05T00:00:00\",\"2021-11-08T00:00:00\",\"2021-11-09T00:00:00\",\"2021-11-10T00:00:00\",\"2021-11-11T00:00:00\",\"2021-11-12T00:00:00\",\"2021-11-15T00:00:00\",\"2021-11-16T00:00:00\",\"2021-11-17T00:00:00\",\"2021-11-18T00:00:00\",\"2021-11-19T00:00:00\",\"2021-11-22T00:00:00\",\"2021-11-23T00:00:00\",\"2021-11-24T00:00:00\",\"2021-11-26T00:00:00\",\"2021-11-29T00:00:00\",\"2021-11-30T00:00:00\",\"2021-12-01T00:00:00\",\"2021-12-02T00:00:00\",\"2021-12-03T00:00:00\",\"2021-12-06T00:00:00\",\"2021-12-07T00:00:00\",\"2021-12-08T00:00:00\",\"2021-12-09T00:00:00\",\"2021-12-10T00:00:00\",\"2021-12-13T00:00:00\",\"2021-12-14T00:00:00\",\"2021-12-15T00:00:00\",\"2021-12-16T00:00:00\",\"2021-12-17T00:00:00\",\"2021-12-20T00:00:00\",\"2021-12-21T00:00:00\",\"2021-12-22T00:00:00\",\"2021-12-23T00:00:00\",\"2021-12-27T00:00:00\",\"2021-12-28T00:00:00\",\"2021-12-29T00:00:00\",\"2021-12-30T00:00:00\",\"2021-12-31T00:00:00\",\"2022-01-03T00:00:00\",\"2022-01-04T00:00:00\",\"2022-01-05T00:00:00\",\"2022-01-06T00:00:00\",\"2022-01-07T00:00:00\",\"2022-01-10T00:00:00\",\"2022-01-11T00:00:00\",\"2022-01-12T00:00:00\",\"2022-01-13T00:00:00\",\"2022-01-14T00:00:00\",\"2022-01-18T00:00:00\",\"2022-01-19T00:00:00\",\"2022-01-20T00:00:00\",\"2022-01-21T00:00:00\",\"2022-01-24T00:00:00\",\"2022-01-25T00:00:00\",\"2022-01-26T00:00:00\",\"2022-01-27T00:00:00\",\"2022-01-28T00:00:00\",\"2022-01-31T00:00:00\",\"2022-02-01T00:00:00\",\"2022-02-02T00:00:00\",\"2022-02-03T00:00:00\",\"2022-02-04T00:00:00\",\"2022-02-07T00:00:00\",\"2022-02-08T00:00:00\",\"2022-02-09T00:00:00\",\"2022-02-10T00:00:00\",\"2022-02-11T00:00:00\",\"2022-02-14T00:00:00\",\"2022-02-15T00:00:00\",\"2022-02-16T00:00:00\",\"2022-02-17T00:00:00\",\"2022-02-18T00:00:00\",\"2022-02-22T00:00:00\",\"2022-02-23T00:00:00\",\"2022-02-24T00:00:00\",\"2022-02-25T00:00:00\",\"2022-02-28T00:00:00\",\"2022-03-01T00:00:00\",\"2022-03-02T00:00:00\",\"2022-03-03T00:00:00\",\"2022-03-04T00:00:00\",\"2022-03-07T00:00:00\",\"2022-03-08T00:00:00\",\"2022-03-09T00:00:00\",\"2022-03-10T00:00:00\",\"2022-03-11T00:00:00\",\"2022-03-14T00:00:00\",\"2022-03-15T00:00:00\",\"2022-03-16T00:00:00\",\"2022-03-17T00:00:00\",\"2022-03-18T00:00:00\",\"2022-03-21T00:00:00\",\"2022-03-22T00:00:00\",\"2022-03-23T00:00:00\",\"2022-03-24T00:00:00\",\"2022-03-25T00:00:00\",\"2022-03-28T00:00:00\",\"2022-03-29T00:00:00\",\"2022-03-30T00:00:00\",\"2022-03-31T00:00:00\",\"2022-04-01T00:00:00\",\"2022-04-04T00:00:00\",\"2022-04-05T00:00:00\",\"2022-04-06T00:00:00\",\"2022-04-07T00:00:00\",\"2022-04-08T00:00:00\",\"2022-04-11T00:00:00\",\"2022-04-12T00:00:00\",\"2022-04-13T00:00:00\",\"2022-04-14T00:00:00\",\"2022-04-18T00:00:00\",\"2022-04-19T00:00:00\",\"2022-04-20T00:00:00\",\"2022-04-21T00:00:00\",\"2022-04-22T00:00:00\",\"2022-04-25T00:00:00\",\"2022-04-26T00:00:00\",\"2022-04-27T00:00:00\",\"2022-04-28T00:00:00\",\"2022-04-29T00:00:00\",\"2022-05-02T00:00:00\",\"2022-05-03T00:00:00\",\"2022-05-04T00:00:00\",\"2022-05-05T00:00:00\",\"2022-05-06T00:00:00\",\"2022-05-09T00:00:00\",\"2022-05-10T00:00:00\",\"2022-05-11T00:00:00\",\"2022-05-12T00:00:00\",\"2022-05-13T00:00:00\",\"2022-05-16T00:00:00\",\"2022-05-17T00:00:00\",\"2022-05-18T00:00:00\",\"2022-05-19T00:00:00\",\"2022-05-20T00:00:00\",\"2022-05-23T00:00:00\",\"2022-05-24T00:00:00\",\"2022-05-25T00:00:00\"],\"xaxis\":\"x\",\"y\":[796.22,635.62,630.27,744.12,635.62,635.62,618.71,618.71,677.02,630.27,618.71,677.02,618.71,618.71,683.8,683.8,618.71,635.62,762.32,653.2,677.02,738.85,653.2,653.2,677.02,744.12,709.44,709.44,677.02,796.22,677.02,677.02,635.62,709.44,677.02,677.02,677.02,709.44,618.71,677.02,709.44,709.44,729.4,677.02,677.02,677.02,677.02,729.4,653.2,677.02,729.4,677.02,677.02,796.22,744.12,677.02,796.22,729.4,796.22,729.4,677.02,729.4,729.4,729.4,729.4,686.44,729.4,729.4,781.3,729.4,686.44,729.4,729.4,729.4,816.12,729.4,704.74,729.4,744.12,686.44,729.4,729.4,781.3,816.12,781.3,781.3,781.3,781.3,846.64,816.12,781.3,846.64,846.64,846.64,846.64,846.64,846.64,781.3,846.64,846.64,846.64,880.8,844.99,844.99,880.8,880.8,880.8,880.8,880.8,849.46,849.46,880.8,844.99,880.8,849.46,849.46,844.99,880.8,880.8,849.46,880.8,849.46,849.46,880.8,849.46,880.8,880.8,849.46,849.46,849.46,744.12,793.53,880.8,793.53,880.8,849.46,845.0,845.0,849.46,744.12,849.46,846.64,880.8,880.8,880.8,849.46,849.46,880.8,849.46,880.8,849.46,849.46,849.46,849.46,880.8,880.8,880.8,849.46,880.8,880.8,849.46,849.46,844.99,880.8,880.8,844.99,844.99,880.8,880.8,796.22,849.46,846.64,846.64,849.46,846.64,796.22,849.46,796.22,846.64,744.12,846.64,849.46,849.46,844.99,781.3,709.44,846.64,846.64,781.3,846.64,849.46,849.46,849.46,846.64,744.12,796.22,781.3,781.3,816.12,846.64,846.64,845.0,846.64,880.8,744.12,845.0,845.0,880.8,849.46,880.8,793.53,880.8,793.53,793.53,849.46,880.8,849.46,796.22,793.53,796.22,849.46,880.8,846.64,849.46,849.46,849.46,845.0,793.53,793.53,793.53,849.46,744.12,846.64,880.8,849.46,849.46,781.3,793.53,793.53,709.44,793.53,732.23,744.12,796.22,709.44,793.53,744.12,793.53,709.44],\"yaxis\":\"y\",\"type\":\"scattergl\"},{\"hovertemplate\":\"variable=wide_variable_3<br>x=%{x}<br>Stock value=%{y}<extra></extra>\",\"legendgroup\":\"wide_variable_3\",\"line\":{\"color\":\"#ab63fa\",\"dash\":\"solid\"},\"marker\":{\"symbol\":\"circle\"},\"mode\":\"lines\",\"name\":\"DEC\",\"showlegend\":true,\"x\":[\"2021-05-03T00:00:00\",\"2021-05-11T00:00:00\",\"2021-05-13T00:00:00\",\"2021-05-17T00:00:00\",\"2021-05-19T00:00:00\",\"2021-05-20T00:00:00\",\"2021-05-21T00:00:00\",\"2021-05-28T00:00:00\",\"2021-06-01T00:00:00\",\"2021-06-02T00:00:00\",\"2021-06-08T00:00:00\",\"2021-06-09T00:00:00\",\"2021-06-11T00:00:00\",\"2021-06-15T00:00:00\",\"2021-06-16T00:00:00\",\"2021-06-17T00:00:00\",\"2021-06-21T00:00:00\",\"2021-06-22T00:00:00\",\"2021-06-24T00:00:00\",\"2021-06-25T00:00:00\",\"2021-06-29T00:00:00\",\"2021-06-30T00:00:00\",\"2021-07-02T00:00:00\",\"2021-07-06T00:00:00\",\"2021-07-07T00:00:00\",\"2021-07-08T00:00:00\",\"2021-07-09T00:00:00\",\"2021-07-12T00:00:00\",\"2021-07-13T00:00:00\",\"2021-07-14T00:00:00\",\"2021-07-15T00:00:00\",\"2021-07-16T00:00:00\",\"2021-07-19T00:00:00\",\"2021-07-20T00:00:00\",\"2021-07-21T00:00:00\",\"2021-07-22T00:00:00\",\"2021-07-23T00:00:00\",\"2021-07-26T00:00:00\",\"2021-07-27T00:00:00\",\"2021-07-28T00:00:00\",\"2021-07-29T00:00:00\",\"2021-07-30T00:00:00\",\"2021-08-02T00:00:00\",\"2021-08-03T00:00:00\",\"2021-08-04T00:00:00\",\"2021-08-05T00:00:00\",\"2021-08-06T00:00:00\",\"2021-08-09T00:00:00\",\"2021-08-10T00:00:00\",\"2021-08-11T00:00:00\",\"2021-08-12T00:00:00\",\"2021-08-13T00:00:00\",\"2021-08-16T00:00:00\",\"2021-08-17T00:00:00\",\"2021-08-18T00:00:00\",\"2021-08-19T00:00:00\",\"2021-08-20T00:00:00\",\"2021-08-23T00:00:00\",\"2021-08-24T00:00:00\",\"2021-08-25T00:00:00\",\"2021-08-26T00:00:00\",\"2021-08-27T00:00:00\",\"2021-08-30T00:00:00\",\"2021-08-31T00:00:00\",\"2021-09-01T00:00:00\",\"2021-09-02T00:00:00\",\"2021-09-03T00:00:00\",\"2021-09-07T00:00:00\",\"2021-09-08T00:00:00\",\"2021-09-09T00:00:00\",\"2021-09-10T00:00:00\",\"2021-09-13T00:00:00\",\"2021-09-14T00:00:00\",\"2021-09-15T00:00:00\",\"2021-09-16T00:00:00\",\"2021-09-17T00:00:00\",\"2021-09-20T00:00:00\",\"2021-09-21T00:00:00\",\"2021-09-22T00:00:00\",\"2021-09-23T00:00:00\",\"2021-09-24T00:00:00\",\"2021-09-27T00:00:00\",\"2021-09-28T00:00:00\",\"2021-09-29T00:00:00\",\"2021-09-30T00:00:00\",\"2021-10-01T00:00:00\",\"2021-10-04T00:00:00\",\"2021-10-05T00:00:00\",\"2021-10-06T00:00:00\",\"2021-10-07T00:00:00\",\"2021-10-08T00:00:00\",\"2021-10-11T00:00:00\",\"2021-10-12T00:00:00\",\"2021-10-13T00:00:00\",\"2021-10-14T00:00:00\",\"2021-10-15T00:00:00\",\"2021-10-18T00:00:00\",\"2021-10-19T00:00:00\",\"2021-10-20T00:00:00\",\"2021-10-21T00:00:00\",\"2021-10-22T00:00:00\",\"2021-10-25T00:00:00\",\"2021-10-26T00:00:00\",\"2021-10-27T00:00:00\",\"2021-10-28T00:00:00\",\"2021-10-29T00:00:00\",\"2021-11-01T00:00:00\",\"2021-11-02T00:00:00\",\"2021-11-03T00:00:00\",\"2021-11-04T00:00:00\",\"2021-11-05T00:00:00\",\"2021-11-08T00:00:00\",\"2021-11-09T00:00:00\",\"2021-11-10T00:00:00\",\"2021-11-11T00:00:00\",\"2021-11-12T00:00:00\",\"2021-11-15T00:00:00\",\"2021-11-16T00:00:00\",\"2021-11-17T00:00:00\",\"2021-11-18T00:00:00\",\"2021-11-19T00:00:00\",\"2021-11-22T00:00:00\",\"2021-11-23T00:00:00\",\"2021-11-24T00:00:00\",\"2021-11-26T00:00:00\",\"2021-11-29T00:00:00\",\"2021-11-30T00:00:00\",\"2021-12-01T00:00:00\",\"2021-12-02T00:00:00\",\"2021-12-03T00:00:00\",\"2021-12-06T00:00:00\",\"2021-12-07T00:00:00\",\"2021-12-08T00:00:00\",\"2021-12-09T00:00:00\",\"2021-12-10T00:00:00\",\"2021-12-13T00:00:00\",\"2021-12-14T00:00:00\",\"2021-12-15T00:00:00\",\"2021-12-16T00:00:00\",\"2021-12-17T00:00:00\",\"2021-12-20T00:00:00\",\"2021-12-21T00:00:00\",\"2021-12-22T00:00:00\",\"2021-12-23T00:00:00\",\"2021-12-27T00:00:00\",\"2021-12-28T00:00:00\",\"2021-12-29T00:00:00\",\"2021-12-30T00:00:00\",\"2021-12-31T00:00:00\",\"2022-01-03T00:00:00\",\"2022-01-04T00:00:00\",\"2022-01-05T00:00:00\",\"2022-01-06T00:00:00\",\"2022-01-07T00:00:00\",\"2022-01-10T00:00:00\",\"2022-01-11T00:00:00\",\"2022-01-12T00:00:00\",\"2022-01-13T00:00:00\",\"2022-01-14T00:00:00\",\"2022-01-18T00:00:00\",\"2022-01-19T00:00:00\",\"2022-01-20T00:00:00\",\"2022-01-21T00:00:00\",\"2022-01-24T00:00:00\",\"2022-01-25T00:00:00\",\"2022-01-26T00:00:00\",\"2022-01-27T00:00:00\",\"2022-01-28T00:00:00\",\"2022-01-31T00:00:00\",\"2022-02-01T00:00:00\",\"2022-02-02T00:00:00\",\"2022-02-03T00:00:00\",\"2022-02-04T00:00:00\",\"2022-02-07T00:00:00\",\"2022-02-08T00:00:00\",\"2022-02-09T00:00:00\",\"2022-02-10T00:00:00\",\"2022-02-11T00:00:00\",\"2022-02-14T00:00:00\",\"2022-02-15T00:00:00\",\"2022-02-16T00:00:00\",\"2022-02-17T00:00:00\",\"2022-02-18T00:00:00\",\"2022-02-22T00:00:00\",\"2022-02-23T00:00:00\",\"2022-02-24T00:00:00\",\"2022-02-25T00:00:00\",\"2022-02-28T00:00:00\",\"2022-03-01T00:00:00\",\"2022-03-02T00:00:00\",\"2022-03-03T00:00:00\",\"2022-03-04T00:00:00\",\"2022-03-07T00:00:00\",\"2022-03-08T00:00:00\",\"2022-03-09T00:00:00\",\"2022-03-10T00:00:00\",\"2022-03-11T00:00:00\",\"2022-03-14T00:00:00\",\"2022-03-15T00:00:00\",\"2022-03-16T00:00:00\",\"2022-03-17T00:00:00\",\"2022-03-18T00:00:00\",\"2022-03-21T00:00:00\",\"2022-03-22T00:00:00\",\"2022-03-23T00:00:00\",\"2022-03-24T00:00:00\",\"2022-03-25T00:00:00\",\"2022-03-28T00:00:00\",\"2022-03-29T00:00:00\",\"2022-03-30T00:00:00\",\"2022-03-31T00:00:00\",\"2022-04-01T00:00:00\",\"2022-04-04T00:00:00\",\"2022-04-05T00:00:00\",\"2022-04-06T00:00:00\",\"2022-04-07T00:00:00\",\"2022-04-08T00:00:00\",\"2022-04-11T00:00:00\",\"2022-04-12T00:00:00\",\"2022-04-13T00:00:00\",\"2022-04-14T00:00:00\",\"2022-04-18T00:00:00\",\"2022-04-19T00:00:00\",\"2022-04-20T00:00:00\",\"2022-04-21T00:00:00\",\"2022-04-22T00:00:00\",\"2022-04-25T00:00:00\",\"2022-04-26T00:00:00\",\"2022-04-27T00:00:00\",\"2022-04-28T00:00:00\",\"2022-04-29T00:00:00\",\"2022-05-02T00:00:00\",\"2022-05-03T00:00:00\",\"2022-05-04T00:00:00\",\"2022-05-05T00:00:00\",\"2022-05-06T00:00:00\",\"2022-05-09T00:00:00\",\"2022-05-10T00:00:00\",\"2022-05-11T00:00:00\",\"2022-05-12T00:00:00\",\"2022-05-13T00:00:00\",\"2022-05-16T00:00:00\",\"2022-05-17T00:00:00\",\"2022-05-18T00:00:00\",\"2022-05-19T00:00:00\",\"2022-05-20T00:00:00\",\"2022-05-23T00:00:00\",\"2022-05-24T00:00:00\",\"2022-05-25T00:00:00\"],\"xaxis\":\"x\",\"y\":[694.4,597.95,597.95,597.95,521.85,597.95,597.95,618.71,640.34,597.95,597.95,597.95,597.95,597.95,597.95,597.95,618.71,597.95,683.8,677.02,677.0,677.0,677.02,655.9,655.9,655.9,655.9,655.9,677.0,655.9,655.9,663.69,618.71,655.9,655.9,655.9,618.71,655.9,655.9,655.9,655.9,683.8,704.74,686.44,704.74,704.74,704.74,704.74,704.74,704.74,704.74,686.44,694.4,655.9,683.8,677.0,677.0,694.4,704.74,704.74,704.74,704.74,704.74,729.4,729.4,729.4,686.44,729.4,732.23,732.23,732.23,729.4,729.4,729.4,732.23,732.23,729.4,738.85,738.85,732.23,732.23,732.23,793.53,732.23,732.23,732.23,793.53,793.53,732.23,816.12,793.53,816.12,816.12,816.12,846.64,846.64,844.99,849.46,849.46,880.8,880.8,880.8,880.8,880.8,880.8,880.8,880.8,880.8,880.8,880.8,880.8,880.8,880.8,880.8,880.8,880.8,880.8,880.8,880.8,880.8,880.8,880.8,880.8,880.8,880.8,880.8,880.8,880.8,880.8,880.8,880.8,880.8,880.8,880.8,880.8,880.8,880.8,880.8,880.8,880.8,880.8,880.8,880.8,880.8,880.8,880.8,880.8,880.8,880.8,880.8,880.8,880.8,880.8,880.8,880.8,880.8,880.8,880.8,880.8,880.8,880.8,880.8,880.8,880.8,880.8,880.8,880.8,816.12,880.8,880.8,880.8,880.8,880.8,880.8,880.8,880.8,880.8,880.8,880.8,880.8,880.8,880.8,880.8,796.22,793.53,744.12,816.12,846.64,880.8,880.8,880.8,845.0,796.22,816.12,845.0,796.22,796.22,732.23,738.85,816.12,846.64,880.8,880.8,880.8,880.8,880.8,880.8,880.8,880.8,880.8,880.8,880.8,880.8,880.8,880.8,880.8,880.8,880.8,880.8,880.8,880.8,880.8,880.8,880.8,880.8,880.8,880.8,880.8,880.8,880.8,880.8,880.8,880.8,880.8,880.8,880.8,793.53,793.53,793.53,729.4,738.85,732.23,738.85,738.85,704.74,709.44,655.9,618.71,655.9],\"yaxis\":\"y\",\"type\":\"scattergl\"},{\"hovertemplate\":\"variable=wide_variable_4<br>x=%{x}<br>Stock value=%{y}<extra></extra>\",\"legendgroup\":\"wide_variable_4\",\"line\":{\"color\":\"#FFA15A\",\"dash\":\"solid\"},\"marker\":{\"symbol\":\"circle\"},\"mode\":\"lines\",\"name\":\"Actual\",\"showlegend\":true,\"x\":[\"2021-05-03T00:00:00\",\"2021-05-11T00:00:00\",\"2021-05-13T00:00:00\",\"2021-05-17T00:00:00\",\"2021-05-19T00:00:00\",\"2021-05-20T00:00:00\",\"2021-05-21T00:00:00\",\"2021-05-28T00:00:00\",\"2021-06-01T00:00:00\",\"2021-06-02T00:00:00\",\"2021-06-08T00:00:00\",\"2021-06-09T00:00:00\",\"2021-06-11T00:00:00\",\"2021-06-15T00:00:00\",\"2021-06-16T00:00:00\",\"2021-06-17T00:00:00\",\"2021-06-21T00:00:00\",\"2021-06-22T00:00:00\",\"2021-06-24T00:00:00\",\"2021-06-25T00:00:00\",\"2021-06-29T00:00:00\",\"2021-06-30T00:00:00\",\"2021-07-02T00:00:00\",\"2021-07-06T00:00:00\",\"2021-07-07T00:00:00\",\"2021-07-08T00:00:00\",\"2021-07-09T00:00:00\",\"2021-07-12T00:00:00\",\"2021-07-13T00:00:00\",\"2021-07-14T00:00:00\",\"2021-07-15T00:00:00\",\"2021-07-16T00:00:00\",\"2021-07-19T00:00:00\",\"2021-07-20T00:00:00\",\"2021-07-21T00:00:00\",\"2021-07-22T00:00:00\",\"2021-07-23T00:00:00\",\"2021-07-26T00:00:00\",\"2021-07-27T00:00:00\",\"2021-07-28T00:00:00\",\"2021-07-29T00:00:00\",\"2021-07-30T00:00:00\",\"2021-08-02T00:00:00\",\"2021-08-03T00:00:00\",\"2021-08-04T00:00:00\",\"2021-08-05T00:00:00\",\"2021-08-06T00:00:00\",\"2021-08-09T00:00:00\",\"2021-08-10T00:00:00\",\"2021-08-11T00:00:00\",\"2021-08-12T00:00:00\",\"2021-08-13T00:00:00\",\"2021-08-16T00:00:00\",\"2021-08-17T00:00:00\",\"2021-08-18T00:00:00\",\"2021-08-19T00:00:00\",\"2021-08-20T00:00:00\",\"2021-08-23T00:00:00\",\"2021-08-24T00:00:00\",\"2021-08-25T00:00:00\",\"2021-08-26T00:00:00\",\"2021-08-27T00:00:00\",\"2021-08-30T00:00:00\",\"2021-08-31T00:00:00\",\"2021-09-01T00:00:00\",\"2021-09-02T00:00:00\",\"2021-09-03T00:00:00\",\"2021-09-07T00:00:00\",\"2021-09-08T00:00:00\",\"2021-09-09T00:00:00\",\"2021-09-10T00:00:00\",\"2021-09-13T00:00:00\",\"2021-09-14T00:00:00\",\"2021-09-15T00:00:00\",\"2021-09-16T00:00:00\",\"2021-09-17T00:00:00\",\"2021-09-20T00:00:00\",\"2021-09-21T00:00:00\",\"2021-09-22T00:00:00\",\"2021-09-23T00:00:00\",\"2021-09-24T00:00:00\",\"2021-09-27T00:00:00\",\"2021-09-28T00:00:00\",\"2021-09-29T00:00:00\",\"2021-09-30T00:00:00\",\"2021-10-01T00:00:00\",\"2021-10-04T00:00:00\",\"2021-10-05T00:00:00\",\"2021-10-06T00:00:00\",\"2021-10-07T00:00:00\",\"2021-10-08T00:00:00\",\"2021-10-11T00:00:00\",\"2021-10-12T00:00:00\",\"2021-10-13T00:00:00\",\"2021-10-14T00:00:00\",\"2021-10-15T00:00:00\",\"2021-10-18T00:00:00\",\"2021-10-19T00:00:00\",\"2021-10-20T00:00:00\",\"2021-10-21T00:00:00\",\"2021-10-22T00:00:00\",\"2021-10-25T00:00:00\",\"2021-10-26T00:00:00\",\"2021-10-27T00:00:00\",\"2021-10-28T00:00:00\",\"2021-10-29T00:00:00\",\"2021-11-01T00:00:00\",\"2021-11-02T00:00:00\",\"2021-11-03T00:00:00\",\"2021-11-04T00:00:00\",\"2021-11-05T00:00:00\",\"2021-11-08T00:00:00\",\"2021-11-09T00:00:00\",\"2021-11-10T00:00:00\",\"2021-11-11T00:00:00\",\"2021-11-12T00:00:00\",\"2021-11-15T00:00:00\",\"2021-11-16T00:00:00\",\"2021-11-17T00:00:00\",\"2021-11-18T00:00:00\",\"2021-11-19T00:00:00\",\"2021-11-22T00:00:00\",\"2021-11-23T00:00:00\",\"2021-11-24T00:00:00\",\"2021-11-26T00:00:00\",\"2021-11-29T00:00:00\",\"2021-11-30T00:00:00\",\"2021-12-01T00:00:00\",\"2021-12-02T00:00:00\",\"2021-12-03T00:00:00\",\"2021-12-06T00:00:00\",\"2021-12-07T00:00:00\",\"2021-12-08T00:00:00\",\"2021-12-09T00:00:00\",\"2021-12-10T00:00:00\",\"2021-12-13T00:00:00\",\"2021-12-14T00:00:00\",\"2021-12-15T00:00:00\",\"2021-12-16T00:00:00\",\"2021-12-17T00:00:00\",\"2021-12-20T00:00:00\",\"2021-12-21T00:00:00\",\"2021-12-22T00:00:00\",\"2021-12-23T00:00:00\",\"2021-12-27T00:00:00\",\"2021-12-28T00:00:00\",\"2021-12-29T00:00:00\",\"2021-12-30T00:00:00\",\"2021-12-31T00:00:00\",\"2022-01-03T00:00:00\",\"2022-01-04T00:00:00\",\"2022-01-05T00:00:00\",\"2022-01-06T00:00:00\",\"2022-01-07T00:00:00\",\"2022-01-10T00:00:00\",\"2022-01-11T00:00:00\",\"2022-01-12T00:00:00\",\"2022-01-13T00:00:00\",\"2022-01-14T00:00:00\",\"2022-01-18T00:00:00\",\"2022-01-19T00:00:00\",\"2022-01-20T00:00:00\",\"2022-01-21T00:00:00\",\"2022-01-24T00:00:00\",\"2022-01-25T00:00:00\",\"2022-01-26T00:00:00\",\"2022-01-27T00:00:00\",\"2022-01-28T00:00:00\",\"2022-01-31T00:00:00\",\"2022-02-01T00:00:00\",\"2022-02-02T00:00:00\",\"2022-02-03T00:00:00\",\"2022-02-04T00:00:00\",\"2022-02-07T00:00:00\",\"2022-02-08T00:00:00\",\"2022-02-09T00:00:00\",\"2022-02-10T00:00:00\",\"2022-02-11T00:00:00\",\"2022-02-14T00:00:00\",\"2022-02-15T00:00:00\",\"2022-02-16T00:00:00\",\"2022-02-17T00:00:00\",\"2022-02-18T00:00:00\",\"2022-02-22T00:00:00\",\"2022-02-23T00:00:00\",\"2022-02-24T00:00:00\",\"2022-02-25T00:00:00\",\"2022-02-28T00:00:00\",\"2022-03-01T00:00:00\",\"2022-03-02T00:00:00\",\"2022-03-03T00:00:00\",\"2022-03-04T00:00:00\",\"2022-03-07T00:00:00\",\"2022-03-08T00:00:00\",\"2022-03-09T00:00:00\",\"2022-03-10T00:00:00\",\"2022-03-11T00:00:00\",\"2022-03-14T00:00:00\",\"2022-03-15T00:00:00\",\"2022-03-16T00:00:00\",\"2022-03-17T00:00:00\",\"2022-03-18T00:00:00\",\"2022-03-21T00:00:00\",\"2022-03-22T00:00:00\",\"2022-03-23T00:00:00\",\"2022-03-24T00:00:00\",\"2022-03-25T00:00:00\",\"2022-03-28T00:00:00\",\"2022-03-29T00:00:00\",\"2022-03-30T00:00:00\",\"2022-03-31T00:00:00\",\"2022-04-01T00:00:00\",\"2022-04-04T00:00:00\",\"2022-04-05T00:00:00\",\"2022-04-06T00:00:00\",\"2022-04-07T00:00:00\",\"2022-04-08T00:00:00\",\"2022-04-11T00:00:00\",\"2022-04-12T00:00:00\",\"2022-04-13T00:00:00\",\"2022-04-14T00:00:00\",\"2022-04-18T00:00:00\",\"2022-04-19T00:00:00\",\"2022-04-20T00:00:00\",\"2022-04-21T00:00:00\",\"2022-04-22T00:00:00\",\"2022-04-25T00:00:00\",\"2022-04-26T00:00:00\",\"2022-04-27T00:00:00\",\"2022-04-28T00:00:00\",\"2022-04-29T00:00:00\",\"2022-05-02T00:00:00\",\"2022-05-03T00:00:00\",\"2022-05-04T00:00:00\",\"2022-05-05T00:00:00\",\"2022-05-06T00:00:00\",\"2022-05-09T00:00:00\",\"2022-05-10T00:00:00\",\"2022-05-11T00:00:00\",\"2022-05-12T00:00:00\",\"2022-05-13T00:00:00\",\"2022-05-16T00:00:00\",\"2022-05-17T00:00:00\",\"2022-05-18T00:00:00\",\"2022-05-19T00:00:00\",\"2022-05-20T00:00:00\",\"2022-05-23T00:00:00\",\"2022-05-24T00:00:00\",\"2022-05-25T00:00:00\"],\"xaxis\":\"x\",\"y\":[684.9,617.2,571.69,576.83,563.46,586.78,580.88,625.22,623.9,605.12,603.59,598.78,609.89,599.36,604.87,616.6,620.83,623.71,679.82,671.87,680.76,679.7,678.9,659.58,644.65,652.81,656.95,685.7,668.54,653.38,650.6,644.22,646.22,660.5,655.29,649.26,643.38,657.62,644.78,646.98,677.35,687.2,709.67,709.74,710.92,714.63,699.1,713.76,709.99,707.82,722.25,717.17,686.17,665.71,688.99,673.47,680.26,706.3,708.49,711.2,701.16,711.92,730.91,735.72,734.09,732.39,733.57,752.92,753.87,754.86,736.27,743.0,744.49,755.83,756.99,759.49,730.17,739.38,751.94,753.64,774.39,791.36,777.56,781.31,775.48,775.22,781.53,780.59,782.75,793.61,785.49,791.94,805.72,811.08,818.32,843.03,870.11,864.27,865.8,894.0,909.68,1024.86,1018.43,1037.86,1077.04,1114.0,1208.59,1172.0,1213.86,1229.91,1222.09,1162.94,1023.5,1067.95,1063.51,1033.42,1013.39,1054.73,1089.01,1096.38,1137.06,1156.87,1109.03,1116.0,1081.92,1136.99,1144.76,1095.0,1084.6,1014.97,1009.01,1051.75,1068.96,1003.8,1017.03,966.41,958.51,975.99,926.92,932.57,899.94,938.53,1008.87,1067.0,1093.94,1088.47,1086.19,1070.34,1056.78,1199.78,1149.59,1088.12,1064.7,1026.96,1058.12,1064.4,1106.22,1031.56,1049.61,1030.51,995.65,996.27,943.9,930.0,918.4,937.41,829.1,846.35,936.72,931.25,905.66,891.14,923.32,907.34,922.0,932.0,904.55,860.0,875.76,922.43,923.39,876.35,856.98,821.53,764.04,800.77,809.87,870.43,864.37,879.89,839.29,838.29,804.58,824.4,858.97,838.3,795.35,766.37,801.89,840.23,871.6,905.39,921.16,993.98,999.11,1013.92,1010.64,1091.84,1099.57,1093.99,1077.6,1084.59,1145.45,1091.26,1045.76,1057.26,1025.49,975.93,986.95,1022.37,985.0,1004.29,1028.15,977.2,1008.78,1005.05,998.02,876.42,881.51,877.51,870.76,902.94,909.25,952.62,873.28,865.65,787.11,800.04,734.0,728.0,769.59,724.37,761.61,709.81,709.42,663.9,674.9,628.16,658.8],\"yaxis\":\"y\",\"type\":\"scattergl\"}],                        {\"template\":{\"data\":{\"bar\":[{\"error_x\":{\"color\":\"#2a3f5f\"},\"error_y\":{\"color\":\"#2a3f5f\"},\"marker\":{\"line\":{\"color\":\"#E5ECF6\",\"width\":0.5},\"pattern\":{\"fillmode\":\"overlay\",\"size\":10,\"solidity\":0.2}},\"type\":\"bar\"}],\"barpolar\":[{\"marker\":{\"line\":{\"color\":\"#E5ECF6\",\"width\":0.5},\"pattern\":{\"fillmode\":\"overlay\",\"size\":10,\"solidity\":0.2}},\"type\":\"barpolar\"}],\"carpet\":[{\"aaxis\":{\"endlinecolor\":\"#2a3f5f\",\"gridcolor\":\"white\",\"linecolor\":\"white\",\"minorgridcolor\":\"white\",\"startlinecolor\":\"#2a3f5f\"},\"baxis\":{\"endlinecolor\":\"#2a3f5f\",\"gridcolor\":\"white\",\"linecolor\":\"white\",\"minorgridcolor\":\"white\",\"startlinecolor\":\"#2a3f5f\"},\"type\":\"carpet\"}],\"choropleth\":[{\"colorbar\":{\"outlinewidth\":0,\"ticks\":\"\"},\"type\":\"choropleth\"}],\"contour\":[{\"colorbar\":{\"outlinewidth\":0,\"ticks\":\"\"},\"colorscale\":[[0.0,\"#0d0887\"],[0.1111111111111111,\"#46039f\"],[0.2222222222222222,\"#7201a8\"],[0.3333333333333333,\"#9c179e\"],[0.4444444444444444,\"#bd3786\"],[0.5555555555555556,\"#d8576b\"],[0.6666666666666666,\"#ed7953\"],[0.7777777777777778,\"#fb9f3a\"],[0.8888888888888888,\"#fdca26\"],[1.0,\"#f0f921\"]],\"type\":\"contour\"}],\"contourcarpet\":[{\"colorbar\":{\"outlinewidth\":0,\"ticks\":\"\"},\"type\":\"contourcarpet\"}],\"heatmap\":[{\"colorbar\":{\"outlinewidth\":0,\"ticks\":\"\"},\"colorscale\":[[0.0,\"#0d0887\"],[0.1111111111111111,\"#46039f\"],[0.2222222222222222,\"#7201a8\"],[0.3333333333333333,\"#9c179e\"],[0.4444444444444444,\"#bd3786\"],[0.5555555555555556,\"#d8576b\"],[0.6666666666666666,\"#ed7953\"],[0.7777777777777778,\"#fb9f3a\"],[0.8888888888888888,\"#fdca26\"],[1.0,\"#f0f921\"]],\"type\":\"heatmap\"}],\"heatmapgl\":[{\"colorbar\":{\"outlinewidth\":0,\"ticks\":\"\"},\"colorscale\":[[0.0,\"#0d0887\"],[0.1111111111111111,\"#46039f\"],[0.2222222222222222,\"#7201a8\"],[0.3333333333333333,\"#9c179e\"],[0.4444444444444444,\"#bd3786\"],[0.5555555555555556,\"#d8576b\"],[0.6666666666666666,\"#ed7953\"],[0.7777777777777778,\"#fb9f3a\"],[0.8888888888888888,\"#fdca26\"],[1.0,\"#f0f921\"]],\"type\":\"heatmapgl\"}],\"histogram\":[{\"marker\":{\"pattern\":{\"fillmode\":\"overlay\",\"size\":10,\"solidity\":0.2}},\"type\":\"histogram\"}],\"histogram2d\":[{\"colorbar\":{\"outlinewidth\":0,\"ticks\":\"\"},\"colorscale\":[[0.0,\"#0d0887\"],[0.1111111111111111,\"#46039f\"],[0.2222222222222222,\"#7201a8\"],[0.3333333333333333,\"#9c179e\"],[0.4444444444444444,\"#bd3786\"],[0.5555555555555556,\"#d8576b\"],[0.6666666666666666,\"#ed7953\"],[0.7777777777777778,\"#fb9f3a\"],[0.8888888888888888,\"#fdca26\"],[1.0,\"#f0f921\"]],\"type\":\"histogram2d\"}],\"histogram2dcontour\":[{\"colorbar\":{\"outlinewidth\":0,\"ticks\":\"\"},\"colorscale\":[[0.0,\"#0d0887\"],[0.1111111111111111,\"#46039f\"],[0.2222222222222222,\"#7201a8\"],[0.3333333333333333,\"#9c179e\"],[0.4444444444444444,\"#bd3786\"],[0.5555555555555556,\"#d8576b\"],[0.6666666666666666,\"#ed7953\"],[0.7777777777777778,\"#fb9f3a\"],[0.8888888888888888,\"#fdca26\"],[1.0,\"#f0f921\"]],\"type\":\"histogram2dcontour\"}],\"mesh3d\":[{\"colorbar\":{\"outlinewidth\":0,\"ticks\":\"\"},\"type\":\"mesh3d\"}],\"parcoords\":[{\"line\":{\"colorbar\":{\"outlinewidth\":0,\"ticks\":\"\"}},\"type\":\"parcoords\"}],\"pie\":[{\"automargin\":true,\"type\":\"pie\"}],\"scatter\":[{\"marker\":{\"colorbar\":{\"outlinewidth\":0,\"ticks\":\"\"}},\"type\":\"scatter\"}],\"scatter3d\":[{\"line\":{\"colorbar\":{\"outlinewidth\":0,\"ticks\":\"\"}},\"marker\":{\"colorbar\":{\"outlinewidth\":0,\"ticks\":\"\"}},\"type\":\"scatter3d\"}],\"scattercarpet\":[{\"marker\":{\"colorbar\":{\"outlinewidth\":0,\"ticks\":\"\"}},\"type\":\"scattercarpet\"}],\"scattergeo\":[{\"marker\":{\"colorbar\":{\"outlinewidth\":0,\"ticks\":\"\"}},\"type\":\"scattergeo\"}],\"scattergl\":[{\"marker\":{\"colorbar\":{\"outlinewidth\":0,\"ticks\":\"\"}},\"type\":\"scattergl\"}],\"scattermapbox\":[{\"marker\":{\"colorbar\":{\"outlinewidth\":0,\"ticks\":\"\"}},\"type\":\"scattermapbox\"}],\"scatterpolar\":[{\"marker\":{\"colorbar\":{\"outlinewidth\":0,\"ticks\":\"\"}},\"type\":\"scatterpolar\"}],\"scatterpolargl\":[{\"marker\":{\"colorbar\":{\"outlinewidth\":0,\"ticks\":\"\"}},\"type\":\"scatterpolargl\"}],\"scatterternary\":[{\"marker\":{\"colorbar\":{\"outlinewidth\":0,\"ticks\":\"\"}},\"type\":\"scatterternary\"}],\"surface\":[{\"colorbar\":{\"outlinewidth\":0,\"ticks\":\"\"},\"colorscale\":[[0.0,\"#0d0887\"],[0.1111111111111111,\"#46039f\"],[0.2222222222222222,\"#7201a8\"],[0.3333333333333333,\"#9c179e\"],[0.4444444444444444,\"#bd3786\"],[0.5555555555555556,\"#d8576b\"],[0.6666666666666666,\"#ed7953\"],[0.7777777777777778,\"#fb9f3a\"],[0.8888888888888888,\"#fdca26\"],[1.0,\"#f0f921\"]],\"type\":\"surface\"}],\"table\":[{\"cells\":{\"fill\":{\"color\":\"#EBF0F8\"},\"line\":{\"color\":\"white\"}},\"header\":{\"fill\":{\"color\":\"#C8D4E3\"},\"line\":{\"color\":\"white\"}},\"type\":\"table\"}]},\"layout\":{\"annotationdefaults\":{\"arrowcolor\":\"#2a3f5f\",\"arrowhead\":0,\"arrowwidth\":1},\"autotypenumbers\":\"strict\",\"coloraxis\":{\"colorbar\":{\"outlinewidth\":0,\"ticks\":\"\"}},\"colorscale\":{\"diverging\":[[0,\"#8e0152\"],[0.1,\"#c51b7d\"],[0.2,\"#de77ae\"],[0.3,\"#f1b6da\"],[0.4,\"#fde0ef\"],[0.5,\"#f7f7f7\"],[0.6,\"#e6f5d0\"],[0.7,\"#b8e186\"],[0.8,\"#7fbc41\"],[0.9,\"#4d9221\"],[1,\"#276419\"]],\"sequential\":[[0.0,\"#0d0887\"],[0.1111111111111111,\"#46039f\"],[0.2222222222222222,\"#7201a8\"],[0.3333333333333333,\"#9c179e\"],[0.4444444444444444,\"#bd3786\"],[0.5555555555555556,\"#d8576b\"],[0.6666666666666666,\"#ed7953\"],[0.7777777777777778,\"#fb9f3a\"],[0.8888888888888888,\"#fdca26\"],[1.0,\"#f0f921\"]],\"sequentialminus\":[[0.0,\"#0d0887\"],[0.1111111111111111,\"#46039f\"],[0.2222222222222222,\"#7201a8\"],[0.3333333333333333,\"#9c179e\"],[0.4444444444444444,\"#bd3786\"],[0.5555555555555556,\"#d8576b\"],[0.6666666666666666,\"#ed7953\"],[0.7777777777777778,\"#fb9f3a\"],[0.8888888888888888,\"#fdca26\"],[1.0,\"#f0f921\"]]},\"colorway\":[\"#636efa\",\"#EF553B\",\"#00cc96\",\"#ab63fa\",\"#FFA15A\",\"#19d3f3\",\"#FF6692\",\"#B6E880\",\"#FF97FF\",\"#FECB52\"],\"font\":{\"color\":\"#2a3f5f\"},\"geo\":{\"bgcolor\":\"white\",\"lakecolor\":\"white\",\"landcolor\":\"#E5ECF6\",\"showlakes\":true,\"showland\":true,\"subunitcolor\":\"white\"},\"hoverlabel\":{\"align\":\"left\"},\"hovermode\":\"closest\",\"mapbox\":{\"style\":\"light\"},\"paper_bgcolor\":\"white\",\"plot_bgcolor\":\"#E5ECF6\",\"polar\":{\"angularaxis\":{\"gridcolor\":\"white\",\"linecolor\":\"white\",\"ticks\":\"\"},\"bgcolor\":\"#E5ECF6\",\"radialaxis\":{\"gridcolor\":\"white\",\"linecolor\":\"white\",\"ticks\":\"\"}},\"scene\":{\"xaxis\":{\"backgroundcolor\":\"#E5ECF6\",\"gridcolor\":\"white\",\"gridwidth\":2,\"linecolor\":\"white\",\"showbackground\":true,\"ticks\":\"\",\"zerolinecolor\":\"white\"},\"yaxis\":{\"backgroundcolor\":\"#E5ECF6\",\"gridcolor\":\"white\",\"gridwidth\":2,\"linecolor\":\"white\",\"showbackground\":true,\"ticks\":\"\",\"zerolinecolor\":\"white\"},\"zaxis\":{\"backgroundcolor\":\"#E5ECF6\",\"gridcolor\":\"white\",\"gridwidth\":2,\"linecolor\":\"white\",\"showbackground\":true,\"ticks\":\"\",\"zerolinecolor\":\"white\"}},\"shapedefaults\":{\"line\":{\"color\":\"#2a3f5f\"}},\"ternary\":{\"aaxis\":{\"gridcolor\":\"white\",\"linecolor\":\"white\",\"ticks\":\"\"},\"baxis\":{\"gridcolor\":\"white\",\"linecolor\":\"white\",\"ticks\":\"\"},\"bgcolor\":\"#E5ECF6\",\"caxis\":{\"gridcolor\":\"white\",\"linecolor\":\"white\",\"ticks\":\"\"}},\"title\":{\"x\":0.05},\"xaxis\":{\"automargin\":true,\"gridcolor\":\"white\",\"linecolor\":\"white\",\"ticks\":\"\",\"title\":{\"standoff\":15},\"zerolinecolor\":\"white\",\"zerolinewidth\":2},\"yaxis\":{\"automargin\":true,\"gridcolor\":\"white\",\"linecolor\":\"white\",\"ticks\":\"\",\"title\":{\"standoff\":15},\"zerolinecolor\":\"white\",\"zerolinewidth\":2}}},\"xaxis\":{\"anchor\":\"y\",\"domain\":[0.0,1.0],\"title\":{\"text\":\"x\"},\"showgrid\":false},\"yaxis\":{\"anchor\":\"x\",\"domain\":[0.0,1.0],\"title\":{\"text\":\"Stock value\"},\"showgrid\":false},\"legend\":{\"title\":{\"text\":\"Stock Parameters\"},\"tracegroupgap\":0},\"margin\":{\"t\":60},\"title\":{\"text\":\"Stock analysis chart\"},\"font\":{\"size\":15,\"color\":\"black\"}},                        {\"responsive\": true}                    ).then(function(){\n",
              "                            \n",
              "var gd = document.getElementById('f7ad80bf-745c-4601-a8a6-a466bf9b4194');\n",
              "var x = new MutationObserver(function (mutations, observer) {{\n",
              "        var display = window.getComputedStyle(gd).display;\n",
              "        if (!display || display === 'none') {{\n",
              "            console.log([gd, 'removed!']);\n",
              "            Plotly.purge(gd);\n",
              "            observer.disconnect();\n",
              "        }}\n",
              "}});\n",
              "\n",
              "// Listen for the removal of the full notebook cells\n",
              "var notebookContainer = gd.closest('#notebook-container');\n",
              "if (notebookContainer) {{\n",
              "    x.observe(notebookContainer, {childList: true});\n",
              "}}\n",
              "\n",
              "// Listen for the clearing of the current output cell\n",
              "var outputEl = gd.closest('.output');\n",
              "if (outputEl) {{\n",
              "    x.observe(outputEl, {childList: true});\n",
              "}}\n",
              "\n",
              "                        })                };                            </script>        </div>\n",
              "</body>\n",
              "</html>"
            ]
          },
          "metadata": {}
        }
      ]
    },
    {
      "cell_type": "code",
      "source": [
        ""
      ],
      "metadata": {
        "id": "2Msc6kIZ3ZSV"
      },
      "execution_count": null,
      "outputs": []
    },
    {
      "cell_type": "markdown",
      "source": [
        "## Classification"
      ],
      "metadata": {
        "id": "27yGbtgXVd1-"
      }
    },
    {
      "cell_type": "code",
      "source": [
        "df = df_backup\n"
      ],
      "metadata": {
        "id": "2HkpnaONVtxy"
      },
      "execution_count": null,
      "outputs": []
    },
    {
      "cell_type": "code",
      "source": [
        "from sklearn.ensemble import RandomForestRegressor, RandomForestClassifier\n",
        "from sklearn.neighbors import KNeighborsRegressor, NeighborhoodComponentsAnalysis, KNeighborsClassifier\n",
        "from sklearn.tree import DecisionTreeRegressor, DecisionTreeClassifier\n",
        "from sklearn.linear_model import LogisticRegression, LinearRegression"
      ],
      "metadata": {
        "id": "ZgzYO4y2Vv5N"
      },
      "execution_count": null,
      "outputs": []
    },
    {
      "cell_type": "code",
      "execution_count": null,
      "metadata": {
        "id": "aN8oJmxa1yXW"
      },
      "outputs": [],
      "source": [
        "# Declare feature vector and target variable\n",
        "X = df.drop(['Date','Target'], axis = 1)\n",
        "y = df['Target']\n",
        "# Normalize feature vector\n",
        "X = StandardScaler().fit_transform(X)\n"
      ]
    },
    {
      "cell_type": "code",
      "execution_count": null,
      "metadata": {
        "id": "JhGvRFOgXfhn"
      },
      "outputs": [],
      "source": [
        "# Split the dataset\n",
        "X_train, X_test, y_train, y_test = train_test_split(X, y, test_size = 0.30, random_state = 0)"
      ]
    },
    {
      "cell_type": "code",
      "execution_count": null,
      "metadata": {
        "colab": {
          "base_uri": "https://localhost:8080/"
        },
        "id": "6c10054c",
        "outputId": "846059e6-a233-45d3-8d6c-f06ca5508270"
      },
      "outputs": [
        {
          "output_type": "stream",
          "name": "stdout",
          "text": [
            "Best CV score = 0.875:\n",
            "Best parameters:  {'svm__C': 10, 'svm__gamma': 1, 'svm__kernel': 'poly'}\n"
          ]
        }
      ],
      "source": [
        "# create the pipeline\n",
        "pipe = Pipeline(steps=[('preprocess', preprocess_pipeline), ('svm', svm.SVC(probability=True))])\n",
        "\n",
        "# prepare a prameter grid\n",
        "# note that __ can be used to specify the name of a parameter for a specific element in a pipeline\n",
        "# note also that this is not an exhaustive list of the parameters of svn.SVC and their possible values\n",
        "\n",
        "param_grid = {\n",
        "    'svm__C': [0.1, 1, 10, 100],  \n",
        "    'svm__gamma': [1, 0.1, 0.01, 0.001], \n",
        "    'svm__kernel': ['rbf', 'linear', 'poly']}\n",
        "\n",
        "search = GridSearchCV(pipe, param_grid, n_jobs=-1, cv=5, refit=True)\n",
        "search.fit(X_train, y_train) #trainign happens here! SVM is trained 240 times\n",
        "\n",
        "print(\"Best CV score = %0.3f:\" % search.best_score_)\n",
        "print(\"Best parameters: \", search.best_params_)\n",
        "\n",
        "# store the best params and best model for later use\n",
        "SVM_best_params = search.best_params_\n",
        "SVM_best_model = search.best_estimator_"
      ]
    },
    {
      "cell_type": "code",
      "execution_count": null,
      "metadata": {
        "colab": {
          "base_uri": "https://localhost:8080/"
        },
        "outputId": "40aeec73-b4bc-47f6-d7a6-45bf5ba03ed3",
        "id": "0LYCTBdpV85h"
      },
      "outputs": [
        {
          "output_type": "stream",
          "name": "stdout",
          "text": [
            "Best CV score = 0.579:\n",
            "Best parameters:  {'rf__max_depth': 6, 'rf__n_estimators': 20}\n"
          ]
        }
      ],
      "source": [
        "# create the pipeline\n",
        "pipe = Pipeline(steps=[('preprocess', preprocess_pipeline), ('rf', RandomForestClassifier())])\n",
        "\n",
        "# prepare a prameter grid\n",
        "# note that __ can be used to specify the name of a parameter for a specific element in a pipeline\n",
        "# note also that this is not an exhaustive list of the parameters of RandomForestClassifier and their possible values\n",
        "param_grid = {\n",
        "    'rf__n_estimators' : [10,20,30],\n",
        "    'rf__max_depth': [2, 4, 6, 8]\n",
        "}\n",
        "\n",
        "search = GridSearchCV(pipe, param_grid, n_jobs=-1, cv=5, refit=True)\n",
        "search.fit(X_train, y_train)\n",
        "print(\"Best CV score = %0.3f:\" % search.best_score_)\n",
        "print(\"Best parameters: \", search.best_params_)\n",
        "\n",
        "# store the best params and best model for later use\n",
        "RF_best_params = search.best_params_\n",
        "RF_best_model = search.best_estimator_"
      ]
    },
    {
      "cell_type": "code",
      "execution_count": null,
      "metadata": {
        "colab": {
          "base_uri": "https://localhost:8080/"
        },
        "outputId": "d5f3bfd8-b6b2-47df-acee-49d39b6ce617",
        "id": "bJALSnMDV85h"
      },
      "outputs": [
        {
          "output_type": "stream",
          "name": "stdout",
          "text": [
            "Best CV score = 0.558:\n",
            "Best parameters:  {'knn__n_neighbors': 15}\n"
          ]
        }
      ],
      "source": [
        "# create the pipeline\n",
        "pipe = Pipeline(steps=[('preprocess', preprocess_pipeline), ('knn', KNeighborsClassifier())])\n",
        "\n",
        "param_grid = {\n",
        "'knn__n_neighbors': list(range(1, 31))\n",
        "}\n",
        "\n",
        "search = GridSearchCV(pipe, param_grid, n_jobs=-1, cv=5, refit=True)\n",
        "search.fit(X_train, y_train) #trainign happens here!\n",
        "\n",
        "print(\"Best CV score = %0.3f:\" % search.best_score_)\n",
        "print(\"Best parameters: \", search.best_params_)\n",
        "\n",
        "# store the best params and best model for later use\n",
        "KNN_best_params = search.best_params_\n",
        "KNN_best_model = search.best_estimator_"
      ]
    },
    {
      "cell_type": "code",
      "execution_count": null,
      "metadata": {
        "colab": {
          "base_uri": "https://localhost:8080/"
        },
        "outputId": "0bb2e820-54a7-4b65-bf73-8f1a8d827d7a",
        "id": "IqQxpYHSV85i"
      },
      "outputs": [
        {
          "output_type": "stream",
          "name": "stdout",
          "text": [
            "Best CV score = 0.601:\n",
            "Best parameters:  {'dec__criterion': 'entropy', 'dec__max_depth': 10}\n"
          ]
        }
      ],
      "source": [
        "# create the pipeline\n",
        "pipe = Pipeline(steps=[('preprocess', preprocess_pipeline), ('dec', DecisionTreeClassifier())])\n",
        "\n",
        "\n",
        "param_grid = {\n",
        "'dec__criterion': [\"gini\", \"entropy\"],\n",
        "'dec__max_depth': [2,4,6,8,10]  \n",
        "}\n",
        "\n",
        "search = GridSearchCV(pipe, param_grid, n_jobs=-1, cv=5, refit=True)\n",
        "search.fit(X_train, y_train) #trainig happens here!\n",
        "\n",
        "print(\"Best CV score = %0.3f:\" % search.best_score_)\n",
        "print(\"Best parameters: \", search.best_params_)\n",
        "\n",
        "# store the best params and best model for later use\n",
        "DEC_best_params = search.best_params_\n",
        "DEC_best_model = search.best_estimator_"
      ]
    },
    {
      "cell_type": "markdown",
      "metadata": {
        "id": "G3ZPSu4DV85k"
      },
      "source": [
        "Compare Classifiers on Test Set"
      ]
    },
    {
      "cell_type": "code",
      "execution_count": null,
      "metadata": {
        "id": "mMq1vIAZV85l"
      },
      "outputs": [],
      "source": [
        "mean_fpr = np.linspace(start=0, stop=1, num=100)"
      ]
    },
    {
      "cell_type": "code",
      "execution_count": null,
      "metadata": {
        "id": "W82PP2m6V85l"
      },
      "outputs": [],
      "source": [
        "# model - a trained binary probabilistic classification model;\n",
        "#         it is assumed that there are two classes: 0 and 1\n",
        "#         and the classifier learns to predict probabilities for the examples to belong to class 1\n",
        "\n",
        "def evaluate_model(X_test, y_test, model):\n",
        "    # compute probabilistic predictiond for the evaluation set\n",
        "    _probabilities = model.predict_proba(X_test)[:, 1]\n",
        "    \n",
        "    # compute exact predictiond for the evaluation set\n",
        "    _predicted_values = model.predict(X_test)\n",
        "        \n",
        "    # compute accuracy\n",
        "    _accuracy = accuracy_score(y_test, _predicted_values)\n",
        "        \n",
        "    # compute precision, recall and f1 score for class 1\n",
        "    _precision, _recall, _f1_score, _ = precision_recall_fscore_support(y_test, _predicted_values, labels=[1])\n",
        "    \n",
        "    # compute fpr and tpr values for various thresholds \n",
        "    # by comparing the true target values to the predicted probabilities for class 1\n",
        "    _fpr, _tpr, _ = roc_curve(y_test, _probabilities)\n",
        "        \n",
        "    # compute true positive rates for the values in the array mean_fpr\n",
        "    _tpr_transformed = np.array([np.interp(mean_fpr, _fpr, _tpr)])\n",
        "    \n",
        "    # compute the area under the curve\n",
        "    _auc = auc(_fpr, _tpr)\n",
        "            \n",
        "    return _accuracy, _precision[0], _recall[0], _f1_score[0], _tpr_transformed, _auc"
      ]
    },
    {
      "cell_type": "code",
      "execution_count": null,
      "metadata": {
        "id": "Y-wnJLELV85l"
      },
      "outputs": [],
      "source": [
        "SVM_accuracy, SVM_precision, SVM_recall, SVM_f1_score, SVM_tpr, SVM_auc = evaluate_model(X_test, y_test, SVM_best_model)\n",
        "RF_accuracy, RF_precision, RF_recall, RF_f1_score, RF_tpr, RF_auc = evaluate_model(X_test, y_test, RF_best_model)\n",
        "KNN_accuracy, KNN_precision, KNN_recall, KNN_f1_score, KNN_tpr, KNN_auc = evaluate_model(X_test, y_test, KNN_best_model)\n",
        "DEC_accuracy, DEC_precision, DEC_recall, DEC_f1_score, DEC_tpr, DEC_auc = evaluate_model(X_test, y_test, DEC_best_model)\n"
      ]
    },
    {
      "cell_type": "code",
      "execution_count": null,
      "metadata": {
        "colab": {
          "base_uri": "https://localhost:8080/",
          "height": 265
        },
        "id": "9a340912-2709-4022-b526-adfcf5290e95",
        "outputId": "dedd3861-a7b9-47af-931c-cc4499826568"
      },
      "outputs": [
        {
          "output_type": "display_data",
          "data": {
            "text/plain": [
              "<Figure size 432x288 with 1 Axes>"
            ],
            "image/png": "[encoded data removed]"
          },
          "metadata": {
            "needs_background": "light"
          }
        }
      ],
      "source": [
        "SVM_metrics = np.array([SVM_accuracy, SVM_precision, SVM_recall, SVM_f1_score])\n",
        "RF_metrics = np.array([RF_accuracy, RF_precision, RF_recall, RF_f1_score])\n",
        "KNN_metrics = np.array([KNN_accuracy, KNN_precision, KNN_recall, KNN_f1_score])\n",
        "DEC_metrics = np.array([DEC_accuracy, DEC_precision, DEC_recall, DEC_f1_score])\n",
        "index = ['accuracy', 'precision', 'recall', 'F1-score']\n",
        "df_metrics = pd.DataFrame({'SVM': SVM_metrics, 'Random Forest': RF_metrics, 'KNeighborsClassifier' : KNN_metrics, \n",
        "                          'DecisionTreeClassifier' : DEC_metrics}, index=index)\n",
        "df_metrics.plot.bar(rot=0)\n",
        "plt.legend(loc=\"lower right\")\n",
        "plt.show()"
      ]
    },
    {
      "cell_type": "code",
      "execution_count": null,
      "metadata": {
        "colab": {
          "base_uri": "https://localhost:8080/",
          "height": 295
        },
        "id": "c0e8998c-e811-4f83-b380-0c050dd82f32",
        "outputId": "b6c442da-e04b-43c2-f3b4-5ab2f4fb2bc8"
      },
      "outputs": [
        {
          "output_type": "display_data",
          "data": {
            "text/plain": [
              "<Figure size 432x288 with 1 Axes>"
            ],
            "image/png": "[encoded data removed]"
          },
          "metadata": {
            "needs_background": "light"
          }
        }
      ],
      "source": [
        "plt.plot([0, 1], [0, 1], linestyle='--', lw=2, color='r', label='Chance', alpha=0.8)\n",
        "plt.plot(mean_fpr, SVM_tpr[0,:], lw=2, color='blue', label='SVM (AUC = %0.2f)' % (SVM_auc), alpha=0.8)\n",
        "plt.plot(mean_fpr, RF_tpr[0,:], lw=2, color='orange', label='Random Forest (AUC = %0.2f)' % (RF_auc), alpha=0.8)\n",
        "plt.plot(mean_fpr, RF_tpr[0,:], lw=2, color='red', label='KNeighborsClassifier (AUC = %0.2f)' % (KNN_auc), alpha=0.8)\n",
        "plt.plot(mean_fpr, RF_tpr[0,:], lw=2, color='pink', label='DecisionTreeClassifier (AUC = %0.2f)' % (DEC_auc), alpha=0.8)\n",
        "plt.xlabel('False Positive Rate')\n",
        "plt.ylabel('True Positive Rate')\n",
        "plt.title('ROC curves for multiple classifiers')\n",
        "plt.legend(loc=\"lower right\")\n",
        "plt.show()"
      ]
    },
    {
      "cell_type": "code",
      "source": [
        ""
      ],
      "metadata": {
        "id": "_PTN7GO8rZ7F"
      },
      "execution_count": null,
      "outputs": []
    },
    {
      "cell_type": "markdown",
      "source": [
        "# Experiment 3"
      ],
      "metadata": {
        "id": "Xd-lk-1rvuuQ"
      }
    },
    {
      "cell_type": "markdown",
      "source": [
        "Question 3 – How do the stock trends and the sentiment value predicted by Fin-BERT relate to one another? "
      ],
      "metadata": {
        "id": "rRmhFfuevxYr"
      }
    },
    {
      "cell_type": "code",
      "source": [
        "df"
      ],
      "metadata": {
        "colab": {
          "base_uri": "https://localhost:8080/",
          "height": 696
        },
        "id": "PTtGG1Dnv6XS",
        "outputId": "5fc989ab-2951-468c-a9f2-80f5516aa45c"
      },
      "execution_count": null,
      "outputs": [
        {
          "output_type": "execute_result",
          "data": {
            "text/plain": [
              "          Date    Open    High     Low   Close      Volume  Dividends  \\\n",
              "0   2018-01-09   67.03   67.76   65.48   66.74  35733000.0        0.0   \n",
              "1   2018-01-29   67.97   70.17   67.66   69.91  23735500.0        0.0   \n",
              "2   2018-01-31   69.50   71.24   69.04   70.86  31070500.0        0.0   \n",
              "3   2018-03-07   65.09   66.50   64.35   66.46  25036500.0        0.0   \n",
              "4   2018-03-20   62.97   63.25   61.75   62.11  23821500.0        0.0   \n",
              "..         ...     ...     ...     ...     ...         ...        ...   \n",
              "748 2022-05-19  707.00  734.00  694.11  709.42  30098900.0        0.0   \n",
              "749 2022-05-20  713.99  721.58  633.00  663.90  48324400.0        0.0   \n",
              "750 2022-05-23  655.02  679.96  638.06  674.90  29634500.0        0.0   \n",
              "751 2022-05-24  653.53  653.92  620.57  628.16  29697500.0        0.0   \n",
              "752 2022-05-25  623.85  669.32  623.01  658.80  30713100.0        0.0   \n",
              "\n",
              "     Stock Splits  Research Development  Income Before Tax  ...  \\\n",
              "0             0.0          1.460000e+09      -1.005000e+09  ...   \n",
              "1             0.0          1.460000e+09      -1.005000e+09  ...   \n",
              "2             0.0          1.460000e+09      -1.005000e+09  ...   \n",
              "3             0.0          1.460000e+09      -1.005000e+09  ...   \n",
              "4             0.0          1.460000e+09      -1.005000e+09  ...   \n",
              "..            ...                   ...                ...  ...   \n",
              "748           0.0          2.593000e+09       6.343000e+09  ...   \n",
              "749           0.0          2.593000e+09       6.343000e+09  ...   \n",
              "750           0.0          2.593000e+09       6.343000e+09  ...   \n",
              "751           0.0          2.593000e+09       6.343000e+09  ...   \n",
              "752           0.0          2.593000e+09       6.343000e+09  ...   \n",
              "\n",
              "     Net Tangible Assets  Net Receivables  Long Term Debt     Inventory  \\\n",
              "0           4.573000e+09     9.490000e+08    8.461000e+09  3.113000e+09   \n",
              "1           4.573000e+09     9.490000e+08    8.461000e+09  3.113000e+09   \n",
              "2           4.573000e+09     9.490000e+08    8.461000e+09  3.113000e+09   \n",
              "3           4.573000e+09     9.490000e+08    8.461000e+09  3.113000e+09   \n",
              "4           4.573000e+09     9.490000e+08    8.461000e+09  3.113000e+09   \n",
              "..                   ...              ...             ...           ...   \n",
              "748         2.973200e+10     1.986000e+09    4.285000e+09  5.757000e+09   \n",
              "749         2.973200e+10     1.986000e+09    4.285000e+09  5.757000e+09   \n",
              "750         2.973200e+10     1.986000e+09    4.285000e+09  5.757000e+09   \n",
              "751         2.973200e+10     1.986000e+09    4.285000e+09  5.757000e+09   \n",
              "752         2.973200e+10     1.986000e+09    4.285000e+09  5.757000e+09   \n",
              "\n",
              "     Accounts Payable  Target  Positive  Negative   Neutral  Label  \n",
              "0        3.405000e+09       0  0.051453  0.051624  0.896924      0  \n",
              "1        3.405000e+09       1  0.073506  0.036434  0.890060      1  \n",
              "2        3.405000e+09       1  0.057328  0.025493  0.917179      1  \n",
              "3        3.405000e+09       1  0.105883  0.032860  0.861258      1  \n",
              "4        3.405000e+09       0  0.041082  0.027480  0.931438      1  \n",
              "..                ...     ...       ...       ...       ...    ...  \n",
              "748      1.002500e+10       1  0.079623  0.071458  0.848919      1  \n",
              "749      1.002500e+10       0  0.073798  0.096653  0.829548      0  \n",
              "750      1.002500e+10       1  0.075230  0.078415  0.846355      0  \n",
              "751      1.002500e+10       0  0.085092  0.116204  0.798704      0  \n",
              "752      1.002500e+10       1  0.091825  0.080255  0.827920      1  \n",
              "\n",
              "[753 rows x 54 columns]"
            ],
            "text/html": [
              "\n",
              "  <div id=\"df-f4611997-89fe-445a-a13b-fd0264a15839\">\n",
              "    <div class=\"colab-df-container\">\n",
              "      <div>\n",
              "<style scoped>\n",
              "    .dataframe tbody tr th:only-of-type {\n",
              "        vertical-align: middle;\n",
              "    }\n",
              "\n",
              "    .dataframe tbody tr th {\n",
              "        vertical-align: top;\n",
              "    }\n",
              "\n",
              "    .dataframe thead th {\n",
              "        text-align: right;\n",
              "    }\n",
              "</style>\n",
              "<table border=\"1\" class=\"dataframe\">\n",
              "  <thead>\n",
              "    <tr style=\"text-align: right;\">\n",
              "      <th></th>\n",
              "      <th>Date</th>\n",
              "      <th>Open</th>\n",
              "      <th>High</th>\n",
              "      <th>Low</th>\n",
              "      <th>Close</th>\n",
              "      <th>Volume</th>\n",
              "      <th>Dividends</th>\n",
              "      <th>Stock Splits</th>\n",
              "      <th>Research Development</th>\n",
              "      <th>Income Before Tax</th>\n",
              "      <th>...</th>\n",
              "      <th>Net Tangible Assets</th>\n",
              "      <th>Net Receivables</th>\n",
              "      <th>Long Term Debt</th>\n",
              "      <th>Inventory</th>\n",
              "      <th>Accounts Payable</th>\n",
              "      <th>Target</th>\n",
              "      <th>Positive</th>\n",
              "      <th>Negative</th>\n",
              "      <th>Neutral</th>\n",
              "      <th>Label</th>\n",
              "    </tr>\n",
              "  </thead>\n",
              "  <tbody>\n",
              "    <tr>\n",
              "      <th>0</th>\n",
              "      <td>2018-01-09</td>\n",
              "      <td>67.03</td>\n",
              "      <td>67.76</td>\n",
              "      <td>65.48</td>\n",
              "      <td>66.74</td>\n",
              "      <td>35733000.0</td>\n",
              "      <td>0.0</td>\n",
              "      <td>0.0</td>\n",
              "      <td>1.460000e+09</td>\n",
              "      <td>-1.005000e+09</td>\n",
              "      <td>...</td>\n",
              "      <td>4.573000e+09</td>\n",
              "      <td>9.490000e+08</td>\n",
              "      <td>8.461000e+09</td>\n",
              "      <td>3.113000e+09</td>\n",
              "      <td>3.405000e+09</td>\n",
              "      <td>0</td>\n",
              "      <td>0.051453</td>\n",
              "      <td>0.051624</td>\n",
              "      <td>0.896924</td>\n",
              "      <td>0</td>\n",
              "    </tr>\n",
              "    <tr>\n",
              "      <th>1</th>\n",
              "      <td>2018-01-29</td>\n",
              "      <td>67.97</td>\n",
              "      <td>70.17</td>\n",
              "      <td>67.66</td>\n",
              "      <td>69.91</td>\n",
              "      <td>23735500.0</td>\n",
              "      <td>0.0</td>\n",
              "      <td>0.0</td>\n",
              "      <td>1.460000e+09</td>\n",
              "      <td>-1.005000e+09</td>\n",
              "      <td>...</td>\n",
              "      <td>4.573000e+09</td>\n",
              "      <td>9.490000e+08</td>\n",
              "      <td>8.461000e+09</td>\n",
              "      <td>3.113000e+09</td>\n",
              "      <td>3.405000e+09</td>\n",
              "      <td>1</td>\n",
              "      <td>0.073506</td>\n",
              "      <td>0.036434</td>\n",
              "      <td>0.890060</td>\n",
              "      <td>1</td>\n",
              "    </tr>\n",
              "    <tr>\n",
              "      <th>2</th>\n",
              "      <td>2018-01-31</td>\n",
              "      <td>69.50</td>\n",
              "      <td>71.24</td>\n",
              "      <td>69.04</td>\n",
              "      <td>70.86</td>\n",
              "      <td>31070500.0</td>\n",
              "      <td>0.0</td>\n",
              "      <td>0.0</td>\n",
              "      <td>1.460000e+09</td>\n",
              "      <td>-1.005000e+09</td>\n",
              "      <td>...</td>\n",
              "      <td>4.573000e+09</td>\n",
              "      <td>9.490000e+08</td>\n",
              "      <td>8.461000e+09</td>\n",
              "      <td>3.113000e+09</td>\n",
              "      <td>3.405000e+09</td>\n",
              "      <td>1</td>\n",
              "      <td>0.057328</td>\n",
              "      <td>0.025493</td>\n",
              "      <td>0.917179</td>\n",
              "      <td>1</td>\n",
              "    </tr>\n",
              "    <tr>\n",
              "      <th>3</th>\n",
              "      <td>2018-03-07</td>\n",
              "      <td>65.09</td>\n",
              "      <td>66.50</td>\n",
              "      <td>64.35</td>\n",
              "      <td>66.46</td>\n",
              "      <td>25036500.0</td>\n",
              "      <td>0.0</td>\n",
              "      <td>0.0</td>\n",
              "      <td>1.460000e+09</td>\n",
              "      <td>-1.005000e+09</td>\n",
              "      <td>...</td>\n",
              "      <td>4.573000e+09</td>\n",
              "      <td>9.490000e+08</td>\n",
              "      <td>8.461000e+09</td>\n",
              "      <td>3.113000e+09</td>\n",
              "      <td>3.405000e+09</td>\n",
              "      <td>1</td>\n",
              "      <td>0.105883</td>\n",
              "      <td>0.032860</td>\n",
              "      <td>0.861258</td>\n",
              "      <td>1</td>\n",
              "    </tr>\n",
              "    <tr>\n",
              "      <th>4</th>\n",
              "      <td>2018-03-20</td>\n",
              "      <td>62.97</td>\n",
              "      <td>63.25</td>\n",
              "      <td>61.75</td>\n",
              "      <td>62.11</td>\n",
              "      <td>23821500.0</td>\n",
              "      <td>0.0</td>\n",
              "      <td>0.0</td>\n",
              "      <td>1.460000e+09</td>\n",
              "      <td>-1.005000e+09</td>\n",
              "      <td>...</td>\n",
              "      <td>4.573000e+09</td>\n",
              "      <td>9.490000e+08</td>\n",
              "      <td>8.461000e+09</td>\n",
              "      <td>3.113000e+09</td>\n",
              "      <td>3.405000e+09</td>\n",
              "      <td>0</td>\n",
              "      <td>0.041082</td>\n",
              "      <td>0.027480</td>\n",
              "      <td>0.931438</td>\n",
              "      <td>1</td>\n",
              "    </tr>\n",
              "    <tr>\n",
              "      <th>...</th>\n",
              "      <td>...</td>\n",
              "      <td>...</td>\n",
              "      <td>...</td>\n",
              "      <td>...</td>\n",
              "      <td>...</td>\n",
              "      <td>...</td>\n",
              "      <td>...</td>\n",
              "      <td>...</td>\n",
              "      <td>...</td>\n",
              "      <td>...</td>\n",
              "      <td>...</td>\n",
              "      <td>...</td>\n",
              "      <td>...</td>\n",
              "      <td>...</td>\n",
              "      <td>...</td>\n",
              "      <td>...</td>\n",
              "      <td>...</td>\n",
              "      <td>...</td>\n",
              "      <td>...</td>\n",
              "      <td>...</td>\n",
              "      <td>...</td>\n",
              "    </tr>\n",
              "    <tr>\n",
              "      <th>748</th>\n",
              "      <td>2022-05-19</td>\n",
              "      <td>707.00</td>\n",
              "      <td>734.00</td>\n",
              "      <td>694.11</td>\n",
              "      <td>709.42</td>\n",
              "      <td>30098900.0</td>\n",
              "      <td>0.0</td>\n",
              "      <td>0.0</td>\n",
              "      <td>2.593000e+09</td>\n",
              "      <td>6.343000e+09</td>\n",
              "      <td>...</td>\n",
              "      <td>2.973200e+10</td>\n",
              "      <td>1.986000e+09</td>\n",
              "      <td>4.285000e+09</td>\n",
              "      <td>5.757000e+09</td>\n",
              "      <td>1.002500e+10</td>\n",
              "      <td>1</td>\n",
              "      <td>0.079623</td>\n",
              "      <td>0.071458</td>\n",
              "      <td>0.848919</td>\n",
              "      <td>1</td>\n",
              "    </tr>\n",
              "    <tr>\n",
              "      <th>749</th>\n",
              "      <td>2022-05-20</td>\n",
              "      <td>713.99</td>\n",
              "      <td>721.58</td>\n",
              "      <td>633.00</td>\n",
              "      <td>663.90</td>\n",
              "      <td>48324400.0</td>\n",
              "      <td>0.0</td>\n",
              "      <td>0.0</td>\n",
              "      <td>2.593000e+09</td>\n",
              "      <td>6.343000e+09</td>\n",
              "      <td>...</td>\n",
              "      <td>2.973200e+10</td>\n",
              "      <td>1.986000e+09</td>\n",
              "      <td>4.285000e+09</td>\n",
              "      <td>5.757000e+09</td>\n",
              "      <td>1.002500e+10</td>\n",
              "      <td>0</td>\n",
              "      <td>0.073798</td>\n",
              "      <td>0.096653</td>\n",
              "      <td>0.829548</td>\n",
              "      <td>0</td>\n",
              "    </tr>\n",
              "    <tr>\n",
              "      <th>750</th>\n",
              "      <td>2022-05-23</td>\n",
              "      <td>655.02</td>\n",
              "      <td>679.96</td>\n",
              "      <td>638.06</td>\n",
              "      <td>674.90</td>\n",
              "      <td>29634500.0</td>\n",
              "      <td>0.0</td>\n",
              "      <td>0.0</td>\n",
              "      <td>2.593000e+09</td>\n",
              "      <td>6.343000e+09</td>\n",
              "      <td>...</td>\n",
              "      <td>2.973200e+10</td>\n",
              "      <td>1.986000e+09</td>\n",
              "      <td>4.285000e+09</td>\n",
              "      <td>5.757000e+09</td>\n",
              "      <td>1.002500e+10</td>\n",
              "      <td>1</td>\n",
              "      <td>0.075230</td>\n",
              "      <td>0.078415</td>\n",
              "      <td>0.846355</td>\n",
              "      <td>0</td>\n",
              "    </tr>\n",
              "    <tr>\n",
              "      <th>751</th>\n",
              "      <td>2022-05-24</td>\n",
              "      <td>653.53</td>\n",
              "      <td>653.92</td>\n",
              "      <td>620.57</td>\n",
              "      <td>628.16</td>\n",
              "      <td>29697500.0</td>\n",
              "      <td>0.0</td>\n",
              "      <td>0.0</td>\n",
              "      <td>2.593000e+09</td>\n",
              "      <td>6.343000e+09</td>\n",
              "      <td>...</td>\n",
              "      <td>2.973200e+10</td>\n",
              "      <td>1.986000e+09</td>\n",
              "      <td>4.285000e+09</td>\n",
              "      <td>5.757000e+09</td>\n",
              "      <td>1.002500e+10</td>\n",
              "      <td>0</td>\n",
              "      <td>0.085092</td>\n",
              "      <td>0.116204</td>\n",
              "      <td>0.798704</td>\n",
              "      <td>0</td>\n",
              "    </tr>\n",
              "    <tr>\n",
              "      <th>752</th>\n",
              "      <td>2022-05-25</td>\n",
              "      <td>623.85</td>\n",
              "      <td>669.32</td>\n",
              "      <td>623.01</td>\n",
              "      <td>658.80</td>\n",
              "      <td>30713100.0</td>\n",
              "      <td>0.0</td>\n",
              "      <td>0.0</td>\n",
              "      <td>2.593000e+09</td>\n",
              "      <td>6.343000e+09</td>\n",
              "      <td>...</td>\n",
              "      <td>2.973200e+10</td>\n",
              "      <td>1.986000e+09</td>\n",
              "      <td>4.285000e+09</td>\n",
              "      <td>5.757000e+09</td>\n",
              "      <td>1.002500e+10</td>\n",
              "      <td>1</td>\n",
              "      <td>0.091825</td>\n",
              "      <td>0.080255</td>\n",
              "      <td>0.827920</td>\n",
              "      <td>1</td>\n",
              "    </tr>\n",
              "  </tbody>\n",
              "</table>\n",
              "<p>753 rows × 54 columns</p>\n",
              "</div>\n",
              "      <button class=\"colab-df-convert\" onclick=\"convertToInteractive('df-f4611997-89fe-445a-a13b-fd0264a15839')\"\n",
              "              title=\"Convert this dataframe to an interactive table.\"\n",
              "              style=\"display:none;\">\n",
              "        \n",
              "  <svg xmlns=\"http://www.w3.org/2000/svg\" height=\"24px\"viewBox=\"0 0 24 24\"\n",
              "       width=\"24px\">\n",
              "    <path d=\"M0 0h24v24H0V0z\" fill=\"none\"/>\n",
              "    <path d=\"M18.56 5.44l.94 2.06.94-2.06 2.06-.94-2.06-.94-.94-2.06-.94 2.06-2.06.94zm-11 1L8.5 8.5l.94-2.06 2.06-.94-2.06-.94L8.5 2.5l-.94 2.06-2.06.94zm10 10l.94 2.06.94-2.06 2.06-.94-2.06-.94-.94-2.06-.94 2.06-2.06.94z\"/><path d=\"M17.41 7.96l-1.37-1.37c-.4-.4-.92-.59-1.43-.59-.52 0-1.04.2-1.43.59L10.3 9.45l-7.72 7.72c-.78.78-.78 2.05 0 2.83L4 21.41c.39.39.9.59 1.41.59.51 0 1.02-.2 1.41-.59l7.78-7.78 2.81-2.81c.8-.78.8-2.07 0-2.86zM5.41 20L4 18.59l7.72-7.72 1.47 1.35L5.41 20z\"/>\n",
              "  </svg>\n",
              "      </button>\n",
              "      \n",
              "  <style>\n",
              "    .colab-df-container {\n",
              "      display:flex;\n",
              "      flex-wrap:wrap;\n",
              "      gap: 12px;\n",
              "    }\n",
              "\n",
              "    .colab-df-convert {\n",
              "      background-color: #E8F0FE;\n",
              "      border: none;\n",
              "      border-radius: 50%;\n",
              "      cursor: pointer;\n",
              "      display: none;\n",
              "      fill: #1967D2;\n",
              "      height: 32px;\n",
              "      padding: 0 0 0 0;\n",
              "      width: 32px;\n",
              "    }\n",
              "\n",
              "    .colab-df-convert:hover {\n",
              "      background-color: #E2EBFA;\n",
              "      box-shadow: 0px 1px 2px rgba(60, 64, 67, 0.3), 0px 1px 3px 1px rgba(60, 64, 67, 0.15);\n",
              "      fill: #174EA6;\n",
              "    }\n",
              "\n",
              "    [theme=dark] .colab-df-convert {\n",
              "      background-color: #3B4455;\n",
              "      fill: #D2E3FC;\n",
              "    }\n",
              "\n",
              "    [theme=dark] .colab-df-convert:hover {\n",
              "      background-color: #434B5C;\n",
              "      box-shadow: 0px 1px 3px 1px rgba(0, 0, 0, 0.15);\n",
              "      filter: drop-shadow(0px 1px 2px rgba(0, 0, 0, 0.3));\n",
              "      fill: #FFFFFF;\n",
              "    }\n",
              "  </style>\n",
              "\n",
              "      <script>\n",
              "        const buttonEl =\n",
              "          document.querySelector('#df-f4611997-89fe-445a-a13b-fd0264a15839 button.colab-df-convert');\n",
              "        buttonEl.style.display =\n",
              "          google.colab.kernel.accessAllowed ? 'block' : 'none';\n",
              "\n",
              "        async function convertToInteractive(key) {\n",
              "          const element = document.querySelector('#df-f4611997-89fe-445a-a13b-fd0264a15839');\n",
              "          const dataTable =\n",
              "            await google.colab.kernel.invokeFunction('convertToInteractive',\n",
              "                                                     [key], {});\n",
              "          if (!dataTable) return;\n",
              "\n",
              "          const docLinkHtml = 'Like what you see? Visit the ' +\n",
              "            '<a target=\"_blank\" href=https://colab.research.google.com/notebooks/data_table.ipynb>data table notebook</a>'\n",
              "            + ' to learn more about interactive tables.';\n",
              "          element.innerHTML = '';\n",
              "          dataTable['output_type'] = 'display_data';\n",
              "          await google.colab.output.renderOutput(dataTable, element);\n",
              "          const docLink = document.createElement('div');\n",
              "          docLink.innerHTML = docLinkHtml;\n",
              "          element.appendChild(docLink);\n",
              "        }\n",
              "      </script>\n",
              "    </div>\n",
              "  </div>\n",
              "  "
            ]
          },
          "metadata": {},
          "execution_count": 224
        }
      ]
    },
    {
      "cell_type": "code",
      "source": [
        "corr = df['Target'].corr(df['Label'])"
      ],
      "metadata": {
        "id": "K9syyjgkwGKq"
      },
      "execution_count": null,
      "outputs": []
    },
    {
      "cell_type": "code",
      "source": [
        "corr"
      ],
      "metadata": {
        "colab": {
          "base_uri": "https://localhost:8080/"
        },
        "id": "0MceKk8nwaGN",
        "outputId": "ceaee979-1f3e-4874-c33e-df6c482aed5f"
      },
      "execution_count": null,
      "outputs": [
        {
          "output_type": "execute_result",
          "data": {
            "text/plain": [
              "0.09949141772273362"
            ]
          },
          "metadata": {},
          "execution_count": 232
        }
      ]
    },
    {
      "cell_type": "code",
      "source": [
        ""
      ],
      "metadata": {
        "id": "QZSnQH0AwdIz"
      },
      "execution_count": null,
      "outputs": []
    }
  ]
}