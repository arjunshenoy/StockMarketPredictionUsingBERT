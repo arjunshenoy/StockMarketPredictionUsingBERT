{
  "cells": [
    {
      "cell_type": "code",
      "execution_count": null,
      "metadata": {
        "id": "1JYqS91rxjBe"
      },
      "outputs": [],
      "source": [
        "import pandas as pd"
      ]
    },
    {
      "cell_type": "code",
      "execution_count": null,
      "metadata": {
        "id": "7ZgwmvjMuzHp"
      },
      "outputs": [],
      "source": [
        "df = pd.read_csv('./analyst_ratings_processed.csv')"
      ]
    },
    {
      "cell_type": "code",
      "execution_count": null,
      "metadata": {
        "id": "E4qcBUkNzfyH"
      },
      "outputs": [],
      "source": [
        "df_fb = df[df['stock'] == 'TSLA']\n",
        "df_fb = df_fb[['title','date']]\n",
        "df_fb = df_fb.rename(columns={'title': 'headline'})"
      ]
    },
    {
      "cell_type": "code",
      "execution_count": null,
      "metadata": {
        "id": "dys4xkwR24aT",
        "colab": {
          "base_uri": "https://localhost:8080/"
        },
        "outputId": "de710d0f-6557-43d2-a9b1-7324efad5842"
      },
      "outputs": [
        {
          "output_type": "stream",
          "name": "stderr",
          "text": [
            "/usr/local/lib/python3.7/dist-packages/IPython/core/interactiveshell.py:2882: FutureWarning: The error_bad_lines argument has been deprecated and will be removed in a future version.\n",
            "\n",
            "\n",
            "  exec(code_obj, self.user_global_ns, self.user_ns)\n"
          ]
        }
      ],
      "source": [
        "df_ratings = pd.read_csv('./raw_analyst_ratings.csv' ,error_bad_lines=False, engine='python')"
      ]
    },
    {
      "cell_type": "code",
      "execution_count": null,
      "metadata": {
        "id": "ckIba0rv4FpW"
      },
      "outputs": [],
      "source": [
        "df_ratings_fb=df_ratings[df_ratings['stock']=='TSLA']"
      ]
    },
    {
      "cell_type": "code",
      "execution_count": null,
      "metadata": {
        "colab": {
          "base_uri": "https://localhost:8080/",
          "height": 424
        },
        "id": "Q8WC80vn4aQR",
        "outputId": "c1d06163-d6a0-4b29-e98b-dd2b6392f52a"
      },
      "outputs": [
        {
          "output_type": "execute_result",
          "data": {
            "text/plain": [
              "                                                  headline  \\\n",
              "1255221  Tesla's Stock Closes At All-Time High As Musk ...   \n",
              "1255222  'Tesla factory workplace safety is 5% better t...   \n",
              "1255223  'Tesla hacker unlocks Performance upgrade and ...   \n",
              "1255224  GM On Track To Spend $20B On EV And AV Develop...   \n",
              "1255225                  Tesla's Journey To $1,000 In 2020   \n",
              "...                                                    ...   \n",
              "1257091   Electrek.Co Tweet: Tesla's head of Europe is out   \n",
              "1257092  Tesla's Q2 Delivery Number Could Cause A Big Move   \n",
              "1257093  'Tesla Electric Airplane? Elon Musk sees elect...   \n",
              "1257094  UPDATE: JMP Reiterates Outperform, $347 Target...   \n",
              "1257095  Tesla shares are trading higher after JMP Secu...   \n",
              "\n",
              "                              date  \n",
              "1255221  2020-06-10 17:02:47-04:00  \n",
              "1255222  2020-06-10 15:08:09-04:00  \n",
              "1255223  2020-06-10 12:41:58-04:00  \n",
              "1255224  2020-06-10 11:33:18-04:00  \n",
              "1255225  2020-06-10 10:15:07-04:00  \n",
              "...                            ...  \n",
              "1257091        2019-07-02 00:00:00  \n",
              "1257092        2019-07-01 00:00:00  \n",
              "1257093        2019-07-01 00:00:00  \n",
              "1257094        2019-07-01 00:00:00  \n",
              "1257095        2019-07-01 00:00:00  \n",
              "\n",
              "[1875 rows x 2 columns]"
            ],
            "text/html": [
              "\n",
              "  <div id=\"df-ed8156d2-4842-44c1-94db-32f476c6c282\">\n",
              "    <div class=\"colab-df-container\">\n",
              "      <div>\n",
              "<style scoped>\n",
              "    .dataframe tbody tr th:only-of-type {\n",
              "        vertical-align: middle;\n",
              "    }\n",
              "\n",
              "    .dataframe tbody tr th {\n",
              "        vertical-align: top;\n",
              "    }\n",
              "\n",
              "    .dataframe thead th {\n",
              "        text-align: right;\n",
              "    }\n",
              "</style>\n",
              "<table border=\"1\" class=\"dataframe\">\n",
              "  <thead>\n",
              "    <tr style=\"text-align: right;\">\n",
              "      <th></th>\n",
              "      <th>headline</th>\n",
              "      <th>date</th>\n",
              "    </tr>\n",
              "  </thead>\n",
              "  <tbody>\n",
              "    <tr>\n",
              "      <th>1255221</th>\n",
              "      <td>Tesla's Stock Closes At All-Time High As Musk ...</td>\n",
              "      <td>2020-06-10 17:02:47-04:00</td>\n",
              "    </tr>\n",
              "    <tr>\n",
              "      <th>1255222</th>\n",
              "      <td>'Tesla factory workplace safety is 5% better t...</td>\n",
              "      <td>2020-06-10 15:08:09-04:00</td>\n",
              "    </tr>\n",
              "    <tr>\n",
              "      <th>1255223</th>\n",
              "      <td>'Tesla hacker unlocks Performance upgrade and ...</td>\n",
              "      <td>2020-06-10 12:41:58-04:00</td>\n",
              "    </tr>\n",
              "    <tr>\n",
              "      <th>1255224</th>\n",
              "      <td>GM On Track To Spend $20B On EV And AV Develop...</td>\n",
              "      <td>2020-06-10 11:33:18-04:00</td>\n",
              "    </tr>\n",
              "    <tr>\n",
              "      <th>1255225</th>\n",
              "      <td>Tesla's Journey To $1,000 In 2020</td>\n",
              "      <td>2020-06-10 10:15:07-04:00</td>\n",
              "    </tr>\n",
              "    <tr>\n",
              "      <th>...</th>\n",
              "      <td>...</td>\n",
              "      <td>...</td>\n",
              "    </tr>\n",
              "    <tr>\n",
              "      <th>1257091</th>\n",
              "      <td>Electrek.Co Tweet: Tesla's head of Europe is out</td>\n",
              "      <td>2019-07-02 00:00:00</td>\n",
              "    </tr>\n",
              "    <tr>\n",
              "      <th>1257092</th>\n",
              "      <td>Tesla's Q2 Delivery Number Could Cause A Big Move</td>\n",
              "      <td>2019-07-01 00:00:00</td>\n",
              "    </tr>\n",
              "    <tr>\n",
              "      <th>1257093</th>\n",
              "      <td>'Tesla Electric Airplane? Elon Musk sees elect...</td>\n",
              "      <td>2019-07-01 00:00:00</td>\n",
              "    </tr>\n",
              "    <tr>\n",
              "      <th>1257094</th>\n",
              "      <td>UPDATE: JMP Reiterates Outperform, $347 Target...</td>\n",
              "      <td>2019-07-01 00:00:00</td>\n",
              "    </tr>\n",
              "    <tr>\n",
              "      <th>1257095</th>\n",
              "      <td>Tesla shares are trading higher after JMP Secu...</td>\n",
              "      <td>2019-07-01 00:00:00</td>\n",
              "    </tr>\n",
              "  </tbody>\n",
              "</table>\n",
              "<p>1875 rows × 2 columns</p>\n",
              "</div>\n",
              "      <button class=\"colab-df-convert\" onclick=\"convertToInteractive('df-ed8156d2-4842-44c1-94db-32f476c6c282')\"\n",
              "              title=\"Convert this dataframe to an interactive table.\"\n",
              "              style=\"display:none;\">\n",
              "        \n",
              "  <svg xmlns=\"http://www.w3.org/2000/svg\" height=\"24px\"viewBox=\"0 0 24 24\"\n",
              "       width=\"24px\">\n",
              "    <path d=\"M0 0h24v24H0V0z\" fill=\"none\"/>\n",
              "    <path d=\"M18.56 5.44l.94 2.06.94-2.06 2.06-.94-2.06-.94-.94-2.06-.94 2.06-2.06.94zm-11 1L8.5 8.5l.94-2.06 2.06-.94-2.06-.94L8.5 2.5l-.94 2.06-2.06.94zm10 10l.94 2.06.94-2.06 2.06-.94-2.06-.94-.94-2.06-.94 2.06-2.06.94z\"/><path d=\"M17.41 7.96l-1.37-1.37c-.4-.4-.92-.59-1.43-.59-.52 0-1.04.2-1.43.59L10.3 9.45l-7.72 7.72c-.78.78-.78 2.05 0 2.83L4 21.41c.39.39.9.59 1.41.59.51 0 1.02-.2 1.41-.59l7.78-7.78 2.81-2.81c.8-.78.8-2.07 0-2.86zM5.41 20L4 18.59l7.72-7.72 1.47 1.35L5.41 20z\"/>\n",
              "  </svg>\n",
              "      </button>\n",
              "      \n",
              "  <style>\n",
              "    .colab-df-container {\n",
              "      display:flex;\n",
              "      flex-wrap:wrap;\n",
              "      gap: 12px;\n",
              "    }\n",
              "\n",
              "    .colab-df-convert {\n",
              "      background-color: #E8F0FE;\n",
              "      border: none;\n",
              "      border-radius: 50%;\n",
              "      cursor: pointer;\n",
              "      display: none;\n",
              "      fill: #1967D2;\n",
              "      height: 32px;\n",
              "      padding: 0 0 0 0;\n",
              "      width: 32px;\n",
              "    }\n",
              "\n",
              "    .colab-df-convert:hover {\n",
              "      background-color: #E2EBFA;\n",
              "      box-shadow: 0px 1px 2px rgba(60, 64, 67, 0.3), 0px 1px 3px 1px rgba(60, 64, 67, 0.15);\n",
              "      fill: #174EA6;\n",
              "    }\n",
              "\n",
              "    [theme=dark] .colab-df-convert {\n",
              "      background-color: #3B4455;\n",
              "      fill: #D2E3FC;\n",
              "    }\n",
              "\n",
              "    [theme=dark] .colab-df-convert:hover {\n",
              "      background-color: #434B5C;\n",
              "      box-shadow: 0px 1px 3px 1px rgba(0, 0, 0, 0.15);\n",
              "      filter: drop-shadow(0px 1px 2px rgba(0, 0, 0, 0.3));\n",
              "      fill: #FFFFFF;\n",
              "    }\n",
              "  </style>\n",
              "\n",
              "      <script>\n",
              "        const buttonEl =\n",
              "          document.querySelector('#df-ed8156d2-4842-44c1-94db-32f476c6c282 button.colab-df-convert');\n",
              "        buttonEl.style.display =\n",
              "          google.colab.kernel.accessAllowed ? 'block' : 'none';\n",
              "\n",
              "        async function convertToInteractive(key) {\n",
              "          const element = document.querySelector('#df-ed8156d2-4842-44c1-94db-32f476c6c282');\n",
              "          const dataTable =\n",
              "            await google.colab.kernel.invokeFunction('convertToInteractive',\n",
              "                                                     [key], {});\n",
              "          if (!dataTable) return;\n",
              "\n",
              "          const docLinkHtml = 'Like what you see? Visit the ' +\n",
              "            '<a target=\"_blank\" href=https://colab.research.google.com/notebooks/data_table.ipynb>data table notebook</a>'\n",
              "            + ' to learn more about interactive tables.';\n",
              "          element.innerHTML = '';\n",
              "          dataTable['output_type'] = 'display_data';\n",
              "          await google.colab.output.renderOutput(dataTable, element);\n",
              "          const docLink = document.createElement('div');\n",
              "          docLink.innerHTML = docLinkHtml;\n",
              "          element.appendChild(docLink);\n",
              "        }\n",
              "      </script>\n",
              "    </div>\n",
              "  </div>\n",
              "  "
            ]
          },
          "metadata": {},
          "execution_count": 12
        }
      ],
      "source": [
        "df_ratings_fb = df_ratings_fb[['headline','date']]\n",
        "df_ratings_fb"
      ]
    },
    {
      "cell_type": "code",
      "execution_count": null,
      "metadata": {
        "id": "9Bu7qc4D5Ccu",
        "colab": {
          "base_uri": "https://localhost:8080/"
        },
        "outputId": "af200b3b-da7e-4287-c1b6-b7acddf65a53"
      },
      "outputs": [
        {
          "output_type": "stream",
          "name": "stderr",
          "text": [
            "/usr/local/lib/python3.7/dist-packages/IPython/core/interactiveshell.py:2882: FutureWarning: The error_bad_lines argument has been deprecated and will be removed in a future version.\n",
            "\n",
            "\n",
            "  exec(code_obj, self.user_global_ns, self.user_ns)\n"
          ]
        }
      ],
      "source": [
        "df_partrner = pd.read_csv('./raw_partner_headlines.csv',error_bad_lines=False, engine='python')"
      ]
    },
    {
      "cell_type": "code",
      "execution_count": null,
      "metadata": {
        "id": "AiRbHuCK5d-K"
      },
      "outputs": [],
      "source": [
        "df_fb_partner =  df_partrner[df_partrner['stock'] =='TSLA']"
      ]
    },
    {
      "cell_type": "code",
      "execution_count": null,
      "metadata": {
        "id": "WKwh8zHS5x6k"
      },
      "outputs": [],
      "source": [
        "df_fb_partner =  df_fb_partner[['headline','date']]"
      ]
    },
    {
      "cell_type": "code",
      "execution_count": null,
      "metadata": {
        "id": "1kXZ9cNr50HW"
      },
      "outputs": [],
      "source": [
        "df1 = df_fb.append(df_ratings_fb,ignore_index=True)"
      ]
    },
    {
      "cell_type": "code",
      "execution_count": null,
      "metadata": {
        "id": "jAjVHi-b-lnx"
      },
      "outputs": [],
      "source": [
        "df1 = df1.append(df_fb_partner)"
      ]
    },
    {
      "cell_type": "code",
      "execution_count": null,
      "metadata": {
        "id": "xJf9Tau3HAut"
      },
      "outputs": [],
      "source": [
        "from numpy import exp\n",
        "import datetime\n",
        "def filterDate(row):\n",
        "  #try:\n",
        "  date_extracted = str(row.date).split()[0]\n",
        "  row.date=datetime.datetime.strptime(date_extracted+ ' 00:00:00', '%Y-%m-%d %H:%M:%S')\n",
        "  return row"
      ]
    },
    {
      "cell_type": "code",
      "execution_count": null,
      "metadata": {
        "id": "1KQdPev78VbU"
      },
      "outputs": [],
      "source": [
        "df1=df1.apply(filterDate, axis=1)"
      ]
    },
    {
      "cell_type": "markdown",
      "metadata": {
        "id": "SCOy73v7KBiK"
      },
      "source": [
        "### Importing Comments from Reddit on Tesla Stock"
      ]
    },
    {
      "cell_type": "code",
      "execution_count": null,
      "metadata": {
        "id": "W3z41MhaKAYV",
        "colab": {
          "base_uri": "https://localhost:8080/"
        },
        "outputId": "8c8886f5-c95c-48d2-aaa6-c3910a551c94"
      },
      "outputs": [
        {
          "output_type": "stream",
          "name": "stderr",
          "text": [
            "/usr/local/lib/python3.7/dist-packages/IPython/core/interactiveshell.py:2882: FutureWarning: The error_bad_lines argument has been deprecated and will be removed in a future version.\n",
            "\n",
            "\n",
            "  exec(code_obj, self.user_global_ns, self.user_ns)\n"
          ]
        }
      ],
      "source": [
        "df_reditt = pd.read_csv('./one-year-of-tsla-on-reddit-comments.csv',error_bad_lines=False, engine='python')"
      ]
    },
    {
      "cell_type": "code",
      "execution_count": null,
      "metadata": {
        "id": "iF5GogCFni03"
      },
      "outputs": [],
      "source": [
        "import datetime\n",
        "def filter(row):\n",
        "  row.created_utc=datetime.datetime.fromtimestamp(row.created_utc)\n",
        "  return row\n",
        "df_reditt=df_reditt.apply(filter, axis=1)"
      ]
    },
    {
      "cell_type": "code",
      "execution_count": null,
      "metadata": {
        "id": "LqEXBXScowMQ"
      },
      "outputs": [],
      "source": [
        "df_reditt = df_reditt.rename(columns={'created_utc': 'date','body':'headline'})\n",
        "df_reditt = df_reditt[['headline','date']]"
      ]
    },
    {
      "cell_type": "code",
      "execution_count": null,
      "metadata": {
        "id": "VBRIEE_BO-3z"
      },
      "outputs": [],
      "source": [
        "df1 = df1.append(df_reditt)"
      ]
    },
    {
      "cell_type": "code",
      "execution_count": null,
      "metadata": {
        "id": "gRFnYSdM9r6s"
      },
      "outputs": [],
      "source": [
        "df1=df1.apply(filterDate, axis=1)"
      ]
    },
    {
      "cell_type": "code",
      "execution_count": null,
      "metadata": {
        "id": "E7ThVOUt9ZwD"
      },
      "outputs": [],
      "source": [
        "df1.sort_values(by='date', inplace=True)"
      ]
    },
    {
      "cell_type": "code",
      "source": [
        "df1"
      ],
      "metadata": {
        "colab": {
          "base_uri": "https://localhost:8080/",
          "height": 424
        },
        "id": "G_Q6tuj4ftty",
        "outputId": "69f973b8-1902-48aa-c938-1d12104f3189"
      },
      "execution_count": null,
      "outputs": [
        {
          "output_type": "execute_result",
          "data": {
            "text/plain": [
              "                                               headline       date\n",
              "1929  Tesla shares are trading higher after JMP Secu... 2019-07-01\n",
              "1926  Tesla's Q2 Delivery Number Could Cause A Big Move 2019-07-01\n",
              "1928  UPDATE: JMP Reiterates Outperform, $347 Target... 2019-07-01\n",
              "3801  Tesla's Q2 Delivery Number Could Cause A Big Move 2019-07-01\n",
              "1927  'Tesla Electric Airplane? Elon Musk sees elect... 2019-07-01\n",
              "...                                                 ...        ...\n",
              "105   Also, margin loans (against stocks) are signif... 2022-07-04\n",
              "104                                  Thoughts on $TSLA? 2022-07-04\n",
              "103                                        Tsla 2k 7/20 2022-07-04\n",
              "101   \"Hello. Your submission has been removed. Your... 2022-07-04\n",
              "162   I really believed in TSLA in 2013 ($7/share th... 2022-07-04\n",
              "\n",
              "[222550 rows x 2 columns]"
            ],
            "text/html": [
              "\n",
              "  <div id=\"df-a3b484b7-699d-41a5-85dc-35e35a161bd6\">\n",
              "    <div class=\"colab-df-container\">\n",
              "      <div>\n",
              "<style scoped>\n",
              "    .dataframe tbody tr th:only-of-type {\n",
              "        vertical-align: middle;\n",
              "    }\n",
              "\n",
              "    .dataframe tbody tr th {\n",
              "        vertical-align: top;\n",
              "    }\n",
              "\n",
              "    .dataframe thead th {\n",
              "        text-align: right;\n",
              "    }\n",
              "</style>\n",
              "<table border=\"1\" class=\"dataframe\">\n",
              "  <thead>\n",
              "    <tr style=\"text-align: right;\">\n",
              "      <th></th>\n",
              "      <th>headline</th>\n",
              "      <th>date</th>\n",
              "    </tr>\n",
              "  </thead>\n",
              "  <tbody>\n",
              "    <tr>\n",
              "      <th>1929</th>\n",
              "      <td>Tesla shares are trading higher after JMP Secu...</td>\n",
              "      <td>2019-07-01</td>\n",
              "    </tr>\n",
              "    <tr>\n",
              "      <th>1926</th>\n",
              "      <td>Tesla's Q2 Delivery Number Could Cause A Big Move</td>\n",
              "      <td>2019-07-01</td>\n",
              "    </tr>\n",
              "    <tr>\n",
              "      <th>1928</th>\n",
              "      <td>UPDATE: JMP Reiterates Outperform, $347 Target...</td>\n",
              "      <td>2019-07-01</td>\n",
              "    </tr>\n",
              "    <tr>\n",
              "      <th>3801</th>\n",
              "      <td>Tesla's Q2 Delivery Number Could Cause A Big Move</td>\n",
              "      <td>2019-07-01</td>\n",
              "    </tr>\n",
              "    <tr>\n",
              "      <th>1927</th>\n",
              "      <td>'Tesla Electric Airplane? Elon Musk sees elect...</td>\n",
              "      <td>2019-07-01</td>\n",
              "    </tr>\n",
              "    <tr>\n",
              "      <th>...</th>\n",
              "      <td>...</td>\n",
              "      <td>...</td>\n",
              "    </tr>\n",
              "    <tr>\n",
              "      <th>105</th>\n",
              "      <td>Also, margin loans (against stocks) are signif...</td>\n",
              "      <td>2022-07-04</td>\n",
              "    </tr>\n",
              "    <tr>\n",
              "      <th>104</th>\n",
              "      <td>Thoughts on $TSLA?</td>\n",
              "      <td>2022-07-04</td>\n",
              "    </tr>\n",
              "    <tr>\n",
              "      <th>103</th>\n",
              "      <td>Tsla 2k 7/20</td>\n",
              "      <td>2022-07-04</td>\n",
              "    </tr>\n",
              "    <tr>\n",
              "      <th>101</th>\n",
              "      <td>\"Hello. Your submission has been removed. Your...</td>\n",
              "      <td>2022-07-04</td>\n",
              "    </tr>\n",
              "    <tr>\n",
              "      <th>162</th>\n",
              "      <td>I really believed in TSLA in 2013 ($7/share th...</td>\n",
              "      <td>2022-07-04</td>\n",
              "    </tr>\n",
              "  </tbody>\n",
              "</table>\n",
              "<p>222550 rows × 2 columns</p>\n",
              "</div>\n",
              "      <button class=\"colab-df-convert\" onclick=\"convertToInteractive('df-a3b484b7-699d-41a5-85dc-35e35a161bd6')\"\n",
              "              title=\"Convert this dataframe to an interactive table.\"\n",
              "              style=\"display:none;\">\n",
              "        \n",
              "  <svg xmlns=\"http://www.w3.org/2000/svg\" height=\"24px\"viewBox=\"0 0 24 24\"\n",
              "       width=\"24px\">\n",
              "    <path d=\"M0 0h24v24H0V0z\" fill=\"none\"/>\n",
              "    <path d=\"M18.56 5.44l.94 2.06.94-2.06 2.06-.94-2.06-.94-.94-2.06-.94 2.06-2.06.94zm-11 1L8.5 8.5l.94-2.06 2.06-.94-2.06-.94L8.5 2.5l-.94 2.06-2.06.94zm10 10l.94 2.06.94-2.06 2.06-.94-2.06-.94-.94-2.06-.94 2.06-2.06.94z\"/><path d=\"M17.41 7.96l-1.37-1.37c-.4-.4-.92-.59-1.43-.59-.52 0-1.04.2-1.43.59L10.3 9.45l-7.72 7.72c-.78.78-.78 2.05 0 2.83L4 21.41c.39.39.9.59 1.41.59.51 0 1.02-.2 1.41-.59l7.78-7.78 2.81-2.81c.8-.78.8-2.07 0-2.86zM5.41 20L4 18.59l7.72-7.72 1.47 1.35L5.41 20z\"/>\n",
              "  </svg>\n",
              "      </button>\n",
              "      \n",
              "  <style>\n",
              "    .colab-df-container {\n",
              "      display:flex;\n",
              "      flex-wrap:wrap;\n",
              "      gap: 12px;\n",
              "    }\n",
              "\n",
              "    .colab-df-convert {\n",
              "      background-color: #E8F0FE;\n",
              "      border: none;\n",
              "      border-radius: 50%;\n",
              "      cursor: pointer;\n",
              "      display: none;\n",
              "      fill: #1967D2;\n",
              "      height: 32px;\n",
              "      padding: 0 0 0 0;\n",
              "      width: 32px;\n",
              "    }\n",
              "\n",
              "    .colab-df-convert:hover {\n",
              "      background-color: #E2EBFA;\n",
              "      box-shadow: 0px 1px 2px rgba(60, 64, 67, 0.3), 0px 1px 3px 1px rgba(60, 64, 67, 0.15);\n",
              "      fill: #174EA6;\n",
              "    }\n",
              "\n",
              "    [theme=dark] .colab-df-convert {\n",
              "      background-color: #3B4455;\n",
              "      fill: #D2E3FC;\n",
              "    }\n",
              "\n",
              "    [theme=dark] .colab-df-convert:hover {\n",
              "      background-color: #434B5C;\n",
              "      box-shadow: 0px 1px 3px 1px rgba(0, 0, 0, 0.15);\n",
              "      filter: drop-shadow(0px 1px 2px rgba(0, 0, 0, 0.3));\n",
              "      fill: #FFFFFF;\n",
              "    }\n",
              "  </style>\n",
              "\n",
              "      <script>\n",
              "        const buttonEl =\n",
              "          document.querySelector('#df-a3b484b7-699d-41a5-85dc-35e35a161bd6 button.colab-df-convert');\n",
              "        buttonEl.style.display =\n",
              "          google.colab.kernel.accessAllowed ? 'block' : 'none';\n",
              "\n",
              "        async function convertToInteractive(key) {\n",
              "          const element = document.querySelector('#df-a3b484b7-699d-41a5-85dc-35e35a161bd6');\n",
              "          const dataTable =\n",
              "            await google.colab.kernel.invokeFunction('convertToInteractive',\n",
              "                                                     [key], {});\n",
              "          if (!dataTable) return;\n",
              "\n",
              "          const docLinkHtml = 'Like what you see? Visit the ' +\n",
              "            '<a target=\"_blank\" href=https://colab.research.google.com/notebooks/data_table.ipynb>data table notebook</a>'\n",
              "            + ' to learn more about interactive tables.';\n",
              "          element.innerHTML = '';\n",
              "          dataTable['output_type'] = 'display_data';\n",
              "          await google.colab.output.renderOutput(dataTable, element);\n",
              "          const docLink = document.createElement('div');\n",
              "          docLink.innerHTML = docLinkHtml;\n",
              "          element.appendChild(docLink);\n",
              "        }\n",
              "      </script>\n",
              "    </div>\n",
              "  </div>\n",
              "  "
            ]
          },
          "metadata": {},
          "execution_count": 26
        }
      ]
    },
    {
      "cell_type": "markdown",
      "source": [
        "### Importing tweets by elon musk"
      ],
      "metadata": {
        "id": "fNY2oMiXMAVY"
      }
    },
    {
      "cell_type": "code",
      "execution_count": null,
      "metadata": {
        "id": "C0d07DNZq9qF"
      },
      "outputs": [],
      "source": [
        "\n",
        "def loadTweets():\n",
        "  appended_data = []\n",
        "  for i in range(0,3):\n",
        "    csv_file = './'+str(2020+i)+'.csv'\n",
        "    df = pd.read_csv(csv_file,error_bad_lines=False, engine='python')\n",
        "    appended_data.append(df)\n",
        "  appended_data = pd.concat(appended_data)\n",
        "  return appended_data"
      ]
    },
    {
      "cell_type": "code",
      "execution_count": null,
      "metadata": {
        "id": "g9qANGO8txAP",
        "colab": {
          "base_uri": "https://localhost:8080/"
        },
        "outputId": "bbbe4504-81d4-407f-d538-bace63d68d3b"
      },
      "outputs": [
        {
          "output_type": "stream",
          "name": "stderr",
          "text": [
            "/usr/local/lib/python3.7/dist-packages/ipykernel_launcher.py:1: FutureWarning: The error_bad_lines argument has been deprecated and will be removed in a future version.\n",
            "\n",
            "\n",
            "  \"\"\"Entry point for launching an IPython kernel.\n"
          ]
        }
      ],
      "source": [
        "df_main = loadTweets()"
      ]
    },
    {
      "cell_type": "code",
      "execution_count": null,
      "metadata": {
        "id": "cW8UNPZZtz3Y"
      },
      "outputs": [],
      "source": [
        "df_main = df_main[['date','tweet']]\n"
      ]
    },
    {
      "cell_type": "code",
      "execution_count": null,
      "metadata": {
        "id": "w9HxqmoIEM4a"
      },
      "outputs": [],
      "source": [
        "import datetime\n",
        "\n",
        "def filter(row):\n",
        "  #try:\n",
        "  date_extracted = str(row.date).split()[0]\n",
        "  row.date=datetime.datetime.strptime(date_extracted+ ' 00:00:00', '%d-%m-%Y %H:%M:%S')\n",
        "  return row\n",
        "df_main=df_main.apply(filter, axis=1)"
      ]
    },
    {
      "cell_type": "code",
      "execution_count": null,
      "metadata": {
        "id": "JRiVOYCtubjM"
      },
      "outputs": [],
      "source": [
        "df_main = df_main.rename(columns={'tweet':'headline'})"
      ]
    },
    {
      "cell_type": "code",
      "execution_count": null,
      "metadata": {
        "colab": {
          "base_uri": "https://localhost:8080/"
        },
        "id": "XH-9IHSX50hL",
        "outputId": "e0542b15-9e10-4acb-db6c-334d798ab1a7"
      },
      "outputs": [
        {
          "output_type": "execute_result",
          "data": {
            "text/plain": [
              "<bound method NDFrame.head of            date                                           headline\n",
              "0    2020-12-28  Entertainment will be critical when cars drive...\n",
              "1    2020-12-28  @kimpaquette Just meeting with Larry Ellison t...\n",
              "2    2020-12-28                        @richierichhhhh_ Absolutely\n",
              "3    2020-12-28  What should Tesla do with in-car gaming in an ...\n",
              "4    2020-12-28                          @PPathole @WSJ Absolutely\n",
              "...         ...                                                ...\n",
              "1023 2022-01-03                            https://t.co/LA9hPzVlGx\n",
              "1024 2022-01-02                Let’s make the roaring 20’s happen!\n",
              "1025 2022-01-02                Great work by Tesla team worldwide!\n",
              "1026 2022-01-01                                  @BLKMDL3 @Tesla 🔥\n",
              "1027 2022-01-01                  @MiFSDBetaTester @WholeMarsBlog 🤣\n",
              "\n",
              "[12693 rows x 2 columns]>"
            ]
          },
          "metadata": {},
          "execution_count": 32
        }
      ],
      "source": [
        "df_main.head"
      ]
    },
    {
      "cell_type": "code",
      "execution_count": null,
      "metadata": {
        "colab": {
          "base_uri": "https://localhost:8080/"
        },
        "id": "ejDU3YmX50Vd",
        "outputId": "9ebaf722-82e0-49c6-f971-7ad63bd671ac"
      },
      "outputs": [
        {
          "output_type": "execute_result",
          "data": {
            "text/plain": [
              "<bound method NDFrame.tail of            date                                           headline\n",
              "0    2020-12-28  Entertainment will be critical when cars drive...\n",
              "1    2020-12-28  @kimpaquette Just meeting with Larry Ellison t...\n",
              "2    2020-12-28                        @richierichhhhh_ Absolutely\n",
              "3    2020-12-28  What should Tesla do with in-car gaming in an ...\n",
              "4    2020-12-28                          @PPathole @WSJ Absolutely\n",
              "...         ...                                                ...\n",
              "1023 2022-01-03                            https://t.co/LA9hPzVlGx\n",
              "1024 2022-01-02                Let’s make the roaring 20’s happen!\n",
              "1025 2022-01-02                Great work by Tesla team worldwide!\n",
              "1026 2022-01-01                                  @BLKMDL3 @Tesla 🔥\n",
              "1027 2022-01-01                  @MiFSDBetaTester @WholeMarsBlog 🤣\n",
              "\n",
              "[12693 rows x 2 columns]>"
            ]
          },
          "metadata": {},
          "execution_count": 33
        }
      ],
      "source": [
        "df_main.tail"
      ]
    },
    {
      "cell_type": "code",
      "execution_count": null,
      "metadata": {
        "id": "Bsdl2yuhE9Pi"
      },
      "outputs": [],
      "source": [
        "df_main = df_main.append(df1)\n",
        "df_main.sort_values(by='date', inplace=True)\n",
        "\n"
      ]
    },
    {
      "cell_type": "code",
      "source": [
        "import datetime\n",
        "import re\n",
        "def filterUrls(row):\n",
        "  row.headline=re.sub(r'^https?:\\/\\/.*[\\r\\n]*', '', row.headline, flags=re.MULTILINE)\n",
        "  return row\n",
        "df_main=df_main.apply(filterUrls, axis=1)"
      ],
      "metadata": {
        "id": "JzVoIEFELdAj"
      },
      "execution_count": null,
      "outputs": []
    },
    {
      "cell_type": "code",
      "source": [
        "df_main"
      ],
      "metadata": {
        "colab": {
          "base_uri": "https://localhost:8080/",
          "height": 424
        },
        "id": "En1O1rRPLZBU",
        "outputId": "3728087a-c8f8-4a43-819b-885ac3a9f668"
      },
      "execution_count": null,
      "outputs": [
        {
          "output_type": "execute_result",
          "data": {
            "text/plain": [
              "           date                                           headline\n",
              "8549 2018-01-03  Come work at the biggest &amp; most advanced f...\n",
              "8548 2018-01-03  Using a neural net to detect rain using camera...\n",
              "8547 2018-01-05  Falcon Heavy goes vertical  https://t.co/uG1k0...\n",
              "8546 2018-01-05                            https://t.co/3k71xzDIP1\n",
              "8543 2018-01-07  @yoda Of course. And an outdoor screen that pl...\n",
              "...         ...                                                ...\n",
              "0    2022-07-04  When TSLA was at 1K share price :\\n\\n8B sales/...\n",
              "78   2022-07-04  FSD was supposed to be here already years ago ...\n",
              "6    2022-07-04  All these $TSLA hit pieces sure make me want t...\n",
              "18   2022-07-04  **Ban Bet Created:** **/u/Zestyclose-Zebra-** ...\n",
              "162  2022-07-04  I really believed in TSLA in 2013 ($7/share th...\n",
              "\n",
              "[235243 rows x 2 columns]"
            ],
            "text/html": [
              "\n",
              "  <div id=\"df-68d4b49c-ff44-437f-a247-f6ab45eb5675\">\n",
              "    <div class=\"colab-df-container\">\n",
              "      <div>\n",
              "<style scoped>\n",
              "    .dataframe tbody tr th:only-of-type {\n",
              "        vertical-align: middle;\n",
              "    }\n",
              "\n",
              "    .dataframe tbody tr th {\n",
              "        vertical-align: top;\n",
              "    }\n",
              "\n",
              "    .dataframe thead th {\n",
              "        text-align: right;\n",
              "    }\n",
              "</style>\n",
              "<table border=\"1\" class=\"dataframe\">\n",
              "  <thead>\n",
              "    <tr style=\"text-align: right;\">\n",
              "      <th></th>\n",
              "      <th>date</th>\n",
              "      <th>headline</th>\n",
              "    </tr>\n",
              "  </thead>\n",
              "  <tbody>\n",
              "    <tr>\n",
              "      <th>8549</th>\n",
              "      <td>2018-01-03</td>\n",
              "      <td>Come work at the biggest &amp;amp; most advanced f...</td>\n",
              "    </tr>\n",
              "    <tr>\n",
              "      <th>8548</th>\n",
              "      <td>2018-01-03</td>\n",
              "      <td>Using a neural net to detect rain using camera...</td>\n",
              "    </tr>\n",
              "    <tr>\n",
              "      <th>8547</th>\n",
              "      <td>2018-01-05</td>\n",
              "      <td>Falcon Heavy goes vertical  https://t.co/uG1k0...</td>\n",
              "    </tr>\n",
              "    <tr>\n",
              "      <th>8546</th>\n",
              "      <td>2018-01-05</td>\n",
              "      <td>https://t.co/3k71xzDIP1</td>\n",
              "    </tr>\n",
              "    <tr>\n",
              "      <th>8543</th>\n",
              "      <td>2018-01-07</td>\n",
              "      <td>@yoda Of course. And an outdoor screen that pl...</td>\n",
              "    </tr>\n",
              "    <tr>\n",
              "      <th>...</th>\n",
              "      <td>...</td>\n",
              "      <td>...</td>\n",
              "    </tr>\n",
              "    <tr>\n",
              "      <th>0</th>\n",
              "      <td>2022-07-04</td>\n",
              "      <td>When TSLA was at 1K share price :\\n\\n8B sales/...</td>\n",
              "    </tr>\n",
              "    <tr>\n",
              "      <th>78</th>\n",
              "      <td>2022-07-04</td>\n",
              "      <td>FSD was supposed to be here already years ago ...</td>\n",
              "    </tr>\n",
              "    <tr>\n",
              "      <th>6</th>\n",
              "      <td>2022-07-04</td>\n",
              "      <td>All these $TSLA hit pieces sure make me want t...</td>\n",
              "    </tr>\n",
              "    <tr>\n",
              "      <th>18</th>\n",
              "      <td>2022-07-04</td>\n",
              "      <td>**Ban Bet Created:** **/u/Zestyclose-Zebra-** ...</td>\n",
              "    </tr>\n",
              "    <tr>\n",
              "      <th>162</th>\n",
              "      <td>2022-07-04</td>\n",
              "      <td>I really believed in TSLA in 2013 ($7/share th...</td>\n",
              "    </tr>\n",
              "  </tbody>\n",
              "</table>\n",
              "<p>235243 rows × 2 columns</p>\n",
              "</div>\n",
              "      <button class=\"colab-df-convert\" onclick=\"convertToInteractive('df-68d4b49c-ff44-437f-a247-f6ab45eb5675')\"\n",
              "              title=\"Convert this dataframe to an interactive table.\"\n",
              "              style=\"display:none;\">\n",
              "        \n",
              "  <svg xmlns=\"http://www.w3.org/2000/svg\" height=\"24px\"viewBox=\"0 0 24 24\"\n",
              "       width=\"24px\">\n",
              "    <path d=\"M0 0h24v24H0V0z\" fill=\"none\"/>\n",
              "    <path d=\"M18.56 5.44l.94 2.06.94-2.06 2.06-.94-2.06-.94-.94-2.06-.94 2.06-2.06.94zm-11 1L8.5 8.5l.94-2.06 2.06-.94-2.06-.94L8.5 2.5l-.94 2.06-2.06.94zm10 10l.94 2.06.94-2.06 2.06-.94-2.06-.94-.94-2.06-.94 2.06-2.06.94z\"/><path d=\"M17.41 7.96l-1.37-1.37c-.4-.4-.92-.59-1.43-.59-.52 0-1.04.2-1.43.59L10.3 9.45l-7.72 7.72c-.78.78-.78 2.05 0 2.83L4 21.41c.39.39.9.59 1.41.59.51 0 1.02-.2 1.41-.59l7.78-7.78 2.81-2.81c.8-.78.8-2.07 0-2.86zM5.41 20L4 18.59l7.72-7.72 1.47 1.35L5.41 20z\"/>\n",
              "  </svg>\n",
              "      </button>\n",
              "      \n",
              "  <style>\n",
              "    .colab-df-container {\n",
              "      display:flex;\n",
              "      flex-wrap:wrap;\n",
              "      gap: 12px;\n",
              "    }\n",
              "\n",
              "    .colab-df-convert {\n",
              "      background-color: #E8F0FE;\n",
              "      border: none;\n",
              "      border-radius: 50%;\n",
              "      cursor: pointer;\n",
              "      display: none;\n",
              "      fill: #1967D2;\n",
              "      height: 32px;\n",
              "      padding: 0 0 0 0;\n",
              "      width: 32px;\n",
              "    }\n",
              "\n",
              "    .colab-df-convert:hover {\n",
              "      background-color: #E2EBFA;\n",
              "      box-shadow: 0px 1px 2px rgba(60, 64, 67, 0.3), 0px 1px 3px 1px rgba(60, 64, 67, 0.15);\n",
              "      fill: #174EA6;\n",
              "    }\n",
              "\n",
              "    [theme=dark] .colab-df-convert {\n",
              "      background-color: #3B4455;\n",
              "      fill: #D2E3FC;\n",
              "    }\n",
              "\n",
              "    [theme=dark] .colab-df-convert:hover {\n",
              "      background-color: #434B5C;\n",
              "      box-shadow: 0px 1px 3px 1px rgba(0, 0, 0, 0.15);\n",
              "      filter: drop-shadow(0px 1px 2px rgba(0, 0, 0, 0.3));\n",
              "      fill: #FFFFFF;\n",
              "    }\n",
              "  </style>\n",
              "\n",
              "      <script>\n",
              "        const buttonEl =\n",
              "          document.querySelector('#df-68d4b49c-ff44-437f-a247-f6ab45eb5675 button.colab-df-convert');\n",
              "        buttonEl.style.display =\n",
              "          google.colab.kernel.accessAllowed ? 'block' : 'none';\n",
              "\n",
              "        async function convertToInteractive(key) {\n",
              "          const element = document.querySelector('#df-68d4b49c-ff44-437f-a247-f6ab45eb5675');\n",
              "          const dataTable =\n",
              "            await google.colab.kernel.invokeFunction('convertToInteractive',\n",
              "                                                     [key], {});\n",
              "          if (!dataTable) return;\n",
              "\n",
              "          const docLinkHtml = 'Like what you see? Visit the ' +\n",
              "            '<a target=\"_blank\" href=https://colab.research.google.com/notebooks/data_table.ipynb>data table notebook</a>'\n",
              "            + ' to learn more about interactive tables.';\n",
              "          element.innerHTML = '';\n",
              "          dataTable['output_type'] = 'display_data';\n",
              "          await google.colab.output.renderOutput(dataTable, element);\n",
              "          const docLink = document.createElement('div');\n",
              "          docLink.innerHTML = docLinkHtml;\n",
              "          element.appendChild(docLink);\n",
              "        }\n",
              "      </script>\n",
              "    </div>\n",
              "  </div>\n",
              "  "
            ]
          },
          "metadata": {},
          "execution_count": 36
        }
      ]
    },
    {
      "cell_type": "code",
      "execution_count": null,
      "metadata": {
        "id": "UlxQNTqOylK6",
        "colab": {
          "base_uri": "https://localhost:8080/"
        },
        "outputId": "e95c5190-6b88-4339-c2a6-0546c114ac65"
      },
      "outputs": [
        {
          "output_type": "stream",
          "name": "stderr",
          "text": [
            "/usr/local/lib/python3.7/dist-packages/pandas/util/_decorators.py:311: SettingWithCopyWarning: \n",
            "A value is trying to be set on a copy of a slice from a DataFrame\n",
            "\n",
            "See the caveats in the documentation: https://pandas.pydata.org/pandas-docs/stable/user_guide/indexing.html#returning-a-view-versus-a-copy\n",
            "  return func(*args, **kwargs)\n"
          ]
        }
      ],
      "source": [
        "df_mainfiltered =  df_main[df_main['headline'].str.contains(\"tesla | stock |TSLA  | stockmarket | investing | profit | loss | NYSE | NASDAQ | ELONMUSK | stockmarket | price\", case=False, flags=re.IGNORECASE,  na=False, regex=True)]\n",
        "df_mainfiltered.sort_values(by='date', inplace=True)"
      ]
    },
    {
      "cell_type": "code",
      "execution_count": null,
      "metadata": {
        "colab": {
          "base_uri": "https://localhost:8080/",
          "height": 424
        },
        "id": "jjfClaugOBX8",
        "outputId": "7fdd00a8-af2d-47cd-aa73-36b97fe6bae9"
      },
      "outputs": [
        {
          "output_type": "execute_result",
          "data": {
            "text/plain": [
              "           date                                           headline\n",
              "8549 2018-01-03  Come work at the biggest &amp; most advanced f...\n",
              "8548 2018-01-03  Using a neural net to detect rain using camera...\n",
              "8547 2018-01-05  Falcon Heavy goes vertical  https://t.co/uG1k0...\n",
              "8546 2018-01-05                            https://t.co/3k71xzDIP1\n",
              "8543 2018-01-07  @yoda Of course. And an outdoor screen that pl...\n",
              "...         ...                                                ...\n",
              "0    2022-07-04  When TSLA was at 1K share price :\\n\\n8B sales/...\n",
              "78   2022-07-04  FSD was supposed to be here already years ago ...\n",
              "6    2022-07-04  All these $TSLA hit pieces sure make me want t...\n",
              "18   2022-07-04  **Ban Bet Created:** **/u/Zestyclose-Zebra-** ...\n",
              "162  2022-07-04  I really believed in TSLA in 2013 ($7/share th...\n",
              "\n",
              "[235243 rows x 2 columns]"
            ],
            "text/html": [
              "\n",
              "  <div id=\"df-c60f0765-d7f6-456d-9865-cd18e9649e41\">\n",
              "    <div class=\"colab-df-container\">\n",
              "      <div>\n",
              "<style scoped>\n",
              "    .dataframe tbody tr th:only-of-type {\n",
              "        vertical-align: middle;\n",
              "    }\n",
              "\n",
              "    .dataframe tbody tr th {\n",
              "        vertical-align: top;\n",
              "    }\n",
              "\n",
              "    .dataframe thead th {\n",
              "        text-align: right;\n",
              "    }\n",
              "</style>\n",
              "<table border=\"1\" class=\"dataframe\">\n",
              "  <thead>\n",
              "    <tr style=\"text-align: right;\">\n",
              "      <th></th>\n",
              "      <th>date</th>\n",
              "      <th>headline</th>\n",
              "    </tr>\n",
              "  </thead>\n",
              "  <tbody>\n",
              "    <tr>\n",
              "      <th>8549</th>\n",
              "      <td>2018-01-03</td>\n",
              "      <td>Come work at the biggest &amp;amp; most advanced f...</td>\n",
              "    </tr>\n",
              "    <tr>\n",
              "      <th>8548</th>\n",
              "      <td>2018-01-03</td>\n",
              "      <td>Using a neural net to detect rain using camera...</td>\n",
              "    </tr>\n",
              "    <tr>\n",
              "      <th>8547</th>\n",
              "      <td>2018-01-05</td>\n",
              "      <td>Falcon Heavy goes vertical  https://t.co/uG1k0...</td>\n",
              "    </tr>\n",
              "    <tr>\n",
              "      <th>8546</th>\n",
              "      <td>2018-01-05</td>\n",
              "      <td>https://t.co/3k71xzDIP1</td>\n",
              "    </tr>\n",
              "    <tr>\n",
              "      <th>8543</th>\n",
              "      <td>2018-01-07</td>\n",
              "      <td>@yoda Of course. And an outdoor screen that pl...</td>\n",
              "    </tr>\n",
              "    <tr>\n",
              "      <th>...</th>\n",
              "      <td>...</td>\n",
              "      <td>...</td>\n",
              "    </tr>\n",
              "    <tr>\n",
              "      <th>0</th>\n",
              "      <td>2022-07-04</td>\n",
              "      <td>When TSLA was at 1K share price :\\n\\n8B sales/...</td>\n",
              "    </tr>\n",
              "    <tr>\n",
              "      <th>78</th>\n",
              "      <td>2022-07-04</td>\n",
              "      <td>FSD was supposed to be here already years ago ...</td>\n",
              "    </tr>\n",
              "    <tr>\n",
              "      <th>6</th>\n",
              "      <td>2022-07-04</td>\n",
              "      <td>All these $TSLA hit pieces sure make me want t...</td>\n",
              "    </tr>\n",
              "    <tr>\n",
              "      <th>18</th>\n",
              "      <td>2022-07-04</td>\n",
              "      <td>**Ban Bet Created:** **/u/Zestyclose-Zebra-** ...</td>\n",
              "    </tr>\n",
              "    <tr>\n",
              "      <th>162</th>\n",
              "      <td>2022-07-04</td>\n",
              "      <td>I really believed in TSLA in 2013 ($7/share th...</td>\n",
              "    </tr>\n",
              "  </tbody>\n",
              "</table>\n",
              "<p>235243 rows × 2 columns</p>\n",
              "</div>\n",
              "      <button class=\"colab-df-convert\" onclick=\"convertToInteractive('df-c60f0765-d7f6-456d-9865-cd18e9649e41')\"\n",
              "              title=\"Convert this dataframe to an interactive table.\"\n",
              "              style=\"display:none;\">\n",
              "        \n",
              "  <svg xmlns=\"http://www.w3.org/2000/svg\" height=\"24px\"viewBox=\"0 0 24 24\"\n",
              "       width=\"24px\">\n",
              "    <path d=\"M0 0h24v24H0V0z\" fill=\"none\"/>\n",
              "    <path d=\"M18.56 5.44l.94 2.06.94-2.06 2.06-.94-2.06-.94-.94-2.06-.94 2.06-2.06.94zm-11 1L8.5 8.5l.94-2.06 2.06-.94-2.06-.94L8.5 2.5l-.94 2.06-2.06.94zm10 10l.94 2.06.94-2.06 2.06-.94-2.06-.94-.94-2.06-.94 2.06-2.06.94z\"/><path d=\"M17.41 7.96l-1.37-1.37c-.4-.4-.92-.59-1.43-.59-.52 0-1.04.2-1.43.59L10.3 9.45l-7.72 7.72c-.78.78-.78 2.05 0 2.83L4 21.41c.39.39.9.59 1.41.59.51 0 1.02-.2 1.41-.59l7.78-7.78 2.81-2.81c.8-.78.8-2.07 0-2.86zM5.41 20L4 18.59l7.72-7.72 1.47 1.35L5.41 20z\"/>\n",
              "  </svg>\n",
              "      </button>\n",
              "      \n",
              "  <style>\n",
              "    .colab-df-container {\n",
              "      display:flex;\n",
              "      flex-wrap:wrap;\n",
              "      gap: 12px;\n",
              "    }\n",
              "\n",
              "    .colab-df-convert {\n",
              "      background-color: #E8F0FE;\n",
              "      border: none;\n",
              "      border-radius: 50%;\n",
              "      cursor: pointer;\n",
              "      display: none;\n",
              "      fill: #1967D2;\n",
              "      height: 32px;\n",
              "      padding: 0 0 0 0;\n",
              "      width: 32px;\n",
              "    }\n",
              "\n",
              "    .colab-df-convert:hover {\n",
              "      background-color: #E2EBFA;\n",
              "      box-shadow: 0px 1px 2px rgba(60, 64, 67, 0.3), 0px 1px 3px 1px rgba(60, 64, 67, 0.15);\n",
              "      fill: #174EA6;\n",
              "    }\n",
              "\n",
              "    [theme=dark] .colab-df-convert {\n",
              "      background-color: #3B4455;\n",
              "      fill: #D2E3FC;\n",
              "    }\n",
              "\n",
              "    [theme=dark] .colab-df-convert:hover {\n",
              "      background-color: #434B5C;\n",
              "      box-shadow: 0px 1px 3px 1px rgba(0, 0, 0, 0.15);\n",
              "      filter: drop-shadow(0px 1px 2px rgba(0, 0, 0, 0.3));\n",
              "      fill: #FFFFFF;\n",
              "    }\n",
              "  </style>\n",
              "\n",
              "      <script>\n",
              "        const buttonEl =\n",
              "          document.querySelector('#df-c60f0765-d7f6-456d-9865-cd18e9649e41 button.colab-df-convert');\n",
              "        buttonEl.style.display =\n",
              "          google.colab.kernel.accessAllowed ? 'block' : 'none';\n",
              "\n",
              "        async function convertToInteractive(key) {\n",
              "          const element = document.querySelector('#df-c60f0765-d7f6-456d-9865-cd18e9649e41');\n",
              "          const dataTable =\n",
              "            await google.colab.kernel.invokeFunction('convertToInteractive',\n",
              "                                                     [key], {});\n",
              "          if (!dataTable) return;\n",
              "\n",
              "          const docLinkHtml = 'Like what you see? Visit the ' +\n",
              "            '<a target=\"_blank\" href=https://colab.research.google.com/notebooks/data_table.ipynb>data table notebook</a>'\n",
              "            + ' to learn more about interactive tables.';\n",
              "          element.innerHTML = '';\n",
              "          dataTable['output_type'] = 'display_data';\n",
              "          await google.colab.output.renderOutput(dataTable, element);\n",
              "          const docLink = document.createElement('div');\n",
              "          docLink.innerHTML = docLinkHtml;\n",
              "          element.appendChild(docLink);\n",
              "        }\n",
              "      </script>\n",
              "    </div>\n",
              "  </div>\n",
              "  "
            ]
          },
          "metadata": {},
          "execution_count": 38
        }
      ],
      "source": [
        "df_main"
      ]
    },
    {
      "cell_type": "code",
      "execution_count": null,
      "metadata": {
        "id": "lDiJ9YBU_sIk"
      },
      "outputs": [],
      "source": [
        "df_mainfiltered.to_csv('TWEETS_AND_HEADLINES_FILTERED.csv')"
      ]
    },
    {
      "cell_type": "code",
      "source": [
        "df_main.to_csv('TWEETS_AND_HEADLINES.csv')"
      ],
      "metadata": {
        "id": "GRjiSDjvEEKo"
      },
      "execution_count": null,
      "outputs": []
    },
    {
      "cell_type": "code",
      "execution_count": null,
      "metadata": {
        "id": "yctBAV7lOIg7",
        "colab": {
          "base_uri": "https://localhost:8080/",
          "height": 424
        },
        "outputId": "22fdbbba-4f81-431f-c4a2-292bb718f441"
      },
      "outputs": [
        {
          "output_type": "execute_result",
          "data": {
            "text/plain": [
              "           date                                           headline\n",
              "8549 2018-01-03  Come work at the biggest &amp; most advanced f...\n",
              "8548 2018-01-03  Using a neural net to detect rain using camera...\n",
              "8547 2018-01-05  Falcon Heavy goes vertical  https://t.co/uG1k0...\n",
              "8546 2018-01-05                            https://t.co/3k71xzDIP1\n",
              "8543 2018-01-07  @yoda Of course. And an outdoor screen that pl...\n",
              "...         ...                                                ...\n",
              "0    2022-07-04  When TSLA was at 1K share price :\\n\\n8B sales/...\n",
              "78   2022-07-04  FSD was supposed to be here already years ago ...\n",
              "6    2022-07-04  All these $TSLA hit pieces sure make me want t...\n",
              "18   2022-07-04  **Ban Bet Created:** **/u/Zestyclose-Zebra-** ...\n",
              "162  2022-07-04  I really believed in TSLA in 2013 ($7/share th...\n",
              "\n",
              "[235243 rows x 2 columns]"
            ],
            "text/html": [
              "\n",
              "  <div id=\"df-13674e1c-0a9d-4761-82fa-f0025307b70f\">\n",
              "    <div class=\"colab-df-container\">\n",
              "      <div>\n",
              "<style scoped>\n",
              "    .dataframe tbody tr th:only-of-type {\n",
              "        vertical-align: middle;\n",
              "    }\n",
              "\n",
              "    .dataframe tbody tr th {\n",
              "        vertical-align: top;\n",
              "    }\n",
              "\n",
              "    .dataframe thead th {\n",
              "        text-align: right;\n",
              "    }\n",
              "</style>\n",
              "<table border=\"1\" class=\"dataframe\">\n",
              "  <thead>\n",
              "    <tr style=\"text-align: right;\">\n",
              "      <th></th>\n",
              "      <th>date</th>\n",
              "      <th>headline</th>\n",
              "    </tr>\n",
              "  </thead>\n",
              "  <tbody>\n",
              "    <tr>\n",
              "      <th>8549</th>\n",
              "      <td>2018-01-03</td>\n",
              "      <td>Come work at the biggest &amp;amp; most advanced f...</td>\n",
              "    </tr>\n",
              "    <tr>\n",
              "      <th>8548</th>\n",
              "      <td>2018-01-03</td>\n",
              "      <td>Using a neural net to detect rain using camera...</td>\n",
              "    </tr>\n",
              "    <tr>\n",
              "      <th>8547</th>\n",
              "      <td>2018-01-05</td>\n",
              "      <td>Falcon Heavy goes vertical  https://t.co/uG1k0...</td>\n",
              "    </tr>\n",
              "    <tr>\n",
              "      <th>8546</th>\n",
              "      <td>2018-01-05</td>\n",
              "      <td>https://t.co/3k71xzDIP1</td>\n",
              "    </tr>\n",
              "    <tr>\n",
              "      <th>8543</th>\n",
              "      <td>2018-01-07</td>\n",
              "      <td>@yoda Of course. And an outdoor screen that pl...</td>\n",
              "    </tr>\n",
              "    <tr>\n",
              "      <th>...</th>\n",
              "      <td>...</td>\n",
              "      <td>...</td>\n",
              "    </tr>\n",
              "    <tr>\n",
              "      <th>0</th>\n",
              "      <td>2022-07-04</td>\n",
              "      <td>When TSLA was at 1K share price :\\n\\n8B sales/...</td>\n",
              "    </tr>\n",
              "    <tr>\n",
              "      <th>78</th>\n",
              "      <td>2022-07-04</td>\n",
              "      <td>FSD was supposed to be here already years ago ...</td>\n",
              "    </tr>\n",
              "    <tr>\n",
              "      <th>6</th>\n",
              "      <td>2022-07-04</td>\n",
              "      <td>All these $TSLA hit pieces sure make me want t...</td>\n",
              "    </tr>\n",
              "    <tr>\n",
              "      <th>18</th>\n",
              "      <td>2022-07-04</td>\n",
              "      <td>**Ban Bet Created:** **/u/Zestyclose-Zebra-** ...</td>\n",
              "    </tr>\n",
              "    <tr>\n",
              "      <th>162</th>\n",
              "      <td>2022-07-04</td>\n",
              "      <td>I really believed in TSLA in 2013 ($7/share th...</td>\n",
              "    </tr>\n",
              "  </tbody>\n",
              "</table>\n",
              "<p>235243 rows × 2 columns</p>\n",
              "</div>\n",
              "      <button class=\"colab-df-convert\" onclick=\"convertToInteractive('df-13674e1c-0a9d-4761-82fa-f0025307b70f')\"\n",
              "              title=\"Convert this dataframe to an interactive table.\"\n",
              "              style=\"display:none;\">\n",
              "        \n",
              "  <svg xmlns=\"http://www.w3.org/2000/svg\" height=\"24px\"viewBox=\"0 0 24 24\"\n",
              "       width=\"24px\">\n",
              "    <path d=\"M0 0h24v24H0V0z\" fill=\"none\"/>\n",
              "    <path d=\"M18.56 5.44l.94 2.06.94-2.06 2.06-.94-2.06-.94-.94-2.06-.94 2.06-2.06.94zm-11 1L8.5 8.5l.94-2.06 2.06-.94-2.06-.94L8.5 2.5l-.94 2.06-2.06.94zm10 10l.94 2.06.94-2.06 2.06-.94-2.06-.94-.94-2.06-.94 2.06-2.06.94z\"/><path d=\"M17.41 7.96l-1.37-1.37c-.4-.4-.92-.59-1.43-.59-.52 0-1.04.2-1.43.59L10.3 9.45l-7.72 7.72c-.78.78-.78 2.05 0 2.83L4 21.41c.39.39.9.59 1.41.59.51 0 1.02-.2 1.41-.59l7.78-7.78 2.81-2.81c.8-.78.8-2.07 0-2.86zM5.41 20L4 18.59l7.72-7.72 1.47 1.35L5.41 20z\"/>\n",
              "  </svg>\n",
              "      </button>\n",
              "      \n",
              "  <style>\n",
              "    .colab-df-container {\n",
              "      display:flex;\n",
              "      flex-wrap:wrap;\n",
              "      gap: 12px;\n",
              "    }\n",
              "\n",
              "    .colab-df-convert {\n",
              "      background-color: #E8F0FE;\n",
              "      border: none;\n",
              "      border-radius: 50%;\n",
              "      cursor: pointer;\n",
              "      display: none;\n",
              "      fill: #1967D2;\n",
              "      height: 32px;\n",
              "      padding: 0 0 0 0;\n",
              "      width: 32px;\n",
              "    }\n",
              "\n",
              "    .colab-df-convert:hover {\n",
              "      background-color: #E2EBFA;\n",
              "      box-shadow: 0px 1px 2px rgba(60, 64, 67, 0.3), 0px 1px 3px 1px rgba(60, 64, 67, 0.15);\n",
              "      fill: #174EA6;\n",
              "    }\n",
              "\n",
              "    [theme=dark] .colab-df-convert {\n",
              "      background-color: #3B4455;\n",
              "      fill: #D2E3FC;\n",
              "    }\n",
              "\n",
              "    [theme=dark] .colab-df-convert:hover {\n",
              "      background-color: #434B5C;\n",
              "      box-shadow: 0px 1px 3px 1px rgba(0, 0, 0, 0.15);\n",
              "      filter: drop-shadow(0px 1px 2px rgba(0, 0, 0, 0.3));\n",
              "      fill: #FFFFFF;\n",
              "    }\n",
              "  </style>\n",
              "\n",
              "      <script>\n",
              "        const buttonEl =\n",
              "          document.querySelector('#df-13674e1c-0a9d-4761-82fa-f0025307b70f button.colab-df-convert');\n",
              "        buttonEl.style.display =\n",
              "          google.colab.kernel.accessAllowed ? 'block' : 'none';\n",
              "\n",
              "        async function convertToInteractive(key) {\n",
              "          const element = document.querySelector('#df-13674e1c-0a9d-4761-82fa-f0025307b70f');\n",
              "          const dataTable =\n",
              "            await google.colab.kernel.invokeFunction('convertToInteractive',\n",
              "                                                     [key], {});\n",
              "          if (!dataTable) return;\n",
              "\n",
              "          const docLinkHtml = 'Like what you see? Visit the ' +\n",
              "            '<a target=\"_blank\" href=https://colab.research.google.com/notebooks/data_table.ipynb>data table notebook</a>'\n",
              "            + ' to learn more about interactive tables.';\n",
              "          element.innerHTML = '';\n",
              "          dataTable['output_type'] = 'display_data';\n",
              "          await google.colab.output.renderOutput(dataTable, element);\n",
              "          const docLink = document.createElement('div');\n",
              "          docLink.innerHTML = docLinkHtml;\n",
              "          element.appendChild(docLink);\n",
              "        }\n",
              "      </script>\n",
              "    </div>\n",
              "  </div>\n",
              "  "
            ]
          },
          "metadata": {},
          "execution_count": 41
        }
      ],
      "source": [
        "df_main"
      ]
    },
    {
      "cell_type": "code",
      "source": [
        "df_mainfiltered"
      ],
      "metadata": {
        "colab": {
          "base_uri": "https://localhost:8080/",
          "height": 424
        },
        "id": "2tuycU0XgUUv",
        "outputId": "e4869015-67ee-4d97-b727-0ea45c033ac0"
      },
      "execution_count": null,
      "outputs": [
        {
          "output_type": "execute_result",
          "data": {
            "text/plain": [
              "           date                                           headline\n",
              "8545 2018-01-07  Gonna put an old school drive-in, roller skate...\n",
              "8542 2018-01-07  @omerldiri @Tesla Good idea. We can just have ...\n",
              "8539 2018-01-09  @Mister_Millard @Tesla That sounds cool. Will do.\n",
              "8540 2018-01-09  @PPathole @Tesla @Teslarati @MKBHD Fixed in ne...\n",
              "8513 2018-01-29                 @JosephHuberman @Tesla Coming soon\n",
              "...         ...                                                ...\n",
              "152  2022-07-04  This is Reddit 🤷🏻\\n\\nBut what you said isn’t t...\n",
              "156  2022-07-04  Reddit etiquette is pretty simple.  \\n\\nRespec...\n",
              "8    2022-07-04  I'm currently trying to wrap my head around th...\n",
              "89   2022-07-04  Is Tesla a fish? Do other animals rot from oth...\n",
              "4    2022-07-04  I do trade in some ETFs.. DIV, SDIV ; USOI (it...\n",
              "\n",
              "[37208 rows x 2 columns]"
            ],
            "text/html": [
              "\n",
              "  <div id=\"df-9d4ea045-8495-4504-9d00-1337e761a281\">\n",
              "    <div class=\"colab-df-container\">\n",
              "      <div>\n",
              "<style scoped>\n",
              "    .dataframe tbody tr th:only-of-type {\n",
              "        vertical-align: middle;\n",
              "    }\n",
              "\n",
              "    .dataframe tbody tr th {\n",
              "        vertical-align: top;\n",
              "    }\n",
              "\n",
              "    .dataframe thead th {\n",
              "        text-align: right;\n",
              "    }\n",
              "</style>\n",
              "<table border=\"1\" class=\"dataframe\">\n",
              "  <thead>\n",
              "    <tr style=\"text-align: right;\">\n",
              "      <th></th>\n",
              "      <th>date</th>\n",
              "      <th>headline</th>\n",
              "    </tr>\n",
              "  </thead>\n",
              "  <tbody>\n",
              "    <tr>\n",
              "      <th>8545</th>\n",
              "      <td>2018-01-07</td>\n",
              "      <td>Gonna put an old school drive-in, roller skate...</td>\n",
              "    </tr>\n",
              "    <tr>\n",
              "      <th>8542</th>\n",
              "      <td>2018-01-07</td>\n",
              "      <td>@omerldiri @Tesla Good idea. We can just have ...</td>\n",
              "    </tr>\n",
              "    <tr>\n",
              "      <th>8539</th>\n",
              "      <td>2018-01-09</td>\n",
              "      <td>@Mister_Millard @Tesla That sounds cool. Will do.</td>\n",
              "    </tr>\n",
              "    <tr>\n",
              "      <th>8540</th>\n",
              "      <td>2018-01-09</td>\n",
              "      <td>@PPathole @Tesla @Teslarati @MKBHD Fixed in ne...</td>\n",
              "    </tr>\n",
              "    <tr>\n",
              "      <th>8513</th>\n",
              "      <td>2018-01-29</td>\n",
              "      <td>@JosephHuberman @Tesla Coming soon</td>\n",
              "    </tr>\n",
              "    <tr>\n",
              "      <th>...</th>\n",
              "      <td>...</td>\n",
              "      <td>...</td>\n",
              "    </tr>\n",
              "    <tr>\n",
              "      <th>152</th>\n",
              "      <td>2022-07-04</td>\n",
              "      <td>This is Reddit 🤷🏻\\n\\nBut what you said isn’t t...</td>\n",
              "    </tr>\n",
              "    <tr>\n",
              "      <th>156</th>\n",
              "      <td>2022-07-04</td>\n",
              "      <td>Reddit etiquette is pretty simple.  \\n\\nRespec...</td>\n",
              "    </tr>\n",
              "    <tr>\n",
              "      <th>8</th>\n",
              "      <td>2022-07-04</td>\n",
              "      <td>I'm currently trying to wrap my head around th...</td>\n",
              "    </tr>\n",
              "    <tr>\n",
              "      <th>89</th>\n",
              "      <td>2022-07-04</td>\n",
              "      <td>Is Tesla a fish? Do other animals rot from oth...</td>\n",
              "    </tr>\n",
              "    <tr>\n",
              "      <th>4</th>\n",
              "      <td>2022-07-04</td>\n",
              "      <td>I do trade in some ETFs.. DIV, SDIV ; USOI (it...</td>\n",
              "    </tr>\n",
              "  </tbody>\n",
              "</table>\n",
              "<p>37208 rows × 2 columns</p>\n",
              "</div>\n",
              "      <button class=\"colab-df-convert\" onclick=\"convertToInteractive('df-9d4ea045-8495-4504-9d00-1337e761a281')\"\n",
              "              title=\"Convert this dataframe to an interactive table.\"\n",
              "              style=\"display:none;\">\n",
              "        \n",
              "  <svg xmlns=\"http://www.w3.org/2000/svg\" height=\"24px\"viewBox=\"0 0 24 24\"\n",
              "       width=\"24px\">\n",
              "    <path d=\"M0 0h24v24H0V0z\" fill=\"none\"/>\n",
              "    <path d=\"M18.56 5.44l.94 2.06.94-2.06 2.06-.94-2.06-.94-.94-2.06-.94 2.06-2.06.94zm-11 1L8.5 8.5l.94-2.06 2.06-.94-2.06-.94L8.5 2.5l-.94 2.06-2.06.94zm10 10l.94 2.06.94-2.06 2.06-.94-2.06-.94-.94-2.06-.94 2.06-2.06.94z\"/><path d=\"M17.41 7.96l-1.37-1.37c-.4-.4-.92-.59-1.43-.59-.52 0-1.04.2-1.43.59L10.3 9.45l-7.72 7.72c-.78.78-.78 2.05 0 2.83L4 21.41c.39.39.9.59 1.41.59.51 0 1.02-.2 1.41-.59l7.78-7.78 2.81-2.81c.8-.78.8-2.07 0-2.86zM5.41 20L4 18.59l7.72-7.72 1.47 1.35L5.41 20z\"/>\n",
              "  </svg>\n",
              "      </button>\n",
              "      \n",
              "  <style>\n",
              "    .colab-df-container {\n",
              "      display:flex;\n",
              "      flex-wrap:wrap;\n",
              "      gap: 12px;\n",
              "    }\n",
              "\n",
              "    .colab-df-convert {\n",
              "      background-color: #E8F0FE;\n",
              "      border: none;\n",
              "      border-radius: 50%;\n",
              "      cursor: pointer;\n",
              "      display: none;\n",
              "      fill: #1967D2;\n",
              "      height: 32px;\n",
              "      padding: 0 0 0 0;\n",
              "      width: 32px;\n",
              "    }\n",
              "\n",
              "    .colab-df-convert:hover {\n",
              "      background-color: #E2EBFA;\n",
              "      box-shadow: 0px 1px 2px rgba(60, 64, 67, 0.3), 0px 1px 3px 1px rgba(60, 64, 67, 0.15);\n",
              "      fill: #174EA6;\n",
              "    }\n",
              "\n",
              "    [theme=dark] .colab-df-convert {\n",
              "      background-color: #3B4455;\n",
              "      fill: #D2E3FC;\n",
              "    }\n",
              "\n",
              "    [theme=dark] .colab-df-convert:hover {\n",
              "      background-color: #434B5C;\n",
              "      box-shadow: 0px 1px 3px 1px rgba(0, 0, 0, 0.15);\n",
              "      filter: drop-shadow(0px 1px 2px rgba(0, 0, 0, 0.3));\n",
              "      fill: #FFFFFF;\n",
              "    }\n",
              "  </style>\n",
              "\n",
              "      <script>\n",
              "        const buttonEl =\n",
              "          document.querySelector('#df-9d4ea045-8495-4504-9d00-1337e761a281 button.colab-df-convert');\n",
              "        buttonEl.style.display =\n",
              "          google.colab.kernel.accessAllowed ? 'block' : 'none';\n",
              "\n",
              "        async function convertToInteractive(key) {\n",
              "          const element = document.querySelector('#df-9d4ea045-8495-4504-9d00-1337e761a281');\n",
              "          const dataTable =\n",
              "            await google.colab.kernel.invokeFunction('convertToInteractive',\n",
              "                                                     [key], {});\n",
              "          if (!dataTable) return;\n",
              "\n",
              "          const docLinkHtml = 'Like what you see? Visit the ' +\n",
              "            '<a target=\"_blank\" href=https://colab.research.google.com/notebooks/data_table.ipynb>data table notebook</a>'\n",
              "            + ' to learn more about interactive tables.';\n",
              "          element.innerHTML = '';\n",
              "          dataTable['output_type'] = 'display_data';\n",
              "          await google.colab.output.renderOutput(dataTable, element);\n",
              "          const docLink = document.createElement('div');\n",
              "          docLink.innerHTML = docLinkHtml;\n",
              "          element.appendChild(docLink);\n",
              "        }\n",
              "      </script>\n",
              "    </div>\n",
              "  </div>\n",
              "  "
            ]
          },
          "metadata": {},
          "execution_count": 42
        }
      ]
    },
    {
      "cell_type": "code",
      "source": [
        "import re\n"
      ],
      "metadata": {
        "id": "4Xswm4Urgddd"
      },
      "execution_count": null,
      "outputs": []
    },
    {
      "cell_type": "code",
      "execution_count": null,
      "metadata": {
        "colab": {
          "base_uri": "https://localhost:8080/"
        },
        "outputId": "c79efefa-157d-49a8-c1fa-20ceba01436a",
        "id": "U-vjkxZt3AUW"
      },
      "outputs": [
        {
          "output_type": "stream",
          "name": "stderr",
          "text": [
            "/usr/local/lib/python3.7/dist-packages/IPython/core/interactiveshell.py:2882: FutureWarning: The error_bad_lines argument has been deprecated and will be removed in a future version.\n",
            "\n",
            "\n",
            "  exec(code_obj, self.user_global_ns, self.user_ns)\n"
          ]
        }
      ],
      "source": [
        "df_main = pd.read_csv('./TWEETS_AND_HEADLINES.csv',error_bad_lines=False, engine='python')"
      ]
    },
    {
      "cell_type": "code",
      "execution_count": null,
      "metadata": {
        "colab": {
          "base_uri": "https://localhost:8080/"
        },
        "outputId": "4c911cf5-c1b6-4f96-cbdf-1f6c3dfcfe68",
        "id": "LoZslz0B3Kjh"
      },
      "outputs": [
        {
          "output_type": "stream",
          "name": "stderr",
          "text": [
            "/usr/local/lib/python3.7/dist-packages/pandas/util/_decorators.py:311: SettingWithCopyWarning: \n",
            "A value is trying to be set on a copy of a slice from a DataFrame\n",
            "\n",
            "See the caveats in the documentation: https://pandas.pydata.org/pandas-docs/stable/user_guide/indexing.html#returning-a-view-versus-a-copy\n",
            "  return func(*args, **kwargs)\n"
          ]
        }
      ],
      "source": [
        "df_mainfiltered =  df_main[df_main['headline'].str.contains(\"tesla | stock |TSLA  | stockmarket | investing | profit | loss | NYSE | NASDAQ | ELONMUSK | stockmarket | price\", case=False, flags=re.IGNORECASE,  na=False, regex=True)]\n",
        "df_mainfiltered.sort_values(by='date', inplace=True)"
      ]
    },
    {
      "cell_type": "code",
      "source": [
        "df_mainfiltered"
      ],
      "metadata": {
        "colab": {
          "base_uri": "https://localhost:8080/",
          "height": 424
        },
        "id": "GQGy__Th3KVL",
        "outputId": "49b63390-46c7-450e-cf00-fd50a1c70562"
      },
      "execution_count": null,
      "outputs": [
        {
          "output_type": "execute_result",
          "data": {
            "text/plain": [
              "       Unnamed: 0        date  \\\n",
              "5            8545  2018-01-07   \n",
              "7            8542  2018-01-07   \n",
              "9            8539  2018-01-09   \n",
              "10           8540  2018-01-09   \n",
              "37           8513  2018-01-29   \n",
              "...           ...         ...   \n",
              "235151         94  2022-07-04   \n",
              "235155         90  2022-07-04   \n",
              "235156         89  2022-07-04   \n",
              "235116        129  2022-07-04   \n",
              "235245          0  2022-07-04   \n",
              "\n",
              "                                                 headline  \n",
              "5       Gonna put an old school drive-in, roller skate...  \n",
              "7       @omerldiri @Tesla Good idea. We can just have ...  \n",
              "9       @Mister_Millard @Tesla That sounds cool. Will do.  \n",
              "10      @PPathole @Tesla @Teslarati @MKBHD Fixed in ne...  \n",
              "37                     @JosephHuberman @Tesla Coming soon  \n",
              "...                                                   ...  \n",
              "235151  Tweet Mirror:[@StockMKTNewz](https://twitter.c...  \n",
              "235155  Have we? Scientists don't even know what the m...  \n",
              "235156  Is Tesla a fish? Do other animals rot from oth...  \n",
              "235116  call. if tsla didn’t downvise it’s price would...  \n",
              "235245  When TSLA was at 1K share price :\\n\\n8B sales/...  \n",
              "\n",
              "[53264 rows x 3 columns]"
            ],
            "text/html": [
              "\n",
              "  <div id=\"df-4e84b342-4f55-417d-aa71-8c51dae7c900\">\n",
              "    <div class=\"colab-df-container\">\n",
              "      <div>\n",
              "<style scoped>\n",
              "    .dataframe tbody tr th:only-of-type {\n",
              "        vertical-align: middle;\n",
              "    }\n",
              "\n",
              "    .dataframe tbody tr th {\n",
              "        vertical-align: top;\n",
              "    }\n",
              "\n",
              "    .dataframe thead th {\n",
              "        text-align: right;\n",
              "    }\n",
              "</style>\n",
              "<table border=\"1\" class=\"dataframe\">\n",
              "  <thead>\n",
              "    <tr style=\"text-align: right;\">\n",
              "      <th></th>\n",
              "      <th>Unnamed: 0</th>\n",
              "      <th>date</th>\n",
              "      <th>headline</th>\n",
              "    </tr>\n",
              "  </thead>\n",
              "  <tbody>\n",
              "    <tr>\n",
              "      <th>5</th>\n",
              "      <td>8545</td>\n",
              "      <td>2018-01-07</td>\n",
              "      <td>Gonna put an old school drive-in, roller skate...</td>\n",
              "    </tr>\n",
              "    <tr>\n",
              "      <th>7</th>\n",
              "      <td>8542</td>\n",
              "      <td>2018-01-07</td>\n",
              "      <td>@omerldiri @Tesla Good idea. We can just have ...</td>\n",
              "    </tr>\n",
              "    <tr>\n",
              "      <th>9</th>\n",
              "      <td>8539</td>\n",
              "      <td>2018-01-09</td>\n",
              "      <td>@Mister_Millard @Tesla That sounds cool. Will do.</td>\n",
              "    </tr>\n",
              "    <tr>\n",
              "      <th>10</th>\n",
              "      <td>8540</td>\n",
              "      <td>2018-01-09</td>\n",
              "      <td>@PPathole @Tesla @Teslarati @MKBHD Fixed in ne...</td>\n",
              "    </tr>\n",
              "    <tr>\n",
              "      <th>37</th>\n",
              "      <td>8513</td>\n",
              "      <td>2018-01-29</td>\n",
              "      <td>@JosephHuberman @Tesla Coming soon</td>\n",
              "    </tr>\n",
              "    <tr>\n",
              "      <th>...</th>\n",
              "      <td>...</td>\n",
              "      <td>...</td>\n",
              "      <td>...</td>\n",
              "    </tr>\n",
              "    <tr>\n",
              "      <th>235151</th>\n",
              "      <td>94</td>\n",
              "      <td>2022-07-04</td>\n",
              "      <td>Tweet Mirror:[@StockMKTNewz](https://twitter.c...</td>\n",
              "    </tr>\n",
              "    <tr>\n",
              "      <th>235155</th>\n",
              "      <td>90</td>\n",
              "      <td>2022-07-04</td>\n",
              "      <td>Have we? Scientists don't even know what the m...</td>\n",
              "    </tr>\n",
              "    <tr>\n",
              "      <th>235156</th>\n",
              "      <td>89</td>\n",
              "      <td>2022-07-04</td>\n",
              "      <td>Is Tesla a fish? Do other animals rot from oth...</td>\n",
              "    </tr>\n",
              "    <tr>\n",
              "      <th>235116</th>\n",
              "      <td>129</td>\n",
              "      <td>2022-07-04</td>\n",
              "      <td>call. if tsla didn’t downvise it’s price would...</td>\n",
              "    </tr>\n",
              "    <tr>\n",
              "      <th>235245</th>\n",
              "      <td>0</td>\n",
              "      <td>2022-07-04</td>\n",
              "      <td>When TSLA was at 1K share price :\\n\\n8B sales/...</td>\n",
              "    </tr>\n",
              "  </tbody>\n",
              "</table>\n",
              "<p>53264 rows × 3 columns</p>\n",
              "</div>\n",
              "      <button class=\"colab-df-convert\" onclick=\"convertToInteractive('df-4e84b342-4f55-417d-aa71-8c51dae7c900')\"\n",
              "              title=\"Convert this dataframe to an interactive table.\"\n",
              "              style=\"display:none;\">\n",
              "        \n",
              "  <svg xmlns=\"http://www.w3.org/2000/svg\" height=\"24px\"viewBox=\"0 0 24 24\"\n",
              "       width=\"24px\">\n",
              "    <path d=\"M0 0h24v24H0V0z\" fill=\"none\"/>\n",
              "    <path d=\"M18.56 5.44l.94 2.06.94-2.06 2.06-.94-2.06-.94-.94-2.06-.94 2.06-2.06.94zm-11 1L8.5 8.5l.94-2.06 2.06-.94-2.06-.94L8.5 2.5l-.94 2.06-2.06.94zm10 10l.94 2.06.94-2.06 2.06-.94-2.06-.94-.94-2.06-.94 2.06-2.06.94z\"/><path d=\"M17.41 7.96l-1.37-1.37c-.4-.4-.92-.59-1.43-.59-.52 0-1.04.2-1.43.59L10.3 9.45l-7.72 7.72c-.78.78-.78 2.05 0 2.83L4 21.41c.39.39.9.59 1.41.59.51 0 1.02-.2 1.41-.59l7.78-7.78 2.81-2.81c.8-.78.8-2.07 0-2.86zM5.41 20L4 18.59l7.72-7.72 1.47 1.35L5.41 20z\"/>\n",
              "  </svg>\n",
              "      </button>\n",
              "      \n",
              "  <style>\n",
              "    .colab-df-container {\n",
              "      display:flex;\n",
              "      flex-wrap:wrap;\n",
              "      gap: 12px;\n",
              "    }\n",
              "\n",
              "    .colab-df-convert {\n",
              "      background-color: #E8F0FE;\n",
              "      border: none;\n",
              "      border-radius: 50%;\n",
              "      cursor: pointer;\n",
              "      display: none;\n",
              "      fill: #1967D2;\n",
              "      height: 32px;\n",
              "      padding: 0 0 0 0;\n",
              "      width: 32px;\n",
              "    }\n",
              "\n",
              "    .colab-df-convert:hover {\n",
              "      background-color: #E2EBFA;\n",
              "      box-shadow: 0px 1px 2px rgba(60, 64, 67, 0.3), 0px 1px 3px 1px rgba(60, 64, 67, 0.15);\n",
              "      fill: #174EA6;\n",
              "    }\n",
              "\n",
              "    [theme=dark] .colab-df-convert {\n",
              "      background-color: #3B4455;\n",
              "      fill: #D2E3FC;\n",
              "    }\n",
              "\n",
              "    [theme=dark] .colab-df-convert:hover {\n",
              "      background-color: #434B5C;\n",
              "      box-shadow: 0px 1px 3px 1px rgba(0, 0, 0, 0.15);\n",
              "      filter: drop-shadow(0px 1px 2px rgba(0, 0, 0, 0.3));\n",
              "      fill: #FFFFFF;\n",
              "    }\n",
              "  </style>\n",
              "\n",
              "      <script>\n",
              "        const buttonEl =\n",
              "          document.querySelector('#df-4e84b342-4f55-417d-aa71-8c51dae7c900 button.colab-df-convert');\n",
              "        buttonEl.style.display =\n",
              "          google.colab.kernel.accessAllowed ? 'block' : 'none';\n",
              "\n",
              "        async function convertToInteractive(key) {\n",
              "          const element = document.querySelector('#df-4e84b342-4f55-417d-aa71-8c51dae7c900');\n",
              "          const dataTable =\n",
              "            await google.colab.kernel.invokeFunction('convertToInteractive',\n",
              "                                                     [key], {});\n",
              "          if (!dataTable) return;\n",
              "\n",
              "          const docLinkHtml = 'Like what you see? Visit the ' +\n",
              "            '<a target=\"_blank\" href=https://colab.research.google.com/notebooks/data_table.ipynb>data table notebook</a>'\n",
              "            + ' to learn more about interactive tables.';\n",
              "          element.innerHTML = '';\n",
              "          dataTable['output_type'] = 'display_data';\n",
              "          await google.colab.output.renderOutput(dataTable, element);\n",
              "          const docLink = document.createElement('div');\n",
              "          docLink.innerHTML = docLinkHtml;\n",
              "          element.appendChild(docLink);\n",
              "        }\n",
              "      </script>\n",
              "    </div>\n",
              "  </div>\n",
              "  "
            ]
          },
          "metadata": {},
          "execution_count": 10
        }
      ]
    },
    {
      "cell_type": "code",
      "source": [
        "df_mainfiltered.to_csv('TWEETS_AND_HEADLINES_FILTERED.csv')"
      ],
      "metadata": {
        "id": "_yNWeNna5phT"
      },
      "execution_count": null,
      "outputs": []
    },
    {
      "cell_type": "code",
      "source": [
        ""
      ],
      "metadata": {
        "id": "Q_7sPiFu54oP"
      },
      "execution_count": null,
      "outputs": []
    }
  ],
  "metadata": {
    "accelerator": "GPU",
    "colab": {
      "collapsed_sections": [],
      "name": "FilterText.ipynb",
      "provenance": []
    },
    "gpuClass": "standard",
    "kernelspec": {
      "display_name": "Python 3",
      "name": "python3"
    },
    "language_info": {
      "name": "python"
    }
  },
  "nbformat": 4,
  "nbformat_minor": 0
}